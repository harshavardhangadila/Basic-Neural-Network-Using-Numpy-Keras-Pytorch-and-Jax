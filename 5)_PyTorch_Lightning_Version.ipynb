{
 "cells": [
  {
   "cell_type": "markdown",
   "metadata": {
    "id": "DLuaHhkeammg"
   },
   "source": [
    "[![Open In Colab](https://colab.research.google.com/assets/colab-badge.svg)](https://colab.research.google.com/drive/1-DFx7e7KE_MyEDjU8BvUMCyYw4HCxtu_?usp=sharing)"
   ]
  },
  {
   "cell_type": "markdown",
   "metadata": {
    "id": "F_p2hBuIZUMV"
   },
   "source": [
    "## PyTorch Lightning - Neural Network for Nonlinear Regression"
   ]
  },
  {
   "cell_type": "code",
   "execution_count": 1,
   "metadata": {
    "colab": {
     "base_uri": "https://localhost:8080/"
    },
    "id": "-SD5V4ulZaaS",
    "outputId": "51e25efb-abd7-42d4-a842-e1a8c258915c"
   },
   "outputs": [
    {
     "name": "stdout",
     "output_type": "stream",
     "text": [
      "\u001b[2K   \u001b[90m━━━━━━━━━━━━━━━━━━━━━━━━━━━━━━━━━━━━━━━━\u001b[0m \u001b[32m823.1/823.1 kB\u001b[0m \u001b[31m17.5 MB/s\u001b[0m eta \u001b[36m0:00:00\u001b[0m\n",
      "\u001b[2K   \u001b[90m━━━━━━━━━━━━━━━━━━━━━━━━━━━━━━━━━━━━━━━━\u001b[0m \u001b[32m363.4/363.4 MB\u001b[0m \u001b[31m3.3 MB/s\u001b[0m eta \u001b[36m0:00:00\u001b[0m\n",
      "\u001b[2K   \u001b[90m━━━━━━━━━━━━━━━━━━━━━━━━━━━━━━━━━━━━━━━━\u001b[0m \u001b[32m13.8/13.8 MB\u001b[0m \u001b[31m55.5 MB/s\u001b[0m eta \u001b[36m0:00:00\u001b[0m\n",
      "\u001b[2K   \u001b[90m━━━━━━━━━━━━━━━━━━━━━━━━━━━━━━━━━━━━━━━━\u001b[0m \u001b[32m24.6/24.6 MB\u001b[0m \u001b[31m35.6 MB/s\u001b[0m eta \u001b[36m0:00:00\u001b[0m\n",
      "\u001b[2K   \u001b[90m━━━━━━━━━━━━━━━━━━━━━━━━━━━━━━━━━━━━━━━━\u001b[0m \u001b[32m883.7/883.7 kB\u001b[0m \u001b[31m23.2 MB/s\u001b[0m eta \u001b[36m0:00:00\u001b[0m\n",
      "\u001b[2K   \u001b[90m━━━━━━━━━━━━━━━━━━━━━━━━━━━━━━━━━━━━━━━━\u001b[0m \u001b[32m664.8/664.8 MB\u001b[0m \u001b[31m2.8 MB/s\u001b[0m eta \u001b[36m0:00:00\u001b[0m\n",
      "\u001b[2K   \u001b[90m━━━━━━━━━━━━━━━━━━━━━━━━━━━━━━━━━━━━━━━━\u001b[0m \u001b[32m211.5/211.5 MB\u001b[0m \u001b[31m5.9 MB/s\u001b[0m eta \u001b[36m0:00:00\u001b[0m\n",
      "\u001b[2K   \u001b[90m━━━━━━━━━━━━━━━━━━━━━━━━━━━━━━━━━━━━━━━━\u001b[0m \u001b[32m56.3/56.3 MB\u001b[0m \u001b[31m11.6 MB/s\u001b[0m eta \u001b[36m0:00:00\u001b[0m\n",
      "\u001b[2K   \u001b[90m━━━━━━━━━━━━━━━━━━━━━━━━━━━━━━━━━━━━━━━━\u001b[0m \u001b[32m127.9/127.9 MB\u001b[0m \u001b[31m6.6 MB/s\u001b[0m eta \u001b[36m0:00:00\u001b[0m\n",
      "\u001b[2K   \u001b[90m━━━━━━━━━━━━━━━━━━━━━━━━━━━━━━━━━━━━━━━━\u001b[0m \u001b[32m207.5/207.5 MB\u001b[0m \u001b[31m6.0 MB/s\u001b[0m eta \u001b[36m0:00:00\u001b[0m\n",
      "\u001b[2K   \u001b[90m━━━━━━━━━━━━━━━━━━━━━━━━━━━━━━━━━━━━━━━━\u001b[0m \u001b[32m21.1/21.1 MB\u001b[0m \u001b[31m79.9 MB/s\u001b[0m eta \u001b[36m0:00:00\u001b[0m\n",
      "\u001b[2K   \u001b[90m━━━━━━━━━━━━━━━━━━━━━━━━━━━━━━━━━━━━━━━━\u001b[0m \u001b[32m961.5/961.5 kB\u001b[0m \u001b[31m57.7 MB/s\u001b[0m eta \u001b[36m0:00:00\u001b[0m\n",
      "\u001b[?25h"
     ]
    }
   ],
   "source": [
    "# Step 1: Install Lightning\n",
    "!pip install -q pytorch-lightning"
   ]
  },
  {
   "cell_type": "code",
   "execution_count": 2,
   "metadata": {
    "id": "MzYdVkmfZadS"
   },
   "outputs": [],
   "source": [
    "# Step 2: Imports\n",
    "import numpy as np\n",
    "import torch\n",
    "import torch.nn as nn\n",
    "import torch.nn.functional as F\n",
    "import pytorch_lightning as pl\n",
    "import matplotlib.pyplot as plt\n",
    "from mpl_toolkits.mplot3d import Axes3D\n",
    "from torch.utils.data import DataLoader, TensorDataset, random_split\n"
   ]
  },
  {
   "cell_type": "code",
   "execution_count": 3,
   "metadata": {
    "id": "LhGEIlHgZalS"
   },
   "outputs": [],
   "source": [
    "# Step 3: Synthetic Nonlinear Data (3-variable)\n",
    "def generate_data(n_samples=1000):\n",
    "    x1 = np.random.uniform(-5, 5, n_samples)\n",
    "    x2 = np.random.uniform(-5, 5, n_samples)\n",
    "    x3 = np.random.uniform(-5, 5, n_samples)\n",
    "    y = 2 * np.sin(x1) + 0.5 * x2**2 + 0.3 * x3**3 + np.cos(x1 * x2)\n",
    "    y += np.random.normal(0, 0.2, n_samples)\n",
    "    X = np.column_stack((x1, x2, x3)).astype(np.float32)\n",
    "    y = y.astype(np.float32).reshape(-1, 1)\n",
    "    return torch.tensor(X), torch.tensor(y)\n",
    "\n",
    "X, y = generate_data()\n",
    "dataset = TensorDataset(X, y)\n"
   ]
  },
  {
   "cell_type": "code",
   "execution_count": 4,
   "metadata": {
    "id": "dI6OZEH-ZOQP"
   },
   "outputs": [],
   "source": [
    "# Train/Validation Split\n",
    "train_size = int(0.8 * len(dataset))\n",
    "val_size = len(dataset) - train_size\n",
    "train_ds, val_ds = random_split(dataset, [train_size, val_size])\n",
    "train_dl = DataLoader(train_ds, batch_size=64, shuffle=True)\n",
    "val_dl = DataLoader(val_ds, batch_size=64)\n"
   ]
  },
  {
   "cell_type": "code",
   "execution_count": 5,
   "metadata": {
    "id": "WUmBv_COZjXY"
   },
   "outputs": [],
   "source": [
    "# Step 4: Define LightningModule\n",
    "class LightningRegressor(pl.LightningModule):\n",
    "    def __init__(self):\n",
    "        super().__init__()\n",
    "        self.model = nn.Sequential(\n",
    "            nn.Linear(3, 64),\n",
    "            nn.ReLU(),\n",
    "            nn.Linear(64, 32),\n",
    "            nn.ReLU(),\n",
    "            nn.Linear(32, 1)\n",
    "        )\n",
    "        self.loss_fn = nn.MSELoss()\n",
    "\n",
    "    def forward(self, x):\n",
    "        return self.model(x)\n",
    "\n",
    "    def training_step(self, batch, batch_idx):\n",
    "        x, y = batch\n",
    "        y_hat = self(x)\n",
    "        loss = self.loss_fn(y_hat, y)\n",
    "        self.log('train_loss', loss)\n",
    "        return loss\n",
    "\n",
    "    def validation_step(self, batch, batch_idx):\n",
    "        x, y = batch\n",
    "        y_hat = self(x)\n",
    "        loss = self.loss_fn(y_hat, y)\n",
    "        self.log('val_loss', loss)\n",
    "\n",
    "    def configure_optimizers(self):\n",
    "        return torch.optim.Adam(self.parameters(), lr=0.01)"
   ]
  },
  {
   "cell_type": "code",
   "execution_count": 6,
   "metadata": {
    "colab": {
     "base_uri": "https://localhost:8080/",
     "height": 362,
     "referenced_widgets": [
      "bcf5a61e7dba41d2a3a6c56c3df9fb49",
      "a730ce8066bf4c498ec97affca096c26",
      "9cec15129ae6410295fce745420d69eb",
      "39848793219445129d31e465d4d1cee8",
      "9fd645d5708d4abb91ad7b5f51438b12",
      "ab9dc63069b34e6094c158e1207207a8",
      "ea726c98cb0c4f3295f6e25769db20df",
      "5139b6f08ee5456889219458ea262702",
      "531ef67754ff454b9f38f9a4241c90da",
      "152217580144401981ab5ec24e534593",
      "a111a5bc99c8438c807baa941dfcd816",
      "7b6e432612d94e5abbd3a568ff21aa46",
      "8d1f5286f9cf4d58a62117d64841e88c",
      "88f63d7b05c84c4a95eb7c3347025704",
      "a63fb4e0bad24dabadfc79e141fdc732",
      "e14b2772a2d248d6ab779ed70c1c1858",
      "b61434bed39a4ff2b2d84a044e2a817b",
      "223a3d74b95f4d5e9bc24c22d1b77be1",
      "96887a7518314809b181e24f8d70181c",
      "d9b722943ac84055a150e526e5543978",
      "6b34369ebfb7491ab6b3b69710d4c700",
      "72ed7dfe88734e4f9c92c0c961ea15e1",
      "d59488f2ffe6469e8dbb68c0594d956e",
      "347564d657874db894737d74473d20bb",
      "917b9d8bd2fd4f80a04ab455d6b8dab5",
      "879d451bd21c4b23af566c63dfb641e7",
      "2281cce4079942d48f1464af3d618070",
      "92a696759e2045c99781e6f9f70bf9ec",
      "3605013698654f6da7a4c58f21bb3783",
      "31c2e401f53144e984d829a3847091f8",
      "e2ea7c423e144805a8f5196f478c52c6",
      "9339189765f346c3baaab70f0894c2f2",
      "3b6af0c85e6443fca73535e9b8067ffb",
      "8190c5635da944b98a9b34a245b10819",
      "c943d170c9384a97b889843011ab3f8d",
      "e15fca4856484df39e18d0e374bdaf4a",
      "10fef95b109649408f381bb40fbec3f1",
      "52eeb0c6017743b18d5b0c2f1eeba118",
      "ae6907fb79d04426b4eb981daf84c358",
      "d4e93caa44c64ee19c56a5c01ed57909",
      "eb70a1f591d747ffafb27da99447b2ff",
      "c93479aad70146ab96095f5fabd3bc81",
      "46a94a5c5fa24d83b59d223bccf9c514",
      "eceaddb72935494ea3ee3f75b8cf9d30",
      "cb41d0f62e4c4436bc3f36a27a0001a4",
      "ce693e951cbb461dade0d3c00d2f5c28",
      "8ae8620361fc42db80155e2d2d0f0d1c",
      "a833deb611da407fb00bfb7c49bcc74d",
      "dc10d7eac529479ab555e76a02249e3a",
      "0e86eaa80b3a4927a2a87e16cc4f4126",
      "9532f9cf97044f0099fb0bfe6afaa291",
      "cc89206da23a4f95adcd63e74aeaf41d",
      "e471c9be23984588aa269c9c8dcecbb5",
      "5fc4bc0faae747848024dadb07ab6ab0",
      "8cef315c14df493095022eb2eb3713f2",
      "b2ed4da4e3a345bb88f75ffb565ecb03",
      "e441951f88db4be087383bc9dd92875d",
      "a076d5ac2e1b474cb089598722479df5",
      "28296dacf3c34ae19b2c2120e7fa9f02",
      "3bc13b44a3b04ae49d2b63293d829529",
      "c16519d78a284de1ae12c89ab5044969",
      "64608f4c9fb0483baa1e5078040d429f",
      "8dbead8f79cc42478b593daca33c7040",
      "b9cd7688efdb44eeb97fabe7c85a4e2d",
      "1f90335bf6c34e9c8f67eb3fc19186ca",
      "d663f0758cc0456cbf6f3145a841d33c",
      "7d3a69ef0b0a431f9d5e518e46e835a9",
      "44d6366c9cbb4d24b4067a82df34b5f1",
      "6aded5c7fae0432e87e27cf23205f4c1",
      "b5f1e3493ec643b88b621af52a32ae26",
      "7ed54f9c5fb14c21a57b28d2514d4c6b",
      "f635edb2a73244b18e4dd724b87985f6",
      "c5c1a07edded4e1aa33a9275a6f6dfc3",
      "87f3c8e701d4493fbcedf5dbd80ff638",
      "f5c1df3b79aa4fa08be05a48151ce99f",
      "61f355e56eb546e88ab432c33abcffe9",
      "514f5d3ac89a48f9ab6d70659c9e6cb8",
      "0af5f8e1a5a14214a012142643b523c9",
      "6bcc07d6b44446f19a3e4e73b8d13dc9",
      "0aa55a3ab5e140d5b9378280601732e0",
      "b719b2ad10f2400f9fc59ad9aa6dd16d",
      "1c4de9550b914eb3b03fa6402f3340be",
      "db7c32450cb34a03ae82a670f9d12796",
      "a0ecdeccc805467fa8c8d14f51bdebc6",
      "d7c0b0b88e2f4bb0a7d29c1e43d7d035",
      "e1815ea36efc4e9aad4f274c7e13f786",
      "a6dfc2c4943e4b859086d08551116534",
      "27d767efa0264ba7bdc6078aeb23d1e5",
      "0dcaa070d27846e78f95b805fb870306",
      "d78388a7796143d4bf12c051eac4e194",
      "8fad7ae1380f40158ff24edadb91f7cb",
      "6fa3505270cf4ef4adb6bc2b01a24b3c",
      "07854149afac40b5907902594262345b",
      "e50a17420bad4d0ab60cfd268786bbd8",
      "50da53a1f91e4c57b0d42f28559db08d",
      "2b9d7d108b8c4e1680a4451b39beba30",
      "79059b23b7874acfad3860d10f64b1c7",
      "07d44e170da64f62bcbba41cb7b59f34",
      "6df70b33bee44093a112e78932a778a4",
      "eba815315a484e0f99dba38754a73bac",
      "d6438ee513204c6a92de377c4a3fdc75",
      "12e08bab63a14a08a16a67ec733a97fe",
      "5e54e6f9513b43c9813fc2aa3d5b45b4",
      "e99439121f434c5fa8d2e459fdec0000",
      "59fe1c8a9cc6483dbb4e76cd4b8079bc",
      "9720700fc9cc4f05993f94d52cfb90a3",
      "8ca03d8b8fb440a8be113e864c1a40f2",
      "a9f985afa66f4d84a5f6691bfff02b85",
      "5366ac9391d347a59715e531c9197b45",
      "3d5b8b71d75a4f819da95983e3f13d93",
      "c114be33980a402b94e637b0843e1c34",
      "33fe30f1201c4c8f8303176f19d35e20",
      "87c03da5a735487e8296e69121b0f9f0",
      "e393010b0922457eb1d992e1be861798",
      "132fe7359a0b4ed5bd35e2e0c9bf387c",
      "727e5cc2b9c34ec89d49c25bade104dc",
      "12a3397d1fd64540b36f1c844e7050e1",
      "c2ebc4d637c547e086879314f16b683c",
      "d3935bd403b948b99860bdcfd4d97005",
      "a2df4ac6c1c34929b5f8731d3368c9a2",
      "372a5f31f68a48678e55ac40a23a2bfc",
      "63b90f91972f4a399b55b9318a543b07",
      "46521c3218004076b721bdda13351c42",
      "3b4100ae8ef44681be27b202a393f1d1",
      "e68043f86ee64e51b2378ade9c6cb7d0",
      "a04eec198cb84dbf9b57e358b4813458",
      "afbc1043e99e422bbf6bbff902ce49b6",
      "a4d7c3326ebf448983f6cf8d0b715489",
      "f8a75a9e15b44944aa7440acd646a92e",
      "be5406dca58246428b48d23b55074819",
      "a1f0ecbeecf1491fa8f819e3448fbe88",
      "211a2032cbca4ce09debfb9b6107893c",
      "e761d66f322748248147421dac996d64",
      "1ee98d261d6043a2963e764dced8e35e",
      "721ed4cf29cb4fd8a8667dfd8a33a947",
      "a0855a943d334dff858ad8579313578e",
      "60dfada64d484d1192811893bb1cd1e7",
      "3c258dfeb5f8490fb627bd58de0d4acd",
      "dcc80c43358e4b4397aa835b504bb4ac",
      "ea868bb05e0a422986d61092b3692218",
      "330d94587dea4d0e9026ff8230839619",
      "a5a26363d4fd4c64aec1375bd1ae9cc6",
      "16f474d651ca4694bc9ea279e12af3b2",
      "20f2cca4757a4497859e57d61c0265df",
      "d4ca7c17e8504f758273e649ff71947b",
      "f58091305c724f959bb60434280f4ae4",
      "b6a864240c2846ffb8fdcc892f0cc3c4",
      "e21baba0b8c2443ba3ec91444f8033c2",
      "52abd04e54944b9a99ac1592686d63e9",
      "ef26b72ad1884dd29c342ef510f62a9e",
      "9b0691a3ed074fdf89ccd3373fc13d7a",
      "6437fdabb52947ffa32e884a196ffb9b",
      "df9fea093b484c04acd3216d19f4cc97",
      "39c0b2bd7bac42508deb86c696ceebf4",
      "3ef365ec4a1641db96b0c003076816c1",
      "b2583ac591b547bea10baa8a52d619ed",
      "29a97e8609ca46c5af739b0c1cefc3fd",
      "d46fe39d09ff4ef8b50c403ead39a4d0",
      "6aa06dd0f7a74135a4f43bb14980f68c",
      "fd7bca458ce9403b9d6c6b8def6ca48a",
      "d6310deb7441470589625ad02e22bde6",
      "2b5ef606b81240d59a0ac4f35494107e",
      "e5f90635c38d48d7ac0de6d6704d2928",
      "86c766d35b8d43c3b24d0b3505fb3712",
      "681f538d9dbb4780866c5626e83e4f04",
      "59ef01c631684d02ab6d04b5dec11c89",
      "c2a10bf0afb14b75890741f65aca221b",
      "8e662b22ee3c4a178b995f7dc62a93b4",
      "4a11449459454c5e8607c2ff18d1ad15",
      "07c0c496e5e64b13a106bcfe1177c496",
      "7cbc09ba45f74820ae417b6a5ff0b3cb",
      "98bab107264147afb43fbf54a117cfd9",
      "90266d767ef84f3f81f382132f745878",
      "0a56ebe9e2cb47c9a94c6bb15b0391a9",
      "132d5680fdae448fbbd636cf8d6e436d",
      "f0b1876657514f03a047aaf7672a4fc6",
      "16bdebdb0c86461a92c7fa43689cf50c",
      "2f69e29fcf6b4f528367823389fec343",
      "ab661795d55045278b91fd37dac3bdba",
      "26071730d4934adf83eb2dca2f24df3b",
      "fad33eaa3ae342609eaffbe7929e1a63",
      "d4c0678938d54aabbf07ce137f453fd2",
      "8ca8f499959346d5b6c7c83c22fef6b4",
      "cb6ff803c8ef44329c3aefc1847cd325",
      "7904162689e943d9a53505bdf8c90386",
      "e80aa5fee8d248d0ade9b433c6eaa1c1",
      "3222fd3749464cae8b4605aefb6948cc",
      "3639be8099d24d71b4a4c5e644b13328",
      "cd0dbb4657db4fb680489f0bc7aa000e",
      "24d4ab68efe442e69de9e2e91d0780aa",
      "40e5943caea545acacd7514829382fcf",
      "c6f43722a539445ab943947da24438fe",
      "e0b146b44d664d66bccd34e272af7ecd",
      "805cf4d869994a00996b2e7dc6237226",
      "55f3158b0f8746efa47953316a2447ae",
      "39b60f987ea6414f9a4279ffa8aca5d4",
      "e5f9b483c161483bb28236ba82324677",
      "becc3b4b6cdc4b33b02b5ce099362852",
      "b52cac9f3d314001b2dad2f6d0a4de55",
      "c8746306d0ef4fe29b7c8d7dd9f60fe6",
      "9a5b01375b4a4b049fd932ecc0e5b7a3",
      "9f40f4b6acb2415c9372fbd98a61819c",
      "d09ae417b44f446fac3d4b3364b9fd18",
      "5a8fa8ec874f4a83b7bad9c9ba82b2f9",
      "51c6faa5cd4847a4a1ac85446da97d6e",
      "c27d988d50a0455d8663193c26524a66",
      "75dc8e32d1cc496aace8717c3e924bc2",
      "62536552e81745c8a7bb27ee24cb7699",
      "bb3808b5c0364c7cbb10aca8b72ec0df",
      "12f0a09d6baf4f3da262d0666eeae1b0",
      "3b49ccbe91e545f297c32c8f6f1f7f0d",
      "de0d1dd002c540d58a92cfd132aebaa1",
      "512343ef23b4435eb7260af6c97efcea",
      "a2a9943b8ebc45178351939ec3155e60",
      "5ee95be8e2c9495c8c134529940a15f9",
      "5bf34cac9f1443c7be12730fbf94378b",
      "460639d5e7a64927b3a75028fcef6b82",
      "518bbd11b3614ff6af4e174619adfcdb",
      "3b8d3bf831704fa09988a4c84ab9511b",
      "6f624a1d38a144faa31db6bc21d23a1a",
      "c4e5db3b2dcb4d67b1c4da3ae5eabc19",
      "d781280d8c4d4a06820ba2f03a696130",
      "3496ab957f7b488195224946c20f852e",
      "80a70ebbb71d42c19b724c501b76bff8",
      "795d1c9448164853809f0b80834fc334",
      "c8da548332fb467db8104d6e8c530d30",
      "72b8d38660284eada7ac363fb8c4a3bb",
      "6e129815eb984d6b8181907e978cd55f",
      "3b68c4fe7f424b669e3fda63eae88abe",
      "94fb0947c753475891187644b5a7d2f8",
      "e5b5de409e5e40a9abe706394149d7c6",
      "e4d9ef0c4b4d4754923adaae909f7de1",
      "fdbd52102f1243fc8c91e47582776f48",
      "0e8e08d9affe4353b7dc3c03107378ec",
      "f4cc2bc0283e4985b1eca5acfcc7dacf",
      "850d1b2779c0438f84660225b1146db3",
      "8bee3ab1c6354f7c83fdc8878088aff3",
      "34115c2c7f184073bebbf52da065ca47",
      "c236c64294bd41c0aa11b0f2067c546c",
      "3a32bc104a154d129042e4ef8c0837dc",
      "769dbc30605c4b3a814ee7fe1f6e0ab0",
      "0ecbdd8454bb4c32b1af772fac2e3d5d",
      "66980de2cbae47aaa8c997b06504ed17",
      "069d1362a83541e9bba02d24b81ccd4a",
      "a797fe138dda4a1998630454ccee11fb",
      "5839653f3b254206b4f906a94e78c071",
      "588e575966fd43f0a71e5f28e1de1984",
      "8e8a08b9cfc94873b0d49d2ca141b7cb",
      "527d2b89e80345f191c89eefad477c58",
      "57e12a0b7cf04ea69a46be2ba3f357a5",
      "99288710ea9f4f9d990ffca2740989a4",
      "df4d0989a4af4fe5a61a8f1c9e2b2422",
      "cc356fe831a5404aacb9622cfdbac42b",
      "358e8d1cd76c4260a8200772528fdb1b",
      "410109bae60642138e8259fa094805fc",
      "9c1ff972cecf408a907d1a1fd2238160",
      "8cfdbf40ee2341bf92d42815c64cac92",
      "3a4f15eb920a4e0eb3bdc92cf50ad960",
      "4d07c8d0874147ffba1fdefb269ce09c",
      "9f815f1ebe87452fb9cd8fcf5c66ad2d",
      "514c8db5fe404fc7b1263aa05e5a5e2d",
      "d7ec85501aba45bcaf799948a71b52dc",
      "c60d8b617bf6453ba4bde3368135d7bf",
      "607b2ef748854543b324b35f7148c555",
      "447d5bb154a74b81bc7e71e0fdb4edd9",
      "1996906ca9d84038b884253c8e91990e",
      "bbe7c122c0d74dd191f94469b6b9dd34",
      "e578058db2a64f94934c31ed3880d1d9",
      "44a215641a66464cae4078ae81789964",
      "0ce7a2d14fdf4466a3708b4770e14816",
      "b89f2b91487648c5b96b017076cc0ae8",
      "e3e0f6820d6a47ccb08bea30af804396",
      "96b7761e832448f89e56c76f37ee51dc",
      "e75b4450459049ebb78fba5ef1cf607b",
      "d31f74c5f15748a9988356c5b94b17d4",
      "0c2bc2582091428aa6d4b1a5a0d12190",
      "53985f3b24644dfa8f85b236fb4575fe",
      "aff8891e5e3443cfb67574f0be880229",
      "5067f09a97f342bca9bcb40edf5bbe47",
      "466b7657dbce484486f3a6ebd53a2c25",
      "124ed2227c624e0ea8b35e69734e5eac",
      "0854d89308614c1689133d466b695e11",
      "5ba8930d6c814f3cb899023d27cd4da6",
      "d3570d77a30d4b13a0fd59fbb1ad2e3c",
      "a97e2d53cf6049ae97f1261cf9e39bf0",
      "daee76c211784c348639cff997e5af30",
      "ed26b1abb4f24b1281d13a55429e94b2",
      "addd5d4d3e08409594d0c9206e97f753",
      "ce7a7976b2024c3cbe463c87e4394183",
      "2797554c5e0a45d5888d5ef19fc712e5",
      "fb15f49ffa924bb9b8e430123373a52c",
      "5839db936223490187440f3d8e730b26",
      "81129a99dd3045b3a86480e6fdab4d45",
      "65b8d1ded9704ec78657a943812eb5bc",
      "78b747e9481d4aaa91c36a16be931d67",
      "6824ed9217fb4562b2432f01cc0204dc",
      "4c8862845e3c40508f95e0f8e8ac1f3a",
      "f5809c298dd14a6b873075fbdc9ce8a9",
      "90fe9942db3c468793c46a0101b89800",
      "bdd36575855946efb3431568e06eb800",
      "36b4fc3bf9c749678620df652b49f36f",
      "2867e6418f434ed790dd8e0ef2f3aae2",
      "222cec6f2c3e43a0a0a120e59972ef08",
      "26ad29c2f01347778d035705ef0b4566",
      "11377cd7c7554b97906eae5bfbd91e2b",
      "de55a5eb549b4ec2ab863924d58ce6f0",
      "b4ca15b04a9b46daa022c4ee5837a010",
      "8afa776cad8c4d46961e0b7c73666ba0",
      "fb2e3fa4203247aeb321f7c7364ad267",
      "47efabf051034292b85f2815f6faaa51",
      "98e98f179e4344ffa10b9ddb64943b09",
      "c9ff65f37554475fb23b4ab6a4ec939b",
      "4d652d9109cd4fbaab48f9bdfe6a489d",
      "acfcb92628364f8595cb6a3daa917e0a",
      "c166fc2a5bd843999ca5bbb7b1253243",
      "75731b36537445ea91ada556b152cba7",
      "0ec6f1bd6d8c412aae8da8c628fbca17",
      "7c459ee7df4248be9976d6768e6a0c61",
      "af625c3217ff48f7804eaa8ea8f33966",
      "e3e7fa27f51d48889013936d93aca40d",
      "e5dea8a4d842436bb415140f3dcc3137",
      "bc8fb98c5b8f4deda6ff70ecf9aa9ef8",
      "f6e67f1ef4e84fb39ce8dba571da6477",
      "9497f30d8d1a45e39e54ec65bfe9102f",
      "e88ce4912c0b40119507061ec2e7f59f",
      "7df34f42d32b4af194d09c44eb017176",
      "82ea523d623549938103fad4a9249a24",
      "56da9e4f86a74e6fb9e7940798d88742",
      "d30ae2732a894b57a809bc1c44d0a0ab",
      "99d9ff44a167401da9a12fff26fd0f6e",
      "b239d0f6e7f144acaf9d8567be73a44a",
      "9a2ffc9654f343eca648cf05f16dd1da",
      "7a1bfc8dc43447bbb82c6887600438d4",
      "422f85a89c4f461dbce2181ec142ca6c",
      "1386b03598c04281ad9234416ebae147",
      "55c2574262304fbc8d0f37e55ca1b382",
      "a4468007157c405598b56dc7254bf407",
      "fcc948c16682479180fd3a85f2984bc9",
      "28b5b957f10f4dcaa4b76e3139fa9263",
      "fdf483559903449f86662a01a6506ad7",
      "a630734e5aba45d99852bd56fe37b3ae",
      "0e99595eab4c47a09c6334e6c8f31049",
      "17816c93fe314c28826102ee041e74a1",
      "904ab15470b24cb8af4694b997cbb50e",
      "a4a6b46b891c447d9a7e4dc76ee63d48",
      "785f26e4124c41b5ad9fa0a850ef1e8c",
      "9e6761bb7a2f42098e48d720dcefa284",
      "b0c8b89ab692474fb33751bdb5426f3d",
      "7090bdd5a56f4e599fd8938dfc5c4d55",
      "4833568915474ac6bffa75ef3d755a35",
      "34ccf73ba4a04d7b8134f5b65a127b39",
      "9ba19db43d9b439b8cdbdd8511d0ec11",
      "4aabfa68b54740788e13aeb62851283e",
      "43d63a0920944a38ab8deedd623f8ec6",
      "07f1ec1772b64e849a4a5afe6e718627",
      "7b2f58a3669445f29744637189e0f0d9",
      "4379e3b87c924c58a73bd2d57bd09afe",
      "22b7a6b0bdf74e9ca272cdabf779c09b",
      "bc9a1021ca754ed593cc5426563803f5",
      "7377d3ace5cf4277a775748e7afb8995",
      "93c30332d6e34b29afb3a679f41ba54f",
      "533141c948214a3082f8bc7aca6416c0",
      "44764cd1ac2a4d9386e764f3c42c9cc0",
      "8cbb35e1e0544c39b4f21864fb31d23e",
      "60e6a09ab21248778c020fedbe2ecc16",
      "8b81cb2082ed4190a991c7afcda27bbf",
      "19a05d82922f4aac87645289204c69a5",
      "86dcf1c645ba47da8194d9646598825d",
      "7159e8c7c4344d12a8924aefbe3841fb",
      "315a12fa431a48acbaa6df189382ffce",
      "177d582b88fd4591b5e27f28b96f0e6e",
      "278f75fd27a740879a6206d65879c186",
      "f61fb5ba48ec45c7843307825adfb915",
      "df2656c87fa84782870fb264085eb06f",
      "4e9d6ada1fd64368941bea25cd8bc1e1",
      "e9019ea5d0ac4fd18a6177d3e67856c6",
      "d6a78502229f40f58694863b57422e4e",
      "1195b6e6bbc34b34b2a8025f34ba840a",
      "33bfb477cd5447109c6ae9bd8e535c05",
      "d6803222f28e48ce995b55aa59562054",
      "1b16ecb15c7c417e8669fb38531b71aa",
      "2fb7f413b1524658be383d40013698b4",
      "d8647e3d020a45d1b64b678a92781d3e",
      "04341f5bb2404b229e85271975630cca",
      "1e2b1ca0c6f9412188da4c2dd4a2625a",
      "9df0d4f86a724aadaa347e3dce910a91",
      "f271ab92404e4daebbd423bd0765ac99",
      "8bc6fbd2e8aa46a7b4d38be17ed7690d",
      "e6b5c4a033a641619067b391afaffe77",
      "8f78e64f01124002a7d9143a3be91164",
      "085f5dca079a479a9af03753ff78bbfb",
      "c9587fa2a21b4ad6827f64671d5188f1",
      "098bfb2256554017abb1672940d3aa71",
      "caf7ca69a57246e388ea039f86f32390",
      "ed0449fa9e48449ca94734bf7550f928",
      "842dad51f18d4862b1d645466042c185",
      "516027e9b77546d1be56fc628680bb88",
      "5f6407f0201443e68f3658b33352091b",
      "3ea8acf284ba477f9dc7dd9978ee76d6",
      "a8a640cff117431983908f0ca03d7fd0",
      "f78c4b0c51434a9f9747c0124585d603",
      "6b458179606d48e3aa1b68cd08f31b0a",
      "eee137ea2be446eeaa200f4a510a3589",
      "ced47537c98540cc85bd7421dfb496d3",
      "90d5891ecca74b54a260d6193ff3e85a",
      "59d3bbf292924734a1ce3287e45107dd",
      "140e6830a50f47d5bb55f430a0b63c25",
      "af163d9342a74c77a556cc429b93fd1d",
      "89e798a0812d4744906f6911b23ea3b3",
      "fa43cf0ff9bb46e8add2c9ad6d38902f",
      "d15e10595aba4d4982015c26916d081d",
      "b23a1467e4bb48b1abd56fe08f18a857",
      "f56c30b8d6974df1aa9dc96fdbdbf989",
      "6685d00d73c64169800c12c408ba5032",
      "467bc6ea40244e07af366d3ea2b9c262",
      "e63a482effe84ce2ab42f120c51599af",
      "660771277f91426e8f640a230431026c",
      "f682b55b25d6427ca724657effa8d0f9",
      "a0d00d5030844521aad4c314b36b2d11",
      "dde248872fd549f992e290c960e5f947",
      "cc44daf026284726819becc6ed34e153",
      "7a0f2f715127413ab2b22fadd0778880",
      "9e3a90446f4a4a48bf662792b02f9b36",
      "3ded3987ac6847118b11fc7b19d5de60",
      "818245104f8c4e6082c7efaa2fbe0ea7",
      "0b424b9fcb8448e89ea962583d1fe096",
      "2f6b11166db148fbbd5e918640c09fcc",
      "7de5c7137ffb4eafb4d709f2e51c7c0b",
      "0db2cd0e859e40dc847182557a69ca16",
      "a30fab88feee4662a01eb79eb3c01a22",
      "d4097f724571414aabe5dd3b2f0dfaa2",
      "947492bb18264b02815e79e3306fdefa",
      "d63d3139f43c4b1e893a47aa706eee71",
      "71286aad94094394ad7ba389fddcb6b3",
      "45a6423241724b668b7c324d876ec244",
      "b342870164dd437cbedbfde61889fbaf",
      "3c910c4075844f508ad985f76b189155",
      "bd2661dfc7cf4d939da98c01dd752137",
      "27bc8e37c6fe438ea40f1a16fa3f911c",
      "f78c60f08c214071b52ab2da1a3ab69b",
      "c0e93b964b9141deab6df49058940f4b",
      "27599112691c44b186c0c2ecf92673b0",
      "fb149d42c17f42a9a799409dfb157a7e",
      "76ac4b8e59164b2e8604a1e9f808b1ae",
      "0befb6c8e58e47979a6aa94e3bb1092c",
      "59b84b289bb549b98464059f51b22ffa",
      "cfb8c11f8e9247e780ac65bd55c7b033",
      "6c496abe2cb64012aba919b2380ab147",
      "bebad5dd57864e05bf2b9c105f1321dc",
      "0febe8374aa54a3b84a1dcb3661de900",
      "381f33f74f8a492cbea796b12b5d36a9",
      "d65de6b8a0784487b1344efe6defee13",
      "0bbe3494495a43e7a658382d560eb23e",
      "0092ac0c4882457b9b0f9a0003c74fdf",
      "3cd421802a414f7490dc6f598d05c5bc",
      "d639987e109446809c9d88fb95df46d6",
      "8e86aefd732b41f9a87ebb5cd927701a",
      "3207b9b965424d669a74d77fbbd4d760",
      "7f4a5960c8024757bfc559e645ec871e",
      "842ad5aec7b044a0891b67ac118cc3c7",
      "8b532765d49e420394cbd2aa8070c756",
      "ff48354a893a45d5bf6ddd24c459a2e6",
      "7a957d49abc540ab959345dfbdb79bbf",
      "fc24c54915b54d5b84f71a30d1d6c612",
      "2b34c21d3b2b4d5fb4c956f08bc036da",
      "13cf2308c9e5464cbaec0dc1502b0183",
      "b21ff88b923343079d6be82aeb7286b3",
      "39a66d88ff0846388e679c62e1baac8c",
      "37fe631a21ca4d79a1140c83e67a3231",
      "17f51e3c6bc5496b88df8fdd78bf6536",
      "821271fba54b4850ad52f9d3db5be362",
      "3b08829a9af64ddaa25d2bfa1606baf6",
      "138590439543430abf1a3e112d61a250",
      "e2d035db858a4aadabd4881d900deb99",
      "ce776b072b9444c699b96cbbc4441c2f",
      "c03809dc4fbe4a578ef04026e34aeda7",
      "1c73de5e6f7c4f7e93cdf59999359193",
      "3c01c1d1c96546c2bd0d6be5cd39687b",
      "9b7d4ac085b44012894febc62717a4fd",
      "e8504a09af17463ca0db80a95e19c37b",
      "3e074ae5d4c945198dc9bef82f40714a",
      "0bae6e5fca8e4957b37b32289f14ea9d",
      "3fafba943192435990260a3fa69be049",
      "11d6cbf6a6d148fcbd991344670bf716",
      "1fd0023ef7144cc293f8a32433a7abb6",
      "fa12bb2d0b624b1fa6d20be00388fd9a",
      "9079f5c350d94914ad4413751996f7fd",
      "21a3e1bf8f4542d983852c0fda12a91a",
      "c517450cd24f429da2c02e2bcd6f7541",
      "81c5569e373b4f9787e6bcdae979e5e1",
      "862b695f541143f3b3c3b86bfc5fe253",
      "5bb2671b9cd94db09fdd46ca4a73789e",
      "3c4d2235113a448e97497ad0087c2d4c",
      "87fe06bea5c549f788ba06fa9f94a1a5",
      "ad40727465ae4f41b52ae1776bd4794d",
      "f3de802f083e499aa6cfc9e21b86950e",
      "fe0830c43b704cce8318886af7f0f75a",
      "57837099a02842e88e6f22b47731f8b6",
      "dad9bb000f714015978e3cdca304580c",
      "364cceafed854928be77aba8bbbb29c7",
      "f417b49673e844149a5ba930e5d6ac88",
      "1413b12120f4431caf7ffd4a62ca2bdb",
      "dea7ec3e9cca4c9da39dfc12b28576e0",
      "bac0561f66f84e199f75574b23879cee",
      "0f5ec3fee2954fbfa63d3b0c78cd86ba",
      "7b9959dfcb914bb5bc60017e8f178b09",
      "9bdee61f1cdc4a4aac4b50e98adadcc0",
      "10d533921267456d9e190209e7c9ed77",
      "7bf15d4c9d5942a7acd356255ad07a99",
      "49e4b493b9a840f29f51668cc6d5a55d",
      "80b6f26cb8f84365875b570debd2c252",
      "1de56af1e7fb44508ebdafe8f28f6810",
      "e50adc54dca944d780876995a0968876",
      "5c4934ba22e34909b573b85a44011c52",
      "d09ef7ae2d204ae7bb18f1128ec31f13",
      "87dadd9150e54b34b753197a3539e875",
      "70b2d4e0d5a248e8981be3cedbda0842",
      "50aac6448904407aa069e42b1149c768",
      "b437406bc9bb4f28b9375f3291518059",
      "a854db2b3b3d4a7bba51b32fd710ec45",
      "2158d1dce0c84d7cb8ed433bd56fc9c7",
      "5d3c3c1d93d945e2919339fad4abf99f",
      "bf0f889c60f340539b4fcb557e3eb541",
      "5f7b347cb49a4f859a985c2f9e04200e",
      "659fa01e054c4698b2eb9ef54b359377",
      "a6646a2f5d664c8da945d2391da6f89b",
      "36e827a46f8a443bb171b84fb7c5747f",
      "dac4b0518d5c4560b62d2e0dd193d1ac",
      "0502541ea9424a2f95aa04571d3c3a40",
      "bc655d241b694ecca009d51c3185de5c",
      "a5f023838a1c4c0aa693b3ca4ef2a673",
      "bddc153d6ef145ecb5a68df0676304d4",
      "993b1c67e7854574afa8119feaf19b31",
      "ec12d08949e1447d8ae688bfe0c1e6c9",
      "7a627b798dde42439be09da7dfdf3d71",
      "838241d040f44bef98cd1ced726093a9",
      "811fe2eb52cb46bdbc6df40d0f29a9af",
      "7d445f1742594f2cb1f183d991fd8f71",
      "534840133f9649bba9dd1177ab6c2dc7",
      "cf9212547b9741a5beba958166c9a68e",
      "4ceec472a9394ef89d27631391bab8bb",
      "bb00bb75f4d542cb9e0d3485b54c3819",
      "c89de61b244043e7a564482298b7a749",
      "3f63d4f3eca04b0d9505c11472b843a3",
      "44f8b8e1fcac4f5bb8c02b860b11cda4",
      "d04e80e0672649b29819d9d4e4d76f95",
      "3b0d5a2594ff46d9b977216df8a36755",
      "073a718ce37d41f99ca4e99b43b65f18",
      "eb0615ebe41d4c49a817fd73d7ba32c6",
      "2b80486406c74bcebc99b4bb2d5ff84d",
      "ef7f5258b7434ce8b80e995ae44385e5",
      "52670296265e4ceca962551acc5ee8cf",
      "6b4b68e3180e42908e92abd7ef1c0473",
      "b2faa3f1097741c795865dca4bec4a6b",
      "d9671544002b48f68a6c37b5cb6bfe79",
      "0f938060590b4b61b75846118ac53e9a",
      "6e95531826604124b3a399254cb26ddd",
      "4e19c93180fb4bb1b923fb825167c6ba",
      "3b6643f21e9e43eabaafa64c96c201af",
      "f7488e1fe4784836891eac1c787c5155",
      "fbe4b1e476fb4d13b6355d96be241e56",
      "e439ff3da09040ab9a08e259d9dd7861",
      "4b8c91070ad247cbbce63d7f32f25f32",
      "f6b3c891237c4bc5b01492f295d35d0c",
      "44a79e1d1a4f43b48e02e4b7e865302c",
      "68dbeeb734604d7f8a6b1e883a87f40f",
      "92c6e9be8af0443b9eeac00c48792937",
      "d4d103129c744eefad26fc3780194c01",
      "1ca1ccca7af1496db6fef031ac6cb41a",
      "7b6f9728e51c4f88bc291ce3d3d4aa0a",
      "8c5281199ed84f2cb8c176d1621a86a5",
      "41582feaea884a87abe78e81a27bcdac",
      "1d10d5abad424b3aa12c42a93be705af",
      "5cf40b50806244f986ba2d13c568fb8d",
      "3a00fe6d3a9c4981b064332d8dffdb3d",
      "fbe5df71aabb435eb7b73d387417b80b",
      "62b08aa4205642b4af1d4e3523b0999f",
      "fc2235549e2242a4a1b313801be3127b",
      "83357c9afa3846a7b2936e4863fdca40",
      "9d83bc0ccccb42a3af4560f5d23abd67",
      "482156d85eab4058a0c87226530af2aa",
      "537e7b03d2ad4a7782e87efd23efb76f",
      "a5840511fd5b4ae3a2d4389b7cf169b6",
      "83093629ef914155af9540b1b4884b50",
      "5494f59e9687401984cceeff4174f3fb",
      "43c0f0c1afad4470930269aadfb72171",
      "a44c3de3786249eaa2e0ac1666979fd9",
      "64f906d5de6f4be4bd76cfde3522f43e",
      "7ccc8341706f46eea2d627fc6fb2f51b",
      "0327b57bebea46d6a66bfea19948c601",
      "19a1247f43474d69bc00dcd3a748fcb8",
      "30696dfc15ca43f6a9e7d44e8a00e6e8",
      "2e31854f1c184c2c869e83ad9d89a4a7",
      "d753b9b851fe46e2b70011251a3f13af",
      "9c5b86bf51bc4722b1a5d57988f0e870",
      "5f1243b1451f476fb1924aeb5b0fefc2",
      "b9582f6cbeb74a0195de51acd7ad3b39",
      "0198d4780e274b5e90ff86e28b2deb26",
      "741814bf764544548a8174b8745af570",
      "d00b96a750fb4574a53030f629278b9a",
      "a648089087364c8ca2a3566ef65cb588",
      "788178afab8e4f32b106b1a67078b602",
      "65a0fc205a1c45ffa35940270d28c898",
      "6fb10527ec55445cb474d59ffba9e2c5",
      "551f08acca1b46d7ac6836759871bdba",
      "aa25abc84e6344d4be39175367cb8b94",
      "6693ace98b5d493bad7045fb5e36a3fa",
      "25a7d2de9f4f4628851903471b67dc58",
      "ad83067174014b3da998dfcdc8dc6693",
      "0b2e105ccd9f428786a1d649debce12d",
      "ac689af9cbb24cde8487a437e88e7187",
      "7d14f12b9c12419aadacf431935b6321",
      "ecc490ce8db441eba2dabb6c08a9ea39",
      "4b92a4711e184a58823bfe31cefee10b",
      "33b409c7fb7c4ba7b6a6598e785e8d37",
      "6bf1f645e6f44b09bcc896aaba9ba2c6",
      "6c8e6661f7aa4a90abfb609ddb6ede25",
      "ab4c108040b34c83a4ce2750b46be0f8",
      "14bb624f05204585afe01136c101d611",
      "32fbf0264f3347d1bf39cb5ca3ef92e4",
      "33afd3f0c3874b6fa88e69070668eb24",
      "6e1372014fff4e0e833bb326fca8d62c",
      "64bc6357e0294bf1937889d8669cf76d",
      "f78a1d84ddf64aaf993916398ff4d3d8",
      "7fc9bae8fc3d42be82c9874af49401c4",
      "578564caa1ca4eb589ba14cca697ad11",
      "917789b2018e425b8a86a6eb48046b35",
      "b90717cb61ae49ee8bfe19526c892003",
      "4a5709e45fde48ef80f03e2234546981",
      "839b764de8d14d459433a9e4d77c746b",
      "d83c55b986a44a3fbb6963918846c5be",
      "7a9c2bd7567f4f548b3fc8cba60781b2",
      "68cc2743440544cc92f2e639a3aa509f",
      "2b88b2d8fd91462c932253e983147a89",
      "118b0f36267e4d2699b6333569ceb402",
      "cc020791ac57479c8cdeae3b879e719c",
      "2054b7ba89a947b6a458c4f4cc4cd9ae",
      "7d21dbafc079486abdb3191197405d42",
      "779f02f1f9f844babf199c247100069f",
      "e73b9b7d808e4681a997378312454a92",
      "f29a5b3308e64debb013a2f127541cab",
      "17df6c2cd78d43c285ee2726184efaa3",
      "5f88944943a6469c80392a0ad62cd861",
      "21704a8c2bf4420ebce36bc8c787c32c",
      "f3da6745602542e89bd47082515208c2",
      "0d8d0f296dbc43acb9f84f0d3a5fc734",
      "287d1e252e8742888eb4b16c02f82d23",
      "ae85dcd70a5c4682872eb90b9dfd318d",
      "a87b70ce0bfe41f3b1f79f4a0a2bca02",
      "760d345bd1914743ae80afb450f6d181",
      "36fed78ccc4e47438ce75e123188396c",
      "3bc7a1a38979441db5acf2ce68c1f823",
      "d10d466d590a4ef7ac40af80a5c8910e",
      "46fe5eb8da8f4ad3889c429ed1633447",
      "1f3c83658daf4d70acd22b78b25d3328",
      "d2e459842a364bbe86fc52d4debd7ce5",
      "821765d5dccd442a8e5dd3d6a0efcf0f",
      "b3e079d55a1646a083f8cd8879e48452",
      "725b94a766804b2684773e1623209f83",
      "c5fc9095053c41d4918f36a111697ea5",
      "c757f5c0c7214a149c66fbb9cfe6644f",
      "2428b80372434304b0c587131a31e415",
      "335566a9416d4c6b9fa4f3bcf8c8857f",
      "7923e50d6ec14b449a483260f4134c80",
      "ae389cbcc6a342588255f8171d87be26",
      "98000835bb3d4b53b9731f206ee92cbf",
      "a8d9e10f466346e2a4383bdf48524dd6",
      "526daad963394acdb0189f8bce2e7394",
      "5570f7dc0d5f4927aed2cd2622de4360",
      "c8a11db884cb41e08fd486946384076b",
      "3dd1af616e074c269ac51dbe9a815916",
      "75f146541a074539b95da4a330733670",
      "a22ca5c9a0934a2ab0c2d4bc1d0ddc47",
      "34e5651053d5428fa1cf59a97b864c15",
      "4f1cb0d20d844f26ac93bd42f7d4ab92",
      "78438d35a63e48df86485e11a09e7806",
      "10a2d233ecd54a2baa2cfb3b1cb8b9f8",
      "429580e5b45c4537a7bc5abf1cde5102",
      "dd7560e66d0d49e5a900d07d4c91fc9c",
      "0d68e11a2c04484f80abc135f01736cf",
      "d2bf9a51edd04d0aaa30cef0bfed26f0",
      "79925c68ea23488fb7131c608fd574e0",
      "b9ae91646aa040bfb8d0f5a69e540b39",
      "a6a314980a2841ae944ea5af33d55fd7",
      "99a35aa08f4e404eb246c1167e030362",
      "798f2c5d51b24a009ef11dcfcf86b393",
      "630be320a03e4800a0fe3406a5737340",
      "e8f8cccc71144d24a9043e62feb45b14",
      "1d53b23ae85246bba640f816f8cd5b11",
      "f627535d60d24f2ba2cea8f5c77c32a2",
      "2de1aeee5420475a8400a27fe7d745b7",
      "bd5f5e71aa5b406a845d5b68b9ec6efe",
      "abc54541615445aebce5adbc894f7b67",
      "7b30355f34754c5ca4b436ae3478c3cc",
      "05af38c54e3b40e6ab6db94228437f63",
      "1ccc27e4b73f457195ad96bc8f0b8594",
      "9bde9dbcd4d04538a49affa5bfc9b11b",
      "ca99f8c564c04e469e3158091e6cc4e1",
      "9c62d001284c4b1c920707064fd1197f",
      "adc49738a8d34c89ac77669887cbce15",
      "10e72c38dc6e4badb384136b166acd6b",
      "a2496e2e0b7142c89538a0bb617c5f7d",
      "c0b17d47be424d27bb57992546bbd11d",
      "f14e7264bf094c478d577ce24c81a8e2",
      "6ab5ff214be44993ad5caf2d5e9091d4",
      "1f2d9124c96a4897952b0d24941be879",
      "8bb65751a21b415485e8d755130f4c46",
      "36ce958633d349d9a05a834192ca70a9",
      "acf2602d4e544b7a9b60f9ed44cfd9d2",
      "10e78a648dfb4cc18d30d8ca9c8ddca6",
      "8c392b981b05456ebb48dc6f92be25e9",
      "6d47ad840b664771b61be9b17812345c",
      "4ce58816ae0c4f5699c6357a64b2b28b",
      "c9f5c28f3ce74be5ad4242f253354381",
      "3ad67d8e8aad42aa9028266779320acf",
      "04d610be2f6143aab5c966d6553df65c",
      "ec190722f72842c4b641502526472edf",
      "b4df4cb6ca724288a8f803d28be79ef4",
      "b62cb69a272e435b909ac3b97689a6d6",
      "2dfe9aa7f9dc4951ada403f4d4a718c1",
      "b7df15a6884b4207a5c1d5d4d23799df",
      "f3087641839f450a83688befaee22265",
      "00d9ace1d6234e8c84bcc42e2658be6e",
      "7e7854d3607c47f589430e65907c05e4",
      "a99e33d68f8b42ff93a837e22bc83d5d",
      "267cb57be3384583a4466553bd0db450",
      "978d8ea250c44031aa22bfa043997f1c",
      "55733f93777244b8929da25cf2694d34",
      "5dceff5539e447abb2913e82325583bb",
      "dd6e0ee40cdd4a1494daca78ed895e8b",
      "c67a00cba41f42fc85da751b4899c5bb",
      "dd574df6a0b844e4baf8d52869e57790",
      "daec7e68626446cdba35dc2aee16b767",
      "fb2dfe2307b64a34898ce9813d71f4a3",
      "da6f809c7d984efa8d93623dc10600e9",
      "acbee194a3ce4d3ab2b1448c1ae721ab",
      "9075e04a7d98491ba1b202ad069e22cf",
      "500c9b7b35f64deeb3fb3658aefe2f31",
      "915092ca43d5447595465b1c5eef72b3",
      "c830fcbcdf6a45b8b9c1555554d5972e",
      "fef7a7a0c55144858b2b9a460bce8f66",
      "c87abb90d2d94b30a51c830d43f44b60",
      "ecba9441770241c781938bcc2c778242",
      "fe0475b19b0249618652afbd2e543b86",
      "82111d871d4549c49a247bc2d140b753",
      "660d4c7aaa8f468db92287fc2e5c9ed7",
      "ee9cdd36b09243918ac7abbe72356f97",
      "2d6273f4afa24431bcc1755224f119ec",
      "b9db82088e00492497bca6a273a6a368",
      "cab21eff850c4bcf891007acd2893c3a",
      "c3e3b73fe4354e529b0a0632df28a213",
      "071c12287f134097a179cc2155ad7911",
      "0849ae26c080455db80ad2b522df94da",
      "7754d8e261674635890f9043a0349996",
      "98b3e55579764a1bbe906112226f858b",
      "e0b4d2a59884458b8170c6a32dacd1b9",
      "ac56f161d5c54f729a98ade5125bd7dc",
      "fcdb0f5696fe4ad2b7ce3628689516c5",
      "1f7e763fc5254ff79fc46112e54462da",
      "9a8031c184f2441cb49d56276d78ba50",
      "97c74b5033ac4d418866b174d35c6190",
      "b7e50ce2e2244e7fad45e540d53e070b",
      "b19fa171f03747eea7a82ac36e40ccaa",
      "fb23107521a844d0aad64e9410ca3227",
      "b519c061aa3e4c0eb3da997d24215828",
      "47e4d564f92b44f4aeaf86a28e4c46e4",
      "a13bdc6b86e7460c96b67eb287234b1e",
      "05d61c8e21ce4d47b3fd6874b96d1317",
      "5c21ee8467a7400c8a41d73c8ec970c3",
      "4b0afa6134e240b3890b7f3112cb30c4",
      "f9982fc69d9d43709c1a35e8173920fe",
      "56811e8709174073896dd4bd5b6bc627",
      "ab788ae185ef49778d11042ac66828a3",
      "edc561eb1287463f8273a51076062895",
      "fe2164cccc824f8880368f8655962fc0",
      "2d677c9ea4cd47d395b262dcf7667564",
      "e784354ab9254b5c8c9f20c97d60d10e",
      "41e3b82f547340eba6e9509235762fb1",
      "470956efba734ef4809dfa5f88cb1efb",
      "4bef02145b3248d89aa1e83a0e4ae6c3",
      "1619dc672bc14f8c92cea7c0c12042f9",
      "ba44e356d1594a1d8ae5fddced298b46",
      "1286d2e765a7455ca3f718f6894fa0f6",
      "58e262f4281948319aa5cf8e089a2154",
      "b00bcc83ba514422bb62620788e5988d",
      "2e55ca299e8d47cc928cb395ec21cf0d",
      "a6f8711d350b4d8896d458bb291fcc3f",
      "590e25ee2ac54a2a9ead74715fc3cc7b",
      "f22853013ea9448c82837fb8b8457ef3",
      "6fafd858e0944217b54125d946fbc0af",
      "ac364deee23649ac8bfc292d0ce05574",
      "6ccdb077b25b43df94fe3cf94f3b3346",
      "be0c63ebac2f4b51aa1d46ae623ee4bb",
      "1d6979b416c042bca9d65fe0643c2f72",
      "d27c997c45124f33bd0e10b687010bd5",
      "d2ad600347c245fa9e3b8b61c4f0ac75",
      "83f3374c3b054f68a3b88782d3cf2b3d",
      "c3d40e40c1e04089942fb94e4a0a0486",
      "5aec2978cd554dd59577586400c464bb",
      "0cf8555b2d1d4177b19e2c4e9f93a75a",
      "b944f78a9b714d63acd1b60f52651451",
      "c4891846fbf643779569beccc8efffac",
      "f64f3c97ba404b93b0f2ed0b49022705",
      "1becf6f241a94471a360b96fd33689ca",
      "42fcfe3f6a614752a76a076a0c99de6d",
      "d7f641a1d02946a89b0914b2fa874203",
      "e54b8d743fef409492d1f1165da16f2a",
      "32b3023e3c374b5aa51cf24e95704db0",
      "d10d2ef07d8a4236bdece60d4cf8a812",
      "2522b068caa643dcb368aa6e3adc0d11",
      "f2a727cbee19478793f5f8e81fcc1b39",
      "0653284a198e4881a1fc7beda93fe321",
      "f0f611f1ee734dac959870a214b9db99",
      "919d4ac555f1484b928e585518d8911f",
      "9746b7164b904ac7a629762520ce45b5",
      "388084b4395d461ab382d329fe421ad9",
      "bfbeb3720b3046fdb234f0773940ff71",
      "7d329506be1c46a7ab15addb6bce971d",
      "55029690279d4f46a15dea4d8d88e81d",
      "1ab15e2dce3b428ba467331b74c00b70",
      "b4fc68e0db9940b3a4159117c78bd24d",
      "70011c25495c4b778a675c5b87715212",
      "0afbaf32d98544929640a9a73c15222f",
      "b5144a1d6a3841ac9fb9dd3de7f514f7",
      "319a9563a9c94434ad1d21031a43d8df",
      "9246d025ea1a44dc88fb6c7168e45aa3",
      "a2426b95ab9c4397a877d958d8d51e6b",
      "882a2dce66244937b421045e7e3d5b6b",
      "2a8ff5047822446ab53e068762eef7f0",
      "f4cf01325e5d4ca3ac2963906e3aad9f",
      "88f445be723748109f5a1de3b09606ff",
      "d125f4777e9f4bdd8f80e61f3f8a50ee",
      "7e1565c4bcac47cbaf5dae68b08dd9b6",
      "cd0094924fd741a7b4ef2df9898e099a",
      "6950be7f86bf4bb4acc25906ead217ae",
      "dda75a582558470793f4c3359d66391b",
      "1793661cba1e47e5a3abc9d57a8080ff",
      "0ba4c87b60b64881bea21f168b6afc5d",
      "a5e6b480ffdd408697b6517abc5836cc",
      "ffcaf7274bf94fcd8298214404877d39",
      "5a9dd6b6ad3a4b91901d577655fd2951",
      "b73f6f1ac0a24a5aa04fde300cb66705",
      "cd33f1eea485434ebdf7dd7cda10d629",
      "0298d6059b4c4dfbb48891ea6be9ddba",
      "631b686f91944113bc11a46a8da3fc98",
      "c016dc7479254b38826670e72112e8ad",
      "1e933987f15e44caa6431c90da4ac8a3",
      "1d9e3f6ab3944f38acafb3b50e90ae95",
      "6bba2c1627644d47b87bc30e46800e09",
      "493c99da3b714b23aa41217699ca40fc",
      "e9f6ecc1174d456a92596a518e81bba5",
      "0f5808ac01ed4b52a66d3143781c33a7",
      "0b2aeeb326ec42bcb3311960774cddc8",
      "84d19cf6bec6443cb9cc292bd43d4147",
      "c52984a1e1e3417c8a8b6bcfcabeeadd",
      "84cb840a997e43ec8fca67c1180b081f",
      "c6cf9a6a6b3443b0b9e09269a095cfa0",
      "9721f3f6b8644664afadd36e9f703464",
      "dd2731771c184140b73c03b190426a4a",
      "1ba0168afb7e445fb3347c902af76b73",
      "75019a303cdc4e28b87ee6ddda120814",
      "57a46df0642349f8ab540e388111dada",
      "718a0d1e72034f31bbf7043bce044ca1",
      "24483bc27b844d62853d408fd6dc5a76",
      "2dc85860a53740b3839791094678f5d9",
      "0cc0bd23c19d4da59461ba4dece2ee2d",
      "9cc36c3119664552b48738b414e8ccd8",
      "074194b640244e4d90622bbb633a91ca",
      "e6272aa1b14e4601a6381e771aea4aee",
      "b3ee28b859884b638fddd5aeaad977d9",
      "dca0b589aca648fd9aae867de1ed2890",
      "e9eb793ddbef4af58f081f3479e29b8a",
      "69f87c3f038e4a03a908de5d86d4244f",
      "8b2a03d2fa1c4ef78198c3a6fdd98979",
      "12001c842a5447ada496c2c481c8bd1d",
      "2ca5c719dbe64192973083c3dde03f01",
      "df8b68fba425499a8ec222b20fb75f04",
      "d5cc168bb317463ca9831c24c322bad3",
      "3b7a53d11ce840758e3483b65aef1b74",
      "37ab952c56704819afc91506318548ba",
      "be44ea0a23c34d7f9c585c0261177c9f",
      "d65b0f28f3e446d19739636dec219408",
      "6e13518bac414b8ca1721996d2976dab",
      "ad2b5b4ef02b4768b63e022113464ec0",
      "2cacd6e8c5b042088ede6dfb5cc8ce47",
      "efca71433acb4200b749e7bb39511703",
      "c3543efd576e4a06b4379d4d9bbbeb71",
      "ec1712c63ff2403b9bfd2cce56b42c83",
      "5cabec17a8de4e15ba9ed8a65518d492",
      "6df8d4eedc054612843b0487832891e1",
      "72b54aabef6d4d5cb181e0eb48adbe32",
      "66501c5a41d04d3399a22eaaa014234c",
      "5fbb177193a14d0c977e23902de14325",
      "06ec9380f550410785a97266dc2d70e4",
      "569265ecdc5146d493d00c2082b09c4c",
      "c4ac944636534080a5ce18a2dbfaba83",
      "0710e363b446400d8a84bf947bf406b1",
      "3e642c5e8f104f0f8b1a6ba7f5ac2b84",
      "9ea23f670d544751825f7178f7a8607e",
      "68558a4d461441368f388f63640324f4",
      "04eebc33c0154d2f8476db5373518018",
      "3eb74f888a9b403ba1890c04cd66fd67",
      "b32dc2c5f1f342e8a3828a89e266ab7b",
      "d08dfd60a0734bb9a8976fd7e3aed8d9",
      "4dc2cfb46f1e4dd1a430d7a1051638d0",
      "c5e85dbe89de4d09877241d052a338a8",
      "b9536b972fe54d26ab8792926345e871",
      "79ef3d4ddc574c179e42a2aa53443a9b",
      "901b462da2ed4b1594882100220aa6a6",
      "4951330c1c1747c6b24ca04f92695741",
      "b6d24b2e35b04e91b033293f1988623b",
      "eef6d4bd84e14f328134907b67434239",
      "3b05905d24c14a0a84a9ee0180926d80",
      "2d373292e9ab42b58d8f937d469da9b8",
      "550b0883dcf647f8a573c91e2e4066ae",
      "3595bbed0e6c49e686c9b529a8e3ef12",
      "395a35a66f6747ecb3b7c988ba051991",
      "0867731c8dae47efb332c0a3f1e7298e",
      "451088330c514ae698038da54b4136fc",
      "30c22a05e9a14bab8623ce177d9f58d2",
      "c8e0b094998b4242967d2e255ba19516",
      "87c7a35bab9b4a82be37a08520d4875c",
      "3706c039ce7e41ad958c785dd4d94362",
      "24e62c7479ad45c384a992526889fc03",
      "4e694917bf18485ab1f91f08f6cce691",
      "012bf3254d014a3893bdb8c45ffa124a",
      "e41a21befb494b4899a49ac5de155b01",
      "9bd14c735ffc4b749a4963cc34a4ce79",
      "7d9fa6c5ddc44afdacdc6e64ca71b885",
      "c75870f578634660ae1d3471d0cee73b",
      "003998a97235429197cb584ac826ce77",
      "ae12a499aaf94010a15202adeac4d4cb",
      "7230bd345c5041a0bfc333120a51f5c2",
      "053fc0765a7046cbb539d5be738ce9cb",
      "54f9cc8ae608452c8b5d262f2bbb6e06",
      "a6b77460cf094d8c9f4dc958995cd346",
      "c2519438a1f14d049feaf631194cddf5",
      "f8986095fbb44462aa86a11d6548db98",
      "c33918d760434ee6b9d6a20350f5c43d",
      "26514433bc7744aaa6debc215de4f675",
      "e4e06fb51eab439e80d924f24cb75354",
      "fb3896705fd24b9996b548da52e3fd13",
      "34abd35ea7494e09ba4f0e2735115999",
      "4a4186077f4743c684c65f19793c5fd8",
      "d244361ca4e6487da649315e683af8bd",
      "c3525804c6894560ac8899420b275325",
      "2540df3b2f7e4719a5945fdea0434550",
      "260c40c56bd54bab944fb4c708fe8e1d",
      "1b32b7469ef74b54ac79eb591cb79aad",
      "c6290965550e48638c9832221172cbba",
      "8b890f9b798f4d90a72824bcc7a667bd",
      "88320598242040ce9c9c47ac784fac34",
      "f8ce14557c0d4a0eadfaa8e2781cc99b",
      "261436394e7048d3bfa4ac42b2996164",
      "8508c3431eb3434ca6526e55adfed4c3",
      "84aafe3b976146758b937fc5d82b1691",
      "0969a8649dd14429b11a0b3bb2f2f78a",
      "40f3fb8aab744fe094212edf9b7df859",
      "e5e12b6b570d462ab3f9f7e20a34c731",
      "0f584d65e5894451ad74920ab6f8ad8b",
      "b93a52612a404004812c3b635e9af5d5",
      "0a145078b3214851b7b028f844992f8d",
      "f57680455dd14ddf84f04bcbaa9d1c34",
      "09b1b83e80fd4ddfa5b88b366d6ad52b",
      "88db1dc998284c7bb66a8c7dcc310c1b",
      "a32e7013fa254cd6a2c3bb85d418763c",
      "29e63bfaa52d4d6d922e5f0aa46fefbd",
      "327f038c3058407a919f8dc7748d60ab",
      "8e09e45347f94b048db6035720bd4819",
      "33e06d2cecc64a88bc25aaafdfe813bc",
      "fb1fa7a9f94b438cae1d6658e55616d8",
      "a1eb7b9a0bbd48a4ac43cf57abf2c45c",
      "4bcfeaf8a527484fa81272ed396c8717",
      "441c41ef286f40738dfd25570d702612",
      "77f2f0cd8e934fa5b02fb71a8edd833b",
      "0d168564bf574de1b6b1c01955495e51",
      "84a4e8f0b08143bd966d333b6e30edee",
      "b2a24fa97c974064b31ebde3a5137be5",
      "04d936598ea745c6bf6730bc788ea41b",
      "e262026305a24591aebde4f1661ebd7c",
      "eaf946c7ef08488bb363f6ff572750d5",
      "94a7ce27c979483685efcd9f5ac35e4f",
      "f5ba31cf0f124b668e5b9d011eb7bb01",
      "cc1387986ed849a6bf31443226b2851b",
      "21b533961231476dae34bd0d0990bdd8",
      "db2b7945afb945f1a74f08241b3de639",
      "0f1d46db064a4077a4637eae77a34dfc",
      "494c9b5c63264769908bba309e01deb2",
      "5b4a44968045484490df0d46fe6aca99",
      "e4c816eaab094d6b9e5abaafad08fb0f",
      "39b4862e589e46c2848ebbbc56a03711",
      "8561f1a9ebcb42868a9d5b9aabff5cfe",
      "4370000083424a29b9c781c3b44668db",
      "aac3ecfa651847409eae0929e9af75b6",
      "768bd29e02c1469e962bf140ccfddd6a",
      "5a0fdf14e5a641a0850c54ed85bf210a",
      "7fafa4743a584be1910e8a35077dd43b",
      "6f1eeaab5f074f129d56a266d762e9e9",
      "f1fd916774ec451a85098dec8d2593c1",
      "fcc9c136d895458f9d3d34552f85611f",
      "e45f373bcfea467c9926a9ac88e4c486",
      "33016c4fdbfb44c6946b2de364ae9d53",
      "043740558bc244b29b26ac23e194c01b",
      "9facf4d757e441dfae5c8d01eec12d4d",
      "0315febc1dbf453d82191a7c6aed9726",
      "48c84337640540c288fd4fb6741ad8c1",
      "3649ae6e3e194bd38c5f5da47f9f4fdb",
      "2643c28ead9c4a9983dc1fbd3ddc6cae",
      "bb2b79c86dc948d0b54cdc151c774554",
      "53b674b36f564aa2bbccff7b1d2a221a",
      "a3c8c7788f7a49ed88f2c026c3bd40ad",
      "d97eb6ace45249daba28ed117beae0e1",
      "ad238907171e46a09f6b395f42a05652",
      "4ec1e5258e074ba58cef2888860301b0",
      "0f4c3664c8f3476c8dded4adf0b5b4e5",
      "4f93e636e5bd48e69a8c9aa4ec939c7e",
      "1015a43afcf24037a96355df0105b9eb",
      "7bc6b07fda7244328d30858cb6b89865",
      "2852d3c77d7c467dbe809698bdee0068",
      "8d86f7a1a28549088ff744cb599d8daa",
      "7a086573c261472ba487573a0b287c56",
      "a6be05f2263842218a7b3be5f594c59e",
      "5fcb519e2cb044e697b4cf9554f94427",
      "23206ddb4c1046daa3a9015e60e4a5c0",
      "e1f9ebee57f347fb88f6f8c9c30ccb6a",
      "7248c54650a84d87b95f3d9d738a285f",
      "0ec9424b40374b50a076216caf9348fd",
      "ae6d24249db04c8e9fbb926ef6266991",
      "531a60046845469985d605d87397328e",
      "efad80750c494f14a53c0f60e9dda4ae",
      "de7e19fe06a44ed58c11cd11a7eb69f5",
      "9be6541944684ffa8da447679910d5e4",
      "2f2e22b939a240bd8b2bf6c20bd27866",
      "4d9463735a3f4a23be12e19fad802386",
      "6f42b10931474d43bf97b0a3164bd1f7",
      "1d7dfeeabfa6433c8ce82072f0c74004",
      "a8d2bfe61f9d490bab9c2fc732b4005e",
      "eef63d0498e5425d8d3f6eb678c726d6",
      "53387d73f6ba471c9efe314691f5a475",
      "f7667412e7664110b62078e96cf38ef3",
      "d5824e1406d245108a360435669fe4a9",
      "b0b81c70c38a423c9b1880cbcda9aefc",
      "cda470d926ce41dca6ecdea689dc3658",
      "24514c6e4a0c4691827ada8ba9dfd242",
      "f157c560fd5a4d88aa78083ae396ad6e",
      "c8a43ed8709045cd84ee55c1e21a3db3",
      "554e5c7ade114673b5caef731199295e",
      "c5e60bae73e44343a950cab27432db3e",
      "73c4855bda1d40e0aa7479295f611db7",
      "39a437951d55484aa9ddec003811eaa8",
      "0df7fd8899104527a78f5fc8baf3991e",
      "a4fb9b2a64da4da7a7eb8265c3bc7ef4",
      "86616408c23e45bc89a97a85efe8033b",
      "62e42ab646f14d78a189edc291666ea9",
      "aa0116b6787e4e59b0fbf3a75c6605f2",
      "200cfd2e93074c3f92e416b1b4b3dbb0",
      "117e6805712a47199ded9b938a4ff626",
      "d063ef04926b4fe8a088a234e0bd20cb",
      "3545256a903c4c1e93dfe90adbc8d4d3",
      "9845cad4c9ff477fb32fbb1482797ecb",
      "917eb3b47d13463dbd213bd7e2b84032",
      "b87a18fd3124488287e284f31e8e61b8",
      "e152a2bdd7e94fdbb9763c2ed82451ff",
      "706b6b7a1f2e486b988418ea1736c05b",
      "d76c567c57ad47f986735be4da80e2fd",
      "fde3aaa5e6fa443bb7e80ab7ffe25c3a",
      "dc4475ad4827467881c532ee0f108aa1",
      "a8537c1283cf42f6af52a3197aa8914b",
      "8ae2be33cf134639959a833162fa1d55",
      "ac799d253b214d8eb02af71dcec4ee9d",
      "ece8bd8ba94041288f08d23499283470",
      "25ee5e6f1a46442c9fc9fdfd6632e528",
      "fe498b6755f04ef7943d4284754bcfe0",
      "ae6c3120813540bcb2bd13e738a2b110",
      "2c948ab80db04b0c8b40c884714dbf34",
      "1701df99f4d54485b68ee112fd1641ed",
      "ff5e810bb135453cbe303a126b63f133",
      "678c07cc17b945ea850e7d50072db475",
      "d0b9f579cd274fc68502aa4214cd2844",
      "d8c5f2bac821473e99f4a4e74455dcc6",
      "54a3c265f2fc47eeacdce29f27836d66",
      "05386e6306a54e3895604c89c8d01aa4",
      "962ebc23c3c6453c868c0cf24c0cd4f1",
      "04688790cd79460c8abf7229aabf001e",
      "18c728415e8b408bb4de6bbf5fd29017",
      "163cb8070741437da8315f150dca69b8",
      "f3052af8cbe5460ba426bfed32620bb0",
      "ba3a56c987c640939469415787ab67fc",
      "49429eafd77443e198682a0191f48b5e",
      "dc460877ee094f1ca0723f73b257829e",
      "d461eed90165411aa02468b576ce6fd4",
      "38916f5c4b104f5ca1c09ceeadccbbf5",
      "885403cfc3164cb2b1de83f90f30e6f6",
      "6eddd99f1cb44183bf9dba3d368e97e9",
      "09078f45ffed4c25aa5da878bb0e8e3e",
      "acc2440a51694b279c70a01794d3396d",
      "749a1cda227b435f8148600ac7378f3f",
      "9bf002c4a4b74a688117c1e4adf1950c",
      "4b7fd07236a9453e8563006c12c586f7",
      "fb705e6623ce4d3cb847dc434f15190c",
      "fed4273d192e42dcaccaee221b968b24",
      "e3cca89beb974d2dbf9f7263084bd7bc",
      "6822ba6df3e24d99bd4b79511778f322",
      "62ab1fcaef774d98a3aac4ee9657816a",
      "3e8c406de5e748098c78bd13a77ac3ab",
      "71f1a593b8ef463a97536f704e97172d",
      "62c2758d472647d99058173db7f93284",
      "dc92c4fffad04da6a7d5cc4377dc3767",
      "2c8b2a2887be4e43bc0bd733c8e2533f",
      "12cc357a3cd04d8c86d0dc9bf5a17824",
      "9fe542b4192a4a28b265197e20a043a9",
      "dcc9835c13834369a281db6dc273ef65",
      "9645c867866e446fa06abfa771237998",
      "c856660688274262ad23a363e5e1e20e",
      "1c9cceff0baf417daaefceee96b5fc98",
      "83dd3b3b24224452b3335f89b0ed0b8d",
      "f3a6f0c78a194cd0a334cb98997471dc",
      "c4bd605251e84c55bac4da19bbaab535",
      "3465299ac40742e487a57d8080b0bf04",
      "60809f1bf51845c69a94d130b7d4186e",
      "0359fabe98c64b22b976da0a3f39ce33",
      "192e6448c1ef44a8b6ac84eaba7dfb83",
      "3717af2423f74e8bbf913b4a0f6d8c10",
      "ea1ca4e9417e46c889ed2163a229d215",
      "62cec39245924b49a8932eea45b65111",
      "9e8b1302480640b5a0e9d6f85053da97",
      "dae5b511b2234f1bab95c1893787f806",
      "a3dfae7a66a34ea694b263e76aa8c241",
      "9ab0f62c6be8455db4e3dc0101e7eb88",
      "4a8f4ba286e8496eace78fb389101e39",
      "2a351cbc42cd407abe295f339ed493f0",
      "37700558b94d439ab38d4d65effe0188",
      "2ae2e197cbc8427d9037f9ce8ed3ebb2",
      "25fcf970d3b543ed9d989779fd673d23",
      "8604f8def838406f93d7dd560fdc44b0",
      "da77b6f4c2234a8a9885d6409b50e4fc",
      "ca581a121cbf4e018c63ab95bd949ef3",
      "cd8cd769fde141bf869ae830ad24f8d6",
      "5424556f4f074bb09c343e718cf935b5",
      "a322925611ab465eb72c4e3c48237e7e",
      "e166a6702a4c49f4b14b5f61a998c353",
      "73484c10e50c48c9b7d018ae75030f5e",
      "0e69e729d2784fc2b4ad1fa13d71054f",
      "51650825cd3f4d028c48d8d6e18cb897",
      "01d58f48f5e94205aa4111600d143b54",
      "24ed644011184ba8b73dcc4c838deb03",
      "4569ed438f4a4769823d8de2c5d986fc",
      "1adf062621964639b974d628639564b4",
      "24ef6d6bddc440c89ae62c4cebf6f5b5",
      "5142daffe79740b696e6ef9af3385602",
      "fe26504987e74fd4bca5533d7fb6ee66",
      "3c12c5219d044ec6966ef9f1774981ea",
      "d79d5f5592e441fbb5255512d89b31cc",
      "bf66f4ef248e43df89112f8a746a602e",
      "632d3876478246fe9d2b77cd1e5a4434",
      "c2e23fc124bb42a482a46a42bc4c7ae4",
      "a5c7792d295044219f934517c8bd2bfa",
      "04813629d4e94fbe969505511f640218",
      "446367f7985b4dc58a18683efce44115",
      "8c1ff687eddd4c54a46d7c657f430363",
      "c1e5b556efe8452a9a81d658062e14b0",
      "56785c472926458ca40fa1cc769ef271",
      "feae8adfd86f42bf9de8acb4b4ec288d",
      "464b2e48619843d4ade81a74be5b80f4",
      "a63a3dcfc22d4350a0da1ce4d557fcc6",
      "577239d7653a472b8f3ccca761c12d4c",
      "868a360d304f4d99afa500563c440b18",
      "b683207b863c4c4b85e4e68df24d7108",
      "9c22a2d8434440bd99d591ddc3d47f09",
      "13ab6e9cbb0748aa8d7f6cee59fcc7a0",
      "b8c3c660d67846a480c9540aa6e9d288",
      "0ac828b1d0c44d51ab62dbf6c47274d5",
      "a066685b48b940fbb185fae851f1d99d",
      "f000e5c4680a467f91f2bc30aa1b71b1",
      "4a2d18ebca1c49b697d342ecab039cf3",
      "9d90e85ed4724c5da6ded88984f09809",
      "40d10b414ebf4c4aa140de10b261d51d",
      "4f6356d0c2af45ba8bceb827dad985ae",
      "a7742bb413684623a0d0fb648f1e02e7",
      "6e474b14aede4080b69a97fe17e36cfe",
      "35312062d1a5472f920d5b7aad72f3c1",
      "059bc283bf4f4fe6a683c043f7998ab2",
      "5234b10a5a7a44b790cd9323e6f86817",
      "2d79e0a13c084e86a59daeeea86ee6ee",
      "3650c4eb727849e484c126d17e4088e7",
      "dbe005e817614f7fbdb1eb5cee220631",
      "b63cf95eca8448e3918f3337e4ee2bb3",
      "fb9e8202f3c649db8a5b9641e4d454e8",
      "a6adba88bc834fccbf1553e74ec0f5da",
      "34a4c0dce5434170b2b6f4a0bc050795",
      "d09e62d18e46447e8bff2477a51f7618",
      "a51b5f83da524708a4d863f03b00fcd4",
      "282eaada7ffd4e3bb5b04d1b13c5cf6e",
      "4770945799114442b1941a824e41a70c",
      "c07d91d9311a441991ca9981674b5ecf",
      "a39c904ece5342959c68144b049645d8",
      "94d24987ab6041ebabbd344fded31117",
      "ba711ffe3e9d42e4a7cddb8ea9e849e6",
      "2c3378250e64482e8dbcca1d9fdc901a",
      "2204fc5662fe4263acfec86de9c7dbf4",
      "702d46846bff4260b9b4aec533b91e9d",
      "024e06dc48ac40a49eb4b6b4ed154e6f",
      "41334f7812034756bdde2a9f2c687b9d",
      "bb01bf41fb434e0bb9fb7a8ca2335cce",
      "9044f17d2846423c8e68794607d126cc",
      "055a102c23ba45179e5c52d01ef7ab0e",
      "a7cb46da597a4228bdb71b5fbebdf460",
      "4a92cc361c1d4094954e222e85257096",
      "bb3ed3c61bf04f4dbbf86a7d383b22a9",
      "20a3da8ea14744af9a31c8d479b8da04",
      "cee35abd5d5041c8b28b59aed9ff4749",
      "b5465ea56dfb4ff0888990dcd1017c3e",
      "02648f1786bf41fd87baac24699fe952",
      "3694b3edc9df4af4825aa5237c250568",
      "38024958bb25436993dbbae9c4468017",
      "e4f9723df519493e825fbea980af8a31",
      "50edea17a4e241c883c48b3dba6223ef",
      "dd032b498fa54b629bda276d02b324a3",
      "a6b1b100268d418d83d3065f17c25087",
      "edaef06180a1485faf081f5e388488ce",
      "eb9d3d7ba6844948b08309a070298dfd",
      "2fba3eb9b5be4ad896c9b7ecd5a75f80",
      "781f3c9fd3d24c5284457bf80f9ebfb6",
      "c293822194e34c5bb9b8a7b726943c90",
      "1621eb1768bd4a84b5185f31c4f54076",
      "704295cadcd943cb8c855b389ad7f3c6",
      "918d763de003491483091b10fced708c",
      "4f950bb0ffaf4b0483e550d7eba42551",
      "25016c6c433a44ba91004202732a638f",
      "d38853cb56544066ad23848326c6672a",
      "5f9e2d948df0420f920dd0231ab26e0e",
      "c9b09f0f984d4f5fa5aa5539150222df",
      "fa0bef14b81448c7906c990436c4c99d",
      "70040e3e2b6d48faa8d884fbf738f983",
      "156035416b0f499eabbd9406dda5243e",
      "043f4111b6f24cce892a44baa745dddb",
      "88a074f0b0494e98a84c7a820d270752",
      "ae803c711a2f41feb3a2e3f4c51edb64",
      "403dbebf014d4769a3519991b6fa1b62",
      "31c119dd14814042a45b5287d4266fb7",
      "3766fcf0f3a3491c92f174dd9db2b752",
      "9a10522e46d441389a0604a9e5faf360",
      "f88d4e4dbd4e4c4d836f101f461d519c",
      "1a82a3a6b38047ea93260ef439b6c658",
      "f90ab47951c647fa8aa7e2c0175f76da",
      "d9f43fec3330477a85d08fead23b1917",
      "71770f5bdcb046bfa3875c1b20c1f896",
      "3211379527614ffeb8245dde5a44318e",
      "3b6628db84c0460fa38ad6349fb7f434",
      "8b0b515f9b924a678c83c1194918f382",
      "600cd9c6de1842ee944b59a57c31fc77",
      "c4cda21795a14e7b85a8fd6e8f86c788",
      "e04220389e1340619b6fb2baaf630511",
      "8f56fe4705f0434997a14a30cb6cc122",
      "38e6b47917814ce08b5a0ca7288bd767",
      "40c4922bdf374cd08270721a188e4bc4",
      "aec0925ce69c479589283589f6ca719e",
      "4a36d272ed10412aafc9667f78d95580",
      "c508b174d12648e0a98561c585fa24bf",
      "2af4fb8b258a42f9bba5a8502aa84fcf",
      "c71fc3a6b5474703b44c747673df10a2",
      "413c2cc6cc904fd9b66fc8680073743d",
      "17a7386d0ae44b218c8096603d451226",
      "56df8284088a4e19a5f8d2192002a6f8",
      "cc46886b4e944702ac90577a1065f836",
      "f9abc6aad10149d090256332b33acf2f",
      "795665cdf2c44ae69a62da79dd4cdc8d",
      "57cbed532bc14321a8be9a0b0fbde117",
      "a5ccfd9374d148c9b1e2b078b9948cff",
      "f5da42cb4156456ea9a9afd4979b40f1",
      "b6b2100211054325b551450447353f9f",
      "7f32ce7ff3ff4051af6ded1213a0252b",
      "d28005635cbd4908b1f2abe0c330fa9b",
      "8aaf96095ee84c0eb9b11d93110def64",
      "304beb9c49de4f9c8262cc98242b0c2a",
      "4fb75d118ca44c0db7de39279789b29c",
      "2deb29c5b2454e3e89ce21384b97f375",
      "609e1c3a21ea4483813953166d842731",
      "aaa93df0f36e447da54686dc8d9e1026",
      "1463d52a0fa440d594824d75111412dc",
      "47409cd4471444a793fa03de819acaee",
      "f02709b7c47d4c63967ea28db21ad973",
      "f97c5edbadd442fc8de6d63bb9e63ff5",
      "4eca0ad918534356b8059cdcce30a908",
      "4c0bfa3c8677485c94c4c98576c8356a",
      "de4cda97baaf40a9a80a1dbbf5618799",
      "45a119f049b94aca810355242ab73e37",
      "1dbebd47940147e9b62440044634389a",
      "7f8bae76089e44e1942bfccaa7a608c7",
      "0e92146436054d678a10808c2369324a",
      "97ce41a8e26e49d3b545769b00e370ce",
      "ee24132732714526999ca08d14983611",
      "598636958ef642fab23fc7dee3dce18b",
      "db870e89b1454ecf8cc4d6841df36402",
      "479d79a67a11430b98f276171c558f54",
      "7ba012b4a51d4a25b6a398dcf0069be2",
      "6028a0392e73468793900b09a769b49c",
      "e4738d23276946779fb8d5d67ad05e98",
      "423a5bd92cde44dd8263b52e35e2def8",
      "1ca8b510210640018069c94f7c2dc2a7",
      "2a7685483421491c8f9a9dec4c9602f9",
      "94cbe56feb1d4a06ad740a2d26e8d42e",
      "7c4eb349284c439eb5cd38d513824128",
      "c0b7913caf2945789bb7633b05230927",
      "21c3c76ee3c142c8bc3d3c6c2774477b",
      "de4cd0e22c7041188b1e6cc81c544c71",
      "31dc8e9c9a1243c3a2efdf46a0dea318",
      "4f8e7ab2933a4c969dd284dff3da047d",
      "225b54dde6794774b8c427f4236e820c",
      "8db9890f24d44e09a7f2a8287b6599b7",
      "69e15c79ac09449a9414508c23357b6f",
      "8ccace73971d4756b8d3a02f150aadf2",
      "4dc51810554e405d8ad5a804b5f160f7",
      "00c6c162920d49ae97ed4ec3d38bdadf",
      "dbf8d2183f1c4f8cbb6676682237344d",
      "d84f6308d28b4f4bbfdc038b17b953db",
      "5a05d202b50742318dbd8cc0373f4f38",
      "6d031fe3b35649738cf468dd125ea118",
      "fd11c0a5f4e640ed95f835b1a3140662",
      "572aef80e6db46eaa1f68d1dc6426031",
      "dfdafdebdf7c4119b45d2cd5af609c68",
      "bbd1a6e8cb024139a8a301447c26ed25",
      "61d085c987ce490d87e797cf97f8431c",
      "7af0f7f395f14fd6a85c2dced47ad9c1",
      "bc8dfdddd20f4cd284baa279c778c8da",
      "8bca4c9e02a640d48649c61683fb0448",
      "3918626a0d034f0d8ea9485075b5e78b",
      "2f1d163f0c3546cabdd2bbcbc6fbbbdf",
      "7651a60d71624358bcfd742daa479f95",
      "cb65ff65fa5e4a0491d07d165b2ea4c4",
      "af598d9768854f1da63eedf34ecef457",
      "281ee277e2cc4967bfbd96828003b33e",
      "12648350285047e4a7840f208d8c06bd",
      "abcfe8729aac40ff87ef9fd09d4144ae",
      "c65e304adf5944239d8e018054eecda5",
      "c72c942ef9d24b5a83f743ab279d52c8",
      "afa8d844de844b969aa9f2896c4555ad",
      "c0032d8fc5a24407b792fdfdf978b143",
      "5e0bd527256943dc8a27380ff1dabf10",
      "19b55f12b012471c8b516c7002ff9f82",
      "0b1b816813fd463a9543fca2b1948f61",
      "28dd4d8bfaf746bb8e34681344b529e4",
      "353cee7c4d3a475dab1f56f3e123f413",
      "161045c3a82b467e96e26da6dd01ffef",
      "10cf5a452e8e486dba147073bf43c2df",
      "40f850c0b922449780d70176eac46ec1",
      "f4c8aac18c374415a156a1d1b1bc1984",
      "65d73564ff3042d48085525d8d28556b",
      "b29d08e04b2e4032acb54be1ad69615e",
      "01136959934341e7b03178b47102ecc8",
      "09e3a75720064e3bb3118dd7b1308be7",
      "169dcc356c004a8bb4fb6afb50edf79d",
      "6cf75dedb3a24b1aac44b4f4d1d65568",
      "fd4aa1024b0347dcb8fcf2ae4b858f31",
      "9432c2c8a67c484d9780234323983e2c",
      "9a7783ee0b544e31955fa1558c1ff30e",
      "b27d31b5e1e045f495a5b5d12c3beff0",
      "8f771fe7807b424c99d36d560c491b20",
      "7442e046803d44d4b3ae013265f3d1e6",
      "b8d9867ad1ac49689891fc65e613e2ca",
      "f992c0b3cb76478897d1f4bd14109c8e",
      "51d45947403b42fd90a68c83d5c93b2f",
      "973c883ec7d044e09ed1b4d3b9bd5bb1",
      "60a4983739be472b96600b892b70531a",
      "7cd3c7cd0ba94266a3e5bb73ee0b51a1",
      "5408abcde315420e91073e1cd5e3a7e3",
      "5f8c137d40a749eabc971eade94e5509",
      "2538e814defb4dc5af5913fc7556d1aa",
      "5d23a8428b354ec185ae6dfefd27b42a",
      "7d8b89fdf3674b0fb67b61d5d988724e",
      "adcf70eb023f40479e6930903c24ab26",
      "dad781c1cd404b8499773343f729f789",
      "113eb336bba540ce8e6c4e7b7e39789f",
      "8e857e5e38f14cce852244fba767c100",
      "9fd69289e4f64548b59d7bac97ac8a86",
      "5646eefd3c6442bfb5fcc0e49b7263ce",
      "bd1aa448eb5d423fa956d51272c83fa0",
      "b7861ecb7ecb43b78e4e7559424c6b00",
      "a7f282a1189c47d58481d08a29d5b2fb",
      "c23f77132f6f4c88a7607a328803b368",
      "c965ff602b9946e7a43f13f45ecca00b",
      "36cf148ba5a24ad88dd460cba02326a8",
      "7fca705ee270464594aca1817c2d73d6",
      "9627c93e1be8418b82b9625e1ed32e46",
      "adb1e0890aeb466d88cc780576cf1418",
      "11e0bcc126ec4f46bdb2150c263db604",
      "2952739990c44062bf59a0233cecc031",
      "3d3313b7bd1b4ed399ebf8c5177547cf",
      "8e9578db736d40959d1c52585832e0f0",
      "f974c59e0c29456688a6fc4a594c3bdf",
      "64f02608dd264c1d9b6d395b1fcd4418",
      "e1879ca216274190b0e79ff1e924bd99",
      "c6c2270ca9804c898f8a9eca1653307a",
      "faa01f64dab240c69ea84356d1443d68",
      "c77452ec166b45098024143bf7900e92",
      "7036c11f16174013ab9c9e489eef699b",
      "00cc1dc0a02249ed934e3561a7efeacd",
      "93e6064567ee4710a4c3f7497f9d29e4",
      "9249661c6a5748cb8978871437896baf",
      "b23752ae2b1d4dc8bcccef57c5c34fa6",
      "327aee29bf3f438db3c6eedfd766075f",
      "d7ef911ebbe84c088fa1b40b72768f4e",
      "b3ed16a573d34a3d895a2b41bddd88e7",
      "a8e27629d36e41499700f747032f029b",
      "355f6a7c048442958d5f94f306137e0c",
      "b5a8fbadf5a94200be31cb8e93f77431",
      "f521e4c30ad6418f8ca836b72c3a5b9a",
      "3c21d77db8ca48508ae28b481fbd369a",
      "b313b0b4ce7f4b758a719404e43ad5ab",
      "9b8ffeb38bed4603b9ae1116df01f414",
      "b1726cf2e84346bfa28e207bdfeea35f",
      "278fa6ae861c4ff6afdfe9603f017ba6",
      "a3e42acddaa24f988ff9abf65b92aa88",
      "f68ac46b2a004750bd6fd6b4eb5cf529",
      "84c011e2acd1416898e557421f6dea71",
      "fa8a64f4fa924f7b97d2d36ee8758b52",
      "4fd9f5a419af49eab378172281368baa",
      "76dd4e4c75864dbcba89bfda3376ba3b",
      "15162dd1cc3240358d85101828dc9c22",
      "5b2a3b9029ac4966be910e592decf3ee",
      "056d588bf74e4f72aa93a10f176e172b",
      "9b071f6b789b4c8c9c129f9daa366543",
      "5aaee1cf26474c8c8efa406386e577d8",
      "dc768bc03490485c83cb2b179200f125",
      "9778d39faa4b4954ba20baa6fd5cb537",
      "2aea6e38264c4763a3582be91cbd70f5",
      "35bb884d38f44424b07a45e9da8eec8d",
      "b746efdf80a948ef9c9689d992d0c36e",
      "81167bb2dfc9401e808766ba676431bc",
      "9564e1d509bb4eaeb315190422e25b17",
      "c84e9913ce144b38b387b1461d3ea46f",
      "a3d08e9222cf44ad9799b3e766dba92f",
      "e92b330543d34ee5baedb88bee6f526e",
      "047af202d76640b8a01819555d439bda",
      "f64b124f4d194a68bc48d3ffff7e3063",
      "164a49c40849408d98f72e2322a37165",
      "819b4fccd4da412ab7bd51744775ed3e",
      "f14147404abe47e39d396401610e8ca8",
      "b09dc48cc9fb433fb16222aeb499d0f8",
      "17be7799e4e940299e80dfe6b59cd968",
      "ab6e403605a2493286442b6444abda28",
      "616dbbd1217c43308f4008bd00f82f6c",
      "b95cb223c5b040c39e5a31af6ee4c875",
      "2ed4367a685c4d01b89b710de6fdda01",
      "a60f45070ed84cc5bb23359a64241983",
      "2d5038c6c3a34e0c86bfaa9b8864d541",
      "777d8bf38e1c4a248df177fbf8ed0cdb",
      "281378f8278d4e8da3e3e4a5f39f1a72",
      "c0eedbbf487e423c8913e2a10e39ebaf",
      "c33df4f96a1442909342080c69eaf03f",
      "437c68197a89415d9180d9805d58d14e",
      "73426488d8144f308764116cfb1fa52a",
      "f7372b73320c4005bfb4ca597a1bce49",
      "09d6562143d8434c974bbec06c1e7d47",
      "4616638dff3b4630b305e23a62cbff3f",
      "f8417209fd0d44f599b53039fab3eeb1",
      "c822d221efd3496dbfe6b290cc825f46",
      "b47203738b4242a78cc399f0550443bd",
      "71a6f34989d24fd1a78a69ff5f965382",
      "c78b26beba9a4069b72f7a2eba01027e",
      "8d40c8842836432fbec31a693dcfb722",
      "e86ae64a1c7f4069b6cd611d5e5e6403",
      "4aa4c3187d6a47b4bcb9216e5a56d596",
      "7a3caea4bd04493384186ee733353e33",
      "bde23b689ae646b6b3050c73eef440f1",
      "929dd249bb494e93ad40c082d98142dc",
      "c0bc11b210f2463ea0eb488e83e5bcf5",
      "6d69f7bc8ae64165ba522bc28564161f",
      "74f491ee8398441e940136142b4c068c",
      "1c95395fcec4401b88386b43fa7b280f",
      "4508717217254a5ab21c41f53b1e1fba",
      "bc4c2499b6434e99b5654a3274f51ffd",
      "d13156925ee040d094069fcdb8026a97",
      "657f71807e9d44f8b636102f71265911",
      "420bfe7880b44c4482b9fba300fe8c54",
      "e80ea396a4cd4bb88ce3e59afcf4dbec",
      "89ce29c516be41a6bfdb05fe9d8b5df5",
      "b6b0765da1c64d08b42ae708c9f07112",
      "14bcd4b388c7489282cb44f7e0b96eb4",
      "e73ac507d7ba460ab46dbf4b61986ef2",
      "ad99155418664c8d88d84be524b8325d",
      "dbfe07d98a4f4f91b96776bbe0b4657d",
      "5ebc091dcb6f48d1b102875481404219",
      "7d3edf10d00c4483a8e0948b45381073",
      "9531c2108102488280aed655bb88c626",
      "26ef278d93e24e55beec022f095bab06",
      "a07bbad10ebc4d43b83fe3779d6dae40",
      "2b76b53fbd6946758b5833c2c6fd022d",
      "3295f5c74283497f8714a9ac2be8b44f",
      "8f9beb4d18f64298a075b14e469b3f8e",
      "ae76c025061d4929a36eff99379ea834",
      "8be54d4db60b482db81b5463b9b94db2",
      "67893e5b6bd64d9faa06712a7e5c8981",
      "b2694de793e84b72a0ec60881242d081",
      "58a39525612d4b4883579fc6765ff526",
      "0d436d32da6e47b8849ffd2ceb812bae",
      "ce9f4f21716748348f673e8f2f007e7b",
      "03c58039404844c997c87c963918f99b",
      "fab4268f18cf4788aa7fa1829540401e",
      "56351546c24740c7872befac11e2cdcc",
      "18a6f6da9067486b87557d33b2aa05ca",
      "4877c0ed2eef49fc9c957c3fd5ff7cc1",
      "53319814e4af4c15aa777e8befa90106",
      "34c08a1ebb8f42dbb75a72f166a3ea96",
      "657c617f72fe4da1b67db193bce15bf0",
      "b33b7797c69746fc898a2de701af2610",
      "9df0ff8cb0534696b2ff14e3ecd24693",
      "d4d738c194f74a3fb36fb71f9777f194",
      "cfed54379de74d43879ff3e66c1bb90a",
      "0db1b1d6689446b5ab5877cac7b1822e",
      "4b01bb07df9747568a91e878b35dafe3",
      "499d4ef41de04b8f915fa0f6f474cd77",
      "1443e0ce4ef94fd2bf747e6f04f40567",
      "d1c92e95eb6f427fb72264b05976c08e",
      "1d5d5b7be76d4b908499b5a5d1ac8eec",
      "6ecc5ef913724eddaf6913e67fb599c1",
      "e929febd1c7c44c4ac7838f083aa6d55",
      "89d2b9f5459545f2b6e2ff74f6a608f3",
      "cdbb7fde09804cddb79b657a8faae294",
      "0c5c0fc0d54d411589572bde84f6c257",
      "d3296463001f4441ba8b3768446efd53",
      "f0477f2822e845d7b6b59dde1c59c545",
      "747c3c40b77846068cee67c39aa75f7d",
      "258c8a72164644b4891cd96048a5929c",
      "1ab7aab1dc844dcfa971f470b528293f",
      "259aefcb5b154decaae302ead430f2a0",
      "be12c126ed60436585685889f6fb239a",
      "92500f0d96cf4677a2528c9096a34be5",
      "68d8b204a9be434a8bd58594468343b5",
      "43a5bd9bd3c44faf8f80967c253b6bfd",
      "99681f0baa144098b7b175c89165d134",
      "c9e5d6d750294060924436b7bf98ecd6",
      "ab53e655518d4620be767b40e37efbaf",
      "559c737fc8754654a2edb8628ffa3d2e",
      "c6e32d9a955c42149b68c2a3c5c1e3b8",
      "62954742560143c39708f40dbc83d47c",
      "773cd07470494e379790abfec917bcb3",
      "ddb4e42f37f24c999c5d460d7922c5e4",
      "dc0d81872dae46c9bdb4ef83147a2df9",
      "0b90c2f480bf4a99a489d0f6cbb09b37",
      "81b49ccf7ddf496c9694de08484096aa",
      "4483f629ba144af5804299b41fee2f7e",
      "fa4d49f61ccf4ac39cb2e42cec902fc1",
      "7f91f5c96a0e4231af7e520005ef079a",
      "7a1418ac4db2448c95c0561cb5a7f779",
      "ad3d92df7d474cfa95ff47bc19b192f0",
      "4b15fd92d5654ce1b00513cf447801de",
      "399e7ba17446485f800c997fa492d8e4",
      "e15f5aad58724e988263c916706a6d41",
      "25efac220c62491d9f823c267b4aa075",
      "9d018ff419b44ffdab4b9b00d298a69f",
      "6145d412671d4cc2b90163fb0869a262",
      "49eda49c6d8a40d9805beae17af2c514",
      "1e0ab2de30274de0a07b7ac3e9127a8a",
      "13b7c1c76194440b8aef6c2dbe31b8df",
      "0e34f6440b65467ca86eaf39a0422a00",
      "79f371c4b541413dbb8c5d9c00283057",
      "f58c000feec84d529434c3201ef4ff53",
      "683c9bdb97d04e6c9a5678e64030a5e1",
      "b2056fbeafce4fb98ee9bbda2b446f96",
      "9913c319c7514e13bce89b14a5432bf5",
      "036473ca80ee47b299db39f3488c4ac7",
      "22cb8ba49b5446e6b5c7497207499d72",
      "a23f99be4ce14b6592d0c99c962217f4",
      "9aa58b39bbb744ad83aa9617d9c471c2",
      "af571e9a55174c7f84888b68aee7e5a7",
      "726e2a711e354b038f3b5f52496332a9",
      "c42a7af870b64c3a913a8e7fef204a29",
      "f0c783495d7a435cb7bab20dac73c9a8",
      "a77b309645df4c668067d8c6b0ec3f8b",
      "586d6f48d94c44dfa4bbf8f4b40ff00f",
      "a4907d94a2e94ee9ad35961d0cb4b075",
      "e74ec11bf1eb4493bc10940dc520330c",
      "20e1e0dbf92b437f8eb4e99252b5cdaf",
      "e21f65b8aa99469b8ddd3f2d9af8c20e",
      "b298bbcf0f5a4697b08e22f1fce48ec2",
      "a1d721410cdf40d7b1455d83907b94dd",
      "609e6763cbdb4d03b5f32e895dc6b1e9",
      "77c90c6fd8fb49e7a709c8c135517f77",
      "15765a24a67b49b9bd7413d59277f8a7",
      "cd067ecdce3d4e0b841f0dc14f8601d0",
      "0f5885719c994c8ca3b454d0a2f51ea0",
      "a34d3567da1945e698c200ced7680f83",
      "827cf732aa724305b3ca727601890f82",
      "39a6d5d173044e418192a555767f009e",
      "e500ea00d5d0465689a173b635ca28b6",
      "deb4606d5c9144ba817250541022bb11",
      "e2f9f0fe5d704519b9e2f9af442cc68d",
      "80cc168ed0f9462c880d311f057b7aa6",
      "0db73f375d8341b8a037fca027b33616",
      "a1ee74468e6d41f784300d5e01dcad80",
      "365ebbd104ff4837b79016bab14c48e2",
      "88eecba3071747f6abdd10c7806008c1",
      "5d928de9ce2742b7a81e325541041aa5",
      "a63a0b8e2ecd482cade5a9a85a001707",
      "a2c67f9986734190b77055c664814a44",
      "281236d8c501415e80ee72499af65b76",
      "439e83350d094ece88f7bec4f76c1fd4",
      "52bbb5fe45ac4fd4aec0cbc1e2f8af4b",
      "f66bd0ade63b4f77bb56f16453e5f768",
      "4e114819d1b9482398ac658b5b6345b6",
      "2e50de785c064ce8bb8060f0e8990f09",
      "02aa3a81a77849b88a2df90b3d4cc15e",
      "2c991d79556b408188ae1a4111f2ab4e",
      "03ce09838a4f417bbb399588a46d8e28",
      "a2213d74cd244bda858f314bc7b73d35",
      "47f42929bae948dab13a7bb20ade97be",
      "bbec0f3f0c984c7ba24b4a2b128c657a",
      "9972c86ef7b347dfac03db1de3c7575f",
      "a658b5fcf5b4431bbdbd96e00d859b29",
      "08058227ea9f42c8b9779a42babed0be",
      "211a967eacc042e181c76c0a3f6819f1",
      "e07178b4d15c4918a2d40e3c232f010a",
      "4acfdd0a08a14b0898a1f4017ba777e4",
      "63739a4f828e471387fe4aff674b50b2",
      "a3fc0a5ee3a946a78d492ecaff6db651",
      "c0439777b1e5414d936082b4d9f9ce56",
      "e8cabed0476f49fea34e28c47b83ec07",
      "ffa77003260944cd8029ba04f1f8636c",
      "8634567aef3a4d26b638d37f1ae8cc85",
      "ddbddd07d6a14874a22847bc5413004f",
      "167e8b5ef7994f9294e60fbb908f75d6",
      "45bcbcb4d48048459764b4525afdbb4f",
      "95d79b37a4514eb880668b57d15bc957",
      "5d585be09abd45758cd6eeeb3d4bd330",
      "f6a1d721580f4ce09329e6e69307ba40",
      "698e9a3cadf6422cad063637c8cbfb1d",
      "f57904c0ba114a208d0f91f63d0494ce",
      "011f11e13e874c55a51509bb77a6ba17",
      "81b3ea61077f442883dfb1db6e949e24",
      "953d2c8637d3477692cd36a3f541b226",
      "9fd8c13bff5046b59dc3d56611019ef3",
      "ee398a83c4fd4ab9af17c37aed515b9b",
      "a1d308e1ff3940eb8ebadbd9582cf658",
      "64c468216bbd4e4189354bbfa702a4b4",
      "dba32a50e42e4e4ea127e2f05307a5de",
      "7b8efd39fac049fc915536077f403fa6",
      "a6213756bcff4626b3b7461a8343ce94",
      "9d517dbc35794f0c8b233427d1d34d60",
      "5cf098c9364e41febe79cee140823b48",
      "9cd69d899ec1449dba8da7952c6a4aeb",
      "aeebc31f3c9b48f893e7082a46f9516d",
      "8546ee134d9e48788cdc736d1704d755",
      "4055a9c50d4541fb9a41f395bf5c6bd4",
      "ff556db3c7fb43a4b6287af0d2f00d01",
      "92d37b38f19c4fe791e76dc846bf8b34",
      "b06f4a23eb484f83ab5fef6c1385f6eb",
      "ea54d56506c64c51ae854148abb19880",
      "05b46cd712e943ab969524a35907d73d",
      "001b3cd30f04455299075b4a304f77d1",
      "39bd6154dd9543fe9ea4b591c886328a",
      "d960ed36b4434bcfa5637a455f3d4ba2",
      "5961af9955054b409a06f7b89ff63ca8",
      "27c7c9d3aa1c40ea83a34cba7bb313b3",
      "e658ac4ca84d4e24af2bba12d1189119",
      "be379f38771342b9b9ba8d64d7707b5d",
      "01a9892d3c84494caeedfb83de680eb7",
      "c59f51c9df8b440792f4293a0cd50ed7",
      "22fc9d47441f4970bb0219a8cda6cd7f",
      "9ab741dc2d544d61b6fdd6d102424b5b",
      "62a0fd00ea214567a9964722ff0dac2f",
      "6427e80c704d479ba56941b5abfacfb7",
      "dd973215699643258fa4a36cb4ee3cb5",
      "74c1a8f8b1dc440b954b4479e4ec3f22",
      "dfd5bb67f2a341e6962a51a214c96195",
      "69ddf97564c847959b8942669a6b0248",
      "a0c6f3a0e8514f97bdbea1d74c59fe13",
      "36a7ebf149cb40b0926e14887e3bc840",
      "e035948adac9414a8ee0c3862bd1b5b8",
      "566770a6dc004ac1ad7a17d9e326d92a",
      "45309b8c5b2345aebd7f2df911e144c1",
      "7e99b1e16542453fba4e9023b8fb2407",
      "8c90a107063240a5a04141bde4b71240",
      "d84ecc1d024c4a26adc2cf0142147f9c",
      "509f5dee6024464ebbc36560118d739f",
      "a15b804a9225464593210e858dd5977e",
      "ba2276123b914e50a2e2f37a03fc3590",
      "8d966b236b3644618734945c2b1c11c0",
      "a4e4083c1a7b4af7a94b0cae21012bf7",
      "bf6d5f8931504018824469f030a13c48",
      "d69412c7a65c4633a1bf4e2bc78eb6cc",
      "8256f48a08e14f9f818d59c0c4060a78",
      "81e77f7af2194691a8365334777299ae",
      "514b8b8ddeac453db47d16bab412ee8f",
      "bcb6a27c6ddf46dcb4dfe4793ba15761",
      "8d5cddb522f64b4fae3d9fe9f8038f24",
      "68eb411c2ff84be2bd02e0ebc8c57c1e",
      "f9ac9d28b2714091890b5659b5b2b52b",
      "1410ec8894ab48719bfdf6d03ff0018d",
      "84c06d931cfe45f8a3ee92f722ef514e",
      "d7d0aff9c13f4c76a71e0290595790b9",
      "8ef2d8e784f24611888ee2ed18f9c7c2",
      "8dcf2b8108ca453eac0826cc1180b1b6",
      "4b7d302dad584b0aa011f726766140d6",
      "8cfcbdb0d0f849c89c63588fcb426d46",
      "b2963455f7964f8591bf537f362509e2",
      "9e11e6b864cc4224b253dcec4f3ab044",
      "c4335e31ae2447188b267c1c21fb9f71",
      "9e13f2d0272649e5ac42166928587e2b",
      "009a8ec41f5946a1915cb6c104a1c096",
      "9f8f7c25d9244ac4bbb1f4e0d8f98ae0",
      "a2386bbc82fd46c2a5eee75bfd54767f",
      "dfa7e0bd41574e44b8228bd70a7b8675",
      "2c0315cac69c4d83aa577d5153d1ac57",
      "d79305d0d01f4ceb8cee72d7c69ff656",
      "8763a668440c4fbdb872872ad9b765df",
      "e8f7449a73fb4d8a9afc58758b00e34f",
      "2150a2ed2c77462991bb93211fd537c6",
      "61650f72d64b4b7c8d053ecec519a6b0",
      "cb9c9791484d404aa6427233a0f7a6d3",
      "163ce01525ed43a4be8899f8f1df9008",
      "a5589a4e8eaa40bdb56fcb708e4e87ad",
      "2c3828f834794ff2bdd85b05b1be97c9",
      "bf7ddf04e0b649d6a01ef7dc06bc1a68",
      "2111576b43f648969c132dd88df7010d",
      "ed55188d33894de2a86942347c1b1db7",
      "cc906635fb2445638017f52b40958f4d",
      "0ba90f5c2f2f44e6bc175acc4e86abaf",
      "3df74c44537c4e9bb561d7cc3d7c5c9e",
      "ff20a29b20cc4014a54c3552b1f67f81",
      "367ea5d739e1463dbc0ecb2059cf2fb8",
      "d221ffb86ce44ab58470f3561da4500f",
      "6fbdfcc1752d42d3be53ae3438d7ca49",
      "cb8c88772a2647bf9bdb4aed5ee0afcd",
      "69ca2aff5c734f3d98baf80de24c5292",
      "e56a34eb094b49b5a41e0a99c4061c8b",
      "eb6561ac6f5d440bbf73fea257b539b2",
      "8ddd0a02837c4165b4849d0436df7d32",
      "290eb1414a974a6d9e562db77c3c9866",
      "493a18350a20440dba756540e7c3ccc9",
      "43f10ed420b747449e10fad0a70ee488",
      "1307b76ae9c5459a8756611595057d0e",
      "305fd927f9d14c3eb07935ed4bc1f9e2",
      "cca748e4575a4522ba51d012a7f4b6f9",
      "4c341ad4190f4784852a0535fc6cd8d2",
      "b98b0cf3bfc84d129306d44c2ff65bd0",
      "7553c604d49f443b99ff547ce6c248f6",
      "a3e3055aab7240b6987399bd2f4ae093",
      "70cdf61bd7b749c896107f6386e84843",
      "754c5bbc2bf044f5acc2bafdfa1c33d4",
      "5048b7d388544917ab6c11e0e7749f5a",
      "a3982ff4bdbd47c99490f912472cbe83",
      "88b9e0e4ee7346dd9a1eae60a2b08ec3",
      "9457ed9e26054ecf9cc353004e4f9d90",
      "0306fe5d116b4a04b39c45f6605893f8",
      "355aa1b635eb483a84df78ae74ff7bf3",
      "acdc04d7b44a4bd39911a53b59e807d6",
      "21c49827105145b6a2130bedf49ebda5",
      "208ac5b1d2d247998b739e530019d564",
      "5f2b89a36b954a2182490ad41058e3d4",
      "7f02d1250ff94ed2a6c8f4f9db9cb8be",
      "61592e9f7e544fbaaaac316815da9a76",
      "534f1d54e20d4fd1b249a14652f03bd2",
      "31618cc3e2b84101ae4a1ab13b44af57",
      "8d4cf5c89648467db877dbaba6cdf44a",
      "2b71366fb4624d8d9c3d9cf16ca8bf87",
      "ac4d9ee000504972a961cf7ccb1d174a",
      "dc19af813b184fbda02324af0ea4a12b",
      "482c94f771ca45ac973e3da59d62ca88",
      "5c86a09ab430495b9f30f025a0b8a6c4",
      "84d63324c21b48b3bd3f584dbfbdc9bc",
      "7be19395a1064ea9ab49393d610c95de",
      "ad5b5d94e8c74088a83599412d7fff75",
      "4fb7662ba32649ec98f894355b91a02a",
      "936293b8bc364d0cafc4b973e8203315",
      "668034844e5c4ed68bd81b1b3a1c276e",
      "9f58cc6126594ecbaab43267f9627ebe",
      "0b3b4d766993403a9e7c1c8a4a396328",
      "b8639042cb3646dfabb30f0349bfb95f",
      "233fd9d8d4e84f83bf1ad14ee9c32ebf",
      "5845d1b2f28e442995511ffc2fce52e3",
      "4f2d039238c845109912208085d9c385",
      "ef1d85a88b33482caa2fc3208f35be40",
      "91d50e8cf95d43e79baa69aad326decb",
      "487c96e8f5df4424a22509766161ddfe",
      "df6dd96a6dce452cada3511de4996530",
      "2b562ebad70a4cf0a5d82b242cbc0ab3",
      "84a978506956491f8cd8a12ceda8a3db",
      "a3ce9cc41ffc4a22850be7664e0cad73",
      "e9503282af5e4e48beaef85e665106fb",
      "81280190f96048acafbb222562a9d5a0",
      "4650b00d944d41f79f4d1b86e077628a",
      "1e49461fbf4a447480d2124f67d2e578",
      "57f8237b00914b97a201f0be94f746ad",
      "4ee17b2431fe4c3aac90704980a9e29b",
      "69fbf21c252446289521826f8a433983",
      "fc932a40560141cc97558af9572bb1fa",
      "ca8c78f634494410900a4ab02559f263",
      "aad826c3cfd143bd82a967e834dd6b4f",
      "5366d8968bea4f4faa876d041995a5d5",
      "f9bf92a914904a1e953cf1edb5e81aad",
      "b464ee1c91e74b8f9fc99bb32cac9d70",
      "bea012a14adb4468866fbd35b1049e7d",
      "9da8a55c120d425486f05046e444efa9",
      "c035836525c448209d3bd93bf0d12f94",
      "5f72332f1fee4b5abe7e0a41892cccee",
      "8fae071ab2314d8399d8acfae4783b65",
      "5a731739cccd49e2a1d23d2ad55e8f54",
      "cc871c968c1546508d45f0acb4d7bf61",
      "1835e447ff4341089f8680f15281578f",
      "2b9398c3c56c40b88ba4f05659672242",
      "f4cc5a27227f478c91597849cf2c0a20",
      "539a131fef9f40cb911bd37d00a7e2a0",
      "1254845c94d744abbfdbde6cf51a8eac",
      "fabf5b12e6c84c6983634890edce3ba6",
      "0f41d6b43aec4017b15ef772f2afa0d0",
      "1641b378f477472f8a466d71519dc203",
      "ab624d8c9a904f1096bd4513042aac69",
      "91423d6c777f4b189f21bd7ae2d44e71",
      "f57f119d17064c06a41daf2f3eaa8c93",
      "07df3d755f194af288d7f4508969d259",
      "8b10eb8395f743978a72becf511c5580",
      "5a0775ec3ca44dd2ab00171d4e6d7df2",
      "1f948e0869e741839255235dcb1dd361",
      "a6e7e4c76dec42da86987bf0ddbc095f",
      "7c9416e32d1b43d7a4d3e46b425a0ed2",
      "fb68111f760b400a828b8d1b80d77d08",
      "694c4fadf5fc40a1a2d0d45524fd9e63",
      "5533195f207e4417a2db04c6394d74c6",
      "d4c6773e9979466eab2673a16ead2a40",
      "34503350225745cd8b1ee37d7965dd8b",
      "3255710f2f7044019d061c9edcbb9c28",
      "571715ab7269409f86e2a6f6c20a610f",
      "aaee9e874cbd479c96ca1ac7a61d316b",
      "cd0214b79fbb4543a946615a40b0ef85",
      "47b564d811f1430bb57ac51fdf854205",
      "27b832f774a44f7c93cfe2c3306f32e3",
      "e033c9e20d9d439986bad57352dcfe34",
      "f886c444217b4885acc9b9d42e615213",
      "0113009650054e7389f99fdc00e0fbbb",
      "e31515f13d8f48ce9c69d94a0a3b1d53",
      "7ace4b16f97b40fcac8e4de6ae558714",
      "2c8047be3354477e806901d4ae3758bb",
      "ac6a3a045a8d4574b7830fd28aec0afd",
      "31a9a8ae7dc94af29ce936195e7da8b4",
      "2f9169063b8f4e8982fd6640e8e9fc8f",
      "c59342b2d99a40989c0d15fca3716df7",
      "f681c0ebe56b44958393d0277de1de3a",
      "dd02510fa32b472d9d72945e4f2d81ce",
      "e87d5aa91cd74999adb42076cde307e9",
      "c1d9ecfa2c734212b0375f309559e1bc",
      "5fcab5c3d20c496f86d69f5380c0966c",
      "9d08890e444241d9ac7e7ed613160a28",
      "0ae2d61be09741778f9ac41fddd71913",
      "a9a35e4260e045d0bdae6026f75f5799",
      "b645d781716d4486bb55438d55b5e426",
      "2ee0bd97165947c2a33bebdfdb9706d2",
      "705162a84ce748cfae8bb7e97159d883",
      "ff1202d766f94b2e86078d12667e65af",
      "aaba4c8037c44ad78f403c6d3c2d17a0",
      "fc148b23255241ccabd2fcfbd7acacf2",
      "c3576b8c270d4850a4d43dbebc330884",
      "05806656226b405980b806f2b1950e48",
      "4b8614290ccc4cf28f18d47e77f93b6a",
      "7095e02cc7bb4103a007500a31e3b0e1",
      "c32308603c6145deb734df9c53769292",
      "5e911452a55c4175a32f75e5097f0a6e",
      "6b5f27ecbcd74356b931ae2d057c7463",
      "0871de0d055f41e19646f32e0b65efd2",
      "7b86269b765e44cfbb21a4fe64c1d42d",
      "7646fcf1f49f449da552816881d97509",
      "dcc9d5790c1b4739bb7b0f65aabeb939",
      "25dc422732034c4395ebd93efad87d89",
      "c58ec81bdf8a4cbc8993e6925d66440d",
      "f340b4b20f3a4d7e87870a269d22e995",
      "372f1fea8c064a57ad4e80b34eca86b6",
      "0cb801892d36426e84ca5b06744bff75",
      "d59dc270ea3c49f0af903cf55b9f913b",
      "877f72eb585c4068af576b4246df5a3d",
      "6c37526ff9674cd39c13a8cc49f0b474",
      "7e14aec4f5064ff5b06d234591ac38b8",
      "c60e702bdabd434bb997b2f10b8fc0ad",
      "23de6e5a4693484889451f7a758db39e",
      "b23c0f7bd0264e8aa8d5e52a99856b7d",
      "41c27af7e7ba4566bb26d2c79d61357e",
      "32ae677ad546460895fd1490782a9c22",
      "5718ff2f8ac34c0b97d004921a70fa02",
      "aaad9ad6606b4d3b88c652a8f7c657ee",
      "987b6ae9ae034b99847d97747b9e2465",
      "12c781f8fc414240a62f3b19ac1bdf5c",
      "ae73d154491a4d0aa0f217371d6536fc",
      "f8337ebca08a496da62be343802be638",
      "8061ff5534fa49e1b55252c426986f16",
      "350eb69506e34c3f8758d5f325fd7ea3",
      "8470d21888a3472a8f3ada7b4498facd",
      "275e6dfabf8f467bb6b76c3ce0bd4cca",
      "41cb25a7aadf48d0b8b731f4ac597134",
      "2781f8937f614911ba55848d7f502db7",
      "58169c41e98d44f8962711d9d4b0c062",
      "4e18679ff2c34274bcf61b57d9427f21",
      "283e3081fbf04ef29df8be9b881c3417",
      "919aef607bb14544ae7e11b93733dc7e",
      "9327db2b927a45b49719b2b5b17c0aac",
      "7427419cc4224fa38c182b57ee368f60",
      "52b47906ccfd47f88bab8189ffa926ce",
      "ef1764718d9241189cf80cc378722a06",
      "cee5274cb4e844f5865a9183ee4d716f",
      "a4004e21b5ad477e91866d742a48110b",
      "e897793c17834feaad9462360b0793cd",
      "764409067e1447718aecc01fb9ab7268",
      "72ffbefe1bef4082a40bd435a8d93e67",
      "38056d8512de40d2acbff576c0cba1fe",
      "32fae198445e40ce9bda7026eb6c2c5d",
      "afd60f8871c34c9d96361edd34c4f09c",
      "100ae48c4d09471981d40f8f4c80f0cf",
      "241f2de6964a45fbb5496992278175f6",
      "22477468105b4bbebda7083d054fe849",
      "58d6d4a318f54e30b51277ef755a72cc",
      "7322170bbeb94c2fa257c7c715a3edf8",
      "2fc20e97c4a048798d31116cf522b108",
      "493a0f9da32142f9bd3ce6d9dece3b2c",
      "196ed46dcd6b4dfa8345eb322beb9b99",
      "21d4d85c01a2481f90445dd714a74c00",
      "dd2c74b1567c496486b9064791df59ec",
      "3c5e792deecd43ed84635ec1a7cc5a27",
      "73cf3812f2fc4e75ad024145f80292fd",
      "c38ed89518a74e29849980ef8579ee65",
      "56d332a3f8f544279a8c40373413137b",
      "32e080b08e754eeea6e3101ba6f8efee",
      "e5d6506a579044fa81b4fae8638b3a1d",
      "565bb8106c1f4f1e84433b794e3bcce8",
      "844d7d8816b843508d175b407108b1e8",
      "bf19b42cb43446e896b899542bd2d28c",
      "c76b2875b50c4f859153736cc40fb6b3",
      "2874fc6396034553a62e0924a697e2ce",
      "9114e6ebd2464c6eb919eba08b538097",
      "f1fe07f23a7e403a8421ec64901e8049",
      "9cd17e5aadae4adaa639a6dcc51ea4df",
      "5051d59a3ecc4e749113feb0cbf52271",
      "43381fbb179d48c58582e04600a19e18",
      "df4a8f278a944fa6b3b80cd143798e95",
      "5bc0af28643947cca491f3c82e4ffb27",
      "d0b9d86f8e7643f59bd4d7cfb3a2bf37",
      "f8c141d4004843a1b39d1a249ae9bd96",
      "556728ebd5854794932b5521dd7532d1",
      "9236f84e6901470482bff98900061367",
      "be7be98c83024bb1890261c3a7382e22",
      "67d541a9ba954b52a32880cbcc205135",
      "24532cc761b54793845c2d5dfc8f630e",
      "6e59d7c5d8b94b57beae936dd655f4cf",
      "01f5140aaac244ecb1ac9d6d6e53618d",
      "9e6676618e1044e294b561b82a2f0167",
      "036f7786ae8b4df5a588bd99fdd6eb99",
      "af66bb48a679491bb43d4a77f82ba0c2",
      "6f3fd479d06244f6bfba35b3a3c986f7",
      "d54fa3855c914a77ac0efab60af3de6c",
      "efc42ad132cd496fb45005f4b7e1df7d",
      "99e2f1f635ae450691c88256a5bab563",
      "e8a56e906cfd43038f39ea7b562cea6a",
      "8a093336a4a04ef9bbb4890ff077d1a5",
      "54c3f2a3a5684f8f8f56d6b5759de372",
      "51a84a8604d24f8c82098c0a1a7cf91d",
      "7382307e0ee04437b4ead47aa36e00a8",
      "39c3fc5a9cac488999017be76599d706",
      "45a97a57b7014b8e9a23b2b1bc9847a8",
      "bde72c729f7b4112b51b71905c239d98",
      "f4667f003fdd405497635d66c2d089aa",
      "2f85e250c9ff4fc3abba0f8adafc837b",
      "42e59ba33580447c8cf40a83178b512d",
      "3339b0250f20430b918691d131650798",
      "92cf8eeca21d4953aeba8133f982659c",
      "f19bb21cf2544259b09c4ecf9afb4b93",
      "9527c0f6122c45368bb01c8897f26d7b",
      "eeca7e3b8c114de2a2189a55f89b1e2d",
      "ea4bec11c9054916b716720d290a68f3",
      "2874767edcca49ab9e1e95f6f7042840",
      "fcb9694eba6d4d6683ddd30db5d7e410",
      "717aa497cea74a3f8c800ef30d6102bb",
      "bb4c2a229b6948bf9da09d4c52192c22",
      "c1c69f02d56c43babbf97cc78f20c125",
      "47293f0748dc40ed96e5e88e310e09e6",
      "ce23eda6de7f403bad508d0e77387535",
      "d3524d8aa2d44d4e924d6e9906f951ac",
      "fd8090e68af94fc4a2d26c0219e3f549",
      "1304f2caa77f4328a2f88d348cac7755",
      "e36e90d47cf14f06b334a181d44edefb",
      "0b99417bd0bc4de1b9576ab5dea0d825",
      "3a73f3bad3764faebb37de21b8fa053f",
      "5ee97d7e809f42e296759239dd34f44a",
      "fcefaa98a6f74c09a759dcef71ce860b",
      "ed51343aca6c4ef7bdba90e32c5fbeae",
      "a92f3033a94040558baf96654836ea81",
      "37bf69f83c3d4726aa618d7beaf5595d",
      "88408f028c524f9c8c0627a7d2011346",
      "b0c9f6dfb34e4598a2f1bd64b09da48d",
      "6a6ffb1200914aa8a62e7621668202bf",
      "95ef83b7dfec4d89aee235257e30ef72",
      "e62eba472ad64dd991d3bffae289a010",
      "2b063e71f20644e79617d81e0cd0f086",
      "71df9c6d723845c2b4dcd739c0dbed95",
      "077d842039a646b1b516b51e0e454ccd",
      "0b627d740c5647b790dbf9fb29c0dc79",
      "4f4d54a10613488a851ddeb4eb901e6e",
      "2d8ca3d674e2446dbc5ac6a9e5a4e791",
      "09f24e4d9ccc48768aeadfc3cf459d08",
      "3b83c9b452a24c0f9940ce2dc719f4e9",
      "7e4301607c234c399c24127c8c796db6",
      "94f7c5e57c9a45d6bd1bd69a9535c51e",
      "85de6c77c0734d94b05b0acaa870e4c9",
      "22138a59cc104d88907a365dccbc63f7",
      "e321ebe27765429983d2fc310f2c433d",
      "56d294419f824318a01e057f4835ec96",
      "0ef4974fd501471a8c4bb10cc0258064",
      "d14851d7c1144ad9a3eb7924d4603bc1",
      "e8cc94a8bc5a4d128dc98e099a33578d",
      "4c0f6df8408d4482ac128b1cf6cfa409",
      "0f75dea15e28402dbb89cd06c67a9ef7",
      "f3462de104ab4602901301bf5fb3a062",
      "557be520298846b0a72e0bdbb6a26e5f",
      "1bda445e326c47e788fd442e2b0a81cf",
      "3b47772c06f146f9ac0b852d05b38d46",
      "7d9fd79649784787bc6e7fffc6df1217",
      "079c8eee3ca44633901c41a0daf52f7d",
      "70696156ea01446bbef36bac5fd10671",
      "6322ae007e4248abaf8090c1c98497af",
      "d46511e54958488bb4bac7ffebff6597",
      "abf9df299d044f49814a0df712e90385",
      "4cc7d9715710483898468ef7d490e79d",
      "ad66c6e656274ac6ab67a61a44bbb673",
      "c5f257d1673f42df835ba8e9842d3be3",
      "b449d761d88c422aa3ac5ee32965a1b0",
      "7246049b070543809c8f339d7dfb9e03",
      "8727e4b46377417f9d7345988b8e79f4",
      "abdb891201ed4238a6b44b03aa93996f",
      "d14e221c5ccf4b3c919e0218e11d689b",
      "14fae9ee30ae48cdb6bd39acba69db9b",
      "5d8942a0746a4ff38fb316c2505ac58f",
      "0637c56a35604008b156e4491c740d3a",
      "b6623031a9004239a9f4124d438f08fe",
      "8bb919dfe69d441dad5e9e38d5c2b4da",
      "5cf139bb89614b66989f0a68ebfc0495",
      "a197c1121f4f480798d4a760e83adafa",
      "a12414d173fc46d5bf7aaf9061e47680",
      "e269e4a982b546f7a5eb124ccbca71f7",
      "d9bf6233caa440119444039fe0ac7317",
      "a251c7e4a72341e994ffb7ab75afff70",
      "954afe39b2944c15865b9a2d761350fe",
      "9c7ba61ad3964a2182b8611c302e22d3",
      "b81680ef2ca24b6ca66d952dbf64a798",
      "bb0f80221a2846ac9f180fa7f4b58665",
      "1a13bdc93a3d402783df893965c38780",
      "15bae9e23cb54908afd3840063657985",
      "a6912b7c8b0c4e379da3b40752ca6950",
      "cc5325fac9d541bda4612c7d0defca3a",
      "7a8bafb63e7c4af89012b3451c006c19",
      "e2bce72c90bc41beb95eb0430e326d04",
      "3049cfc47aa840f8aef986e725a4ce6c",
      "6e01f6e5d38c491180aed365bd52b9bb",
      "5b523a82bd9e4738b651e4a6015dec7d",
      "81d061b86a02468795721e68edf47d9f",
      "5e301e564d86482191bd99d80ca5cd4b",
      "4666aef7bf1347e2aba4fbc74e6eeea9",
      "fb9c923c0ed745859d370b1831dac903",
      "03b267d133174f409412c4e060022070",
      "46f120e1490948debc7b722f94e8e2e3",
      "a4a0322a02e34cc3ade98bcdfa6867a9",
      "2161b7bc66eb4144ad82582f52e5c6e1",
      "b69281e9f6da4515bff44845b6dcf9ad",
      "b0645e00e7ea4e3c8be06abdad6f95a6",
      "68dc324c99244a2bb9c7c12df86eb290",
      "17f1d85d8c524060872fe6be069e3385",
      "01134d9f7c294b5e8edc155d00d4175b",
      "c85a6acac1cd41af90cc8544866fd1db",
      "e206f34af7924707b54025faa4d90566",
      "748a321f63e64a5087aa018d4457bb0a",
      "26eb17f1f9ac48558baa4a5f19399e21",
      "62efc39e3c1c4c758d8bfe2b2f40ee6e",
      "719226bc69894115b62e07c08c43e0b1",
      "181e073b37ca40d5968eaf4b6dc41394",
      "805cfacbdb5c49b9a6021f1292431e69",
      "635ba1c9770548f080b4118c20296df7",
      "50ab2909262747ab88ded6488f5fc95a",
      "695ea4480945448bad76b7196c2012b3",
      "1abac02cee9344a7841b129e6105018b",
      "c03d0cd09e0140599d176b0ca7c9085c",
      "edff7a2ad0f74565984c462a52f380b4",
      "4ce63f6b4593468c9ca5229c630bfaff",
      "4c7d7336326d401a8186117870e17e9f",
      "9da42c5252fc4b078dd048d1b50c4186",
      "025866f0d0314672bc040fede55da64a",
      "fd860e809a4f4a7582183625d3cf2de5",
      "a087850ea38949e68f77e62d645c1ceb",
      "51d02b0718504dbebf0dcf9f27b53b26",
      "e260494786264f49ada56f46ed0b6014",
      "70f0fb8734634814ab81c520b0b06282",
      "453b92c0abe2455abd0664fdb845119c",
      "92d0ebeff9c942318022cc8a77b89182",
      "276d534701ae45688b2a1fb51763db15",
      "441c064bb53e4a1d88c2e464b9e0f501",
      "c146961cfbdd476291d72ec0336c635c",
      "6f56cbbb14e9439cb29b4e833e46e1d3",
      "e83ab4c3e73f4f5ca2901fd6b49c3bee",
      "47281754cbdf42a9bfc9f353e0920b6e",
      "8c0b2fc9bf004dcbbab8950c02e4dac8",
      "ce5c17c2292645b9ba1fae294fb3ebbe",
      "55038276d076426599254baab3a10543",
      "fdbf6581ca3a4ecf90145824fd8fa5a8",
      "2ea7ea7525394043b399a7dff6dc8750",
      "8b7b5871de504bbabcbd6d86747fc7b3",
      "f6e2eeba03384faea2368f62c188ebf0",
      "57bb891d761148a9b8cf71149ac04be8",
      "20e65cbd8b16442dbe420cf707946d75",
      "b4ab6506995e4e768fbe75aebeda4cdc",
      "3a544cf851f148ae854b01e33e7fcdf3",
      "88a445d4ca784030b083a74a69e05d0c",
      "d633d798aaa04893a03a2a6b667b70e2",
      "be3c092232f4429284cdb250c1587803",
      "b4a1d2c246494e64b97302209b0494c4",
      "859738ba9f9745598d12d8aa779bf257",
      "a9e5446b136f47eb9c8d1f67a563a047",
      "f243e13823344123802d332c7c9c3b3f",
      "30b3ef65cf024b9cbc61e3a8a2482f01",
      "085f71aa950f435f989a02518ad23dd4",
      "a81f573938ee464688a59ff1f75999c6",
      "dc59cfccdd6b4fa2bf4c22e91f0e4ba2",
      "4a98d2751b2a4245a66ee5485f9b6eb9",
      "61f02162f9b54985ab89b539eb0c28a5",
      "8cc63f6101cc4544b0286a38cfaab6cd",
      "f5eb9190f9aa4db5b5a8bae6478ff59d",
      "ff04429dbe4f43e6bb6ac98fa490b12d",
      "c1ea29e9c170429785f21d75c2f8a960",
      "89a6874f1a804ced8e571bfbcdaea037",
      "9ca9516c4dde44bfaa8f2c048c78d163",
      "bceef1ffa6a9499cb6adc1b2ad927667",
      "1d87b5eafe914d51bc91aea48c04756d",
      "d67430f46bf045c2ab9cc8e2e74f6c13",
      "4156be66284e444a86a721e6f2cd7a07",
      "bfb26c459b3547e6970467d6a838a4c3",
      "eb8a230e976a4a20a7c88ab958f9db09",
      "94fffd56ac4840f79d6e46aec7a6ed18",
      "ec1afe92510142508b6d49dc51a6d647",
      "908d59f7806d4cb98a2df6663b29f880",
      "8d977ff285ee4d4fbcfcc1441760c952",
      "076e53c7b3f641b1a155e6a5b26c984e",
      "9a836d0be3f74560b561e7e71141cb2c",
      "2b5e04bc095042dc9f4d8f6f1563b3c2",
      "d1d5acc6f906486c938deb7c030b16f4",
      "137cc9e1093f4b43a140545a922390d6",
      "eeebdeb8e09940369b37295894cb6542",
      "403c8d0c9da34099b07b31bd71569bfc",
      "8698e3f2b6b94a03a5b1ed76d9703dba",
      "eedd13a182364537a88b47641a489346",
      "e2fbe76ad21c41b0a0dadb6986cff5a7",
      "ebb959a238484c1f946696838c501702",
      "b13a51be4ebc4454b2029cdb0a78a49a",
      "b3ef640c11de42bca2ccd3ce072f500e",
      "82227339647d4bab829de3ed4e4214a4",
      "bef97ec3509a425d8bb149774da5872b",
      "9a45349899034843871d52af0cdf33c5",
      "33d1a7c6685a4d5d9e9ad7769a51e6c6",
      "02c67819e56f46dd9c8d4142ae55bb68",
      "56778f2966cd4683898fd8559ba839ee",
      "8c9d26a170bc449c9db1c6358569984f",
      "1e9227d28f8349ec92208c6d8e1d5df1",
      "a6a19d63a1ad4f5ea3e10993f487c287",
      "efe2b4ffb40649428fd10dd365cc2653",
      "ba76e55982ff4e43aa40990d3a01e5f4",
      "de32c6d178674d14b59a559be9cf0665",
      "382b03ea8c8847fa8fc439b33b7a81b9",
      "4d8ebcb3f4a1459383879f5147f254e6",
      "dca0ce50c481453fb30e9e5d008711c9",
      "57328e25067048e0b6d8152b31f73499",
      "1e3c173b61d64027be87bdf1ce2ae4c2",
      "4cea650341b64c2696e4584808c447cf",
      "f9b32f61342849c4b4b9d70099ba925d",
      "b60930ad91d74fd69be40094d904bd03",
      "79a73a003cd24eb38e9429edbcc32406",
      "da569cf002f249329baf18ecc5a76a89",
      "199ae497689c489793a4bfc75184b119",
      "846407c9ce2a42e99ca56c153118e703",
      "ac4c9638156148c88d23f6d47ebbb17d",
      "0e1ed95fb3f9498caac20620f8528890",
      "bd4bbe5ce8664ac9860af8b53aa039a4",
      "049c64f159ce4a92b374920e7c1bae98",
      "2c00131405f64197a8ef1b72f05e68c8",
      "b442e79531df4cb8bd10da34305f311a",
      "469f2bf2cfde4cadad103be6e2ce51c8",
      "5c13c6874a62418a8e784e93876c74c7",
      "d30abdd867934e349051eab62480589a",
      "9483d7b50b9542a491e1bead166d1c3b",
      "f1b3f31dcb03420ead2e9570868b5863",
      "3fb9d7681b4c479483c5e0530db892a2",
      "aa57034469234d04a3a8ed323ce2d681",
      "9c69a1a7aaea4a4f88d820756aa9e93c",
      "55573db4e9d0491eb047f792db9f7cda",
      "c584003af74a417991cdcaf4cce42bd4",
      "8b5d255877bb45bfad8bc4ea6da03a0f",
      "8d21d69835a54dd8a6484c9981933b18",
      "69335d9a6d6447709e1b26d0f5b082fa",
      "efcbf4ebaa5f4710a961e8d3fbe62614",
      "a86277a7911446c78e0db0887f1c23f0",
      "9f83985bd4e44b52b7fc73c766a4d210",
      "64ff6b48411d49f99eb7ffb82fbf40b4",
      "1429c1faea2a4f50a9dea818f8a6cda5",
      "557b3b8ced6a4a8ebc6c4eccc77b058f",
      "7c52eaa2affa4bdb8e5d56982efe82e0",
      "485766cd87ff4634854a4163fad8e9aa",
      "96441be2c1c3483997f7548e41f6ea96",
      "dc6d120cfcb8448494d2f1d81d5fca05",
      "c86c5c49d0294d9f8d343346bda8ef8e",
      "17437aff4220443e99c96d21bcda480d",
      "f92e7bd1019d418b8a36980c0bb81fb2",
      "7fe702d2107144eb9e78fece35d1705d",
      "59e365a4898b498fa4afd999ab1cdbe1",
      "12c1caafc62e4dd88ee50f64762215f3",
      "334c9b890d1f453f83bdb563265beeb5",
      "0396bfac14d04c8cab4bb323f0e21f8a",
      "977b35c5d0744db894eb16774fe28926",
      "292ece424f1b4a2083f910343a2f3c53",
      "8410c20868e1430aab61051ae6b49010",
      "4dedef8dd4654768be3f772e783d3b0d",
      "2c2182277c154fe1a39b6921224282cd",
      "b950bde941c74d7fb0cd412bf453a96c",
      "9ee8443b7e0c45908bb32652535ec8df",
      "4d1c7d04ab9b442a98990bd73f9939f4",
      "d08d6eb8d4984ef890263cf1349a18bc",
      "57154680b7c14bdcae9fb13826174929",
      "559788b2e3f74a459301386b0dd83b91",
      "ae6414f042fd4e4daabb94d8a34e68c9",
      "1c9bad884c3741858f46f8be9707dabd",
      "25f6b74dcd8940799f24cbad238f7c55",
      "024b7873a600455c913695d24166f3a2"
     ]
    },
    "id": "a_7l7m7TZjaB",
    "outputId": "ea4d2061-4983-427c-aff0-524966e2fbab"
   },
   "outputs": [
    {
     "name": "stderr",
     "output_type": "stream",
     "text": [
      "INFO:pytorch_lightning.utilities.rank_zero:Using default `ModelCheckpoint`. Consider installing `litmodels` package to enable `LitModelCheckpoint` for automatic upload to the Lightning model registry.\n",
      "INFO:pytorch_lightning.utilities.rank_zero:GPU available: True (cuda), used: True\n",
      "INFO:pytorch_lightning.utilities.rank_zero:TPU available: False, using: 0 TPU cores\n",
      "INFO:pytorch_lightning.utilities.rank_zero:HPU available: False, using: 0 HPUs\n",
      "INFO:pytorch_lightning.accelerators.cuda:LOCAL_RANK: 0 - CUDA_VISIBLE_DEVICES: [0]\n",
      "INFO:pytorch_lightning.callbacks.model_summary:\n",
      "  | Name    | Type       | Params | Mode \n",
      "-----------------------------------------------\n",
      "0 | model   | Sequential | 2.4 K  | train\n",
      "1 | loss_fn | MSELoss    | 0      | train\n",
      "-----------------------------------------------\n",
      "2.4 K     Trainable params\n",
      "0         Non-trainable params\n",
      "2.4 K     Total params\n",
      "0.009     Total estimated model params size (MB)\n",
      "7         Modules in train mode\n",
      "0         Modules in eval mode\n"
     ]
    },
    {
     "data": {
      "application/vnd.jupyter.widget-view+json": {
       "model_id": "bcf5a61e7dba41d2a3a6c56c3df9fb49",
       "version_major": 2,
       "version_minor": 0
      },
      "text/plain": [
       "Sanity Checking: |          | 0/? [00:00<?, ?it/s]"
      ]
     },
     "metadata": {},
     "output_type": "display_data"
    },
    {
     "data": {
      "application/vnd.jupyter.widget-view+json": {
       "model_id": "7b6e432612d94e5abbd3a568ff21aa46",
       "version_major": 2,
       "version_minor": 0
      },
      "text/plain": [
       "Training: |          | 0/? [00:00<?, ?it/s]"
      ]
     },
     "metadata": {},
     "output_type": "display_data"
    },
    {
     "data": {
      "application/vnd.jupyter.widget-view+json": {
       "model_id": "d59488f2ffe6469e8dbb68c0594d956e",
       "version_major": 2,
       "version_minor": 0
      },
      "text/plain": [
       "Validation: |          | 0/? [00:00<?, ?it/s]"
      ]
     },
     "metadata": {},
     "output_type": "display_data"
    },
    {
     "data": {
      "application/vnd.jupyter.widget-view+json": {
       "model_id": "8190c5635da944b98a9b34a245b10819",
       "version_major": 2,
       "version_minor": 0
      },
      "text/plain": [
       "Validation: |          | 0/? [00:00<?, ?it/s]"
      ]
     },
     "metadata": {},
     "output_type": "display_data"
    },
    {
     "data": {
      "application/vnd.jupyter.widget-view+json": {
       "model_id": "cb41d0f62e4c4436bc3f36a27a0001a4",
       "version_major": 2,
       "version_minor": 0
      },
      "text/plain": [
       "Validation: |          | 0/? [00:00<?, ?it/s]"
      ]
     },
     "metadata": {},
     "output_type": "display_data"
    },
    {
     "data": {
      "application/vnd.jupyter.widget-view+json": {
       "model_id": "b2ed4da4e3a345bb88f75ffb565ecb03",
       "version_major": 2,
       "version_minor": 0
      },
      "text/plain": [
       "Validation: |          | 0/? [00:00<?, ?it/s]"
      ]
     },
     "metadata": {},
     "output_type": "display_data"
    },
    {
     "data": {
      "application/vnd.jupyter.widget-view+json": {
       "model_id": "7d3a69ef0b0a431f9d5e518e46e835a9",
       "version_major": 2,
       "version_minor": 0
      },
      "text/plain": [
       "Validation: |          | 0/? [00:00<?, ?it/s]"
      ]
     },
     "metadata": {},
     "output_type": "display_data"
    },
    {
     "data": {
      "application/vnd.jupyter.widget-view+json": {
       "model_id": "0af5f8e1a5a14214a012142643b523c9",
       "version_major": 2,
       "version_minor": 0
      },
      "text/plain": [
       "Validation: |          | 0/? [00:00<?, ?it/s]"
      ]
     },
     "metadata": {},
     "output_type": "display_data"
    },
    {
     "data": {
      "application/vnd.jupyter.widget-view+json": {
       "model_id": "0dcaa070d27846e78f95b805fb870306",
       "version_major": 2,
       "version_minor": 0
      },
      "text/plain": [
       "Validation: |          | 0/? [00:00<?, ?it/s]"
      ]
     },
     "metadata": {},
     "output_type": "display_data"
    },
    {
     "data": {
      "application/vnd.jupyter.widget-view+json": {
       "model_id": "eba815315a484e0f99dba38754a73bac",
       "version_major": 2,
       "version_minor": 0
      },
      "text/plain": [
       "Validation: |          | 0/? [00:00<?, ?it/s]"
      ]
     },
     "metadata": {},
     "output_type": "display_data"
    },
    {
     "data": {
      "application/vnd.jupyter.widget-view+json": {
       "model_id": "c114be33980a402b94e637b0843e1c34",
       "version_major": 2,
       "version_minor": 0
      },
      "text/plain": [
       "Validation: |          | 0/? [00:00<?, ?it/s]"
      ]
     },
     "metadata": {},
     "output_type": "display_data"
    },
    {
     "data": {
      "application/vnd.jupyter.widget-view+json": {
       "model_id": "63b90f91972f4a399b55b9318a543b07",
       "version_major": 2,
       "version_minor": 0
      },
      "text/plain": [
       "Validation: |          | 0/? [00:00<?, ?it/s]"
      ]
     },
     "metadata": {},
     "output_type": "display_data"
    },
    {
     "data": {
      "application/vnd.jupyter.widget-view+json": {
       "model_id": "e761d66f322748248147421dac996d64",
       "version_major": 2,
       "version_minor": 0
      },
      "text/plain": [
       "Validation: |          | 0/? [00:00<?, ?it/s]"
      ]
     },
     "metadata": {},
     "output_type": "display_data"
    },
    {
     "data": {
      "application/vnd.jupyter.widget-view+json": {
       "model_id": "20f2cca4757a4497859e57d61c0265df",
       "version_major": 2,
       "version_minor": 0
      },
      "text/plain": [
       "Validation: |          | 0/? [00:00<?, ?it/s]"
      ]
     },
     "metadata": {},
     "output_type": "display_data"
    },
    {
     "data": {
      "application/vnd.jupyter.widget-view+json": {
       "model_id": "3ef365ec4a1641db96b0c003076816c1",
       "version_major": 2,
       "version_minor": 0
      },
      "text/plain": [
       "Validation: |          | 0/? [00:00<?, ?it/s]"
      ]
     },
     "metadata": {},
     "output_type": "display_data"
    },
    {
     "data": {
      "application/vnd.jupyter.widget-view+json": {
       "model_id": "59ef01c631684d02ab6d04b5dec11c89",
       "version_major": 2,
       "version_minor": 0
      },
      "text/plain": [
       "Validation: |          | 0/? [00:00<?, ?it/s]"
      ]
     },
     "metadata": {},
     "output_type": "display_data"
    },
    {
     "data": {
      "application/vnd.jupyter.widget-view+json": {
       "model_id": "16bdebdb0c86461a92c7fa43689cf50c",
       "version_major": 2,
       "version_minor": 0
      },
      "text/plain": [
       "Validation: |          | 0/? [00:00<?, ?it/s]"
      ]
     },
     "metadata": {},
     "output_type": "display_data"
    },
    {
     "data": {
      "application/vnd.jupyter.widget-view+json": {
       "model_id": "3639be8099d24d71b4a4c5e644b13328",
       "version_major": 2,
       "version_minor": 0
      },
      "text/plain": [
       "Validation: |          | 0/? [00:00<?, ?it/s]"
      ]
     },
     "metadata": {},
     "output_type": "display_data"
    },
    {
     "data": {
      "application/vnd.jupyter.widget-view+json": {
       "model_id": "b52cac9f3d314001b2dad2f6d0a4de55",
       "version_major": 2,
       "version_minor": 0
      },
      "text/plain": [
       "Validation: |          | 0/? [00:00<?, ?it/s]"
      ]
     },
     "metadata": {},
     "output_type": "display_data"
    },
    {
     "data": {
      "application/vnd.jupyter.widget-view+json": {
       "model_id": "12f0a09d6baf4f3da262d0666eeae1b0",
       "version_major": 2,
       "version_minor": 0
      },
      "text/plain": [
       "Validation: |          | 0/? [00:00<?, ?it/s]"
      ]
     },
     "metadata": {},
     "output_type": "display_data"
    },
    {
     "data": {
      "application/vnd.jupyter.widget-view+json": {
       "model_id": "c4e5db3b2dcb4d67b1c4da3ae5eabc19",
       "version_major": 2,
       "version_minor": 0
      },
      "text/plain": [
       "Validation: |          | 0/? [00:00<?, ?it/s]"
      ]
     },
     "metadata": {},
     "output_type": "display_data"
    },
    {
     "data": {
      "application/vnd.jupyter.widget-view+json": {
       "model_id": "e4d9ef0c4b4d4754923adaae909f7de1",
       "version_major": 2,
       "version_minor": 0
      },
      "text/plain": [
       "Validation: |          | 0/? [00:00<?, ?it/s]"
      ]
     },
     "metadata": {},
     "output_type": "display_data"
    },
    {
     "data": {
      "application/vnd.jupyter.widget-view+json": {
       "model_id": "66980de2cbae47aaa8c997b06504ed17",
       "version_major": 2,
       "version_minor": 0
      },
      "text/plain": [
       "Validation: |          | 0/? [00:00<?, ?it/s]"
      ]
     },
     "metadata": {},
     "output_type": "display_data"
    },
    {
     "data": {
      "application/vnd.jupyter.widget-view+json": {
       "model_id": "358e8d1cd76c4260a8200772528fdb1b",
       "version_major": 2,
       "version_minor": 0
      },
      "text/plain": [
       "Validation: |          | 0/? [00:00<?, ?it/s]"
      ]
     },
     "metadata": {},
     "output_type": "display_data"
    },
    {
     "data": {
      "application/vnd.jupyter.widget-view+json": {
       "model_id": "447d5bb154a74b81bc7e71e0fdb4edd9",
       "version_major": 2,
       "version_minor": 0
      },
      "text/plain": [
       "Validation: |          | 0/? [00:00<?, ?it/s]"
      ]
     },
     "metadata": {},
     "output_type": "display_data"
    },
    {
     "data": {
      "application/vnd.jupyter.widget-view+json": {
       "model_id": "0c2bc2582091428aa6d4b1a5a0d12190",
       "version_major": 2,
       "version_minor": 0
      },
      "text/plain": [
       "Validation: |          | 0/? [00:00<?, ?it/s]"
      ]
     },
     "metadata": {},
     "output_type": "display_data"
    },
    {
     "data": {
      "application/vnd.jupyter.widget-view+json": {
       "model_id": "ed26b1abb4f24b1281d13a55429e94b2",
       "version_major": 2,
       "version_minor": 0
      },
      "text/plain": [
       "Validation: |          | 0/? [00:00<?, ?it/s]"
      ]
     },
     "metadata": {},
     "output_type": "display_data"
    },
    {
     "data": {
      "application/vnd.jupyter.widget-view+json": {
       "model_id": "f5809c298dd14a6b873075fbdc9ce8a9",
       "version_major": 2,
       "version_minor": 0
      },
      "text/plain": [
       "Validation: |          | 0/? [00:00<?, ?it/s]"
      ]
     },
     "metadata": {},
     "output_type": "display_data"
    },
    {
     "data": {
      "application/vnd.jupyter.widget-view+json": {
       "model_id": "fb2e3fa4203247aeb321f7c7364ad267",
       "version_major": 2,
       "version_minor": 0
      },
      "text/plain": [
       "Validation: |          | 0/? [00:00<?, ?it/s]"
      ]
     },
     "metadata": {},
     "output_type": "display_data"
    },
    {
     "data": {
      "application/vnd.jupyter.widget-view+json": {
       "model_id": "e3e7fa27f51d48889013936d93aca40d",
       "version_major": 2,
       "version_minor": 0
      },
      "text/plain": [
       "Validation: |          | 0/? [00:00<?, ?it/s]"
      ]
     },
     "metadata": {},
     "output_type": "display_data"
    },
    {
     "data": {
      "application/vnd.jupyter.widget-view+json": {
       "model_id": "b239d0f6e7f144acaf9d8567be73a44a",
       "version_major": 2,
       "version_minor": 0
      },
      "text/plain": [
       "Validation: |          | 0/? [00:00<?, ?it/s]"
      ]
     },
     "metadata": {},
     "output_type": "display_data"
    },
    {
     "data": {
      "application/vnd.jupyter.widget-view+json": {
       "model_id": "0e99595eab4c47a09c6334e6c8f31049",
       "version_major": 2,
       "version_minor": 0
      },
      "text/plain": [
       "Validation: |          | 0/? [00:00<?, ?it/s]"
      ]
     },
     "metadata": {},
     "output_type": "display_data"
    },
    {
     "data": {
      "application/vnd.jupyter.widget-view+json": {
       "model_id": "4aabfa68b54740788e13aeb62851283e",
       "version_major": 2,
       "version_minor": 0
      },
      "text/plain": [
       "Validation: |          | 0/? [00:00<?, ?it/s]"
      ]
     },
     "metadata": {},
     "output_type": "display_data"
    },
    {
     "data": {
      "application/vnd.jupyter.widget-view+json": {
       "model_id": "8cbb35e1e0544c39b4f21864fb31d23e",
       "version_major": 2,
       "version_minor": 0
      },
      "text/plain": [
       "Validation: |          | 0/? [00:00<?, ?it/s]"
      ]
     },
     "metadata": {},
     "output_type": "display_data"
    },
    {
     "data": {
      "application/vnd.jupyter.widget-view+json": {
       "model_id": "4e9d6ada1fd64368941bea25cd8bc1e1",
       "version_major": 2,
       "version_minor": 0
      },
      "text/plain": [
       "Validation: |          | 0/? [00:00<?, ?it/s]"
      ]
     },
     "metadata": {},
     "output_type": "display_data"
    },
    {
     "data": {
      "application/vnd.jupyter.widget-view+json": {
       "model_id": "9df0d4f86a724aadaa347e3dce910a91",
       "version_major": 2,
       "version_minor": 0
      },
      "text/plain": [
       "Validation: |          | 0/? [00:00<?, ?it/s]"
      ]
     },
     "metadata": {},
     "output_type": "display_data"
    },
    {
     "data": {
      "application/vnd.jupyter.widget-view+json": {
       "model_id": "516027e9b77546d1be56fc628680bb88",
       "version_major": 2,
       "version_minor": 0
      },
      "text/plain": [
       "Validation: |          | 0/? [00:00<?, ?it/s]"
      ]
     },
     "metadata": {},
     "output_type": "display_data"
    },
    {
     "data": {
      "application/vnd.jupyter.widget-view+json": {
       "model_id": "af163d9342a74c77a556cc429b93fd1d",
       "version_major": 2,
       "version_minor": 0
      },
      "text/plain": [
       "Validation: |          | 0/? [00:00<?, ?it/s]"
      ]
     },
     "metadata": {},
     "output_type": "display_data"
    },
    {
     "data": {
      "application/vnd.jupyter.widget-view+json": {
       "model_id": "a0d00d5030844521aad4c314b36b2d11",
       "version_major": 2,
       "version_minor": 0
      },
      "text/plain": [
       "Validation: |          | 0/? [00:00<?, ?it/s]"
      ]
     },
     "metadata": {},
     "output_type": "display_data"
    },
    {
     "data": {
      "application/vnd.jupyter.widget-view+json": {
       "model_id": "a30fab88feee4662a01eb79eb3c01a22",
       "version_major": 2,
       "version_minor": 0
      },
      "text/plain": [
       "Validation: |          | 0/? [00:00<?, ?it/s]"
      ]
     },
     "metadata": {},
     "output_type": "display_data"
    },
    {
     "data": {
      "application/vnd.jupyter.widget-view+json": {
       "model_id": "c0e93b964b9141deab6df49058940f4b",
       "version_major": 2,
       "version_minor": 0
      },
      "text/plain": [
       "Validation: |          | 0/? [00:00<?, ?it/s]"
      ]
     },
     "metadata": {},
     "output_type": "display_data"
    },
    {
     "data": {
      "application/vnd.jupyter.widget-view+json": {
       "model_id": "d65de6b8a0784487b1344efe6defee13",
       "version_major": 2,
       "version_minor": 0
      },
      "text/plain": [
       "Validation: |          | 0/? [00:00<?, ?it/s]"
      ]
     },
     "metadata": {},
     "output_type": "display_data"
    },
    {
     "data": {
      "application/vnd.jupyter.widget-view+json": {
       "model_id": "7a957d49abc540ab959345dfbdb79bbf",
       "version_major": 2,
       "version_minor": 0
      },
      "text/plain": [
       "Validation: |          | 0/? [00:00<?, ?it/s]"
      ]
     },
     "metadata": {},
     "output_type": "display_data"
    },
    {
     "data": {
      "application/vnd.jupyter.widget-view+json": {
       "model_id": "e2d035db858a4aadabd4881d900deb99",
       "version_major": 2,
       "version_minor": 0
      },
      "text/plain": [
       "Validation: |          | 0/? [00:00<?, ?it/s]"
      ]
     },
     "metadata": {},
     "output_type": "display_data"
    },
    {
     "data": {
      "application/vnd.jupyter.widget-view+json": {
       "model_id": "1fd0023ef7144cc293f8a32433a7abb6",
       "version_major": 2,
       "version_minor": 0
      },
      "text/plain": [
       "Validation: |          | 0/? [00:00<?, ?it/s]"
      ]
     },
     "metadata": {},
     "output_type": "display_data"
    },
    {
     "data": {
      "application/vnd.jupyter.widget-view+json": {
       "model_id": "f3de802f083e499aa6cfc9e21b86950e",
       "version_major": 2,
       "version_minor": 0
      },
      "text/plain": [
       "Validation: |          | 0/? [00:00<?, ?it/s]"
      ]
     },
     "metadata": {},
     "output_type": "display_data"
    },
    {
     "data": {
      "application/vnd.jupyter.widget-view+json": {
       "model_id": "9bdee61f1cdc4a4aac4b50e98adadcc0",
       "version_major": 2,
       "version_minor": 0
      },
      "text/plain": [
       "Validation: |          | 0/? [00:00<?, ?it/s]"
      ]
     },
     "metadata": {},
     "output_type": "display_data"
    },
    {
     "data": {
      "application/vnd.jupyter.widget-view+json": {
       "model_id": "50aac6448904407aa069e42b1149c768",
       "version_major": 2,
       "version_minor": 0
      },
      "text/plain": [
       "Validation: |          | 0/? [00:00<?, ?it/s]"
      ]
     },
     "metadata": {},
     "output_type": "display_data"
    },
    {
     "data": {
      "application/vnd.jupyter.widget-view+json": {
       "model_id": "0502541ea9424a2f95aa04571d3c3a40",
       "version_major": 2,
       "version_minor": 0
      },
      "text/plain": [
       "Validation: |          | 0/? [00:00<?, ?it/s]"
      ]
     },
     "metadata": {},
     "output_type": "display_data"
    },
    {
     "data": {
      "application/vnd.jupyter.widget-view+json": {
       "model_id": "cf9212547b9741a5beba958166c9a68e",
       "version_major": 2,
       "version_minor": 0
      },
      "text/plain": [
       "Validation: |          | 0/? [00:00<?, ?it/s]"
      ]
     },
     "metadata": {},
     "output_type": "display_data"
    },
    {
     "data": {
      "application/vnd.jupyter.widget-view+json": {
       "model_id": "ef7f5258b7434ce8b80e995ae44385e5",
       "version_major": 2,
       "version_minor": 0
      },
      "text/plain": [
       "Validation: |          | 0/? [00:00<?, ?it/s]"
      ]
     },
     "metadata": {},
     "output_type": "display_data"
    },
    {
     "data": {
      "application/vnd.jupyter.widget-view+json": {
       "model_id": "e439ff3da09040ab9a08e259d9dd7861",
       "version_major": 2,
       "version_minor": 0
      },
      "text/plain": [
       "Validation: |          | 0/? [00:00<?, ?it/s]"
      ]
     },
     "metadata": {},
     "output_type": "display_data"
    },
    {
     "data": {
      "application/vnd.jupyter.widget-view+json": {
       "model_id": "1d10d5abad424b3aa12c42a93be705af",
       "version_major": 2,
       "version_minor": 0
      },
      "text/plain": [
       "Validation: |          | 0/? [00:00<?, ?it/s]"
      ]
     },
     "metadata": {},
     "output_type": "display_data"
    },
    {
     "data": {
      "application/vnd.jupyter.widget-view+json": {
       "model_id": "83093629ef914155af9540b1b4884b50",
       "version_major": 2,
       "version_minor": 0
      },
      "text/plain": [
       "Validation: |          | 0/? [00:00<?, ?it/s]"
      ]
     },
     "metadata": {},
     "output_type": "display_data"
    },
    {
     "data": {
      "application/vnd.jupyter.widget-view+json": {
       "model_id": "9c5b86bf51bc4722b1a5d57988f0e870",
       "version_major": 2,
       "version_minor": 0
      },
      "text/plain": [
       "Validation: |          | 0/? [00:00<?, ?it/s]"
      ]
     },
     "metadata": {},
     "output_type": "display_data"
    },
    {
     "data": {
      "application/vnd.jupyter.widget-view+json": {
       "model_id": "aa25abc84e6344d4be39175367cb8b94",
       "version_major": 2,
       "version_minor": 0
      },
      "text/plain": [
       "Validation: |          | 0/? [00:00<?, ?it/s]"
      ]
     },
     "metadata": {},
     "output_type": "display_data"
    },
    {
     "data": {
      "application/vnd.jupyter.widget-view+json": {
       "model_id": "6c8e6661f7aa4a90abfb609ddb6ede25",
       "version_major": 2,
       "version_minor": 0
      },
      "text/plain": [
       "Validation: |          | 0/? [00:00<?, ?it/s]"
      ]
     },
     "metadata": {},
     "output_type": "display_data"
    },
    {
     "data": {
      "application/vnd.jupyter.widget-view+json": {
       "model_id": "b90717cb61ae49ee8bfe19526c892003",
       "version_major": 2,
       "version_minor": 0
      },
      "text/plain": [
       "Validation: |          | 0/? [00:00<?, ?it/s]"
      ]
     },
     "metadata": {},
     "output_type": "display_data"
    },
    {
     "data": {
      "application/vnd.jupyter.widget-view+json": {
       "model_id": "779f02f1f9f844babf199c247100069f",
       "version_major": 2,
       "version_minor": 0
      },
      "text/plain": [
       "Validation: |          | 0/? [00:00<?, ?it/s]"
      ]
     },
     "metadata": {},
     "output_type": "display_data"
    },
    {
     "data": {
      "application/vnd.jupyter.widget-view+json": {
       "model_id": "760d345bd1914743ae80afb450f6d181",
       "version_major": 2,
       "version_minor": 0
      },
      "text/plain": [
       "Validation: |          | 0/? [00:00<?, ?it/s]"
      ]
     },
     "metadata": {},
     "output_type": "display_data"
    },
    {
     "data": {
      "application/vnd.jupyter.widget-view+json": {
       "model_id": "c757f5c0c7214a149c66fbb9cfe6644f",
       "version_major": 2,
       "version_minor": 0
      },
      "text/plain": [
       "Validation: |          | 0/? [00:00<?, ?it/s]"
      ]
     },
     "metadata": {},
     "output_type": "display_data"
    },
    {
     "data": {
      "application/vnd.jupyter.widget-view+json": {
       "model_id": "75f146541a074539b95da4a330733670",
       "version_major": 2,
       "version_minor": 0
      },
      "text/plain": [
       "Validation: |          | 0/? [00:00<?, ?it/s]"
      ]
     },
     "metadata": {},
     "output_type": "display_data"
    },
    {
     "data": {
      "application/vnd.jupyter.widget-view+json": {
       "model_id": "b9ae91646aa040bfb8d0f5a69e540b39",
       "version_major": 2,
       "version_minor": 0
      },
      "text/plain": [
       "Validation: |          | 0/? [00:00<?, ?it/s]"
      ]
     },
     "metadata": {},
     "output_type": "display_data"
    },
    {
     "data": {
      "application/vnd.jupyter.widget-view+json": {
       "model_id": "7b30355f34754c5ca4b436ae3478c3cc",
       "version_major": 2,
       "version_minor": 0
      },
      "text/plain": [
       "Validation: |          | 0/? [00:00<?, ?it/s]"
      ]
     },
     "metadata": {},
     "output_type": "display_data"
    },
    {
     "data": {
      "application/vnd.jupyter.widget-view+json": {
       "model_id": "6ab5ff214be44993ad5caf2d5e9091d4",
       "version_major": 2,
       "version_minor": 0
      },
      "text/plain": [
       "Validation: |          | 0/? [00:00<?, ?it/s]"
      ]
     },
     "metadata": {},
     "output_type": "display_data"
    },
    {
     "data": {
      "application/vnd.jupyter.widget-view+json": {
       "model_id": "04d610be2f6143aab5c966d6553df65c",
       "version_major": 2,
       "version_minor": 0
      },
      "text/plain": [
       "Validation: |          | 0/? [00:00<?, ?it/s]"
      ]
     },
     "metadata": {},
     "output_type": "display_data"
    },
    {
     "data": {
      "application/vnd.jupyter.widget-view+json": {
       "model_id": "978d8ea250c44031aa22bfa043997f1c",
       "version_major": 2,
       "version_minor": 0
      },
      "text/plain": [
       "Validation: |          | 0/? [00:00<?, ?it/s]"
      ]
     },
     "metadata": {},
     "output_type": "display_data"
    },
    {
     "data": {
      "application/vnd.jupyter.widget-view+json": {
       "model_id": "500c9b7b35f64deeb3fb3658aefe2f31",
       "version_major": 2,
       "version_minor": 0
      },
      "text/plain": [
       "Validation: |          | 0/? [00:00<?, ?it/s]"
      ]
     },
     "metadata": {},
     "output_type": "display_data"
    },
    {
     "data": {
      "application/vnd.jupyter.widget-view+json": {
       "model_id": "b9db82088e00492497bca6a273a6a368",
       "version_major": 2,
       "version_minor": 0
      },
      "text/plain": [
       "Validation: |          | 0/? [00:00<?, ?it/s]"
      ]
     },
     "metadata": {},
     "output_type": "display_data"
    },
    {
     "data": {
      "application/vnd.jupyter.widget-view+json": {
       "model_id": "9a8031c184f2441cb49d56276d78ba50",
       "version_major": 2,
       "version_minor": 0
      },
      "text/plain": [
       "Validation: |          | 0/? [00:00<?, ?it/s]"
      ]
     },
     "metadata": {},
     "output_type": "display_data"
    },
    {
     "data": {
      "application/vnd.jupyter.widget-view+json": {
       "model_id": "f9982fc69d9d43709c1a35e8173920fe",
       "version_major": 2,
       "version_minor": 0
      },
      "text/plain": [
       "Validation: |          | 0/? [00:00<?, ?it/s]"
      ]
     },
     "metadata": {},
     "output_type": "display_data"
    },
    {
     "data": {
      "application/vnd.jupyter.widget-view+json": {
       "model_id": "ba44e356d1594a1d8ae5fddced298b46",
       "version_major": 2,
       "version_minor": 0
      },
      "text/plain": [
       "Validation: |          | 0/? [00:00<?, ?it/s]"
      ]
     },
     "metadata": {},
     "output_type": "display_data"
    },
    {
     "data": {
      "application/vnd.jupyter.widget-view+json": {
       "model_id": "be0c63ebac2f4b51aa1d46ae623ee4bb",
       "version_major": 2,
       "version_minor": 0
      },
      "text/plain": [
       "Validation: |          | 0/? [00:00<?, ?it/s]"
      ]
     },
     "metadata": {},
     "output_type": "display_data"
    },
    {
     "data": {
      "application/vnd.jupyter.widget-view+json": {
       "model_id": "1becf6f241a94471a360b96fd33689ca",
       "version_major": 2,
       "version_minor": 0
      },
      "text/plain": [
       "Validation: |          | 0/? [00:00<?, ?it/s]"
      ]
     },
     "metadata": {},
     "output_type": "display_data"
    },
    {
     "data": {
      "application/vnd.jupyter.widget-view+json": {
       "model_id": "9746b7164b904ac7a629762520ce45b5",
       "version_major": 2,
       "version_minor": 0
      },
      "text/plain": [
       "Validation: |          | 0/? [00:00<?, ?it/s]"
      ]
     },
     "metadata": {},
     "output_type": "display_data"
    },
    {
     "data": {
      "application/vnd.jupyter.widget-view+json": {
       "model_id": "9246d025ea1a44dc88fb6c7168e45aa3",
       "version_major": 2,
       "version_minor": 0
      },
      "text/plain": [
       "Validation: |          | 0/? [00:00<?, ?it/s]"
      ]
     },
     "metadata": {},
     "output_type": "display_data"
    },
    {
     "data": {
      "application/vnd.jupyter.widget-view+json": {
       "model_id": "1793661cba1e47e5a3abc9d57a8080ff",
       "version_major": 2,
       "version_minor": 0
      },
      "text/plain": [
       "Validation: |          | 0/? [00:00<?, ?it/s]"
      ]
     },
     "metadata": {},
     "output_type": "display_data"
    },
    {
     "data": {
      "application/vnd.jupyter.widget-view+json": {
       "model_id": "1d9e3f6ab3944f38acafb3b50e90ae95",
       "version_major": 2,
       "version_minor": 0
      },
      "text/plain": [
       "Validation: |          | 0/? [00:00<?, ?it/s]"
      ]
     },
     "metadata": {},
     "output_type": "display_data"
    },
    {
     "data": {
      "application/vnd.jupyter.widget-view+json": {
       "model_id": "dd2731771c184140b73c03b190426a4a",
       "version_major": 2,
       "version_minor": 0
      },
      "text/plain": [
       "Validation: |          | 0/? [00:00<?, ?it/s]"
      ]
     },
     "metadata": {},
     "output_type": "display_data"
    },
    {
     "data": {
      "application/vnd.jupyter.widget-view+json": {
       "model_id": "b3ee28b859884b638fddd5aeaad977d9",
       "version_major": 2,
       "version_minor": 0
      },
      "text/plain": [
       "Validation: |          | 0/? [00:00<?, ?it/s]"
      ]
     },
     "metadata": {},
     "output_type": "display_data"
    },
    {
     "data": {
      "application/vnd.jupyter.widget-view+json": {
       "model_id": "be44ea0a23c34d7f9c585c0261177c9f",
       "version_major": 2,
       "version_minor": 0
      },
      "text/plain": [
       "Validation: |          | 0/? [00:00<?, ?it/s]"
      ]
     },
     "metadata": {},
     "output_type": "display_data"
    },
    {
     "data": {
      "application/vnd.jupyter.widget-view+json": {
       "model_id": "66501c5a41d04d3399a22eaaa014234c",
       "version_major": 2,
       "version_minor": 0
      },
      "text/plain": [
       "Validation: |          | 0/? [00:00<?, ?it/s]"
      ]
     },
     "metadata": {},
     "output_type": "display_data"
    },
    {
     "data": {
      "application/vnd.jupyter.widget-view+json": {
       "model_id": "b32dc2c5f1f342e8a3828a89e266ab7b",
       "version_major": 2,
       "version_minor": 0
      },
      "text/plain": [
       "Validation: |          | 0/? [00:00<?, ?it/s]"
      ]
     },
     "metadata": {},
     "output_type": "display_data"
    },
    {
     "data": {
      "application/vnd.jupyter.widget-view+json": {
       "model_id": "2d373292e9ab42b58d8f937d469da9b8",
       "version_major": 2,
       "version_minor": 0
      },
      "text/plain": [
       "Validation: |          | 0/? [00:00<?, ?it/s]"
      ]
     },
     "metadata": {},
     "output_type": "display_data"
    },
    {
     "data": {
      "application/vnd.jupyter.widget-view+json": {
       "model_id": "4e694917bf18485ab1f91f08f6cce691",
       "version_major": 2,
       "version_minor": 0
      },
      "text/plain": [
       "Validation: |          | 0/? [00:00<?, ?it/s]"
      ]
     },
     "metadata": {},
     "output_type": "display_data"
    },
    {
     "data": {
      "application/vnd.jupyter.widget-view+json": {
       "model_id": "a6b77460cf094d8c9f4dc958995cd346",
       "version_major": 2,
       "version_minor": 0
      },
      "text/plain": [
       "Validation: |          | 0/? [00:00<?, ?it/s]"
      ]
     },
     "metadata": {},
     "output_type": "display_data"
    },
    {
     "data": {
      "application/vnd.jupyter.widget-view+json": {
       "model_id": "2540df3b2f7e4719a5945fdea0434550",
       "version_major": 2,
       "version_minor": 0
      },
      "text/plain": [
       "Validation: |          | 0/? [00:00<?, ?it/s]"
      ]
     },
     "metadata": {},
     "output_type": "display_data"
    },
    {
     "data": {
      "application/vnd.jupyter.widget-view+json": {
       "model_id": "40f3fb8aab744fe094212edf9b7df859",
       "version_major": 2,
       "version_minor": 0
      },
      "text/plain": [
       "Validation: |          | 0/? [00:00<?, ?it/s]"
      ]
     },
     "metadata": {},
     "output_type": "display_data"
    },
    {
     "data": {
      "application/vnd.jupyter.widget-view+json": {
       "model_id": "8e09e45347f94b048db6035720bd4819",
       "version_major": 2,
       "version_minor": 0
      },
      "text/plain": [
       "Validation: |          | 0/? [00:00<?, ?it/s]"
      ]
     },
     "metadata": {},
     "output_type": "display_data"
    },
    {
     "data": {
      "application/vnd.jupyter.widget-view+json": {
       "model_id": "e262026305a24591aebde4f1661ebd7c",
       "version_major": 2,
       "version_minor": 0
      },
      "text/plain": [
       "Validation: |          | 0/? [00:00<?, ?it/s]"
      ]
     },
     "metadata": {},
     "output_type": "display_data"
    },
    {
     "data": {
      "application/vnd.jupyter.widget-view+json": {
       "model_id": "39b4862e589e46c2848ebbbc56a03711",
       "version_major": 2,
       "version_minor": 0
      },
      "text/plain": [
       "Validation: |          | 0/? [00:00<?, ?it/s]"
      ]
     },
     "metadata": {},
     "output_type": "display_data"
    },
    {
     "data": {
      "application/vnd.jupyter.widget-view+json": {
       "model_id": "33016c4fdbfb44c6946b2de364ae9d53",
       "version_major": 2,
       "version_minor": 0
      },
      "text/plain": [
       "Validation: |          | 0/? [00:00<?, ?it/s]"
      ]
     },
     "metadata": {},
     "output_type": "display_data"
    },
    {
     "data": {
      "application/vnd.jupyter.widget-view+json": {
       "model_id": "ad238907171e46a09f6b395f42a05652",
       "version_major": 2,
       "version_minor": 0
      },
      "text/plain": [
       "Validation: |          | 0/? [00:00<?, ?it/s]"
      ]
     },
     "metadata": {},
     "output_type": "display_data"
    },
    {
     "data": {
      "application/vnd.jupyter.widget-view+json": {
       "model_id": "23206ddb4c1046daa3a9015e60e4a5c0",
       "version_major": 2,
       "version_minor": 0
      },
      "text/plain": [
       "Validation: |          | 0/? [00:00<?, ?it/s]"
      ]
     },
     "metadata": {},
     "output_type": "display_data"
    },
    {
     "data": {
      "application/vnd.jupyter.widget-view+json": {
       "model_id": "6f42b10931474d43bf97b0a3164bd1f7",
       "version_major": 2,
       "version_minor": 0
      },
      "text/plain": [
       "Validation: |          | 0/? [00:00<?, ?it/s]"
      ]
     },
     "metadata": {},
     "output_type": "display_data"
    },
    {
     "data": {
      "application/vnd.jupyter.widget-view+json": {
       "model_id": "c8a43ed8709045cd84ee55c1e21a3db3",
       "version_major": 2,
       "version_minor": 0
      },
      "text/plain": [
       "Validation: |          | 0/? [00:00<?, ?it/s]"
      ]
     },
     "metadata": {},
     "output_type": "display_data"
    },
    {
     "data": {
      "application/vnd.jupyter.widget-view+json": {
       "model_id": "117e6805712a47199ded9b938a4ff626",
       "version_major": 2,
       "version_minor": 0
      },
      "text/plain": [
       "Validation: |          | 0/? [00:00<?, ?it/s]"
      ]
     },
     "metadata": {},
     "output_type": "display_data"
    },
    {
     "data": {
      "application/vnd.jupyter.widget-view+json": {
       "model_id": "a8537c1283cf42f6af52a3197aa8914b",
       "version_major": 2,
       "version_minor": 0
      },
      "text/plain": [
       "Validation: |          | 0/? [00:00<?, ?it/s]"
      ]
     },
     "metadata": {},
     "output_type": "display_data"
    },
    {
     "data": {
      "application/vnd.jupyter.widget-view+json": {
       "model_id": "d0b9f579cd274fc68502aa4214cd2844",
       "version_major": 2,
       "version_minor": 0
      },
      "text/plain": [
       "Validation: |          | 0/? [00:00<?, ?it/s]"
      ]
     },
     "metadata": {},
     "output_type": "display_data"
    },
    {
     "data": {
      "application/vnd.jupyter.widget-view+json": {
       "model_id": "dc460877ee094f1ca0723f73b257829e",
       "version_major": 2,
       "version_minor": 0
      },
      "text/plain": [
       "Validation: |          | 0/? [00:00<?, ?it/s]"
      ]
     },
     "metadata": {},
     "output_type": "display_data"
    },
    {
     "data": {
      "application/vnd.jupyter.widget-view+json": {
       "model_id": "fed4273d192e42dcaccaee221b968b24",
       "version_major": 2,
       "version_minor": 0
      },
      "text/plain": [
       "Validation: |          | 0/? [00:00<?, ?it/s]"
      ]
     },
     "metadata": {},
     "output_type": "display_data"
    },
    {
     "data": {
      "application/vnd.jupyter.widget-view+json": {
       "model_id": "dcc9835c13834369a281db6dc273ef65",
       "version_major": 2,
       "version_minor": 0
      },
      "text/plain": [
       "Validation: |          | 0/? [00:00<?, ?it/s]"
      ]
     },
     "metadata": {},
     "output_type": "display_data"
    },
    {
     "data": {
      "application/vnd.jupyter.widget-view+json": {
       "model_id": "3717af2423f74e8bbf913b4a0f6d8c10",
       "version_major": 2,
       "version_minor": 0
      },
      "text/plain": [
       "Validation: |          | 0/? [00:00<?, ?it/s]"
      ]
     },
     "metadata": {},
     "output_type": "display_data"
    },
    {
     "data": {
      "application/vnd.jupyter.widget-view+json": {
       "model_id": "25fcf970d3b543ed9d989779fd673d23",
       "version_major": 2,
       "version_minor": 0
      },
      "text/plain": [
       "Validation: |          | 0/? [00:00<?, ?it/s]"
      ]
     },
     "metadata": {},
     "output_type": "display_data"
    },
    {
     "data": {
      "application/vnd.jupyter.widget-view+json": {
       "model_id": "01d58f48f5e94205aa4111600d143b54",
       "version_major": 2,
       "version_minor": 0
      },
      "text/plain": [
       "Validation: |          | 0/? [00:00<?, ?it/s]"
      ]
     },
     "metadata": {},
     "output_type": "display_data"
    },
    {
     "data": {
      "application/vnd.jupyter.widget-view+json": {
       "model_id": "c2e23fc124bb42a482a46a42bc4c7ae4",
       "version_major": 2,
       "version_minor": 0
      },
      "text/plain": [
       "Validation: |          | 0/? [00:00<?, ?it/s]"
      ]
     },
     "metadata": {},
     "output_type": "display_data"
    },
    {
     "data": {
      "application/vnd.jupyter.widget-view+json": {
       "model_id": "868a360d304f4d99afa500563c440b18",
       "version_major": 2,
       "version_minor": 0
      },
      "text/plain": [
       "Validation: |          | 0/? [00:00<?, ?it/s]"
      ]
     },
     "metadata": {},
     "output_type": "display_data"
    },
    {
     "data": {
      "application/vnd.jupyter.widget-view+json": {
       "model_id": "4f6356d0c2af45ba8bceb827dad985ae",
       "version_major": 2,
       "version_minor": 0
      },
      "text/plain": [
       "Validation: |          | 0/? [00:00<?, ?it/s]"
      ]
     },
     "metadata": {},
     "output_type": "display_data"
    },
    {
     "data": {
      "application/vnd.jupyter.widget-view+json": {
       "model_id": "a6adba88bc834fccbf1553e74ec0f5da",
       "version_major": 2,
       "version_minor": 0
      },
      "text/plain": [
       "Validation: |          | 0/? [00:00<?, ?it/s]"
      ]
     },
     "metadata": {},
     "output_type": "display_data"
    },
    {
     "data": {
      "application/vnd.jupyter.widget-view+json": {
       "model_id": "2204fc5662fe4263acfec86de9c7dbf4",
       "version_major": 2,
       "version_minor": 0
      },
      "text/plain": [
       "Validation: |          | 0/? [00:00<?, ?it/s]"
      ]
     },
     "metadata": {},
     "output_type": "display_data"
    },
    {
     "data": {
      "application/vnd.jupyter.widget-view+json": {
       "model_id": "cee35abd5d5041c8b28b59aed9ff4749",
       "version_major": 2,
       "version_minor": 0
      },
      "text/plain": [
       "Validation: |          | 0/? [00:00<?, ?it/s]"
      ]
     },
     "metadata": {},
     "output_type": "display_data"
    },
    {
     "data": {
      "application/vnd.jupyter.widget-view+json": {
       "model_id": "2fba3eb9b5be4ad896c9b7ecd5a75f80",
       "version_major": 2,
       "version_minor": 0
      },
      "text/plain": [
       "Validation: |          | 0/? [00:00<?, ?it/s]"
      ]
     },
     "metadata": {},
     "output_type": "display_data"
    },
    {
     "data": {
      "application/vnd.jupyter.widget-view+json": {
       "model_id": "fa0bef14b81448c7906c990436c4c99d",
       "version_major": 2,
       "version_minor": 0
      },
      "text/plain": [
       "Validation: |          | 0/? [00:00<?, ?it/s]"
      ]
     },
     "metadata": {},
     "output_type": "display_data"
    },
    {
     "data": {
      "application/vnd.jupyter.widget-view+json": {
       "model_id": "1a82a3a6b38047ea93260ef439b6c658",
       "version_major": 2,
       "version_minor": 0
      },
      "text/plain": [
       "Validation: |          | 0/? [00:00<?, ?it/s]"
      ]
     },
     "metadata": {},
     "output_type": "display_data"
    },
    {
     "data": {
      "application/vnd.jupyter.widget-view+json": {
       "model_id": "38e6b47917814ce08b5a0ca7288bd767",
       "version_major": 2,
       "version_minor": 0
      },
      "text/plain": [
       "Validation: |          | 0/? [00:00<?, ?it/s]"
      ]
     },
     "metadata": {},
     "output_type": "display_data"
    },
    {
     "data": {
      "application/vnd.jupyter.widget-view+json": {
       "model_id": "f9abc6aad10149d090256332b33acf2f",
       "version_major": 2,
       "version_minor": 0
      },
      "text/plain": [
       "Validation: |          | 0/? [00:00<?, ?it/s]"
      ]
     },
     "metadata": {},
     "output_type": "display_data"
    },
    {
     "data": {
      "application/vnd.jupyter.widget-view+json": {
       "model_id": "2deb29c5b2454e3e89ce21384b97f375",
       "version_major": 2,
       "version_minor": 0
      },
      "text/plain": [
       "Validation: |          | 0/? [00:00<?, ?it/s]"
      ]
     },
     "metadata": {},
     "output_type": "display_data"
    },
    {
     "data": {
      "application/vnd.jupyter.widget-view+json": {
       "model_id": "1dbebd47940147e9b62440044634389a",
       "version_major": 2,
       "version_minor": 0
      },
      "text/plain": [
       "Validation: |          | 0/? [00:00<?, ?it/s]"
      ]
     },
     "metadata": {},
     "output_type": "display_data"
    },
    {
     "data": {
      "application/vnd.jupyter.widget-view+json": {
       "model_id": "423a5bd92cde44dd8263b52e35e2def8",
       "version_major": 2,
       "version_minor": 0
      },
      "text/plain": [
       "Validation: |          | 0/? [00:00<?, ?it/s]"
      ]
     },
     "metadata": {},
     "output_type": "display_data"
    },
    {
     "data": {
      "application/vnd.jupyter.widget-view+json": {
       "model_id": "8db9890f24d44e09a7f2a8287b6599b7",
       "version_major": 2,
       "version_minor": 0
      },
      "text/plain": [
       "Validation: |          | 0/? [00:00<?, ?it/s]"
      ]
     },
     "metadata": {},
     "output_type": "display_data"
    },
    {
     "data": {
      "application/vnd.jupyter.widget-view+json": {
       "model_id": "dfdafdebdf7c4119b45d2cd5af609c68",
       "version_major": 2,
       "version_minor": 0
      },
      "text/plain": [
       "Validation: |          | 0/? [00:00<?, ?it/s]"
      ]
     },
     "metadata": {},
     "output_type": "display_data"
    },
    {
     "data": {
      "application/vnd.jupyter.widget-view+json": {
       "model_id": "281ee277e2cc4967bfbd96828003b33e",
       "version_major": 2,
       "version_minor": 0
      },
      "text/plain": [
       "Validation: |          | 0/? [00:00<?, ?it/s]"
      ]
     },
     "metadata": {},
     "output_type": "display_data"
    },
    {
     "data": {
      "application/vnd.jupyter.widget-view+json": {
       "model_id": "353cee7c4d3a475dab1f56f3e123f413",
       "version_major": 2,
       "version_minor": 0
      },
      "text/plain": [
       "Validation: |          | 0/? [00:00<?, ?it/s]"
      ]
     },
     "metadata": {},
     "output_type": "display_data"
    },
    {
     "data": {
      "application/vnd.jupyter.widget-view+json": {
       "model_id": "fd4aa1024b0347dcb8fcf2ae4b858f31",
       "version_major": 2,
       "version_minor": 0
      },
      "text/plain": [
       "Validation: |          | 0/? [00:00<?, ?it/s]"
      ]
     },
     "metadata": {},
     "output_type": "display_data"
    },
    {
     "data": {
      "application/vnd.jupyter.widget-view+json": {
       "model_id": "7cd3c7cd0ba94266a3e5bb73ee0b51a1",
       "version_major": 2,
       "version_minor": 0
      },
      "text/plain": [
       "Validation: |          | 0/? [00:00<?, ?it/s]"
      ]
     },
     "metadata": {},
     "output_type": "display_data"
    },
    {
     "data": {
      "application/vnd.jupyter.widget-view+json": {
       "model_id": "5646eefd3c6442bfb5fcc0e49b7263ce",
       "version_major": 2,
       "version_minor": 0
      },
      "text/plain": [
       "Validation: |          | 0/? [00:00<?, ?it/s]"
      ]
     },
     "metadata": {},
     "output_type": "display_data"
    },
    {
     "data": {
      "application/vnd.jupyter.widget-view+json": {
       "model_id": "2952739990c44062bf59a0233cecc031",
       "version_major": 2,
       "version_minor": 0
      },
      "text/plain": [
       "Validation: |          | 0/? [00:00<?, ?it/s]"
      ]
     },
     "metadata": {},
     "output_type": "display_data"
    },
    {
     "data": {
      "application/vnd.jupyter.widget-view+json": {
       "model_id": "93e6064567ee4710a4c3f7497f9d29e4",
       "version_major": 2,
       "version_minor": 0
      },
      "text/plain": [
       "Validation: |          | 0/? [00:00<?, ?it/s]"
      ]
     },
     "metadata": {},
     "output_type": "display_data"
    },
    {
     "data": {
      "application/vnd.jupyter.widget-view+json": {
       "model_id": "b313b0b4ce7f4b758a719404e43ad5ab",
       "version_major": 2,
       "version_minor": 0
      },
      "text/plain": [
       "Validation: |          | 0/? [00:00<?, ?it/s]"
      ]
     },
     "metadata": {},
     "output_type": "display_data"
    },
    {
     "data": {
      "application/vnd.jupyter.widget-view+json": {
       "model_id": "5b2a3b9029ac4966be910e592decf3ee",
       "version_major": 2,
       "version_minor": 0
      },
      "text/plain": [
       "Validation: |          | 0/? [00:00<?, ?it/s]"
      ]
     },
     "metadata": {},
     "output_type": "display_data"
    },
    {
     "data": {
      "application/vnd.jupyter.widget-view+json": {
       "model_id": "c84e9913ce144b38b387b1461d3ea46f",
       "version_major": 2,
       "version_minor": 0
      },
      "text/plain": [
       "Validation: |          | 0/? [00:00<?, ?it/s]"
      ]
     },
     "metadata": {},
     "output_type": "display_data"
    },
    {
     "data": {
      "application/vnd.jupyter.widget-view+json": {
       "model_id": "616dbbd1217c43308f4008bd00f82f6c",
       "version_major": 2,
       "version_minor": 0
      },
      "text/plain": [
       "Validation: |          | 0/? [00:00<?, ?it/s]"
      ]
     },
     "metadata": {},
     "output_type": "display_data"
    },
    {
     "data": {
      "application/vnd.jupyter.widget-view+json": {
       "model_id": "f7372b73320c4005bfb4ca597a1bce49",
       "version_major": 2,
       "version_minor": 0
      },
      "text/plain": [
       "Validation: |          | 0/? [00:00<?, ?it/s]"
      ]
     },
     "metadata": {},
     "output_type": "display_data"
    },
    {
     "data": {
      "application/vnd.jupyter.widget-view+json": {
       "model_id": "7a3caea4bd04493384186ee733353e33",
       "version_major": 2,
       "version_minor": 0
      },
      "text/plain": [
       "Validation: |          | 0/? [00:00<?, ?it/s]"
      ]
     },
     "metadata": {},
     "output_type": "display_data"
    },
    {
     "data": {
      "application/vnd.jupyter.widget-view+json": {
       "model_id": "420bfe7880b44c4482b9fba300fe8c54",
       "version_major": 2,
       "version_minor": 0
      },
      "text/plain": [
       "Validation: |          | 0/? [00:00<?, ?it/s]"
      ]
     },
     "metadata": {},
     "output_type": "display_data"
    },
    {
     "data": {
      "application/vnd.jupyter.widget-view+json": {
       "model_id": "26ef278d93e24e55beec022f095bab06",
       "version_major": 2,
       "version_minor": 0
      },
      "text/plain": [
       "Validation: |          | 0/? [00:00<?, ?it/s]"
      ]
     },
     "metadata": {},
     "output_type": "display_data"
    },
    {
     "data": {
      "application/vnd.jupyter.widget-view+json": {
       "model_id": "ce9f4f21716748348f673e8f2f007e7b",
       "version_major": 2,
       "version_minor": 0
      },
      "text/plain": [
       "Validation: |          | 0/? [00:00<?, ?it/s]"
      ]
     },
     "metadata": {},
     "output_type": "display_data"
    },
    {
     "data": {
      "application/vnd.jupyter.widget-view+json": {
       "model_id": "d4d738c194f74a3fb36fb71f9777f194",
       "version_major": 2,
       "version_minor": 0
      },
      "text/plain": [
       "Validation: |          | 0/? [00:00<?, ?it/s]"
      ]
     },
     "metadata": {},
     "output_type": "display_data"
    },
    {
     "data": {
      "application/vnd.jupyter.widget-view+json": {
       "model_id": "cdbb7fde09804cddb79b657a8faae294",
       "version_major": 2,
       "version_minor": 0
      },
      "text/plain": [
       "Validation: |          | 0/? [00:00<?, ?it/s]"
      ]
     },
     "metadata": {},
     "output_type": "display_data"
    },
    {
     "data": {
      "application/vnd.jupyter.widget-view+json": {
       "model_id": "43a5bd9bd3c44faf8f80967c253b6bfd",
       "version_major": 2,
       "version_minor": 0
      },
      "text/plain": [
       "Validation: |          | 0/? [00:00<?, ?it/s]"
      ]
     },
     "metadata": {},
     "output_type": "display_data"
    },
    {
     "data": {
      "application/vnd.jupyter.widget-view+json": {
       "model_id": "81b49ccf7ddf496c9694de08484096aa",
       "version_major": 2,
       "version_minor": 0
      },
      "text/plain": [
       "Validation: |          | 0/? [00:00<?, ?it/s]"
      ]
     },
     "metadata": {},
     "output_type": "display_data"
    },
    {
     "data": {
      "application/vnd.jupyter.widget-view+json": {
       "model_id": "6145d412671d4cc2b90163fb0869a262",
       "version_major": 2,
       "version_minor": 0
      },
      "text/plain": [
       "Validation: |          | 0/? [00:00<?, ?it/s]"
      ]
     },
     "metadata": {},
     "output_type": "display_data"
    },
    {
     "data": {
      "application/vnd.jupyter.widget-view+json": {
       "model_id": "22cb8ba49b5446e6b5c7497207499d72",
       "version_major": 2,
       "version_minor": 0
      },
      "text/plain": [
       "Validation: |          | 0/? [00:00<?, ?it/s]"
      ]
     },
     "metadata": {},
     "output_type": "display_data"
    },
    {
     "data": {
      "application/vnd.jupyter.widget-view+json": {
       "model_id": "20e1e0dbf92b437f8eb4e99252b5cdaf",
       "version_major": 2,
       "version_minor": 0
      },
      "text/plain": [
       "Validation: |          | 0/? [00:00<?, ?it/s]"
      ]
     },
     "metadata": {},
     "output_type": "display_data"
    },
    {
     "data": {
      "application/vnd.jupyter.widget-view+json": {
       "model_id": "39a6d5d173044e418192a555767f009e",
       "version_major": 2,
       "version_minor": 0
      },
      "text/plain": [
       "Validation: |          | 0/? [00:00<?, ?it/s]"
      ]
     },
     "metadata": {},
     "output_type": "display_data"
    },
    {
     "data": {
      "application/vnd.jupyter.widget-view+json": {
       "model_id": "a2c67f9986734190b77055c664814a44",
       "version_major": 2,
       "version_minor": 0
      },
      "text/plain": [
       "Validation: |          | 0/? [00:00<?, ?it/s]"
      ]
     },
     "metadata": {},
     "output_type": "display_data"
    },
    {
     "data": {
      "application/vnd.jupyter.widget-view+json": {
       "model_id": "47f42929bae948dab13a7bb20ade97be",
       "version_major": 2,
       "version_minor": 0
      },
      "text/plain": [
       "Validation: |          | 0/? [00:00<?, ?it/s]"
      ]
     },
     "metadata": {},
     "output_type": "display_data"
    },
    {
     "data": {
      "application/vnd.jupyter.widget-view+json": {
       "model_id": "e8cabed0476f49fea34e28c47b83ec07",
       "version_major": 2,
       "version_minor": 0
      },
      "text/plain": [
       "Validation: |          | 0/? [00:00<?, ?it/s]"
      ]
     },
     "metadata": {},
     "output_type": "display_data"
    },
    {
     "data": {
      "application/vnd.jupyter.widget-view+json": {
       "model_id": "011f11e13e874c55a51509bb77a6ba17",
       "version_major": 2,
       "version_minor": 0
      },
      "text/plain": [
       "Validation: |          | 0/? [00:00<?, ?it/s]"
      ]
     },
     "metadata": {},
     "output_type": "display_data"
    },
    {
     "data": {
      "application/vnd.jupyter.widget-view+json": {
       "model_id": "5cf098c9364e41febe79cee140823b48",
       "version_major": 2,
       "version_minor": 0
      },
      "text/plain": [
       "Validation: |          | 0/? [00:00<?, ?it/s]"
      ]
     },
     "metadata": {},
     "output_type": "display_data"
    },
    {
     "data": {
      "application/vnd.jupyter.widget-view+json": {
       "model_id": "39bd6154dd9543fe9ea4b591c886328a",
       "version_major": 2,
       "version_minor": 0
      },
      "text/plain": [
       "Validation: |          | 0/? [00:00<?, ?it/s]"
      ]
     },
     "metadata": {},
     "output_type": "display_data"
    },
    {
     "data": {
      "application/vnd.jupyter.widget-view+json": {
       "model_id": "6427e80c704d479ba56941b5abfacfb7",
       "version_major": 2,
       "version_minor": 0
      },
      "text/plain": [
       "Validation: |          | 0/? [00:00<?, ?it/s]"
      ]
     },
     "metadata": {},
     "output_type": "display_data"
    },
    {
     "data": {
      "application/vnd.jupyter.widget-view+json": {
       "model_id": "8c90a107063240a5a04141bde4b71240",
       "version_major": 2,
       "version_minor": 0
      },
      "text/plain": [
       "Validation: |          | 0/? [00:00<?, ?it/s]"
      ]
     },
     "metadata": {},
     "output_type": "display_data"
    },
    {
     "data": {
      "application/vnd.jupyter.widget-view+json": {
       "model_id": "514b8b8ddeac453db47d16bab412ee8f",
       "version_major": 2,
       "version_minor": 0
      },
      "text/plain": [
       "Validation: |          | 0/? [00:00<?, ?it/s]"
      ]
     },
     "metadata": {},
     "output_type": "display_data"
    },
    {
     "data": {
      "application/vnd.jupyter.widget-view+json": {
       "model_id": "8cfcbdb0d0f849c89c63588fcb426d46",
       "version_major": 2,
       "version_minor": 0
      },
      "text/plain": [
       "Validation: |          | 0/? [00:00<?, ?it/s]"
      ]
     },
     "metadata": {},
     "output_type": "display_data"
    },
    {
     "data": {
      "application/vnd.jupyter.widget-view+json": {
       "model_id": "8763a668440c4fbdb872872ad9b765df",
       "version_major": 2,
       "version_minor": 0
      },
      "text/plain": [
       "Validation: |          | 0/? [00:00<?, ?it/s]"
      ]
     },
     "metadata": {},
     "output_type": "display_data"
    },
    {
     "data": {
      "application/vnd.jupyter.widget-view+json": {
       "model_id": "cc906635fb2445638017f52b40958f4d",
       "version_major": 2,
       "version_minor": 0
      },
      "text/plain": [
       "Validation: |          | 0/? [00:00<?, ?it/s]"
      ]
     },
     "metadata": {},
     "output_type": "display_data"
    },
    {
     "data": {
      "application/vnd.jupyter.widget-view+json": {
       "model_id": "8ddd0a02837c4165b4849d0436df7d32",
       "version_major": 2,
       "version_minor": 0
      },
      "text/plain": [
       "Validation: |          | 0/? [00:00<?, ?it/s]"
      ]
     },
     "metadata": {},
     "output_type": "display_data"
    },
    {
     "data": {
      "application/vnd.jupyter.widget-view+json": {
       "model_id": "70cdf61bd7b749c896107f6386e84843",
       "version_major": 2,
       "version_minor": 0
      },
      "text/plain": [
       "Validation: |          | 0/? [00:00<?, ?it/s]"
      ]
     },
     "metadata": {},
     "output_type": "display_data"
    },
    {
     "data": {
      "application/vnd.jupyter.widget-view+json": {
       "model_id": "5f2b89a36b954a2182490ad41058e3d4",
       "version_major": 2,
       "version_minor": 0
      },
      "text/plain": [
       "Validation: |          | 0/? [00:00<?, ?it/s]"
      ]
     },
     "metadata": {},
     "output_type": "display_data"
    },
    {
     "data": {
      "application/vnd.jupyter.widget-view+json": {
       "model_id": "84d63324c21b48b3bd3f584dbfbdc9bc",
       "version_major": 2,
       "version_minor": 0
      },
      "text/plain": [
       "Validation: |          | 0/? [00:00<?, ?it/s]"
      ]
     },
     "metadata": {},
     "output_type": "display_data"
    },
    {
     "data": {
      "application/vnd.jupyter.widget-view+json": {
       "model_id": "4f2d039238c845109912208085d9c385",
       "version_major": 2,
       "version_minor": 0
      },
      "text/plain": [
       "Validation: |          | 0/? [00:00<?, ?it/s]"
      ]
     },
     "metadata": {},
     "output_type": "display_data"
    },
    {
     "data": {
      "application/vnd.jupyter.widget-view+json": {
       "model_id": "1e49461fbf4a447480d2124f67d2e578",
       "version_major": 2,
       "version_minor": 0
      },
      "text/plain": [
       "Validation: |          | 0/? [00:00<?, ?it/s]"
      ]
     },
     "metadata": {},
     "output_type": "display_data"
    },
    {
     "data": {
      "application/vnd.jupyter.widget-view+json": {
       "model_id": "9da8a55c120d425486f05046e444efa9",
       "version_major": 2,
       "version_minor": 0
      },
      "text/plain": [
       "Validation: |          | 0/? [00:00<?, ?it/s]"
      ]
     },
     "metadata": {},
     "output_type": "display_data"
    },
    {
     "data": {
      "application/vnd.jupyter.widget-view+json": {
       "model_id": "fabf5b12e6c84c6983634890edce3ba6",
       "version_major": 2,
       "version_minor": 0
      },
      "text/plain": [
       "Validation: |          | 0/? [00:00<?, ?it/s]"
      ]
     },
     "metadata": {},
     "output_type": "display_data"
    },
    {
     "data": {
      "application/vnd.jupyter.widget-view+json": {
       "model_id": "7c9416e32d1b43d7a4d3e46b425a0ed2",
       "version_major": 2,
       "version_minor": 0
      },
      "text/plain": [
       "Validation: |          | 0/? [00:00<?, ?it/s]"
      ]
     },
     "metadata": {},
     "output_type": "display_data"
    },
    {
     "data": {
      "application/vnd.jupyter.widget-view+json": {
       "model_id": "27b832f774a44f7c93cfe2c3306f32e3",
       "version_major": 2,
       "version_minor": 0
      },
      "text/plain": [
       "Validation: |          | 0/? [00:00<?, ?it/s]"
      ]
     },
     "metadata": {},
     "output_type": "display_data"
    },
    {
     "data": {
      "application/vnd.jupyter.widget-view+json": {
       "model_id": "f681c0ebe56b44958393d0277de1de3a",
       "version_major": 2,
       "version_minor": 0
      },
      "text/plain": [
       "Validation: |          | 0/? [00:00<?, ?it/s]"
      ]
     },
     "metadata": {},
     "output_type": "display_data"
    },
    {
     "data": {
      "application/vnd.jupyter.widget-view+json": {
       "model_id": "ff1202d766f94b2e86078d12667e65af",
       "version_major": 2,
       "version_minor": 0
      },
      "text/plain": [
       "Validation: |          | 0/? [00:00<?, ?it/s]"
      ]
     },
     "metadata": {},
     "output_type": "display_data"
    },
    {
     "data": {
      "application/vnd.jupyter.widget-view+json": {
       "model_id": "7b86269b765e44cfbb21a4fe64c1d42d",
       "version_major": 2,
       "version_minor": 0
      },
      "text/plain": [
       "Validation: |          | 0/? [00:00<?, ?it/s]"
      ]
     },
     "metadata": {},
     "output_type": "display_data"
    },
    {
     "data": {
      "application/vnd.jupyter.widget-view+json": {
       "model_id": "7e14aec4f5064ff5b06d234591ac38b8",
       "version_major": 2,
       "version_minor": 0
      },
      "text/plain": [
       "Validation: |          | 0/? [00:00<?, ?it/s]"
      ]
     },
     "metadata": {},
     "output_type": "display_data"
    },
    {
     "data": {
      "application/vnd.jupyter.widget-view+json": {
       "model_id": "f8337ebca08a496da62be343802be638",
       "version_major": 2,
       "version_minor": 0
      },
      "text/plain": [
       "Validation: |          | 0/? [00:00<?, ?it/s]"
      ]
     },
     "metadata": {},
     "output_type": "display_data"
    },
    {
     "data": {
      "application/vnd.jupyter.widget-view+json": {
       "model_id": "9327db2b927a45b49719b2b5b17c0aac",
       "version_major": 2,
       "version_minor": 0
      },
      "text/plain": [
       "Validation: |          | 0/? [00:00<?, ?it/s]"
      ]
     },
     "metadata": {},
     "output_type": "display_data"
    },
    {
     "data": {
      "application/vnd.jupyter.widget-view+json": {
       "model_id": "afd60f8871c34c9d96361edd34c4f09c",
       "version_major": 2,
       "version_minor": 0
      },
      "text/plain": [
       "Validation: |          | 0/? [00:00<?, ?it/s]"
      ]
     },
     "metadata": {},
     "output_type": "display_data"
    },
    {
     "data": {
      "application/vnd.jupyter.widget-view+json": {
       "model_id": "3c5e792deecd43ed84635ec1a7cc5a27",
       "version_major": 2,
       "version_minor": 0
      },
      "text/plain": [
       "Validation: |          | 0/? [00:00<?, ?it/s]"
      ]
     },
     "metadata": {},
     "output_type": "display_data"
    },
    {
     "data": {
      "application/vnd.jupyter.widget-view+json": {
       "model_id": "9114e6ebd2464c6eb919eba08b538097",
       "version_major": 2,
       "version_minor": 0
      },
      "text/plain": [
       "Validation: |          | 0/? [00:00<?, ?it/s]"
      ]
     },
     "metadata": {},
     "output_type": "display_data"
    },
    {
     "data": {
      "application/vnd.jupyter.widget-view+json": {
       "model_id": "be7be98c83024bb1890261c3a7382e22",
       "version_major": 2,
       "version_minor": 0
      },
      "text/plain": [
       "Validation: |          | 0/? [00:00<?, ?it/s]"
      ]
     },
     "metadata": {},
     "output_type": "display_data"
    },
    {
     "data": {
      "application/vnd.jupyter.widget-view+json": {
       "model_id": "99e2f1f635ae450691c88256a5bab563",
       "version_major": 2,
       "version_minor": 0
      },
      "text/plain": [
       "Validation: |          | 0/? [00:00<?, ?it/s]"
      ]
     },
     "metadata": {},
     "output_type": "display_data"
    },
    {
     "data": {
      "application/vnd.jupyter.widget-view+json": {
       "model_id": "42e59ba33580447c8cf40a83178b512d",
       "version_major": 2,
       "version_minor": 0
      },
      "text/plain": [
       "Validation: |          | 0/? [00:00<?, ?it/s]"
      ]
     },
     "metadata": {},
     "output_type": "display_data"
    },
    {
     "data": {
      "application/vnd.jupyter.widget-view+json": {
       "model_id": "c1c69f02d56c43babbf97cc78f20c125",
       "version_major": 2,
       "version_minor": 0
      },
      "text/plain": [
       "Validation: |          | 0/? [00:00<?, ?it/s]"
      ]
     },
     "metadata": {},
     "output_type": "display_data"
    },
    {
     "data": {
      "application/vnd.jupyter.widget-view+json": {
       "model_id": "ed51343aca6c4ef7bdba90e32c5fbeae",
       "version_major": 2,
       "version_minor": 0
      },
      "text/plain": [
       "Validation: |          | 0/? [00:00<?, ?it/s]"
      ]
     },
     "metadata": {},
     "output_type": "display_data"
    },
    {
     "data": {
      "application/vnd.jupyter.widget-view+json": {
       "model_id": "0b627d740c5647b790dbf9fb29c0dc79",
       "version_major": 2,
       "version_minor": 0
      },
      "text/plain": [
       "Validation: |          | 0/? [00:00<?, ?it/s]"
      ]
     },
     "metadata": {},
     "output_type": "display_data"
    },
    {
     "data": {
      "application/vnd.jupyter.widget-view+json": {
       "model_id": "0ef4974fd501471a8c4bb10cc0258064",
       "version_major": 2,
       "version_minor": 0
      },
      "text/plain": [
       "Validation: |          | 0/? [00:00<?, ?it/s]"
      ]
     },
     "metadata": {},
     "output_type": "display_data"
    },
    {
     "data": {
      "application/vnd.jupyter.widget-view+json": {
       "model_id": "70696156ea01446bbef36bac5fd10671",
       "version_major": 2,
       "version_minor": 0
      },
      "text/plain": [
       "Validation: |          | 0/? [00:00<?, ?it/s]"
      ]
     },
     "metadata": {},
     "output_type": "display_data"
    },
    {
     "data": {
      "application/vnd.jupyter.widget-view+json": {
       "model_id": "d14e221c5ccf4b3c919e0218e11d689b",
       "version_major": 2,
       "version_minor": 0
      },
      "text/plain": [
       "Validation: |          | 0/? [00:00<?, ?it/s]"
      ]
     },
     "metadata": {},
     "output_type": "display_data"
    },
    {
     "data": {
      "application/vnd.jupyter.widget-view+json": {
       "model_id": "a251c7e4a72341e994ffb7ab75afff70",
       "version_major": 2,
       "version_minor": 0
      },
      "text/plain": [
       "Validation: |          | 0/? [00:00<?, ?it/s]"
      ]
     },
     "metadata": {},
     "output_type": "display_data"
    },
    {
     "data": {
      "application/vnd.jupyter.widget-view+json": {
       "model_id": "3049cfc47aa840f8aef986e725a4ce6c",
       "version_major": 2,
       "version_minor": 0
      },
      "text/plain": [
       "Validation: |          | 0/? [00:00<?, ?it/s]"
      ]
     },
     "metadata": {},
     "output_type": "display_data"
    },
    {
     "data": {
      "application/vnd.jupyter.widget-view+json": {
       "model_id": "b69281e9f6da4515bff44845b6dcf9ad",
       "version_major": 2,
       "version_minor": 0
      },
      "text/plain": [
       "Validation: |          | 0/? [00:00<?, ?it/s]"
      ]
     },
     "metadata": {},
     "output_type": "display_data"
    },
    {
     "data": {
      "application/vnd.jupyter.widget-view+json": {
       "model_id": "181e073b37ca40d5968eaf4b6dc41394",
       "version_major": 2,
       "version_minor": 0
      },
      "text/plain": [
       "Validation: |          | 0/? [00:00<?, ?it/s]"
      ]
     },
     "metadata": {},
     "output_type": "display_data"
    },
    {
     "data": {
      "application/vnd.jupyter.widget-view+json": {
       "model_id": "025866f0d0314672bc040fede55da64a",
       "version_major": 2,
       "version_minor": 0
      },
      "text/plain": [
       "Validation: |          | 0/? [00:00<?, ?it/s]"
      ]
     },
     "metadata": {},
     "output_type": "display_data"
    },
    {
     "data": {
      "application/vnd.jupyter.widget-view+json": {
       "model_id": "6f56cbbb14e9439cb29b4e833e46e1d3",
       "version_major": 2,
       "version_minor": 0
      },
      "text/plain": [
       "Validation: |          | 0/? [00:00<?, ?it/s]"
      ]
     },
     "metadata": {},
     "output_type": "display_data"
    },
    {
     "data": {
      "application/vnd.jupyter.widget-view+json": {
       "model_id": "20e65cbd8b16442dbe420cf707946d75",
       "version_major": 2,
       "version_minor": 0
      },
      "text/plain": [
       "Validation: |          | 0/? [00:00<?, ?it/s]"
      ]
     },
     "metadata": {},
     "output_type": "display_data"
    },
    {
     "data": {
      "application/vnd.jupyter.widget-view+json": {
       "model_id": "085f71aa950f435f989a02518ad23dd4",
       "version_major": 2,
       "version_minor": 0
      },
      "text/plain": [
       "Validation: |          | 0/? [00:00<?, ?it/s]"
      ]
     },
     "metadata": {},
     "output_type": "display_data"
    },
    {
     "data": {
      "application/vnd.jupyter.widget-view+json": {
       "model_id": "bceef1ffa6a9499cb6adc1b2ad927667",
       "version_major": 2,
       "version_minor": 0
      },
      "text/plain": [
       "Validation: |          | 0/? [00:00<?, ?it/s]"
      ]
     },
     "metadata": {},
     "output_type": "display_data"
    },
    {
     "data": {
      "application/vnd.jupyter.widget-view+json": {
       "model_id": "9a836d0be3f74560b561e7e71141cb2c",
       "version_major": 2,
       "version_minor": 0
      },
      "text/plain": [
       "Validation: |          | 0/? [00:00<?, ?it/s]"
      ]
     },
     "metadata": {},
     "output_type": "display_data"
    },
    {
     "data": {
      "application/vnd.jupyter.widget-view+json": {
       "model_id": "b3ef640c11de42bca2ccd3ce072f500e",
       "version_major": 2,
       "version_minor": 0
      },
      "text/plain": [
       "Validation: |          | 0/? [00:00<?, ?it/s]"
      ]
     },
     "metadata": {},
     "output_type": "display_data"
    },
    {
     "data": {
      "application/vnd.jupyter.widget-view+json": {
       "model_id": "ba76e55982ff4e43aa40990d3a01e5f4",
       "version_major": 2,
       "version_minor": 0
      },
      "text/plain": [
       "Validation: |          | 0/? [00:00<?, ?it/s]"
      ]
     },
     "metadata": {},
     "output_type": "display_data"
    },
    {
     "data": {
      "application/vnd.jupyter.widget-view+json": {
       "model_id": "da569cf002f249329baf18ecc5a76a89",
       "version_major": 2,
       "version_minor": 0
      },
      "text/plain": [
       "Validation: |          | 0/? [00:00<?, ?it/s]"
      ]
     },
     "metadata": {},
     "output_type": "display_data"
    },
    {
     "data": {
      "application/vnd.jupyter.widget-view+json": {
       "model_id": "d30abdd867934e349051eab62480589a",
       "version_major": 2,
       "version_minor": 0
      },
      "text/plain": [
       "Validation: |          | 0/? [00:00<?, ?it/s]"
      ]
     },
     "metadata": {},
     "output_type": "display_data"
    },
    {
     "data": {
      "application/vnd.jupyter.widget-view+json": {
       "model_id": "efcbf4ebaa5f4710a961e8d3fbe62614",
       "version_major": 2,
       "version_minor": 0
      },
      "text/plain": [
       "Validation: |          | 0/? [00:00<?, ?it/s]"
      ]
     },
     "metadata": {},
     "output_type": "display_data"
    },
    {
     "data": {
      "application/vnd.jupyter.widget-view+json": {
       "model_id": "17437aff4220443e99c96d21bcda480d",
       "version_major": 2,
       "version_minor": 0
      },
      "text/plain": [
       "Validation: |          | 0/? [00:00<?, ?it/s]"
      ]
     },
     "metadata": {},
     "output_type": "display_data"
    },
    {
     "data": {
      "application/vnd.jupyter.widget-view+json": {
       "model_id": "2c2182277c154fe1a39b6921224282cd",
       "version_major": 2,
       "version_minor": 0
      },
      "text/plain": [
       "Validation: |          | 0/? [00:00<?, ?it/s]"
      ]
     },
     "metadata": {},
     "output_type": "display_data"
    },
    {
     "name": "stderr",
     "output_type": "stream",
     "text": [
      "INFO:pytorch_lightning.utilities.rank_zero:`Trainer.fit` stopped: `max_epochs=200` reached.\n"
     ]
    }
   ],
   "source": [
    "# Step 5: Train the Model\n",
    "model = LightningRegressor()\n",
    "trainer = pl.Trainer(max_epochs=200, log_every_n_steps=10, enable_progress_bar=True)\n",
    "trainer.fit(model, train_dl, val_dl)\n"
   ]
  },
  {
   "cell_type": "code",
   "execution_count": 7,
   "metadata": {
    "id": "if2XhtvqZmxG"
   },
   "outputs": [],
   "source": [
    "# Step 6: Predictions on Full Dataset\n",
    "model.eval()\n",
    "with torch.no_grad():\n",
    "    y_pred = model(X)\n"
   ]
  },
  {
   "cell_type": "code",
   "execution_count": 9,
   "metadata": {
    "colab": {
     "base_uri": "https://localhost:8080/",
     "height": 755,
     "referenced_widgets": [
      "63568f37e99544ff995647863031a099",
      "f7c962c01ffc4843ae2d0328f574d805",
      "e445c2f11cad4bffa50e312d95f6e87b",
      "1c55cb460a324e0fbe3330e0200042b2",
      "8ea0e3688f7b422ba10e6bd0b3038af2",
      "7b551431c34f447396dd2902d814b8f5",
      "61c069de9d474b979b666edced2c34c2",
      "3ef5142e92c4464e8f08c3f88b22fe4e",
      "1f5fd23cd5014e889cae0cb04fbb1e45",
      "1460c7e035f6446b83715e038be7a0b8",
      "bd6483a27aab4c30886c0a4309286f5f",
      "43c332ef252045e2b89a90a844fe5ec2",
      "d8b013077a3b4f6fb8b16eaf7cb0ef13",
      "0aab7b504c5a47cf8df188d632898a93",
      "12d196c8465a4490b1462595d5cab8f3",
      "ab4b7fee349c453ab6637aa6335a69e2",
      "8d663973e2544f40a4ce5e8260f1ab8e",
      "9ee1864340c145c8bd2d86e3a0abb1b6",
      "07e6f99a278a46b599b02afbe5d62067",
      "dc3a3bf563604d30ab875d0a7283cdbd",
      "237dbabe364b47c2b82f32f643e65ba2",
      "2643498bb3fa4a1e8b53352c7507a632",
      "f2f934979ba5477e865fdbb85fd23d87",
      "269bbc66ee1349678cd886e23a56e423",
      "15b456fe459d4ec092a845719a963a50",
      "e40b77bb0461405e8b2b2e9de77f7b78",
      "4695f335861d41c3b1494fa601c78c85",
      "6401399d31084c62aa37db130104d10f",
      "a4f8aa7d13844a3e9e85e39cb2d9058f",
      "68b524b82155427abb35cd92a731f32c",
      "9062b7f4a0d4450d853f2652a494d458",
      "2c03e6f4a2f74aebb6429838cf03173b",
      "20c11e1eea0b4b76a1c6fabb4d2eccc4",
      "12af7da52ced45a4ab7612b5c9bb01fb",
      "6a9bc103fcd74e878e3fe55a085260be",
      "af49d71ccd154596bf01ce16a7b2edf1",
      "fd97a34dd4af49a9a6d187237a6ba17d",
      "c15621f7ed954abdb32dc16d7a8f4938",
      "c4e2aa01a43c4af4a100bfd4e8a58e80",
      "6b7f04dc0c51473d8a4afff89c6b4a6a",
      "b228d82d3a7c43879f3ecb5fe9059a5c",
      "e0d7c734d35242a39c1cb8513d066081",
      "6fb5b0bc0ee64818bf9eaa2a36f4f6eb",
      "387b6eaaa5b24cc2934843f17d7a735b",
      "25610996a2704a71bf49e4f792107459",
      "335ad21c437240999765dc117b250fd5",
      "5b23005f80204195a93f98be11fdcb24",
      "bd9124e73a374cbc8efd2df2b0dc118a",
      "128c035a7dbd4667a35ed18eb5a8d215",
      "85d1bdfdd0f34eb5ab4c6abc49e11ea4",
      "43cb3a62b46741898384caf023576c65",
      "edae40255a50413887abab57be3db55e",
      "6ddaab5eda5c442c9d905a771bfe2420",
      "3134922119834fa59ddd25436c98b7fc",
      "0961a910c47c4555a8159010f78f866b",
      "ca488b4bccd448e880a1f71732dd5ba3",
      "abc3f1dd29e646edb9ce55a01ee01b90",
      "7d9d5b4f3596477a85758d1b2e9e1486",
      "70091c36198b4b1dbf7d0e97a97d76c1",
      "6f67e10dfe4742f7ac7c17bb7e133ae2",
      "a3f2c6693c7f4e43a1312958e469ea58",
      "560c44be79d3490ca7fb330b82d77a8e",
      "21b5d2db2bb1455abe301df6778b02b5",
      "c9202bc8aef342b5b2f1650147270f5f",
      "7e25103ba6384062bc2bd381d35fe730",
      "a38656bb46b445f3bc7b766f48415827",
      "6d3cdf1643f74e39913245fd0e01ffc8",
      "c8d1b266128b4749b72bddd858ae0bab",
      "07c4d2703f244d0ca0335d7f4b70c41e",
      "0259bd8fd5084ea681aa6c3d27afc54c",
      "619c8ca4dd914d25ac928195b00fc1f3",
      "402f9b10696d4a1484915f9ad3ebbded",
      "7de7690359404f1eb7f4a2384195477f",
      "2b2f6dfb7e2c4edbb6a9f54977bedfa5",
      "b0f688369fee4857b5fe5b4f6943599f",
      "41556699828c4d49953ea68b33ac91f0",
      "33b0d50468b84381a5a850e2344edf97",
      "93e8681fbf68400493d87b61e5d73f95",
      "663ec462c07b4ab6941ab1b5aedff481",
      "b6d3630e5a6640ab8b4ed1d8a3b71f3d",
      "4397dd706df54b3292e924ecb17f3935",
      "40b0ea542cf94814963640375bbf2116",
      "728dfc14680441bbac0a5963369238e3",
      "f39da43250bb4a389967114cdd720639",
      "ee6677ac9dda410a8c2efb8faead25db",
      "d93630e176744d9692c4526780aa2bbc",
      "0d256948fe07479995858cd558b365ad",
      "f8bf5ef4e10849b1b5123a8c50a74224",
      "4ee26705e57b48f99141fdc20ee62f45",
      "d7511886d181491e8b777f1dbbc82c98",
      "de169c02fd5e493c8cfaa50bf29d9870",
      "1133f645e3894752b240a489730beea6",
      "db4f8cfc762e480d963be2596f29b84a",
      "e887cc855fbf48f7924b0126acadb16a",
      "294cd1d3f0ec47bb9e2c4be34780adf0",
      "6662e8588fec4303a5bf5ebe13a9c0aa",
      "7a8f3e8ffc2c4116bc6b6713dece61ce",
      "56fc365a96d2444ea0d0bf750e45c95f",
      "90e7353a043f4a72820f39546c265559",
      "bdb9523abe864ef2943e53254fcd50f9",
      "66c50ae7a3fe48bca3384183ecf08518",
      "4616083062464aefb711442e01fbfdaa",
      "270819c1b803412ab5cbb8d6c6513746",
      "883f0ed6cb9c4313bda56b2892e66f2a",
      "5cac9ab09fbc4a3f8b9a7e161b5fac5c",
      "704c7e6e6030495e9404d5bc53b3c486",
      "c35cc72235e540c9a2a8770cbdcc2cfa",
      "e75295bc9b59466dbb5493f6ce8d8f4b",
      "ca6a710492dc459d827edfffb6d9350c",
      "e281e67a67f041be889668f24f68543b",
      "3d2c067f213647f6a7de450a9acecc66",
      "e9bc61ab68e9459ebe4ebaaa54db9886",
      "f63a5c1355d44427be7d7f2fc88d70f1",
      "9394971f74b848cdbe437fb525f9f17c",
      "2b14b44033eb4bfaa372a6d6850df345",
      "5434f968047e468fb62163b66d21cb68",
      "29694ac53fa843598e74bdf1f97c7879",
      "c658d06d237b4158be3fec630c53e24f",
      "3aa9035c5b324f449d59822d763d1729",
      "f52d18816478449ea70af8833e6d8a2e",
      "4099e908d1794048829d7105b182dc20",
      "ee982e59bff645adaf03c777e43cd2f5",
      "177b741a643942e6a3eb7650a9437b8f",
      "ccb6cafa11b94b478aa5dea388086678",
      "933433118fdc4e90a390298ecab24296",
      "50dc1dd92e1441dc8f1a43c0992ed6f4",
      "5f0283ad2da14ad080e9b05d4211be19",
      "ae14e93ac24445df95b1177fe2fce99f",
      "a5a187978a1041578a10e2dfe3b3d607",
      "78e1f6909d604f22a9b7a99307d26cf2",
      "159c96d32730444384509fe48dfde973",
      "f3da3a1a466f41eda811e9121743e508",
      "db642c2c227d4c6e836dfde872eeb07b",
      "2fdd47f9c56842fc96cbaaac604dd881",
      "73ee192da6b14e2e9f0baa63fd3d79e7",
      "149b85f44180405e90a306b6c6c3a283",
      "2049a6a24c264a8cad08ecd925f2b982",
      "cdb6f4158a88424281077f9bdd1762ed",
      "9a60437eb9814c9f85a01409ae55b187",
      "e2611d5dadb34d748400610c8e57231f",
      "69f7b53ed8434552ac148f04058d3bab",
      "11bd4777d9c541b1b02c1626249cddb7",
      "a25b2c2c9df44b148fefbd8fe05922bf",
      "e02259d240f947e9b9fedf574a9a56da",
      "fff4e832efef48aaa36845f0067fcb09",
      "78d0481922c84b8cbd4166f8defa450d",
      "f801ffadd736405a8e3d085f93dce301",
      "3242fbc29f41465e99345cdde5fdb5b8",
      "862675b47ec24b7c9ecc78f18005abdb",
      "b9d1b21c46b04bb0b75292144f09c55a",
      "3b89552961ba4adb8585beff01c640a8",
      "e3cbe48295b14a899971a901e4c0126a",
      "5a92d0e3c4ed4013b77d22d6698ee3f5",
      "586ee0cf7f6347d7922292d39304324d",
      "790be329905c4834849b216ac9941155",
      "49bc818bbe104cb4ae724524ffb6580e",
      "d13848fe5ab042e6a088900ca1539d51",
      "cc327d7816cc434db25f40987c8dbf3a",
      "2742e7500ced4fd5a6ec3c4327fa7482",
      "267e5a1f13f1475bbf550aa1ed599bcc",
      "c1598840a93246a1aa006cea2180fcea",
      "37856cda795541ca8a13253c590e862a",
      "c54b0d4d17754c17a0057e62c094a6ff",
      "3158bcc32bac4a6ca36c9c66a8d4e709",
      "5731b9b365434409863291d5f0aae5ae",
      "59acd1c8487c4e7282bc18d06f0401c5",
      "52e9405a6c1447e585799ca0d1a0f361",
      "fd736ce0f8914f278f432d2eb978afdf",
      "8962dff335f54271b3ea03af48213cd5",
      "0bb64c6218364f58adb4020f283a4c9f",
      "a8de114597544e51b651c21d1f1da6a4",
      "29dc685398964e9f8046a012a09c76bf",
      "07dd410a20b2463f893b3fa283409281",
      "9d2a11f7d4ae4de587f966baba4e4d85",
      "a074a5e7802e45278fc1314096637f62",
      "d1677428c3154da8a242ed3702e4d05c",
      "d0450a306dc1430b9cc09f5e85aaf452",
      "d484645b34fa4c8d98e7f4e7251c8829",
      "448da92ae8e84f73b8fb9352f86ae5c0",
      "7c2b579123434ebb86252e139a01d471",
      "6903d07f57714d7db1351a696aa92d36",
      "93113791a9be44d594000be26c74c7c7",
      "4aa58f7a1cd645de841009d0152c802c",
      "d7d15a2b05d04ac4a600959f864cce95",
      "039c08ecf09844e09175b43b0382dd62",
      "6912406fc11d470b8ffe04a94f5fb747",
      "f06308defd414cd4b99982ccf33f9fa4",
      "197389b6d2f446bdad9b2f7320ab9fa8",
      "537ef0f4ab0c4fac8dea8410c5f26b65",
      "bc41c38e2eeb4347806c765035d2e93b",
      "81ad9561c51c4552abd31f6e674a8af2",
      "c7f101483cf74324b483ccdb0f60341d",
      "e06f7de17fb14feabb47a679e777c912",
      "38ae82bde615430ab40e2b223581f0d8",
      "5fc6e30f6d074f508f7b2b7b73f70420",
      "07198375148e404e9f7c1e66406b772b",
      "87ee10500b28482c889bc7b5fa605616",
      "6248e5e9cc37409290157fa2958f0689",
      "852578cba8ac47f7b61f872959bfd5f1",
      "3a96dda439674cf29151dca1cd354a80",
      "f318362c5b604874bc7351723dd28a33",
      "e3c9088934704e8d8b696ad89fd43360",
      "3094cda6613242a78595a1ae442c0c81",
      "982f1f3df7294e0dbb6a24de3fa5103f",
      "3df0bb4dcafd4f9fbbd3614495f3cead",
      "d7e74daa05a04abfaba28af6c85e22bf",
      "744ce95287fa4369b1659dca79e12e57",
      "1de3e5f43cff4444ba577a63fb19ac03",
      "5bab019dd8334991824f0215010a9e5b",
      "21e6972400a64960aa983250c977a956",
      "5a36e360fe2b44a5aeaafcfc19ff3b6e",
      "a374faa9202b45b796dd7265ab2176a6",
      "9d670c3505174cf5b70c206539ba5de6",
      "928b2bb29d624f38ada95918101ef515",
      "c05b7a7b1582434db4760a8ba632e7d8",
      "6d345780aff14efa8b808718f8264c5f",
      "5ae55b2212fa45d39edaea2d16e6165b",
      "70e611f519a248ec8474dceb5ef6290c",
      "8421045c9e154835a5b0e6c3dc3c2dfc",
      "89d99ba3d1b848eca409603ad375d749",
      "d9ce6cdb5d394221aed57fc175a3df82",
      "742f5e46661c4e2993da615cb88f955e",
      "bec5cc030a5045e59f36eecbc2412a8e",
      "60a028672ccc4211b7ba51be174f95e1",
      "1dfa2e41bf004eaa9272dfaeac7e6121",
      "57d7bffd67344a57a95c6072a9478f87",
      "b13388665c7f4425bbd2cd7c454d780b",
      "1075ca058f6f43ab9732ceb48568168f",
      "e1cb0ebdbee64704a6e10b78f616521a",
      "a1165fe13d3e4b0d9dd3786885515bcf",
      "e7dfeb72a6ac4a9bb1b9bec5beab67c3",
      "9409397a012c4e3fbdcbf00f4c3ea057",
      "6f956ebbb089488d91524cf0ed255c80",
      "7d321304f6354fd1a59ca17d7dc2a3fa",
      "6ab7707d1df74e84a5d8e40f94380855",
      "31d912b8ace243bd82fbcdf6654dedf6",
      "782d28d9073e43a9ab8cb7473eced391",
      "478e8d7a3b3f4f358ff90f2e8829ff0a",
      "fa00bb1cb084483f9a6dbbc756958717",
      "4ee0ca6982424f6a9e8f67b9c6212644",
      "afa804cb1eb5413ca4c9872634031866",
      "67a4cff0f41d4e11a216d547733c354b",
      "599f5159993c456e8f2d3fd6c04f55c9",
      "c36f153202aa4e799d34f2cd67452be7",
      "7b38c3d72299427ea4914cea703c86a3",
      "37cf8a38f9e048fdac60c73c600f1e57",
      "021416e37bf9498bad043d8aacdf3249",
      "0b46cf0baa1e402aba0a924adaaf7e36",
      "6411e8d8cf2e4c23be125bc16ab1d7ae",
      "d9cb6bce6f1f49589e77405fe107e6ba",
      "fd45fa5a76cb4bedade1157457728f13",
      "13ec0e040f8942f59d3b1fd4d891e3c8",
      "6b16f8f287fc4adeaefcf9b8a950d4b4",
      "b36ab093a5cf46a2b09f29d8e16f8309",
      "b980af77374c4923852d2bced4b73685",
      "a92b2927cafb4f04bcdad957eb87083f",
      "2408e4ec5b71481cae65ff48ac91d0dd",
      "118ed70cf4054c8e9ad8d1652e6fc2f2",
      "66d86789f6df4f81a01f8585c5c3bf49",
      "92b5ca57de0940fbaa61bb95960e4577",
      "40079df3543747d981bd637387d116c2",
      "be01b8859de34efebd3baa1bce94298a",
      "7eedc06665724325a7e58d67923a016b",
      "e558d1b83a144836b0984ec3c460c7e3",
      "a388cf1e5c714b5aa8d42795ba38bc48",
      "19326e65048b43079569014c682157d8",
      "9b23eef1319144d69c607c31b2fcb931",
      "8adbc34109c449108af665b781f156f4",
      "9725fb550a064ed2b28270687f86dd6f",
      "3252b5fd1e68415a93e5714106ad7935",
      "5c89f18c7e554c54b7f5ee38c4e377e7",
      "22d349791e6e4e64b24f64bbe7294d4b",
      "d70ae6d0b0e34de990f6f31d4954812f",
      "625ab36e1ddd4a2589f3d891f6803487",
      "8f488e69888a44b2a2b436da555a29a4",
      "cd384f78399340e7ad41f09ce49e5c7c",
      "f370949c98fb4b59bd6c6dbb8298311b",
      "048311f22b9348e586d164ff3701f629",
      "310a842557cd4a57bb91147294b32ec8",
      "e5553f068f544f0894fcae032dd073e8",
      "8984bce17b834ad2babf26b33633e8ff",
      "5798158576e2429184df626785fdb97b",
      "00efbaf47d0847edab09e751587066ab",
      "a8a299e9b29f48eca9d25eb4a84244bb",
      "f24a8832b63d41bcb483204246f4d7a1",
      "353efa8434e14ad9acb708bc279fa027",
      "915f5c4ece0b475c858c15fa43e797f5",
      "d9e3ee73a0a345969740aa4349e5bc8f",
      "6f2bfa866f0c47959183b00ddcba632b",
      "04c800c2c90e4df4a879c2b9a8979af0",
      "3105100d694345f0841133d2c92a1140",
      "11cd667c941f433594035b5aefa54eab",
      "6fe237b2c59040409bd98297ab71bef8",
      "d797523c0ba14935bfd8301a8b0d0c7a",
      "7e3c10c0aa1c4962a6747fe0f9e0db48",
      "183705ae8d974520a005d77828fb05c4",
      "6604d4d2ce8a441c91f040a33cc9f1dc",
      "01e70b5839e546ed9453349056f88d2b",
      "ec558e1bf66c4ed28736ff2abcda88a1",
      "0e3418bd449347eea30ae8890e654cf6",
      "9fe4cdeee4814a96b9757ebf44ce4d02",
      "8ee3303fda1c4c28ba4e0c157acd2031",
      "c3b67fc3acad46449bb1a31bf871b170",
      "83146803851549c1bae9051297fad0e0",
      "7e7f0c7bc142440fab0a0cc1b78fa0f3",
      "0f4bb6dd999c4f198ab9e3e9d18ac424",
      "207350c3bad54a6d9ca4161e91a9bf64",
      "a533702ed5314dab8f0d40547cfb9078",
      "0b9347041fa74ee098b1ce84ae865e83",
      "360dbd68aa87459ea02e8a636cfa890f",
      "2176a956812e48a0804aa2bf15f11d42",
      "a7a1d72b0c3a4c1babb1cde1ba409a13",
      "270f848d8dc34bd39d0c4d07c31e7869",
      "e784d07fb4094e378945d36fda0eaac6",
      "257d929ba8b948548a0685599626cfad",
      "0b5cf2761fd449fd889f891bda02e89e",
      "4535b332638c4dcc847ab74e5b3529af",
      "e433ea7def5d4e4a8e2cc9505157d628",
      "5adf1b97dc5b4b09a0966c33d26c0105",
      "4fc19119c4c048f6b2a7944a902b9fa4",
      "7ca1eb5874f74a73b4414d69af5cd964",
      "88a474a253d241d29e1874e7aa86093c",
      "5e4bf87e2f6f47be8655b3ce0648bda6",
      "436a0bc3e94d4dab97b59bf2cedb3eb4",
      "60f8a4adf715409194bb9b0015f09d4d",
      "53660dfb3deb4feda2af8275e3fbc544",
      "81b821d85211442c86ffe4ddca255ed8",
      "7d4928065e4a4f19a1c4283d7f8d69a0",
      "79542be9f7394286acf6fd19241fbe53",
      "71e097b5d3dc41fcab170e3fd0612473",
      "debf9db97cc2424f8fc696d0dec579a7",
      "7344e287d5bc4619a02c5043cedd9728",
      "574712fa9f094543908835d93fc04374",
      "a0b0e89a981841499fb113045ead71dd",
      "ae14114d063a4ae496b10fed7b82da2e",
      "31608790991645c884828e8016f4fa5a",
      "fbb1c21bc23941ec9e94fe4ccac34087",
      "f14d374d39d94ba8b3575a962e9133db",
      "2db272da211e43cda4c94a1ffab4bd26",
      "249b5fc43ed247778e0f8f24b558c19f",
      "bb725c76ce8b422caa26d9db959bb051",
      "aabfe1ecd0684dafa4b3faff93517f13",
      "ae1f4afd2aa54709b4b0e5396f6d03e3",
      "e08ff7a3233947cca19999124399712d",
      "b80140b9b65a415ab217a14daa5d50b4",
      "3358251ae92746368f72a107386f5ca3",
      "06654d1240c34c63919b3c0a755589d0",
      "43afba924c4e43bbb56ded1c38f1ada6",
      "b8bb46c4463c4f5baa0b46c6346364e2",
      "a4cf69e1b1394d77ab0184a34bf7c6fb",
      "7a7961ea76004f1697cedd69d5891f10",
      "c4517016e2954ce99bd9c9964b1c1fb6",
      "73bb0eeb33714a3d93faad4bab892e43",
      "9ea8d0ed01154b42bfc96bee6c937c64",
      "683b414429b0468b9cec08b47f2d4f27",
      "ba1f20fcc9504fa2b1c9bfe9ca0ee15e",
      "50f01d2f687c44bc9ff70d776ef5fd1c",
      "4cb9f72c59f0464e91d655635d4b91a0",
      "78d9be5c8d4e49579a53e03a8454c0af",
      "37d398872d42464cb707a9a1871d1bca",
      "2b74dacd880b4b6ab360fb581199c19c",
      "c431c85bbefa476ab408aa9b719d5177",
      "5d6f6696e1974da3b5654e344159a979",
      "ef6a10c784b44a1ba221ac894608c7a0",
      "941855967c7141d493521241098877c8",
      "e44f68c2d2eb4624b17746c13cdebef4",
      "4bf9003b136a401fbcb6f347370d2282",
      "b6f116c83a7e48b988e2ac50102a59f8",
      "7016e13cc90643329409510079fa9123",
      "7d75137a34bc4b899e862526f5e40f57",
      "eb430203f16f4efab8d5a1209f44e7b4",
      "9b35be9ccbe643249356a5ed7b6cb984",
      "44c8325aedc84f80805bd5c294263ed5",
      "b976bb858e0748ac84be3d03fec5095c",
      "2e65298ee08a43b39b7ff94f11fc3f08",
      "18ee9a5fd0e34bd5857c71125cdac794",
      "9172f4b47c724c4980d0a6f042c0b848",
      "d69f5cb5456741c78a41ee3eae02043a",
      "6ea98ed1dccc4b848fcf5cd3e675ae4d",
      "04a77fe726d141e39621b3054a80796b",
      "d1a4102d826f4960b727f54988856c84",
      "9b769dbb2ef04a00981da2ac4a340b56",
      "b721bc2e66a94d15b57e18214b4c45b9",
      "bb29885217024006ba68535fd2793495",
      "13e071e2c2fa4714a53e6a1fad05fae6",
      "4a135b0a95be46efa773c14182c22cb4",
      "59ac31b832594d18b5f49a29b8427f18",
      "2f44a0e7dbac470892f5675145538742",
      "bab42e169b2c48cd83d0e7af34e750e8",
      "350d1739fbf9486b85a5dec7c6570d7e",
      "349933d6c9b74e8daa87175f6b14e302",
      "1a576867fe9c49ecb649207ff5984e7a",
      "1384f1448368493a9ace9fda6f342893",
      "d34147318d1c400a977a25122882d64c",
      "7eafe603a6894770b798c17557d15b26",
      "b63835418ff344c99700c9ae21d81d08",
      "ed214db7b99e465ba1351b06ddaff9fc",
      "3b07e306ef3a44778190899dc413c80f",
      "96b4116eab06441aae0f9e1d095d15b5",
      "b13487f6770845c29d6ee898b3e15c1c",
      "299d58d2b01c48f691b6757ac7f7a206",
      "c4472268fca54790a39c2e2b621f40bf",
      "17ef46f2342545ffaa3c3fd16ff0608f",
      "015c995a0f294fad9cb5b9fc055d9f0e",
      "dbe0e2dbe49747908fb8960ea16c2e6b",
      "69013e0025654a59befce8b1f633f8e5",
      "2c0715095aed4a6f9252ea5af0025e06",
      "a7afdd94510a46978b692a011f7ddb40",
      "102f771a191a4d959b1c62c7036af8b0",
      "879ee27b0b3546cfb7de336580ebabe9",
      "425f4bb916874dbe95947b517a757ebd",
      "dddcefe7a8a749df880a47d6e9f47629",
      "51d9eb195125434e9a88d2a66620cd56",
      "0e378fea34cf45a09e699e9697cf0ee9",
      "28596b00d29347819de5d86d08be08f2",
      "0845ae2068f345088ab362d79759ab87",
      "29025347c4e3479b8ecf35072cb64635",
      "42e8e182a5b447ae8b8eec6d67ded5a6",
      "b16a3bfc4947470db662a12def376797",
      "771ef9a557b54bd5adef07b35b9f9345",
      "744aa2eacbce451c8e655f5356d6c501",
      "2ca67f1f2755461eaa8fc716375b3ff4",
      "4c3e2ff812bc4f959afa74e1f7a326a6",
      "4fe89e92e0614eac8b0099aed580eecd",
      "f4bc938f0eb34919b8c898104f45a11c",
      "2170b6cb215147c98602f76bc806086a",
      "4812eedebd0445ff8fec209fd56ed9a9",
      "1276ddee58354de2972c158b373a8c53",
      "18a00ef39e644b0585cb40b60be04df3",
      "731caf4f78804647a6539614cc2389d8",
      "1378a9f3e568420e895467946e8da476",
      "ecafbf9a258f456a8094da621c2883d1",
      "7b159819b6cf42779d9f4ef960e0a747",
      "9aa75b6674e74d739fa06a2ba6ef4c32",
      "e5009f6bbc1847d3a88e9876ca1a9f7f",
      "363f46ef966b4b32887e6f5a2f817459",
      "b6645da96beb4f749fbc6495a362b8d7",
      "15537a7bb4b74457ada8490c6c212a24",
      "e0b5063962b04e09b321d40d074f7e2a",
      "99d4ee3cc2524e1f8c8c9cc6a73cd13b",
      "2f9561d8164d4997986d11ad33b1e632",
      "a590999936574cc6910835c9aef5c1ce",
      "2724ea6cac3f4e80a22724f803035da2",
      "e4fbaa9819de44e6a7fd4fc3d61d1581",
      "834f04971d2f4cdeb5db1843f265ffff",
      "5a09eec6970d4847a43d284b1dc8d4f6",
      "52b55ee0d69042909388995815508adb",
      "6aa243a91fa141e1905ee3a7627edb8b",
      "af92d58ad3d5450ba1cd989db49f023e",
      "5b4221f9a9e04b85bcb07c2f3df389ae",
      "09998d26e0e842adbdce1036fd0fa929",
      "8b497fd3c25b4cb5a2452893a65351e4",
      "f823820c791149398017bd60ab2e40bf",
      "740e6e6a7bc1463bbafd8180bbb302eb",
      "70d089ed7ddd4fcb80cdeb8a51412968",
      "5780c807633f41d7956a5fd7a7109487",
      "9a909405edcd486186d1e14e955f1bfd",
      "30e044595dcb49b685ee479a0adb86ec",
      "b238154d8ad44741bda35c9b6de70d8d",
      "4dcdd2b7d63e499ba97377cabb99944a",
      "8ee3d68b4f23490981a7da88a3016287",
      "b9026168007c4f9abe6ee4d457514356",
      "1f06e0650b6b4bbaa391f1e25ba7ad04",
      "37a237fa28f147e9bd91255875a97337",
      "8f01908ca07542d882e467001c51e651",
      "b1c67cac7f264ea48ab8f18eb2469909",
      "71df22ad6c52433fa17ea904bc44bee0",
      "6816e9874b7d42d29d7ec8d72b965b71",
      "dd96335137c14801a3849c7a62279acd",
      "74f6619025d54161a7f97cfb111d96d3",
      "876994e893164053a20cde530ba34f53",
      "a60e064037614740b3cb6c3373c5bd42",
      "340d3766b7f7461285feddef565829cf",
      "af772998d26c4f05ad113896c78371ba",
      "a67badeeb4504ef68071ee0663b75d3d",
      "a4750fb87ffc4f14971aa28786fe4e8d",
      "9662d081f45343a490dae87307bad1b2",
      "8901c05fd1ea4d64bf7b08b6930db16a",
      "e0cce7aab5e041649394aa20322af0aa",
      "e0cdd83d2bbd449b9991df128bea7e81",
      "1fac140682b34a59919adfd5aa81fa7f",
      "60ff97fa7168468ebf2a5df2e6ab2f4b",
      "a8d0bd83e849457481ade6a13f02e799",
      "391c0b7750f24ee486b30b044edef999",
      "c867f777593846c8872ab712eac7655a",
      "099a99600c084c529de18b8f2378ff40",
      "889bdf0f63c84a199f71aa0771e69f8e",
      "3b0d547465304a84b309439ebebd19b3",
      "446b5f2ce1ad4042bc4bd9513aa54960",
      "09019222383b4efdb360bead69119da8",
      "97fe76b6429a403dbf5fe5ebbd97aca1",
      "f70902c5755343378baf42308548661c",
      "1d96874d82044398852cb236f4e3dc3a",
      "31b151e592224d94a8ac1a1d224c753c",
      "1b61609a21044d3a8223d589025de020",
      "44be612fd8bf481ca99f6975af950c3f",
      "5fa9780627834bb7bd942c5474b9babc",
      "75aaf150a4a147a5857e97cd5f0c655d",
      "8c5846c8431f4341963bf14857d4e072",
      "28994196322043e98a0d2c3a60075ea4",
      "9b4b77580a554bdab2d99af6963e7287",
      "d6f7ae0a3fcc4500a419ffe603e07e7b",
      "6613d58ba02c4f459f4e4a0eddcab234",
      "08cc8dae51594808b293c85c84c01861",
      "c6a93ce5f8034f258d7ab17894fd60bd",
      "c94c051adcda4fc2a93ad0188daa920d",
      "ceb5e6e81eee4c26afbe518f874ba77d",
      "c448271b4d264d158e6b782099d9a9f2",
      "be1b449ebbb2434c9b3760ff29e1048c",
      "cbd9bdddfef7463291f553cc07792481",
      "78e7ce4d623f4bd19963da33df2d5142",
      "d247f422b41c405cb019aa96b4818770",
      "0e8fbb177a1240a7a3d27044fd94f6e3",
      "904bf5b5a86d43a2944f28f7f711396d",
      "0222be4724ee410ba985d540da0acf85",
      "f25bc2caf9d64c799e772429f9b41348",
      "c0fde4200d3c40e0ad584c2903a6c014",
      "c18315c1dbbe420eb960681da4e5be3c",
      "ee59292f33be4fbe9e46649c947c872f",
      "4630acf22b0e49f2b255be059b2a454f",
      "20f8c800d13545d094e7766d137dd3ea",
      "559a30dc3b1b4aec8dd6c6a9d088b5bc",
      "384913076e324822a8c9201e74955ff5",
      "b9b4923f70c44c2585db873e1e673552",
      "905e7afebe6a4a74a73d77c3fc135afe",
      "e4191953679a4bf09e4c726b5b9a2b93",
      "03a7e735fe8a4396892975576ecb0455",
      "03310a9a33c24c8da59a4e036d9f3b9d",
      "59cb00771a9e4d5a9e0512c7ed9c03b3",
      "0e5a6c7e07ca4f16841cb1df7702154e",
      "26268d929de84625bec5c1506db77467",
      "25680777dcd148a0b6d133a95f797173",
      "9be33a8a33564c988811f887b6a991e3",
      "ae4548e3cb504dd8a6a97867af8757b6",
      "3103cd46befc43089310cb07464c3aa9",
      "740bca11aaa945b8b9b38a319816c717",
      "d539968938cb489c92b397fa6362ae2c",
      "1235ebd1a3e945498c10328fb445eed4",
      "5797f24fb7144aabad6fd33af647297f",
      "50fb0843332346ba9407c5c8110f4894",
      "b9925a703ec9446db4e6af6515d61f2a",
      "84037c4cb0c04e418b17176e3a1f846f",
      "b32022fa840c4c47a89df132fe8dab02",
      "279d1d5d270e4b709e688f6113d12e00",
      "63e7c8e0decd4ed7845174f1fb59d75c",
      "230d40071f494b15b068d8b4d0695e31",
      "98dc8c74f99449d4acf30b17514cb45a",
      "a9187e86afec43b9aebe02d115c2e204",
      "d49071f7158d4bf5bc4e21f4b6d1a8ac",
      "ae5bfd41be1e43d3aedebda7ab7bb3c1",
      "1ec3af37ea4444d4b1483e628cf292ae",
      "a5cd9df86f2a4557b6e9e7ef07a8a70e",
      "afd0c0463f244bc08ab436c3f6a8aef9",
      "3c3081b4802145a0bfc19081e8e81f18",
      "78cb9025fe974ba6b1c38728db6cac21",
      "d43c034c909f4a0f98890a8bd1d51ae0",
      "20fc76d56fd7441991398c463a8fc7a7",
      "84009e9b60db4a74b9517f4d6388f706",
      "6658c8707fa54c69b28a8a17c1a1b134",
      "cb343311aff340dc9de01908d3ec5de2",
      "a2146306790c4191ab2c3e21bcdec6b1",
      "c6a365e1ce404567a758cdadb8a5c0cd",
      "54dddaf2ab764257aea9b53aab8922d1",
      "462127ca193046538fc653fe399be669",
      "5e78f3949ca54941ac67d8cf988e2fb0",
      "06a3f305853947d68e679231b1e775d7",
      "1c6dd30119274f2398c0c707b36ac09e",
      "f17cf18d012644b796526b51962a361c",
      "94c3e09b299343e2ae7c6e9dfa5b1374",
      "8422d629bbec4067a36f4270777e90f1",
      "a0ad329b00f44c50968096d133cc2da5",
      "deb8cfb7b0c342ce8b6a944d5c606058",
      "38390baf18d54626bcf48047332b79dd",
      "c30d21742ac34a6c9be67003f2422597",
      "5d21092111b64b598441a8227657f67d",
      "03cedc21dbd242df8edc203dd08824be",
      "e50dd902ebd947b9a5d7b5ce0709127e",
      "fdb55d8c3b6c4b73a152f2fe6b6cf063",
      "bbaa53ca04684f118d6e6925826fcc88",
      "f7cd4c34c98e481e8a26206f932952b0",
      "a495575e9f0b46fba9cbf764e1f6d09c",
      "04fd89784a1c4de586544798695a8c54",
      "e0d8c00f345f48289223bb740b4eb08a",
      "26d9cae2bf484f43abbe411bf5de5916",
      "b7a34205599b42688f23f0ff4e639dba",
      "a367fd10009846ac9b9a6afd86190c14",
      "acd07c03dd554de286b34cc9343909b5",
      "4824250b81dd4aa5a9bf2ff5e51d8eac",
      "de181f855937486fb6d289d5d0466790",
      "5384cb31aada41368c56c731bfe65c85",
      "c1baaf5c859d4a40a5332151354ea66e",
      "edabd8a83be448db9eb56c33913c0b65",
      "8d6f416100cb4c41abcf25ddf54212ad",
      "48b2c6032f924e2380f3da82f73b29a9",
      "339884e814004e5fac6ba25dbc416c7a",
      "f5766c4a65c4467db8b7638480f233b3",
      "9c781be90d48450da7d03091c3a66b06",
      "46b0af9cb72c4057b2ca519fe63f7c5e",
      "95b2aa3c376f444f8fcda903935fbf70",
      "1793f6d8ab5449cc8ecec75ba473c312",
      "e2560a98acb44cf7b53a628f9998ffbc",
      "b40b5c919e16450f9f2f8f0b5c96882a",
      "bfdb11070a3147f1bc72a8d775ca83c9",
      "f1f9d9c2205a40bdaa45e91725517cbc",
      "196bdc04b54d4afc8f463bede4673d17",
      "df971cc624854b53a17067042f45c552",
      "7fce3c88b8c645f4a1618e4c0723d022",
      "30f6686367bb47b3928757eaecb31fa1",
      "367b9853ea5846aaa024715e7b3f98f4",
      "5b943ab6aece45748f2aae3e4560eb29",
      "436abe132c614c6b8df7a06c70ca95d3",
      "afbaf21d57b54f2bbc2ce8e1d3f7e7cd",
      "235eb9b142144c48a8e2b4ac056facc6",
      "69c8e8a5e1ff4294b685dc8c73e10063",
      "88121942e5204e7f813abaab502f742b",
      "1fcea10371df4d959a184552415aedfa",
      "8e62e98d939a4732bfe184ee13c9ae13",
      "367d332ba6cc40a3910cf1c15d2487be",
      "84ac717297e54e21aa154fd71ec051db",
      "56b9edba5889400ebe8da447d9c364ea",
      "85b5e3f154c849559089c24c643ae31a",
      "558e179f3c794708b55fc2d96054ceba",
      "f677f1a7765d40d5a7d12389fe378019",
      "4c2934749c8347ccbe0a7bcae22b36db",
      "ccfe7d3ebdb14378b12af71b6f9b46cd",
      "7ef4ab75795445b5a23db31a20180d77",
      "e30b6668d7ca415f89bdf0fbd85351bd",
      "5ebb20d5881b49d8aa060dd786741c81",
      "085fbbcdcd3240beb09c46cbab0487f3",
      "439d4f1335104b9d85eb6d6287c59038",
      "f7e5388077a9427b89c17db91b49f258",
      "4b9378a8a2d341c48e5f86cdaf49cd00",
      "7417f55a99e847d284a30bb611daf345",
      "c6d1673a9026438e91a01d08b522e28a",
      "0f2092b7643e4de786a18201d89bf968",
      "ea3f03ff6abd48cb86ede23b493966b6",
      "1bfbd4a3fe66402198c2947e3db42759",
      "d9132bef194a464982a0e05502c815a8",
      "44d74b2f261946a19caff1127004b7d6",
      "033b61780c8c4744a644eae5e7ef1144",
      "29180b3e1f8544a48af020e258cb1749",
      "1ecc3c6e2c804bd09918958678e161ad",
      "515cd530377e4cc59af397530c06d337",
      "69bb50253d62482484f5f16669c9f453",
      "2a09f4bfd6ad491a8f8015eba37eed47",
      "fbca2f278fd4463e809fd4c66620883f",
      "60ac4d773411450782dcdeb6e1d9f280",
      "8705c8677e1d4b0fb266810f0805978b",
      "00510e36d54c45328085e6182cb746b5",
      "c60756da96554014a7c50513eb847a23",
      "3e4b0ae1943144d7a1b48f4deaee7013",
      "dec3bd5e5bbe4c7f97760578262e14e4",
      "1c0dc5099f0047e7abd15d64854ef851",
      "c4d577d950b54032a7725abf67fefe35",
      "92854993f79f4159ad2fc9ae16eb679b",
      "9750a8d429fb44ec9bbdb68a00e15e69",
      "d2066e3ddf94443887b12bebca50a810",
      "426d00241bb14af3b27526105a92a44c",
      "047863397535457a86a7c63f3e75ec69",
      "90cadbe7731a47ca99a77898dfe04df4",
      "eeb85c061d084573bbc78f6f1b3d1369",
      "003c40e6d65e46958714530bdd1eb0d4",
      "7e986e6d1b1a40eeb1e5661ca009e919",
      "f4aba4b0cf3f486baa8ea3433abf4349",
      "bfd7078bb5884540b71cb1059190d06d",
      "33b32c3a17ef4c69896e185a05dab102",
      "c34612afe57e4819a83e119ffe17e3d8",
      "a36968bd937e4c57ab9b13891772f104",
      "f19f17de7af9487bbf69d60dd52f5031",
      "aac615fd62bd416eb7f4aad89bb553cb",
      "f1da8022bf59470594e24020c9afb962",
      "e8be8443083e457981dd947d2cb7b0cd",
      "d819e2be3742488f8ed8db18b28a5577",
      "53baf4a6f8194410b8391d76a86231c4",
      "abd2da128f6b466bb51c8d002cf7a5b4",
      "cff1febb47d1425fabcfa7f4fd44972b",
      "fced8e755d264359a1ba22d1ec535f5f",
      "7e0923605d414a4992a3b6353825295c",
      "aa0ef30d45cf466e9904b8edffac1204",
      "8ad7d2c75bb945ec8f32a14902cc90a1",
      "10d52f338952424099160323632f28d2",
      "5c3886a0ea454ff0b2af981a301b6c16",
      "a47e3cce80a945738277f8a2ce18a698",
      "ee777d63260040529592e58de507597d",
      "9941876d30654e08af084f2acd6583a7",
      "08199e6d433d407cbf1c42c781738b6f",
      "73daa17d7c634903864820dc4d4b92f6",
      "daf0846685cd4233aa65fab59ab1785c",
      "0e09c18473d94ce1a258432573ca054c",
      "b9f89b7b666646309375f7cce01bd6e1",
      "935e239779044462884ea25aa953064e",
      "ae64a62a32584868b9042f540ce56b7b",
      "4502f56276fa43b09ebf170e538ab0b6",
      "2b3ea9b9e3fe4b4c891b373675abb619",
      "4db48b29b850489aa4c0ae071444ecb7",
      "4c6158d66d9747278ada30f6a94de83c",
      "6885fe5a8e2040c08caed0c7c323a90f",
      "965d6314548d4453a27059d2d67c6eef",
      "fdbdb303a3dc47b7adb3b59951bbb775",
      "b325c23d823d4b51a6b34ce41bf7766f",
      "7f6af64405dc47798820591f95cb81e0",
      "bfee3732049a400ea58a5d06c63777dc",
      "7a6400968ceb438fb60faed175d44d11",
      "0a3cc9af1af94e63addbb4e0347db963",
      "ae27e63d85184f11815a170ba08ef1b5",
      "466f75932684486f812487a0b6fd24f3",
      "5f80ec1588494c17bebccada32aa8aef",
      "6207d1a035b941a880d24185e04ea110",
      "8ea827814b554970af88d93cc1aa5d6c",
      "36f20b541c05482d9ef3d11481abe7fe",
      "2a27b45f038a41a68b8eecfdae45a96d",
      "214b9019e8e5477cb7f2e3ee6b1ed8db",
      "3fef6db7f4e3499d85ddeff03800600b",
      "7fb5186a8ad94d6396f6843e15a152df",
      "5b4685b5e7974aee851c26763d27f43c",
      "de3f98fa54584ba4b92887131198694c",
      "0d8aa0e3c7224475be1b3c9bd41ada71",
      "fa1d4578a95f4f26b62ab4aed12959e8",
      "cec2f03b1e7d4dfb929ffc7b86727f10",
      "e815350a5fc141e4b8e64b1fb1138225",
      "9e4b6ff1fa5847609a768b6eeab86bcc",
      "3ba41c83ff4648ff8661157f0a6ed4aa",
      "03438c32545e446195794c450c89fed7",
      "6458c197f92d4819a3beceaedbc7c170",
      "489e5424a17240ee9981ae686f51b638",
      "cec0f6a22a5f473cadc82723565f62f9",
      "23aad82dd59a4ca5beb4911cf4abdeea",
      "419da05f9c994d4480b6e234cafae5db",
      "a3f294b7364e4647bb2c302a7761c1a5",
      "9b2fe5e7ecef4a2aa0fc5911b0d59dd6",
      "4c260038ba214c5b9ed415b827b55f80",
      "4e907dc9beea441f98f616f168d8b111",
      "7511d7457b5a48ada059a51033a90294",
      "632266dad95a406ba4764df5958cef53",
      "6431df01087642049bcd5a6d47187ed3",
      "619a133190fd4e3a866c8f2315b4682d",
      "f6392177b7af4372b101c821837a9e8a",
      "07cd4bbe87f8435d94fa6913852b881b",
      "98843e1a6590406da469dff2f611794a",
      "139736d1ee5845b286b06e900e900d2a",
      "bf343b2df0ad4f5ab1088a9529704e6b",
      "72ce4af4c27a4e26b17a2f669ac9bda1",
      "c9fb0305cbe24731a9bcd58e9be76f30",
      "17fef58e3808473bba7fda5f8022c1d2",
      "19eccdeb08c1404ca261898910754bd1",
      "619cb72989594ea78cc7f7784a200e2f",
      "78def57c66c64b46a52fbcdb5905405f",
      "bbfe6783006440c0b72ea185aa65cdc9",
      "96f1586796fa43e0a65b4f312bc2e49f",
      "1458ead962c14f41b1ca1ab0aa421bd6",
      "e884ca348e2c4477a2b6eaee7697e99a",
      "2be9fa3589d24c9582f156af53accbbb",
      "16764e68115a4844948d4ebeadae0545",
      "df1ae8b3c5344271a6242f62ce8c002b",
      "285b94801658413b815561dd3f7b9398",
      "ba1f6ca16c364dc5bc0290ae636c15e3",
      "53688726a13546cdaa59403963882605",
      "6b98bd9ae9fc45f098a4b97d2e78ab61",
      "a36e85b73f284705983fc5ed5e683810",
      "74697beed7de499f95cdf2d6971a4820",
      "2235e355905442739b73782a4dddf24b",
      "7f1f77f5d67747e8b7542ca53bfd2b3c",
      "fa0689bff69445ed910b3e006d58f4a4",
      "637efb6f26974b5a97450d56d0df19d5",
      "b49f18bef6d942c7a1580dacd7a00909",
      "dcd5c9f29d5942e6a1101deced3531c7",
      "065acf05da844cb3aaac7971d3b481c3",
      "c7f8f9a5ea794f0c958d339fa444b382",
      "23d09c412dee4220bdb4460ed3d8703f",
      "f3af9662877f4850811ce4277708c1bb",
      "5d5ac4976215481f82ccf2238cdc467d",
      "f503834f102242169cfeb5296f23ccfc",
      "f28ce1bf40034f51848c11c2fe8aa0e1",
      "8201fb9052714c8a8443c716d1200fcb",
      "b9e77d9bdc0648cd878772d3ee29fb59",
      "f4efbd4d127344b08b54031c4beef114",
      "3a4aada2a43b4d189d76ef0c207a6726",
      "62e85d373e904ac2b94b1ab46d7f1a8b",
      "16be9ef34421451c8b715586128191e5",
      "110415c8836c4da0996dd1b853a73ea9",
      "f3c2938491a544fcbccb037094780c71",
      "d1cd535c582b4718885dca05e49ec637",
      "7912c10ab0d740189436725038d469c0",
      "bed37f687d29407fbbf267c2e4f26e21",
      "5535461a2e5e4bee8c2301be5adb96f2",
      "de1db6eaf72845e691d119b5598ff862",
      "0ca0840abacd4b8aa07dc51865742358",
      "2d2408a4171e4bcb8901d38fe14073aa",
      "ebb5bfdd2ab04e89ad54ef9c11188b05",
      "825b3ca5b849482aa458ea87290dcd4a",
      "41933ad9aff84e3ab5bda0455d79d07f",
      "7fd9a83da7464866b3e234825a8abeab",
      "970eb7819ff842baa8949e5cc50be058",
      "3fedb4fe8a8c47c7ac594dbfafa28623",
      "c6c840af1ecd4c818728ab24d4ef0627",
      "ef2ba0cc2a384b2c9fb16a68bb7ac2ff",
      "ac83c0bc6c904436ab501e541ec4d500",
      "c4e99b9084c64c068a90254b244d9dca",
      "b238fd27e75042d7bcf98377052b5eba",
      "81e64761476b4515a79664f41eef315d",
      "3862f013489c4b1ba1a8066c4fb56993",
      "90b6867ad47c4d529f38efb956055f59",
      "b3412db7305e4f32859817c56a20d523",
      "3d77ffd479aa43348ff0b8e5f7d839ad",
      "986ad465e69c440a986b75f543454ce8",
      "2ccb217d951044a6966b6639dac51de8",
      "197f3857aec64ff4a5f9e136686f3974",
      "1b8791a3c7094b198406443c5b3cd001",
      "26ec2240b94f4925980d29f31e3de7a9",
      "de6367ed4eed49b7a635ac4b2e84cc22",
      "f9a10f7ac6674aed81bbd4300f883544",
      "b75bf11121dc471fafffb6f5c683a81d",
      "e7cc2643f0e04f6b81eca6dad12ef3ac",
      "abe3cd857f38494aa393d9be29b70462",
      "f4f484dc125b4b1683729cce3a3d3e9b",
      "ff33106151904f2cb033a7d4994d2fc4",
      "1670a26201f8402fb047e70305323019",
      "03e452e143c84c65963e91dd8295ba1b",
      "506a81c36f8a4402be81275d4e7d015c",
      "8ab0783348d94b9b94d226f5c7db5fee",
      "acd78f408c0f4b56a383f3745da85710",
      "bc7006ef4e7142ceb47506cb8fed6bf3",
      "6a1f72c52200458fbd150bc431cdca8a",
      "419122aa37bf47d6a914716d267ff988",
      "94147d0e87f4409bb58c037f9068188c",
      "17f3c422cab44ded87174a509f39e426",
      "fad78f7c1deb4c18ab33f428502e68ec",
      "7164319d2540473f98f0bafc774764f6",
      "aa25e56aa9e24cdca4ed0ab14205ac49",
      "387fa179f30342fd8727c9181ca5150b",
      "39b591194ff14a08b47f2b5a8bcf5897",
      "dc64f984f8744ac0b69e17e601a52e1e",
      "6349e24cd8d24087816de725263881d9",
      "f4f9fb30d7fc49b987ffdf29d0e44c7f",
      "e40900da09584d929b05cc97af9f176b",
      "88c0d20937e44af1918e862110175400",
      "3251578dc8a94446a6df70f01c73f699",
      "1fca71af055f40c99399d0debf5d50aa",
      "7377716d6dae47b4bb2b2420b2e92ab6",
      "5d595c7bd20241a5b7eb72a2e3000162",
      "24c74efcfa8e425eb4d3b26cd726d2d3",
      "5568321c58c54e2d8809fc101da38834",
      "b8d6b19023d740e38b345b7b2d74b4c9",
      "474874abd21d48b6907e4655deda172f",
      "6806ebb3e71f4664ba7871a705cb3983",
      "781de4bc1a9e47c192c1ab946cdc5c7c",
      "26a4a93e85744586b08e5dcb489ae10c",
      "7dbc903592ad4b27bd6fd792a94b7a1f",
      "7fac4ce350c54fec906d1429de54845b",
      "d4c1174791644717a6e65f0e1d3c21ab",
      "1ace60cdb8a04fecb5c6f2c66c4eaccf",
      "add95a96ee284fafb2505d161fad628e",
      "e05fec6f6461427483ec808c497ef06d",
      "cb697fd4de2344128330a024d716bf9d",
      "38abe011135b4957992a73e01cf54166",
      "e1ec8180e5f0454b85de24787265b386",
      "f18e6680b46245a3ad25c3fa9de66513",
      "c1d5867caaf142dd98eaf265d7ae2965",
      "a7b7c26d4c0e41d68707a2d41b4c29c4",
      "f8e5c2728f314edca7e94f7ea837484f",
      "6f89d4db857d457597a27db7d66ce042",
      "9e8a5745a1b94846930a8f5a56991f5a",
      "71cde1dfce7a4112a871f4f78a31b70f",
      "7594cc4dc7f34fcd943e4cbd09e42cd9",
      "0319e9377ec0475b9582c56f4fe2f4d4",
      "5e4545315ebc4ba5b051c61107833f56",
      "5090e032c3d444a384411ef3ccaa7e35",
      "c47f27b9baa640269e337ec5a4b16420",
      "ba06372c00c44f9ca256fac872f67bf4",
      "ce4e7c7deb254b5abb75ba2c39ac6c6b",
      "5b04da6f3a1e4f05939a1af84120a326",
      "43b9ab371c14499d9f9bc96bfb48397a",
      "adba4cbc25fc4905b42f61308fd8006f",
      "a61d75345231441b85eff4d0b42a4154",
      "74248c400f21450983f2f9e5ac79153b",
      "395c50a19c2d4644989c87a59193b8f4",
      "9f78571f07624ff682a39375be398f37",
      "eaec9e0a05304954b40a52a73fbd26cd",
      "6117b361bae04ab68f5b50b228978c1a",
      "2e2584d2f95a4b74bdc2cec07d693952",
      "0284a52f276d497ea0c5b9b5e45e82b0",
      "99e66e8c71b64591a3c1e7a9768f8cac",
      "4768dc0326244d54b03d9162ef6750d7",
      "90c6fb5169dd403689245a997b9e3a32",
      "a699fa6bb35441aea792945ae9067a53",
      "8fbc2d118b8042f898a5a8b22b282257",
      "4bcfa5ffe8374525bea1bb7635b38c19",
      "47a544a9c4b84985b6bcb987b61daed2",
      "1df13a3ab5f444a48ed76b7e9bcbe80a",
      "d9be36c7489243b7989ddb08c8072389",
      "1bc447f9b3304c62a774a2ff06fd8ffb",
      "9c0c2f627d8942218894161fb04855b5",
      "6b2dfa0b0f92461ea3f34bf9fc3e0bcb",
      "de1dadc989114191bb216b3c25ab521f",
      "d0504924555e436286dec50005516ecf",
      "9399dcff7964424c83b8491a1a7a6f56",
      "4fc2d691c17c4c6cae794359b4715c0b",
      "4d1e6c5ca63649c08e1750d7b0df2a4e",
      "576364f84b474bc5a8d91c0e64559a6e",
      "ad5e5286e8204181975d28a84fbc0975",
      "25308b18cb8d443992e6a4f395cc05df",
      "ace3ea3f07fa4ab1a56f619c1f419cad",
      "48e9ca010df84a09af34cf91f9318d86",
      "5e577504604445ad82d88c1fdc053bb1",
      "d23d91b63d8648989dbdee61d493a39a",
      "3c8972ee74524697b6c1ed1181517ac3",
      "6c649fbaf2124cd3b4293b751a332aa0",
      "6f21ac754b894b37ab5af62ee90094c0",
      "3979cc40343e4fbda218c263df53520c",
      "d28f1503640f47d0a56c400aca940e9c",
      "fe98f9cb2bdf4bb3a8d59171d1f74f5c",
      "436a5370ff9f48aca78c51314f619e3b",
      "1eb104d60b2d44c5b8d3179d56415fa9",
      "ed517bc59b1a461d94e90fb5ca57b9b0",
      "58ac0c3b16604564b9e2114a93b71ce7",
      "5a3b303de375494095899ab4aa9ee025",
      "8a8dddacbe3b4ed9bf25ec4cadb4a54e",
      "3da376b06cab44d6bc2e396f3623a9ad",
      "bc493e55992341c58aadb4cc176d08ba",
      "1e32c5cd666f491cbc74433532bd1e79",
      "b6ff4687ddcf46eaafd50499091e3972",
      "6cece1ed2d774c439fafad4414070ea7",
      "0928d49725124b47a15d59f9320683a2",
      "98b1690b9b234d8c80c37b4887843f19",
      "f1b404d08e6e43448a9827c8eaea94ac",
      "e0ba5f7751f640cb803d6a115ba37e14",
      "8795b35364204cdeab9e8b82b6ac51e5",
      "dbf0b4be214f4b9f92ae24c2c3c29aa7",
      "5a9207151b54449884790e7b7a34d414",
      "c085d16ddaa74e94a2f669f61bedfafe",
      "346d3eac2eb64e698409cbdf4851a29f",
      "fa851fccc3354650a1f047b210a24bee",
      "7170a91b192046c895b177d7ecd80027",
      "9a26fe527ed64d4488b184d5e3fbf66a",
      "3424c6c4a7964401b212405a561a72b5",
      "35f09cc248ce444a91c160df3c9ae6fa",
      "cd0e581e56fe4430b01c5b0c819f80b2",
      "57103aa3dc444d9680a1706c11d058cd",
      "51c7c58b18c74d3988d585482884f0df",
      "8a3642bce3464711a00559535c824072",
      "b4b887a9450843cd8faa3342505791ad",
      "1ef72369a2024564ba3dc0b2acf8df6e",
      "972a68b221064cb69ecc242731297539",
      "d2abd5d79d0b4a359603c1768ed5f2a9",
      "322080576969402789c5ea6917ab6fc0",
      "734feb610c234924be8943d704e2918a",
      "85fe0078910c4c93bb214f0149d9a3e2",
      "e274cad5862949b5b867b343ddec89b4",
      "78eef47858cc45d3938db9279b9cb890",
      "9e7534fb4b3d42cd89a7ace4960f9cde",
      "1831a3b7a140436bbe66db5033a86817",
      "56dff671a44f4566b3239d4d8ec1aeac",
      "fa37c3a39fa245ee9d95af268b23eede",
      "38d76c4506814d5e8c35be6968ff7ae8",
      "2828dbdbf7414462ad3791938a9e9a63",
      "3afe80d5452446e4b13ed24b085edaa5",
      "211c8608c194416fa118ae2256e10471",
      "cac313c544f9411bb9b9d0839b17b411",
      "3c1fffbba88848c09ef404b216a2da9f",
      "b15413f0206f4d3f99bdf443622e409a",
      "0fc582ed675c4653be3f8dd0c767c354",
      "54b8a4121a2d456f8e34be40f788ff86",
      "e62fac4d4ff14482b438a08cc65110ea",
      "e4dc9d198c0f4048b207a735f9805812",
      "764e4fa7f29849a2a90f2e6b825349f0",
      "26ea8a192f3c4ea8b286a55a29403d6b",
      "20d69d95e0bd41c68be3e65fb714fdea",
      "d253c96f9ca44fda9d535c1a4facee51",
      "b00bb711355d448bb9dfa5554e1a3e39",
      "6bbcfb3ce55e47b9aadfb754a2fe80a3",
      "6281fb8d63074aa9bfe7e76029583b8e",
      "9d80385aac844e859974e3bffaa0e9f7",
      "7ca4536238a94beca767f53ebd3f93c5",
      "336b2d9adf0b433193ebb4a391b86ffb",
      "7179884ed2dc443fb4be826e14fe071b",
      "7643142fdcec40349ab097f59bd134b7",
      "2503bf96b4ee48df926a66b639c209e7",
      "581b66e725014891a60d5642b9be3afc",
      "f7cc14edfbdb41a9988992987d51b481",
      "05ae561ad2d2438abf6fecfad10cbac5",
      "1d631850a02a4543887ff7ec72ffe4a5",
      "124842427093424a8c87db7fc19d41f8",
      "2e927c8998b04b789869bcc70ae9fb12",
      "f42f448aa65b447fa29691a5ddee4259",
      "005e0ca3e42f4235ac4eddd19c0784ab",
      "b65d47211e204c2bbd882069158c07d2",
      "cbe55c2d415b416fb693cde098598ce8",
      "b1305a0888dc4b3fae9ad9093f339fed",
      "42ed188ba0fd4e149cab31b9d47b44d5",
      "f9dca74d187a4980b9e6122d30fb7904",
      "4da0d96c17fc44938f37e89b9888c6c3",
      "ac4c115ec2ec401ba9a1661b2364cc07",
      "a226b2d1102d48438e22491137d4356c",
      "3edad6d1825f4362b88fd0b7edf12e10",
      "517e421a17124fcd843d0dc0b6644300",
      "0b6b4785572d4ef19b1e5671b8a49103",
      "8509066ec1a844618257dd22b90c5d16",
      "e49b5e7f6af749e9b377f1e97aafe0ba",
      "d88663368d444298bf18bc6c8295180d",
      "355eae54957e4bcd8e94f78a4d96c8dd",
      "b35a734b08984ff8b3f2a9aefb19e0fa",
      "4a0f9bf24db84681b36420d1c03085f2",
      "053a63147e104844a66d76720994df59",
      "fe2912a9b14145568adccff9e4e0af7f",
      "62afb8aef3f44efabb75353d36051a3f",
      "d5e876153c40488ab720e2d6007db1c8",
      "e0e77bc35b584c9986c380cad89bbc2c",
      "69e7baf73a514248b488e8c20256a991",
      "b0f399c8402c459da565f1339dc69982",
      "368daddfce8544b7b427a5604db68a5d",
      "7bb9117ead514f58a90c4c65fb56bae4",
      "af43e8ee7f814bf5b40e3131e83eb8d5",
      "59887cd385e64d68ad11cc4c09fcbf6a",
      "e6d52c236b1d45a59689b9703907ba2d",
      "a7aeda3f7b6548a08b34d1a231301740",
      "bc5531064cc94cd18dc9bf1e55b2e541",
      "15d9668e7fbe49e3bec3bcdc5bc0be8a",
      "d8971f330f604ae8a4c9ac90c289bce2",
      "2dfb231a70344c85bba9d64372c861eb",
      "7038812e2b5c439489d6f506982d9742",
      "91218b702aa248b698768d2dc80e3a56",
      "6997a59ef9a34a87b356aaab86f0c30e",
      "e04a9d4a2c9b4247ac05c7cc9be970e9",
      "255e6e80494a406f800db9d52846f892",
      "6ff55049e36640de85a5b26a66c2d9ea",
      "b93ac6eba6f3430a8bd435590b5c0621",
      "f2d871e7734442ef99a0130cb4570bbf",
      "724bee1255b94306b5e7775b762083e2",
      "34f0388383894d7f9689e03ba5d1151c",
      "e9527b71c7d84abf82fdfc2ea3e438aa",
      "49a732db73b041ca8f8240e8d45dd5f4",
      "8bfd0a069f6d4273a17aefae6e8df66c",
      "6d1070937cce42f4831e3e50f5246700",
      "3d5dbcebfbaf436f804b77edb7d234a8",
      "eadd8d4cab7c45c4972f4b5ed52ce0f0",
      "8d0b0b4a94c647a5b5edf9559c4383b5",
      "7e1f075c193c4419882fa109d460ec48",
      "fa4675a1e8734fa0aebea2afc8d946b0",
      "62fd095a654a44f5bd575f7c25415d16",
      "d81e1eeb26c647d4973f0ebc18fd360e",
      "6bcab0a91cb0479c97dd932215f50103",
      "687acdc2147345e790eabd28dec753f6",
      "fdca90b123554fabb1f93cefb617a481",
      "80908d4ebe52438d9966b904eb7f7134",
      "0bc80b0d718f4c1a834222936f9e6377",
      "4baa993923a34d4eab18cde7c01a348a",
      "2bf47cdbde2448b2b0bed7d4ad554885",
      "11e91dfbd8404e18b71d2e21127d01d4",
      "ac4aaabe29a94b3187d2eece100dd990",
      "9d59aa204eec4ae685f1b39f760b71f0",
      "5b6abea448f6431f8996383562ccd887",
      "6f790cb92cbb4ff09efab4599fecb7ee",
      "78dda720660b4de4bea0d0c4a21bad1a",
      "6422da640b904434a42e261d729da1fc",
      "e58b80dcc9b7496d9e0c1c6eda6f55f5",
      "5f86267924ce4a5782d168979ee3c083",
      "45453a3291294d8db801db3b404072a0",
      "5104809efd49482f936c1ed5414885aa",
      "c3aebabefb034526950d85939b1751a9",
      "066482eab71a4358839ad16f24598566",
      "5a9809cc56c9456996bdbcd1e650d69f",
      "8d689f81fcce4cf784536f4617f99992",
      "825c95845b5847eaafe284e1c0f658bc",
      "6d327db7755b43beb63eb3e914283f15",
      "a1f240ff69da45ce8417f60e2abcaec7",
      "a7cded85a38d47d78912b755a587229a",
      "b0774a3c0fb94f5899a195c7da5ecfa9",
      "c94f6124f75741568c4da9778fed6fba",
      "31a7a59bdc0247d2bd6775fc526cf730",
      "16ce648227dd44319ba6313bb1e2217b",
      "e929535cfc004d9ebc8c7d6c4e2e9017",
      "f63267a929184436a366cf3141314480",
      "5dc1a4048d3e46af83575d733855e151",
      "6e92ada033d74ddebdfeacc3fbd1ee2b",
      "40edb8606d7b4e68b2498c155998243b",
      "9099f8842e2d47e0888d1024c88c4d64",
      "05388ab27c1f4e4ba5bd46f27a0cbbbb",
      "6b1267dc233c4318b28859eb4a1c0e31",
      "ec7d348eb49b42cd836bd3dbce3202a3",
      "31b52b40c1d94979b656997b7f514a9d",
      "664edc74c66b46fe9a8b0f1c7431f42d",
      "899008a665a14704b8bdcb3f1e516e5f",
      "bb5a0a41c273465da4529b45441ba596",
      "b363f0faaf87483090131469e55c867e",
      "077b21c5eec146e8ada5da932f54a653",
      "b6f8e12807464e84a3579054c2b078eb",
      "84b0b0bf0623455f88325877883ff86e",
      "6990407f01784686a9f40873341ffccf",
      "369b5c42f9fc46a1b4be51c751a073aa",
      "a322139364fa4426b865c381e4ec71d4",
      "6d6ba813e87d46429c1ca637b4a5ac80",
      "1631b57df0804966baf16610bf091c40",
      "ad6e598433644ce185e4074d85c3f840",
      "650a37a619604d5cbc0def93b9ab1fb4",
      "8b2029edf235407ca5f8e59d141faa1e",
      "5f1f47009e12417393f53ce349f4fbd1",
      "41f983a0e99e4f8985766a1e46b5c3ac",
      "f190ba4b957d455a8e5dcbd31ef5e485",
      "7126d0ba0d5743e286a04fc059ddf025",
      "ae7e00a441a7445b93571b4c95679c8b",
      "26f937751b1548a4b4867d8817ccdde1",
      "a868410f3d9e425581bbc5ce89b330e7",
      "6e30ec943cf44b329294192b7b3d7020",
      "531a0aba4ec743aba0eb7dd81c874185",
      "385f517752e140edac137441e485b9d9",
      "26fb94ffa2084280b0119ee26d271200",
      "74f11cbc7211456fab18777de26272e2",
      "89b351be47ce4c58bfdb9fa95a11c1dd",
      "171916fabac248b5bf5fc48fdd2f3f1e",
      "9e074428f15846f4a6a93f94b06a10c4",
      "9a20227a2f204fd0a977bb46c2cc8a37",
      "9f91af75a719475d966dde198c6e7e07",
      "a98f60e74d364c51a305b0c75052b9f3",
      "2029017c255a41d5bf55d9f0da3d62fb",
      "c4ba8dbeaa6945fbb001983e98a846e0",
      "1485ecb6937e4b75b3834664b4c04b46",
      "94406a78b8be431da7d9a6fce2edbfb2",
      "ba564a614d564ca9a6d605a509b231c6",
      "821bf957af0c46e6a8355c39ce5775cb",
      "123b670988674e698b9167337f27b118",
      "be5bf55e50384c36bec380eb37278cbf",
      "52fe3f2187544bd29b72b626c2224c65",
      "a038b6c910314bee8affc3ac282c77e9",
      "805575712d1f48959a95d26f0863d595",
      "7c5a6d67568741d19ee916a6fc25ecd3",
      "056f5876b81846a5999241ca48b9564c",
      "781d3d447bd346b0a94366bcec8cb812",
      "0e5f1d42779746e49a4c9aa84690539e",
      "b4f45da8bd7a42c2b28b5b61ca977717",
      "f5289212cdd34acea71e0ff8a5809552",
      "cb59f041f2b34b9e96073b651b3810a1",
      "8be89bdb1a5844beace86628bb86d976",
      "a638c278dd37446e9f363129fd15b887",
      "33e0bc2f73424e1ca385de25576ebd31",
      "f3798d9f0f634ad9816a493c47dad0e2",
      "ae9130740a724929a554f18bb1d1e4c6",
      "0c234f791687400e8d5eb08f4468ff35",
      "a466f5a3f582480ea31768c59eef1414",
      "f0e8862d58164a52900619917f404511",
      "98db9ec4d6e4405eafcf0d4d52753c7a",
      "360f376e99864a578a0ee678d92095c6",
      "41d2ca9b64fd48ac9f24b238c4dd5208",
      "0537ec86119a4c90acd8b9880dbaccaf",
      "0bf1abc249ab4afdadb2add87e4eb61e",
      "dca58a0376774a1a9ae4c9f856432479",
      "d9a28598bd484723b0f8397cd7b787e1",
      "752898785eb14a13823abb5e954d85c4",
      "5c89b202761c40d4bf42c27ed997156e",
      "45c23f2fe633426a82e90c5b420e725b",
      "48ffa78b225143ff8838757c0fef1729",
      "149b46dcb0284402b359446666263edd",
      "273727d6671b4e69bdb96edcee2edc2e",
      "c4fe49c4d5554e42b19d44d95f119e2d",
      "feebec639ae84f04aaf682bbc3036c00",
      "2eae4cc2ae944ff09b6e45cfba70e867",
      "224fa6e15485450ab6fcb14f7b02d173",
      "f4f90c5433df42ebbc642c2d2e70ad0a",
      "7400e498d936483baf61fc2781fb17fc",
      "5d26bc8c5212420d83fe8d0d1855cbe0",
      "ab226dd6be4f43a5b28f07007171701c",
      "912b5a321fae464cb72968bf07d0054d",
      "871a365fdc2743b0b408e1184d57ca65",
      "99339ae7d9fb43ce86ef1d2b435723c2",
      "041e22e267064bf590c895c4547cc9a5",
      "28e49524a50e490db692835fca87afb3",
      "ab4cfabe9826493a971edfe4e501ae88",
      "7033ec406794404b80490311893b17b4",
      "bd901b98216649eea9ecbe6c820306ca",
      "cb09d115327e4381a137498ce275a252",
      "034b72b0e49849a9add44b3564610b03",
      "f9a94a00595e40daaf6a30a43bbe3ac4",
      "bd43ae9816df49db85fef0c6c4218431",
      "1fb566527b4b47a5ac85a2739b083f86",
      "2d01c5ce0af24aa7bc8cf5a3554f9a80",
      "b2f1937f4e5042eea99aabd459d85eaa",
      "0b546559d1414be5b24d1c24b8fadfde",
      "f2f610e359264d878aa8155171eab148",
      "b8d908535ca04ae08cececf5845e1313",
      "1eb00db6d93941be85e7a3591f7085ea",
      "a93810a0698041a0872c218e2c07e000",
      "51ce771e54fe4f3b8a336dc66535202a",
      "fc36bf8d6b034c76b9ba3260cc381dba",
      "d3c3a76c0f3e4968a0a2eb407874b132",
      "7e8a6186d80b4aa59b3988ae1e57da4e",
      "7cc31454639e479680fd47d2e8fafc94",
      "8f0c8cbb6acb48ee872ebfbe2d37b103",
      "d33a23e7dc8a49ee962358d5b59bd253",
      "783590a40ba94eceb525bfecc70ade56",
      "2353ec3e5a054ae2b7f957d36a5bcf0a",
      "711c1b33c5d149dd820d9c51cfbc4e28",
      "5880d8e9b891487bb3fc2949830a28ab",
      "4bfa64524cdb415bb6b48a4090b086f7",
      "5886148cde58451c851f582f9f87abe9",
      "da529a7282eb41a491a50dec4e9595b4",
      "2482babd1f194d53911b856743e2f557",
      "af402f36ede249b9b92be8c86ead7abf",
      "c2fde2c57894443e8a534e39bef15712",
      "d95f00608f084775922abf257b861ec0",
      "01236b3ea4d844e89da85be9a8399809",
      "a6c3fccb260d4f6baba622a6b3049523",
      "266c38c65ab0486db2ffaf74dcb40496",
      "d735c31b2c2841ef85c816c6d5fb1e7d",
      "fcca0dca14a2497f95654b57ffc52d19",
      "de4ffcb579f94012b1315887e5fe6153",
      "060c14320df74e23ae5dfbb8803fa312",
      "39ea05dfea504fdbb268e7e5da981e2e",
      "3fdb59efef31406c870ef25a9591a339",
      "c5bfb101f6944f798eeb9ea3432858ad",
      "6b7576d93db943f0bd47d82b32f102a9",
      "1911096d90294cfea7b6ac53d8615986",
      "029e374e83da4fa9a73e543c56d163b1",
      "b07c447ab3f243dc90643dc3ddbb426c",
      "95c20eb825ae4063bf53c77ac47d7803",
      "aa8f4e260f0d48fc9af6235bf938cb00",
      "b4af711cd58247a8a31c1db9ec263070",
      "42dad651a69146b0b6e3269733f3f498",
      "b4745b3608d54ac5ac2dafad1e6aae65",
      "a23cfa269e3f495a9342deaef0d5e6e0",
      "533da47d93204671afc17ac627819429",
      "5e18a0d85274452585310bd4beb08b00",
      "1daf2c1f4bc14874a07140d15e7f5cba",
      "d42b473bd0444a1e92be4582357390d9",
      "22e0bad43fcc4ed681b4547b42ebb705",
      "625540acf116465d9b019b8dc127dddf",
      "13c09eaf380748f0b30c37777388a865",
      "31e81c4504514fc69604157400b3d19a",
      "bf842d9fb78b4631b62e759400f7b123",
      "df094b3cef204af9bc1f200f1d163699",
      "b395e1cd69984f09bf931fd0eef45a54",
      "3d138d395495439b970c917e407a896f",
      "2c11caa13c134c9f9cab149d84e43340",
      "4588d69809774a4e953ea87785a95aa0",
      "e391e530cc44428888210d9356c607b0",
      "384ac199cc3140fa9d1e042f8810e2c0",
      "c8acf098d2cc40f7b2e1bd6e592859b4",
      "8354538af9eb46bb9771e0235d64cccf",
      "9b7f43b5df8a4e2b991b251a87fc8f77",
      "375e5a6f4513495ca0a20a5280e7bcb0",
      "989ef05e10834c9488bdd635f26f9fe5",
      "0c4e860f66bc4f55bbda29d07f8a5642",
      "0f1883591014404eaa1c8ee42584b51f",
      "4a07b38fa12a416aaec184b7a10765b0",
      "ad0d18419a4946a686965fedc806eca4",
      "ceb19f6760da462dbfeabc2b3e0fddbe",
      "9990f6700921496daa1efecdb37312ed",
      "640a7161c1a14a40a88603fb715ba551",
      "54698a416378403fbd7f1562489ac112",
      "a557dc2429f24380893114703ad8f755",
      "5ed9724e07ca44cb9bc8c9ba44a5d1e2",
      "2bc9da55b4fc452994d1dbb2a881ce03",
      "8b8902fa56ef481dbfdeca27c9986f65",
      "9449dbe77e184bd88562c0d8654bc0b7",
      "3a1344f3488c4dc9a233f945511e7693",
      "cc83752f9b544306867294d260cae431",
      "1c18ccfcf9924ed8ad6fd4050018220b",
      "cda8837714de4923b955e15fd2df72ac",
      "f164f939233944be85be075363d516f1",
      "b70feaf45084408983f27a7519d094da",
      "16542e5ba9ea43c7841552d770fd1129",
      "e84a89c95c204a9d99e4c17b090ffec3",
      "8e3e358e29bc4f328e9fa32f2f601ef5",
      "0f2bdd0d3c774b4bba5935debafb1cc8",
      "e53d0a6f8a664a928c0419049227aaa0",
      "05aaad0b74bf443a9036d5324c54ee24",
      "a263f9f594fe463794130f42c3a0df88",
      "fe1971991d6a42c589fb687d63a4fc2f",
      "78bff32568b546b1ab1762a52a1aa7c2",
      "652896c60bc34792a6bb6818b7c5a0d9",
      "ea598237315c4989a470b42ca1fcc6b2",
      "056cde05c97349d58011b827ef52ec90",
      "ad34138751a2412bb5ad1f29d30880c0",
      "27e76a42e5a2429688822f3db75c8dd4",
      "f6cbd26ee59d4e35b84670335619f79c",
      "53ac16f4b908469386f139b5076c8a8c",
      "195c97ec8e9a48f28b855e92456ed66a",
      "0e61cb9818df4e39b78342d81a59601b",
      "172dac1cc3c54581a89534e2e205d509",
      "c62ba906d4884f62b30dc12ab246810e",
      "3a280c2e9ac943bbbff0e757ec112eab",
      "45b711a7919f4ed4a43d29e8c4002c4b",
      "0aae4c03dbda4316ac24b3662d9db4ad",
      "73694cc5ee454b0daed26aaa19da716f",
      "7aa3584a0f394e2e9d8b1f58ff020cb8",
      "f1ec0ba738fe4cee86a4ab96831ff1bc",
      "ed5c5fcaff6b4666ac78a62e2317bda5",
      "834ca716e7e343d38d87edd603da5b18",
      "f63e27f8f5d446e5abfff0dff4404112",
      "8ca05bcdb8764ed19efceab29c2c6637",
      "4932b60c2530496c87aa5ca40f7141f1",
      "ab381fb9499c43638c6b1b7686757f2b",
      "921c35cd8bd6488db41592949a2af7f6",
      "bfafa1c0f1cd4d7e985359049d70a90c",
      "4897ca0854374f4294d5cb025ef891ba",
      "d1d4de49a4164f8f92673c8a15022ae2",
      "75b5236b00fa490bb29d21dc44caef29",
      "0a2478e522d646a88d621ad9bf38da40",
      "6cf2ac580d1144feba6c9d48e6fd39c3",
      "a19f6a68afa34f9386aedb5cad95a78c",
      "13759601980e4c4ea8d41846bc827eaf",
      "014c28a1116d4cd8b430c80cbd696585",
      "348d10c177714c51961ccf4dc0921a54",
      "f6afc6a7cfc04346a4cd830eeb71c368",
      "d66231371aa64632b88a9f10875a2bf1",
      "ef8597cd513344cd942c3b961add28de",
      "0d24d4fe6d844639ac224cccf410cfbb",
      "7ce77fb7a86040e4942a01291b5e798f",
      "be0f9001c1fc415eb1a705e121005944",
      "e5d9740938ff4c239b1b34240adc17c1",
      "f3eb602c829f430386896cc2dafb1b80",
      "1799db7326ac4c22a94869ba835d1393",
      "4dfd8cbcd4ed4b64b3c86d6f322d0083",
      "82f657c36a2d48578b3919833704bca1",
      "396cd55a13c94f68b33dce276783b148",
      "b43c40efdf444b9e9592d1a8a7b27954",
      "265f4dfeb50744f3a54696a5b9e95df3",
      "a21c541c87834c2f8064f64ec596eccb",
      "c1f42c14151b4dfc99efe0c8cf1d07ef",
      "7c3be4220039475694449c63191c477b",
      "076c6fa708bc4928bc54773d9a7d87a4",
      "339e58ab7f3a4b21a9e56ecad3d9a37c",
      "15ba3eb2848144f8aa72e1faa3e6afce",
      "f6c63b2b014448fe95b62ca3f8c94bee",
      "45d91778f6ba4bb0be1242568af17a5e",
      "33548829516f49398dc4491ae3af687e",
      "a47c814779a442b7850e4f49f0458052",
      "6358bb4ada304b0cbd79f1dfe431315a",
      "cf61415a53784cfb8b1ec213e3e6cb81",
      "ada361e15f924288b33f550d60e07dad",
      "41127b155a654280830e77f5b3125990",
      "6ac83903b1b04496928b9d1870d61d8c",
      "264e537aa99342a396cd6de0ebf31eb6",
      "f0744e90caf64e8eab9cadf717155cda",
      "c0ec27b1706946548e61e345900ab4bb",
      "ee043084715b46de9cf2f23a9818ace4",
      "66310a8b63fc4f8d94c9faf6c8679010",
      "d5babcd9d8954b2382bc06bf7828844a",
      "519174d62cad4c89b491be2c37bb50c3",
      "c6bfd0f6e3214100a178fe82f17705ce",
      "137f954bfa3d40ee951d661301ccace3",
      "4b305c1901004679bc2dc5e21fe396ae",
      "9ec1a6400c8a4ac4ac6858d8f23f62b6",
      "0bb38fe107c2498098ff3a509717d22f",
      "b704b82135ac469ab6afd0360a09a2f0",
      "0c38cc86d16a4d90a2c86cc028f5da45",
      "0a4ef31026924047b803c2c904ba4848",
      "daaede80ae804c11a52fa02cffb13ba0",
      "692ed4fde16a4200bf99685010dd4b7d",
      "cb59494ef037442481bff5a73b793340",
      "f5876aca92754f7eadab5ebe6ee469a2",
      "60bcffc92fba4843a961addbb58008a6",
      "9afad6deda3f4ef2ba773b6d3456912e",
      "f49b01a829bb4f01a88255294fa2f1f7",
      "656b61f18020498daf4dc8c2107cf5b4",
      "89fdda1c5c0047738f9b2b04971581ee",
      "57e9c12951944745b658d52e1157fdff",
      "6e933199dd5b43fdbce2e1ac3876027f",
      "f0461d1b17cd4f398cfa7edfd0e5137f",
      "3ff5418fd7bf406e8cfb0898c2861106",
      "049ddeab8ae14a988081f10afb98d913",
      "248588553aa14d4581a219b11f597b02",
      "ce76372b8e594e87ab42b773ecdb1b7b",
      "a9081d53481b4bc6bccb7b17b5441991",
      "706f3ffd3ba843e78887fc79bd9063a0",
      "0a8c43936dd149149ecf157c50c99faa",
      "faa96599298a4eaab027ddf1a816b337",
      "ff9a827842e94bf699fa1fdb04cfe6a7",
      "c00ce5d835004182b555b64e7f4cce8b",
      "15a2fae8756b4ff8a1bc1485846dc3fe",
      "a4f537fd487f47da9407c9b2b2f83aef",
      "4ec4e1c7ea614a7b8ea41de7d20354a7",
      "38a1edd421ce45f8b7c86d5834e20959",
      "85cca8eb327d43148813e491e22a1852",
      "73b54c82f2e84381989649a9d005bbb3",
      "d8c3bb447b3d464d9311a6ab97eed735",
      "e05dac1457184d04a910675cb1cb766d",
      "b169f665dd734d5f933ae0a7a237372e",
      "936a1b0a244c4cf897a44d2b04535d2a",
      "6a88423787f74860b8c8ec074dcfee79",
      "10d50b3f5a1f4f21851e06bf4fdbb9fd",
      "70db919f4d5b47fd88f2db3dfe384b32",
      "0d4715988d764b6382b4baaa06d00bc4",
      "8aa8fc9aa1eb4d4f97d8ae7cf0a5a836",
      "40c4fb1f944e4589947b06e3ae261feb",
      "724cc1b21d1e40018aae4cb3322e5bbe",
      "3c17c76cdfc74bcc873e7d970abf93a5",
      "62d9c9c5b3bc49959a244f4692e08416",
      "13dee17f18eb48a78856525623ff30e5",
      "947fedb4141b4847bce64e8bd7317e82",
      "764e459fdcc14c5e92e0272dc177677a",
      "de9a52f0200e4a64abaec1ab5e52ab74",
      "1cbbc2b66a98451397b7f4405232fc2a",
      "768174d595f642b6b4c997e1a8f78288",
      "f6e3428a20404804b68a5cb862c4ef76",
      "0dd2a891ece440169b0c728380f15a10",
      "e0384531b57343d0bdc457fdc06b659a",
      "97609d4415474d75beefd4ebcce06487",
      "59e97d1c5af44ec2903e3fad13ffa934",
      "2fb0adc754074b41ad81c2b0b9733a96",
      "cc92fd6e2f77401bbd18eb027ff5c2b7",
      "15be5b722e8a44be93e4801d2c184cf9",
      "1a766708a1614c1092667c79e77a8f97",
      "15578bf6a97e487f968caf8dc2c66772",
      "97fb477e41ad4dad84731bfb7c1124a9",
      "8a7691b4e98d426eae0063d7d122b0de",
      "8d5815e8c6f64f31aa1b9dc8d4693c46",
      "2d3428bff53f468d877040b73c68daad",
      "6685641521f043d3825316712eb4ede5",
      "19ffdfd3ffbb4c9eb29bf7414faa50e6",
      "358127512af0404f86f2da52e42153d4",
      "676942fe03b5432988b90ecd2e4f3613",
      "d9012b52988b4e4085510ea672640a91",
      "37ac1e04284e4757883c5b0a00d25c48",
      "b99407b36d1d42058375f78a6c4467bc",
      "c09ff108dd56481880d18107c42b1c0d",
      "69e331bc88fe4944a6b169c36dea50b7",
      "3b71a07c3d6e4b3d8aef4bd24ae943e3",
      "78851c9d8ad9415e915a2b55b288cf3a",
      "cf620c5eb3b9483f890bb05be4a6585d",
      "379200bf97284245ae169fc7a0f26780",
      "1082052dfc0a41d78c336a35394cd640",
      "0fc040d8612743f694acf33560928e61",
      "b1410f35fb614a99a2b77b11c9ca1d17",
      "7f2d41f6c9b54656b6db73291a47de2f",
      "39135937876a4228aa5d03a1cf347075",
      "7825ea10feef4b32b6bbb2148e0bd2d8",
      "cfcccdc62e4d44bfbf09201ba4792034",
      "490b91032fe24142bb8e32a5938796b8",
      "551153eeac4b4818b9e0ac1eeaf243a2",
      "71822b00aeb3483897c8526cd0ff4c3c",
      "267ccc4ff9b0427e8fcdfab9800f4eeb",
      "4a5d66cbbe754e9dba8a923f63ee415e",
      "3b3340dd7b824fd584bd4cdabbb7b113",
      "903cf555c03a4f2bb298a9de94d77595",
      "6ebbb4a5a92342c5a65a4a8a089705d4",
      "4832ee52fda74edfa44f096b5da644a6",
      "5de4ac3d062749488745ec2a14f23808",
      "57459a49a1f542ba96c2626e49bde1fe",
      "6f8761e47a434037944217b1cfcdcd02",
      "9cde9820b1ed43c68458089c413c1399",
      "9288cc7f3feb42dda5f5a7d1bfa462a7",
      "df5db3796e1548af85097feee3dbfc02",
      "848b58b11d6e4dbc994cc1f09173339a",
      "cf47053669194980bcef1dced4812811",
      "ad0c6d0f83234522837799dcc70ae0eb",
      "86ca07ad51984d64ad2af75f5b562bac",
      "0bc4514c65ee452cab9e9e6a11f07e66",
      "53393549816f489db3da584e205f3e3c",
      "8ebf581b2ea2485bbaa177079fb0b7cf",
      "6a2cf3acc4f54966a6d206466dd638d3",
      "1f38b3d3e3fc41df89224b0d5601501a",
      "4c46a5d5cc104d898329d0e1b2641cf7",
      "2bc85a2bf1f94a8a89ef27d427ce6ac5",
      "555ad313a4fe4254bd555a2ee5fe0875",
      "dd752484d71a4777816ea2b4a866738c",
      "221649f716ac465e91ff2d64ce90521d",
      "0e6e504fcd3848929be6ba260f360567",
      "bd24a1ff5a1347fc9404bcb82917afbc",
      "0d15e968f1da464da645c4bfdac65710",
      "0ef773124ff148e7b28515dc42a8ef0e",
      "b3ca6b74ef3744848d40fbe096690ae3",
      "99241c3aa36f42aaa9b590cffa1bd949",
      "b3b173915d174c42a68ae445328f7547",
      "57ebe99fffdf4845b663d6094629540b",
      "7ccab21f75de4c8fa0904a684d24c307",
      "474d42f7c8a746aea096c27a67d57668",
      "50a93d9e4c774f7a91b5e17161affc2f",
      "c2b1eb4070934fcca0017e74601aac19",
      "85e034f735ae4b5bb2c91850ded4dba4",
      "f033e3d5f9034c928dca87c8d17093f5",
      "c326d9edf44f4452aa88aff06f3ddc96",
      "a783b8842f7848f7a093ac9cc0127735",
      "17c2b8ffa28e42a7b52abd9052d21021",
      "c2ff956a0a6146e1984c333e18ff773e",
      "70285a4a949d44c6a7af07298999128e",
      "01a3d94ee2fc46b5a6a06d0539f437fa",
      "4a4991268cf14387bb606dc2f050f5eb",
      "c05b6ed199b246628dfae03bec99b97f",
      "0a3e9d2e45814fe6be8454eeaaf41c16",
      "ef496c02555a4052b269a5af3c846da0",
      "0749c2d653834a2e88304f55f1507bc2",
      "7e46dd1c8d3c48ce89144a9aeab6bef9",
      "64c667a8249c4764bc0280c550386426",
      "e37868ea87aa46cbb63d74fd2fceaa3e",
      "81366f48b8d246e58350562505740514",
      "0cd2d8b895dc4f68b41708651bd65e65",
      "9d9bc89eb94443c2b87470c72e57ca97",
      "0bd0d81f50654fd49fda494df4bec8cc",
      "02da2e04f20c41bea2623801ceb6748a",
      "a98be20014b24b7b8f444e3d7f0d5773",
      "1d73afce788e4817ace03c5a5a0b0459",
      "4c9db7874a8746aa8a93a16fa5aac8fb",
      "79dacdbe211740b6a1eb133ba73fba84",
      "db70be078a5145dfb8b693a58a2b3714",
      "2dbe9b998cd9423eadca1c00d213f260",
      "f23706f77b8f4baca30b85ba05dfdbe1",
      "165988848b5c401e8c28150d2d56a911",
      "4e631f109adc446fa2691ab540d4f1d0",
      "74ca3263cb8449309c81d93fda786285",
      "6a8e69e514794037a3d007d8788b439b",
      "532b08a4e48745ac97d1d2be9bd89ebc",
      "e6815ee9305b45a9a0342cdf6ef5cf3f",
      "43075af59aed49dc8f6a1655c64ef29d",
      "fdf6edff903b454a958674c716814878",
      "43dcda06480042fd8a9d4cf913086b9d",
      "7c60a2cd4291491fbf8db51468fdc44d",
      "102ceef978994e3a96137ac4184a5e70",
      "2c8d03fb903d4795bf4c425e8f22ffa6",
      "cb1cd2ac89614cb2948265ee2690fc9c",
      "3e7c9832e8974b8492ed3422feb2bbc4",
      "43690640b906489ab146b1f686588ad2",
      "8cbbaf19daa440f3b9b6058d497d9b7e",
      "fcce80e633f24ae9ac91a4a73181603a",
      "b2ae8d16190047a2b187a6b41069cdbd",
      "b9c8b8e2c9e34e829742e097304f6344",
      "d8c418ea733b47cba823d9611fdc46e1",
      "6e35940b2c044f7cb96d3ddaadf1a66a",
      "d0e32a39152c44c2877d9c9b13872c45",
      "4877e15b76b344858499e9ae8621bb4a",
      "f1ee978a1b3340039c2b9fa3ecd29f82",
      "48270b2436294d06b5ca4c337a8d1307",
      "f9f04c76377c42848b842c6002cdedee",
      "7e92e71b38b140879a4240a1258e678d",
      "b5e5c3e3db774dc2b970a4e56af9578f",
      "919ba694b2004e5c97116e9effc93875",
      "b621ae9aedc148f2961aaf27fdd2e95a",
      "9aad7f8f76004f15982df5a4d813bf24",
      "14167d898d2a42c6b7c7476885deb1c3",
      "5f2446d5cf64472db995de145c357f50",
      "9f5014b19bc54b5cb999b81d9aa2eba8",
      "a1ee95e1a8904b9a83c4d1a432a47057",
      "f42ff723087b455c805d255036d0397f",
      "cd36571251cc48cd950b98b9b407a810",
      "b1143133532c4cff9c73a0cacac15e35",
      "e4210b12ceb64f59b3b62ddf6343fc95",
      "e7bb1a1dcbd24cadb5f0232244b8f0b8",
      "a64043e130454d18be7525fb66e0cdce",
      "b38b3c0cf1874268b528c52790292f04",
      "6e5f5454b7cc41a5a7ad3bb1a5ea7c45",
      "ee3ef81243404d82adb9221a025340a9",
      "8ed95b569a9b4c0f9848e4dd8f0e3c76",
      "b256a817cec34b92a0187a42eec68e75",
      "554ab97db3b1461c839ea9893645e9db",
      "8781350b8e234d6f9d608906c510d212",
      "51379e715016415785a60d2a1171f1f3",
      "478bc6704cbe43dea5cf0ef93dd49bb5",
      "19428224960b40e199dcae4dc0306f49",
      "bf76f7ff293e47fea7e3285e7c6f5724",
      "84b1ad85e0b245d5828237493efbba08",
      "b167aab12f5d4932ae3ae8260319f3b6",
      "2d1d70297cc944398f307b85b96038e3",
      "b1db7425284b419b91dd2a858a0065f5",
      "d9ad47367e734047afa90a8924c836d3",
      "5370913b3b324e29b7c7a825d53748ec",
      "0d3cfaf9e4dc47f89ddeac0296bdb717",
      "6555539a785a41329544022f6b5d94b3",
      "9233836357ed490a8c21e5bebdc368c5",
      "4a41ae91264141acba47b1a40865fa65",
      "829b16612edb4fb78046c9bfbb571589",
      "f77be231402e499b97580c89897f59a3",
      "9461cc0c4a14466a887f97d5df2bae35",
      "700e31bb83d646988db0438a97469ff3",
      "2333ff148d8348ef9d5b078967e9d03a",
      "45765b7e95dd47d7a0b2f1345466d91b",
      "abd65bcb73ba499eac7936f7fbe8d9ca",
      "970f63461934435aba9a4108c7736e18",
      "0b5be9c3fa54436580459cb08fdff325",
      "88803a26720a4e5c93648e933b6c934a",
      "8f4202774ef24f1193a65eb0762fcd39",
      "b3053055e7ff4864b449b214cfe59a43",
      "64118bec6df546438b2e2cc7fcbdca86",
      "b89fdf6dc38f4638a8a3148902530b52",
      "a9563ded3afa4472adf636368e1e9ef8",
      "4b8bed4c3474419ba1e3db4553e83d0f",
      "e763299ee91f4cc099564f224c7e2651",
      "018aa4e2ea004713a1ef7a39f67135d3",
      "908d94f8d7ab49eb91c66ff7c4ae24e4",
      "bc692d6b02514da889b5caef6261aab2",
      "898094545fdb4cb6b974e8b69fa2a65c",
      "d91887fc62bb4e38ac1cf96803226330",
      "69d9a0c75c1d47eba52220cbf8d75122",
      "839cfed339e5440da96a7e3c204c04a8",
      "ca17595d62484bdabbf236bf806321c6",
      "bd0fb995a3a7407984fc636b13beb5b4",
      "2657e969ab074c6e9e2676896f20a82d",
      "ef16ed1544104718a118f6ab4c91eb05",
      "0005da25f26c4d6ca203fb04dbb3b4dc",
      "47e60732b2aa40458f974364d045937c",
      "8b5b90d36e604d67bfc18cd5c8f45eef",
      "21f39074f8cd4f60a9abccaea403c2b7",
      "431128eb558846d3b45c50d0651ea233",
      "58b0df60b3c64e208c678124cc6d18ec",
      "4ca43d3b51fb4e7098318b82e821291c",
      "6e95b641059b4f6dbe3095787e868a77",
      "a0915f9eb72d455d8a96da5ac82743ee",
      "d0379866fd484ca99163c80473d0244d",
      "04a865c19710453386a684e1740e271c",
      "04b28f40995a4998a589076a00d2a1e1",
      "ccffa5ac766c407a9c1625a71d295269",
      "566394513d154aeaa389a985c20bc68d",
      "a54c85a7f3284197ad3cc03b770ffd04",
      "fa85a9ec16604dcda1eb87f96e167919",
      "559e07c9bf324d32b90241d0f7341545",
      "9ed416387822476b9cfe43ca3a5a4ff4",
      "e7a009035bff44daac4b21c333fd55cd",
      "48d7b0f9a50146efbde2d319d334ffac",
      "a65fb003d03a4c118c5eca46a10a9507",
      "3c9acc750cc34be6b8424b6ae9372819",
      "845e80b56a0c46e3b754346fbc023a5e",
      "b91072281cd34132ae97e64de10fd92c",
      "d89f957e67e8468d8316ab0ef9ce2c86",
      "d45b7bf7c336453fb10f713b039f5b76",
      "8526cc44cda545efbc9612ee19af22a1",
      "dc1f7d8ca8e44ff797c36f3ce6ca26bf",
      "5624852924be4a01af4aa6cb5ea3a16b",
      "9b5b934bcbfe4e25af158bd6c5025098",
      "d095cf54a83f4bc08fb0c307a4fe7612",
      "d33a30d34c5b44d5aa06f593d2173eb2",
      "40bb21f01fce400292c5e5413be715de",
      "578a18af1e434784bdca513f09c59302",
      "94e46d88e5b1485c97e7e72f32cdbcd2",
      "7d717bc2760244b28749fa02b58c0fd4",
      "9f7851bc9a164115ad049eb33afd474d",
      "39488803cd394a37bc0da290cd725753",
      "eff2500e3d89465d98e0e0fa0f7661f5",
      "07aa413cb3f3462781be5c230f647f0d",
      "d235af3bcd7c495eb53d8201ad7ca43e",
      "5a50b49f33344ee6a4530bb530600338",
      "94a4bfc4b69a40838488a547c6d67b43",
      "9f7a1123f8194e3aac1af8f3a1b17ae8",
      "e961a0b6a55e4bfa960ac22833623ef7",
      "5f2f1b382f50495cbbbdd285e628b7a8",
      "369004a03b17424fa717b2a28898149b",
      "8725005a94bd466b9c417878cfef1260",
      "41eb456b040440eba5fbe963c0660f5d",
      "12f930e4f60d4cd2ac8996a5f7f8a427",
      "3eb08da3043941bc9d4b19867ed53b1d",
      "1b16c82e979840eca292515ac9ce0cd1",
      "8a7f24887c51406db25099c7550b8863",
      "f481b721f1a74d418cb487ccd8a02f5c",
      "2ea3692ceac3444298e970295df920b5",
      "f04cda31167348198e60f5146d9e3f2b",
      "141254ed1ac84f4bafcc08f95f213c80",
      "3d78e7cfd9d440e9817a49a363d8d3c9",
      "644470c9e69e40498cabaefa02e5d764",
      "61c6c12a8a18475192052d13c36c852b",
      "15d98baa883a4530b5ab122e4b769d0c",
      "704e5b46ecbb4aa084360d0c4d83d4b7",
      "13e9858850c24d519ceef51cc25ea877",
      "08f64b359975444c993bba264b9752e9",
      "ca78cb05caee487299fc5037e0234b02",
      "4bfe0c5645f8413f89f2259e290157af",
      "44a9fb7483444e3cada9ef0a5102b3d1",
      "744b227bd59c49ff87f82dbc8932aa30",
      "6850cfd6d0c24b028dd954d3f8eded00",
      "1e44ffcd0a3e45bf8953c04bdf3e8a59",
      "ca4b38de95d64b809634aedaf8708826",
      "1b19e9f2503a4109b8a036d7347f945f",
      "4add3f8b98944aca8e0177312c55dc34",
      "eb6738afcfb74438b5ac4eec427045f3",
      "1083879b7f12419bb8577e5653bea898",
      "93d13646f6f1402aae554e9165e566b2",
      "a1204616e9ce474089c7bf6518550e6a",
      "9e44250848d846afae1bbe6a06b6328f",
      "7d1863208adc4af5ab89406211aee8c8",
      "ac8694d9c0c34d4cbe66bca176c67ed4",
      "c9d2dd215ee84cc9a77de194e74fb349",
      "0c49eda069a34b13b7d4c5b2f7083bbf",
      "6c9e031d94664d95b8b6a06779643d99",
      "1102942a1bbb4e9e89812ef5c274690d",
      "9fafcfe8b02042bfa274f92aff85f6bc",
      "32478fa71ffe43b984691d0000ece7bb",
      "ff788b3fef2f48e5b04a2a0f283d80d7",
      "449da73b0d114927ac3e528e218789f2",
      "b44f99ce93504b0cbd62850840e8cf0d",
      "c7def1cccb824ddd9a091da86e34d3eb",
      "75f9849c15944ea8926513a3c28de89e",
      "8b4b025ef8fa43a5a92079054b32c659",
      "adc525ff2c174ccc8996d5c6825a9b72",
      "078dc00a2aac4b2b9b8e4300700ea581",
      "3b2afbe1b3f741ef955356fb2e2ef093",
      "5e326f2f096045409fc2f8b7cd19543c",
      "61583ef1cbf34b8488a911036d0f5afc",
      "1484b01eab784845bb96a1e62897cc66",
      "247873aafbf34abcab89d844fb24710f",
      "378e655d75954a648b25563544a06840",
      "9f43cc2c5b9144afa5f39a4e317f05b9",
      "ef68d40fa3804ba1a6198fcb63c965fe",
      "88d74d77db4643c0b16b12a1e99e7ab1",
      "321c4e5209854cf7b1096dd352f7b69f",
      "6dca72dacfd6483bb62443e484153baf",
      "27dc090fc34648f780de75d9e2b90582",
      "3b974ce3494448b0b33e5961af85b65a",
      "0b1fffa88d1946cfa4ad5f3c14d1e4bf",
      "a481ebfb10324c3ba0fd1452ef9a66bb",
      "bef908ce5cd5464fb4bab41d2babe705",
      "d2b2d432638e477f9796db5d93db02bf",
      "1b8994a49d814269b10055b6c6e2bc40",
      "cdac68181cce41388adf98eb015ff024",
      "cb5060fde0c74c6d88f2c9d255fd12d5",
      "17db874c021a4fc68d76e588040c551d",
      "f54ee9f6a58644a8bce83b6b50098bf1",
      "63e09c44f43f4f28a95aa730532dd241",
      "b420b07b38b64122a039b0b5644a8316",
      "d22ebcd0b80e46c7ae3471ece865d6c3",
      "667f64e8f28941f59cc4bdeff2674d0a",
      "b8ca4e7d7be74b33b8c203a10ec1691c",
      "4d6c2b1f210a4f87854b325f1020ec75",
      "5ab72698d42b471e9209038f96797d58",
      "5fe5e102c3474ad1b359b0f7df14d1a2",
      "dd73b4e3e0e14079b594d443606838bd",
      "e7abeac1d6524bfc83d6ddfdd87a20f0",
      "e632b22aaf3744fba0ea4d1ab5c76905",
      "0b6c1c21ae9f4b11a78333214f11e7f7",
      "76a0bd38888c409794f72a1751b2a23c",
      "457a44d1a937415884c918649b0968be",
      "1e78a7585f8d4061806c67adb5091502",
      "260fd9cfa0944df6a595cf9f5cfefc3a",
      "6042b5370296447fa736ac238669b3a3",
      "344673b1bf074cc1ac0d685be0113a4a",
      "68d69e51914d40b18bafa183db3aaeb1",
      "205812de05da495a9cde9a7bc73291ba",
      "bc791c2d9e19447780bc6b2db8cb2950",
      "03b0c18ff67f47ab82adc8d2ba48919e",
      "56afa6e97d1c4ec09bc63b1c9cd91f55",
      "a082997b85804658a55d739e235a52ea",
      "84d7eefe64b945c9ab825dd994716121",
      "fef98bd1151d406bba9c1d1f9c8dfda0",
      "917c09f35e024cfd8fb15b6eb3501bc5",
      "f3dbc4c8dfdd4196a98311481bb20e54",
      "812bde8f1d164bc4804e973910e7059e",
      "7e44e169511b4bdfb589540b330352a6",
      "c836bbf200b149b6a4dd6daf77e9bbbe",
      "bb3d187a16f247d19ad2e9774b0577fd",
      "14a57dbc17984e58b862d195af4f6890",
      "baff1dbd0df84783bf7c18712a854e19",
      "5dae9062643842bea7953b7e4f162137",
      "245e002113264259a2f68e61fe587ef3",
      "51576b68fc2148aa85689f3f33587562",
      "c928f7c8585442ee8f40f2421c820669",
      "9e2edc58ea174b43b5997df51b93ee9b",
      "3fcff0ca878e4ce488f5cc33aee53fa5",
      "cff33cb03ece4db09d37b1ff7ad8404d",
      "7af36f77abac4ddeabe78db5591931e7",
      "0a5ff3f0eeef4876a327494eee0a78ab",
      "91021904130142619e758fa0d45f4793",
      "1429ac176b984f2987db450359b22611",
      "2fca6b17f08e4c20b3acd5bc34805d39",
      "bc7aaaa33e4047a48fcd36a7c33b8773",
      "26d27b3baf274c259d351788e668a963",
      "eb38ebd6698b47e4a269fdffeae69c49",
      "a2790896ea124380b8a716dbb85dd2ea",
      "5570a7e601e343abab7afed12bc8a9e6",
      "6ac75c0e7cf84a468fcfbec08dfa1557",
      "2a52deb187394d1eb4827b1c8fae94a4",
      "997cf8eb4e5d47718719a9a322e61b7a",
      "8973cd56311a425886e32f9752b7d8dd",
      "96acf467c1884d37bcc2ef66aa1478cd",
      "d9fc392f79ff4dc2b1cc7140e994557e",
      "4e92194613424f39b515a377763b3df9",
      "cd215d42157b438fa0842b0f0b874725",
      "18d530b28a8549409a818308cfdcb666",
      "6c887ad7233d4df5bb955ea48e7fb24c",
      "1e9357066ff441b7971abea3870d86e5",
      "43f61c6f3fdd46eabcb1b562d02245c5",
      "b9cd00043f3d4182bb25606de9458751",
      "6eaa8866749f4c4b82100fccc70c20e6",
      "31ddaa8e08a142678a857b053d0f9e47",
      "bdd4154fce0848e2b1ca9774a9dc47f2",
      "a13414c88a344db28d84076b589fec35",
      "10291d7e260544ec9b804ead46f101b0",
      "04050bd083d74b26927f90506bf52715",
      "a5a6ae3644b4440e8d9d23471edd0930",
      "8cba80ea3def42b19d75c8f4ca411a55",
      "58f55ed65f664c419953faa6d24e57c3",
      "6c5c8293338945a3a24e8ae92588edca",
      "a641c9fa1a10479ea6b434e47944f1c9",
      "0c97e393d783471a92f93d0f04eda461",
      "af26656b83d642cb84d51a6a5f1e8bc5",
      "6c1bcc5d01c14bef80f765614b0923ff",
      "6d815c4fff7b4e2aa7ab1ecb08dacb58",
      "cb3d94982f9942088572378594e3b6ce",
      "0f5cd57868c04457a393236c7fa8c295",
      "5201b58d9ef142fc9d91bbf54d157f6c",
      "c6394012e0d64e42b91600635b62cf3b",
      "bc19a15c6b584e77bf9773991131cf90",
      "e4fd71950c704cfe87c4f309dcc8b51b",
      "9447fae5ec8e48919aa42af01a1becf4",
      "fd4a8beb609d40639047284685875acf",
      "40ebab35b1824aaab5ee6591167c62e9",
      "52cbd0627fff4ae797e4d88499be9e41",
      "02407a4bad464c49b083aa5821564e74",
      "47d4b62929744bb5b2ec37c3f11c85a6",
      "f5bc83cd828f4cdb98f8de94eb8eeff6",
      "fba4d496e5e34721a04af1280ee41306",
      "767ad9768d264cdca77d4d996e79f14d",
      "71af7b8a895445c0997d053f797b969f",
      "586d09446ca048a3bce6c7e6dc51ecd1",
      "ed6ce5945d0d499f95c422cf59a848e3",
      "12e453d271f44f589665f0cc5a28113d",
      "02d364f64db14cfab458a826d50cdc1f",
      "c0c43021aeb447558a7f54869eec51f3",
      "7abf181c8d3f47c7ae29df0a7fd37f14",
      "a260f4749335480fa47b49f9399e95d9",
      "cb5a608bcd3e4417a6427a526c8083fd",
      "08a09f717be34511ae0a929fa142dd99",
      "e0091e5cee2e4e3586c2139e12ab10e1",
      "1d048e7d296d4992ab63d9536f79cad8",
      "000e94bd3ccb4227b2689681f7c0b537",
      "17623fea9add4d44af050f80287ddf55",
      "6e18f5d8d940412d8604728315309519",
      "2c2d0f1c36e4458aa7f4f2f56271e402",
      "eecf6d63138548aea3886dc285fa802e",
      "52f0506a63ea4fba8337fe5cafc86272",
      "68fc16bb96b94df1807a5fa6563e28b6",
      "d5688c0a353d49159689a06f30027093",
      "d646db0c96404f3d9ea1ff6016fe8957",
      "ce223cfa4bf3455dbb125d50f27af714",
      "f49dca361fdb4693a31fadd84a8ffc25",
      "4edffcb93e254163933a5c246605560a",
      "e2f780faefe1418681e3e0a8d7c6c92a",
      "78e149febee047e9b60def3fd1670a2e",
      "903e86635db4452ab713558e8cd20a59",
      "df15702852ef45cbb20b3a94dcc6318d",
      "8e701f98c2c143a6b4e27f7d6cad134b",
      "cc0c9394ac0a4082b1c0a0c42f7615a4",
      "8ac9a1cac2234232a2109df15806e184",
      "2fda73ce8f8a4f63a022fac0d6a763a8",
      "f94e65a72bb748eeb6438862eec58fd5",
      "f166f966e69e4ee4afe36638a4746a1b",
      "053d6c16efb1498f8eb9e0d0cbd10b86",
      "0f5492473aad4e6c90299150a3b0f4ea",
      "5beb9977bdc24b29a69f13c8848f85a8",
      "b481e75305d941aebcf32936a1d95dcc",
      "61d74bce60fe49328a3ebe1be51a369d",
      "4e2d6fe28ede4b85b5e38872017d0f33",
      "edf81d82bbaa401f8fc53f5c7180ac43",
      "f9f6895de06e4a2eb981c06dd3e2e3b5",
      "611073b4c4ea4c2b88953c3960eafa7a",
      "01fa97d2de0d4975a045e10e01a2affe",
      "7dde48d1bc1c45809c1141c9bd2ea0f1",
      "70bdd4eb6d764779912091faf9193ed8",
      "555978a31dbb4d4693487afbc164fa52",
      "777a036b59654281b8af75244c1d266f",
      "feb9605ec2114b0f9a366e13a3b251e0",
      "7023616586e246e7822b43a9c5cfc061",
      "6630ebcdc000424bafa58f0b7b29a4d5",
      "dc76389244ac4a1e84f6d6a1a7bd0c2c",
      "4340c30608a045288205b2d8d83a77f0",
      "f4ef68c1a9ff4cee867880f541b34a36",
      "e00570065e37493690a0b56241ea518a",
      "28bfe8e381f540a082ed4366f6de10df",
      "2bcb8690a21c4b98aeb16c6943777ee5",
      "d10ac09daca14400a9b37798bd35e061",
      "417f13a29f12441180415e22643d99b4",
      "cca16fb8c085426c965405d08d446f0a",
      "c9b39986d1d9414fa0be2c119e92f3ad",
      "889c3583480f4e5eaec08cd0ba576ebb",
      "9dbb5f6072d243188804b5cd702e9218",
      "565b8509c8124e9d9c33eead14c7afe2",
      "6986139ad0d74fe7b512e31662f178d5",
      "d9cfd350a3944708b7444703ae03928c",
      "7836ad5a09824187aaf65c7607b8e56a",
      "83dace0f6b4d4a2685de7ad438d9fe64",
      "86f6a25b6ac94376ba456cab06c54da5",
      "44e41005004e44febe533d5a1ec5ab93",
      "c4c4495dce8a477cb4de3f135a106207",
      "cee67aca0b084888a47a44aec12bbf24",
      "e5fb135cb553458d86379fb609f66210",
      "7e480926116d451ea1b904e1a38faef8",
      "0c09f5d5eabc448691075b3bb7d1d182",
      "e7ef33c51db04525a25ee2d46baa5367",
      "9e1887d7555f442fa91fc0351c0ec381",
      "b64dec6b25704a45aee7d7347b4473e4",
      "683e113cc9314634bf6bc9995339cf32",
      "c8c99cf038a84b9d9795f2aa1f4db8e0",
      "8791c1c7de3646568c6cf2de8ab05555",
      "8289922a8da64eac9773979bf74992e1",
      "5f5ab728c11d43ec9f1a9f2ba520423c",
      "a39f3c2013c34ccc97a67d6379353696",
      "b89b8982eb524c5292db5ff875413ba2",
      "0ec02ed58f8d4b4c84e3a1218a0bd627",
      "8dc4d0a8059046bd872e37ffa8ab56b6",
      "bc54c5f3ae0c4d9b816b8f780e6c4ed9",
      "deac05ceaaf5486c8aa81d924abf0a70",
      "2935152b0e22421d9ef380eae78de70d",
      "2aaf5dcc1a194ef49cd47c936620d8e3",
      "08cdaf765d3948cca3d8dca05477cd50",
      "bf33749613ab47f4899a1b5c872a2cf4",
      "390e52b88885426a95d5f700036ea549",
      "de5696943b66492db2d23fc5885509ec",
      "5e3f57e22ac041879a5f70783600adad",
      "49b04eee91804a24a9b40d3a1cf97eb4",
      "49ed0a02c4cd4a7c9ae37bbd552a03b4",
      "13f8ea00a4d7445c8774051ebcb5a094",
      "9dfde09e79f046629545fd437eef0a5b",
      "94b03ad5c0224516bb966be7a4722e0f",
      "f504bda811f74f7283af0e2cce7e0598",
      "05eb655a22a04e1ab439b96226328a05",
      "956bb86b8543454f958dea0069ba6541",
      "53e438e4c63f45d69a4c12119738aa17",
      "0499bf49178441df8b2406e159f768a8",
      "8eb161c0fed648cfb71edd3fbeda1220",
      "f5a7fdcd64c7420f9799ebc91a0e0258",
      "1a7aee7801f840538789b9b05b23f6e2",
      "37b3d498ad074bee8cabe4761d72e73d",
      "4e373ecaf25d4b89b7aaa8a39dc715a4",
      "6a2e2552da864bcc81825384d2fc5067",
      "fa2772aa8e2048ba82f5a425c9c3fbb8",
      "a50040d9107b497bab8202a096cfbe38",
      "a63b2bae1f02406c8aec80d3526328bc",
      "0ba607e742b54b388ab7b9de68b84dca",
      "9793001de28a4e63b74c8c44201f9013",
      "4951e92592b44930a05dbef0c4466838",
      "056896b867824fee88bd1c343ddcb99b",
      "0c8275ccee5e49b0803200f67c2433ab",
      "0ddeb87cca9d41e9af2b2f53bbfa6655",
      "b22f1d5f3d71401c937ee9a9933423ab",
      "9212c7652b8940f8a721975fcc9b0022",
      "0375775e737f4da1b36601dd334a65ab",
      "d42cdbcf75a148f9a5f5f9353b629d9f",
      "183ae90cfe1040e496660c1477493d3c",
      "c84077e54c5e494f9910ff33df016010",
      "2ea0fdb4b3e0486c8741ce363c3f2ac6",
      "d990ade5a03a446caacc520aaeeb2abb",
      "938955c324c14cbfb96ed62413d90348",
      "9f05472a2661444c88dc2150e71c26cc",
      "964e96b7d7b948f193f295956fc92d90",
      "f3f3c51b14744f24b85c476b2d830baf",
      "642bf4960a1446a383799c3ac635f01f",
      "36e0be411dc14277b9f9918e1173a80b",
      "e9c0e5d60ac84638b2216ac3fc2c969d",
      "cc28ac7c1c584253aa4fe7a988755931",
      "2a40d89f91dd40b792f95d507c1d1198",
      "2e1cb69cdb5e4d43a9b3537e5cb712db",
      "a4bdf534f4a342de9b3af3ee6711bd87",
      "e906dac4726b43188eca079245242b6b",
      "bb2097bf26cf411d9bc6f44423fbeea6",
      "d6c3387fd333485c97408aa4866a5d7f",
      "c5a9d2e5c4154cd98dc48e4efb0b9885",
      "188bee8d1eaa46a995cca3f441bc7386",
      "c6a822f7b0e44ef19a8d636a8eec5063",
      "280dedecaad74df69f9fb29bab864191",
      "0ff4640aedde40a8bd6c48e7e3d98c08",
      "25b4db6a3b1148919f1ccb477bbaebfd",
      "6882c17203ae4a179abd17b0a27efdf0",
      "c92e5d363aa745778b8bda83179a3589",
      "e2fc34bf77274a2c996fcbc2cb8aba80",
      "493157869fb04dffb990b150e39bf21c",
      "3adf3e87b56c42fa855374f3aba061ce",
      "85361f46f78e43578e8e672916c48b88",
      "3ae71e748718404aaa277832dbd34e5d",
      "cbf6aa701a334d60b00940ab4bf01041",
      "de457d9242354125b9fb2c25438d361f",
      "12ab6161b4314c5cbb1b7007f19fcc97",
      "a5affee22e4f49049562febd1e481fe3",
      "67b4fad8ace64dda932b262574f49c8e",
      "05e9f0a71b3e4da29cadd0eab7fe2983",
      "844bb982e4f44400be2ab9ab2c493718",
      "adc62be0f2514623b6bbac46640dacda",
      "7e549bf218204b849e729ccf4f343d24",
      "4295bade36274e59b0ca859825017ef5",
      "c2e4ba8bd39f44d5ad711d4d311b5ea9",
      "b5d668947a5a45a8a5eadfbfea28de9b",
      "5b8ee891511b408d853544e10b67b88d",
      "9d0d610a64134b2db6fa328784fe63c6",
      "668d63762f9e46f0b1607705b2b1fc4e",
      "d691894bcc8c42f6ac4c51ccdafeba9f",
      "816f471423f34148bc5f9edc766ac657",
      "5339ad23bb884e8b91b8e6bed185d2a1",
      "cf5c2ae82e204505bc9a59f526011037",
      "5f13a6d1d1cc4c3cb856a5a5bbf9ef73",
      "312124a6279e4f009ecf63a038eda06d",
      "3649ad60290e4f5f8b5671bf3fc8b02c",
      "cd67388494454159a83c8a96e0ec53bd",
      "330e37c472e24736bfa9f4a3eb3e9d2c",
      "44be722303394e63a92abbfd93cf3f4f",
      "90b93eb4ed3f4939823eaa1b16383b14",
      "92187b27f0ef401fa27c7d6d027bc498",
      "3c7b2418593d4ea7a67496d23786b834",
      "0fb958524cfd4a2d80b783d2fc21f697",
      "f6460f0a7195401db886ece595d13dce",
      "9de31728fbe14fd9af1be5809be86e8c",
      "becf27a6546e400cb15be7dabeab6103",
      "cb90eae201024dab8d9b914411b85346",
      "4c07e6c3b30243a89648fcdd905c4775",
      "b0b5b0889b064d5ea5f2187cb5dd5820",
      "d1292bb0c0844dca88978813838be52d",
      "4699a5aec39046669a5ea607c802a88a",
      "99acda845667423c986cb121a773dd9f",
      "ea35921871c74302936c34107500f062",
      "755e87fcb8754c49804e2c6eb7d2ce2c",
      "5159cfeebd2d4dff93580a4716cdefad",
      "22ac1417b76e464380668ad3d5c0f648",
      "1172529daacf44dd9906a2fb6bc28a85",
      "8cd7833884c648e19c86756dcc1de4b6",
      "6cd6a97fda7c4ac0b306f303ddd28e4e",
      "c9a83990635e4af2a177c790e8f62cf2",
      "f397983a32ae46e7b42da3fee55fac5f",
      "505bc8cdaedd400eb94ed03e14704afb",
      "599e3e3fd8ce45b2892fc0992d79a9ac",
      "7d08eb7b904a451eb28475ee181ddee9",
      "488edb8dfa004360aafbcb2bf2a8af67",
      "47da3175934d4d93a7e8b12515a6315e",
      "6cedc17e6b294d7297f919a1f6111eb0",
      "0e29303b4a0d4361a9b8e53d136f0610",
      "7fc933542cb34ecda21e902c16e5ae1b",
      "e4672c5ce00d4975b139c2475c378eff",
      "7c581052fe6243048d4a7b4a1efc27d1",
      "120b886c978641e49ce13e0b6103a71c",
      "cebc6c346b33431faf426f2db32e76c3",
      "134b35b1a1cf4346abaeccd1d69b2cd4",
      "6d8013288b324ecf989f9ce86c45c543",
      "433043354eef47178f6baf78e2dfc7f9",
      "2b623535c68d4923a0d0d6b3d4e4efff",
      "d6c2041060214ec6ba3872819f077a3c",
      "9681d94fdf304fad9285ebaeb5c014f2",
      "8f06c8b9c6df44e0a51650355a2a8ed9",
      "d6764887db1e4e7bab2fb0a4694fc03a",
      "8cfc2086f90f4592826c9756bd047ef9",
      "4168f7f6aceb4c7a89416cf5403edee3",
      "3c72d5c08a5b4a2bb3c16fd1a80d8b5b",
      "fbd0dc8ed0b64ff2af724c2ed4bb3d65",
      "e4db5f3e247d4877a6aff6b02668a1fa",
      "dc4562f0f63147b2856383c8cd9c124e",
      "3de56a5921cb45608f4f6d6252aef527",
      "cc548d59040b46ffa11ae624b5c209bf",
      "c5df7636efcf4e68a19ca5d2567b0bd1",
      "b8bc1b8f8d9c4be7baf49c4cb761a66e",
      "f610ccd1835040e1b1678c26243037e5",
      "e55aafbcbe8040b0a07f934d675144e2",
      "6d272639a16349fba980d07b3447e22d",
      "1b18a6a37aae479193662a6763a43221",
      "f7602b26baaf42a6869eeed1856ae7fd",
      "312add39fee64d1e9b45ea90a12b98fc",
      "a5f4e1db553b463b918a71d61a76d5d3",
      "53c095ddc94841809cc3d11bc9ed68d0",
      "d48c78b0d3aa41989f12d0481cedc770",
      "51bd26db2ffc41a88439a21ab6b9159b",
      "aef1d7ac11c94cceb6f6c5d145043b26",
      "648fa808c84a4527917dc849f613f462",
      "7aa73b7a41474d73872de149f28b75c3",
      "38be2ba03e7a4e5086f878830f26134a",
      "053665ba9dfe4945868942e2c3570bc0",
      "efe7dfdb3c004ee5bc465ff281133852",
      "cdda321ff5c64bd0ab272a9ecf70d9ad",
      "db4e2323d3c6423b8aff2c71f1e7683e",
      "455b86e6dfc24545ae17c7d0384c0cbd",
      "f24e1d6342c24dfa836df6c177922a2f",
      "a94ef664697a4b50bbe0613c6aaa19d9",
      "5d779294172e45caa3a74dcfd3c95651",
      "91bc57f01e2b49698f235a5ee99ea04c",
      "f8b5ff775dfe431bb644f2b3c4dc3ace",
      "dcada713b7b24e27937202abb85929b1",
      "bf1a54bc118442d4946b65b4f590066e",
      "0552cca73801491598c259baef3a6963",
      "7f212e7f847f4880b463daf978e193cb",
      "5d930d4d19a044bc84c34be01afe46c3",
      "f1b81d7c49a144e0a682a3ff74fd2a85",
      "a154532dead44f03959874cb9ee4bd22",
      "325bfcc051ff40fa9eac06fc22c48122",
      "9359d01865a84605acf6c126810cb187",
      "9dd4e3d65fde4cdd8ddd73de96a351b8",
      "c68a0bbf50154992b7a2dc29d7772c8c",
      "80693076d43f4dd0a6bd2e40607c557f",
      "1e405d39b1a94ee689d3325e3337d5cb",
      "96c3656a7d2f4530a68dcaad37ba340d",
      "25b93d83d23e425fa22790c19142e72e",
      "f6c6a2247c25420caddcf71b1ff5b1b3",
      "6391dc5990094b81900623b16e96b84f",
      "c7f2eabd2f97423faf6831642a5e43c3",
      "a5afa26628c6474eaf90b5d3fedc1929",
      "4e71884163344a85a0d750b4d0deea4d",
      "9fb3ee6c8c6b4e629e30b63ec3dd3c4b",
      "9d054868b5af478f96ec22538797193d",
      "9f3edc4d03684e6e8b963febadb0c4ce",
      "476ad945dc4642cfb407e1a045c6a5d8",
      "d4ce7d57013141c299f7507bc5af49fc",
      "ef52e3fcec904934aa816cbe5f36ad55",
      "d7748708a52c4c338724ec8541d9cf9d",
      "732175bd74f940529fc0225ec2271985",
      "702998415e28442d8e2ed9ccced44571",
      "e00021542d3d447b90d7e4426012e713",
      "7c13b877984b4ca982d28bc88dc55cf0",
      "8a05fa6252e64ed78e86aab0c29351b4",
      "47775da2deb9415daba229ed6f23c1cf",
      "098665a1104d4341ad430a59a62e6e65",
      "14850e481a1c4526b901b1dde371f368",
      "5dc56aff769b4f738673db5771ea8a0f",
      "8b740b7935824f3394e2e2b73325ea7f",
      "39f2246d91a24c0fa94b734a9ddc14e3",
      "8d4ddd288ea04cd8a5c194e6209d4115",
      "f9eb3169dbd14f099a8cca69d280a259",
      "f19c7cbf033d4311ae46d579ba705105",
      "9ed9a0448eee42359f8d4184c14d83a0",
      "35c4801423a84abb8320b3f4139f7167",
      "3223f2e7280743d2bd8b1d19d8516d6d",
      "27914d97e86845d9a31d09ba12eb72d6",
      "148c23ff483242029235e3cf73438606",
      "19064e10c22343298a11f54213c026d1",
      "44144f829d8b4426aa54e3a01b424447",
      "5ad82e6e57354ddeaa1f8344477397c9",
      "9546a15cfa0e4faeb864c302b7d9edcb",
      "5f425689b19d41ecb763772d6121584a",
      "f6012f89bfbc467a903d6ba00dfef7ed",
      "1a9c67a024794783af6352568f3eb624",
      "fb3ea294e13342c3b63b4ecc7716b58b",
      "6b4bbe4cbdae42ed8d3547896b3988a8",
      "c452b19841374f668910dbf7402aff87",
      "6dea9373cfe041aca15e50bbc56e6b0d",
      "24d04fe1ee234eaea2c3d55e1c30a285",
      "1d9f409f146b452881e5179bc94f6928",
      "a123df52802d41aba540323f79884aaf",
      "96a3824b90124b83a4dda1c54624b863",
      "3c23b5f023fc4ddfb05bd5c82898c46f",
      "9df74e118bda4353a5c073e4dc44a11a",
      "c6ce17a18a034fc7908b3cb19edfb92e",
      "b452c1d99f0142bbbb56fec85342bc97",
      "3130df4834584a019f34c3905f956a9d",
      "452fb8872dd940b688b0e099cd798086",
      "c69fcabe486f45cab042364c76e22c3f",
      "ae23cb426f34467c9884149572b28e35",
      "56515eda6a0945fe8ec5a51cbb533b21",
      "8e46f174bd5c415ea751b76272d56f51",
      "aa137e3134174a8294d05799a9801f71",
      "22789dd6fc44448cb65e3689a25f712f",
      "f9e60a1d194c41269c6fb3a9cf945030",
      "c3fa2ef8a5d845508c6428be791b4c56",
      "bc2191d4046f49b980cc2366ffad7ebd",
      "19a9ee559e1f41fb89bc087b6a10eecd",
      "d8e4552fc453480687cbd120a5f77c15",
      "1dbd6b155c854b98b8a686822a1ae32e",
      "810a3f8a517c49eab31762690c1724ba",
      "298ae274fe364ed59d6ca0363aff9f83",
      "baa596a6f9cd489e8f3ec12e7bbe21fa",
      "8da451b9246b4ef8bfbf43ddace81f64",
      "53ec2dd14f854b659bbbe764ab068cd7",
      "379ae9eac0e04b3e8a1b92e88ccef987",
      "7e54e62392794889bb74a7ca8d465b4a",
      "6e5f92b912e745129733c9a5583eac64",
      "2e1fc25a2859455f9e4382111028475a",
      "06bec960d87e42b78293ee33509cc13b",
      "e93fe82fbb3242d8932780fbf8804def",
      "8c847c1b470243c79f3afd345e0655ed",
      "bd09435b8d5b4de49984e7fb23fe31f4",
      "5aee6810ec9d4826b91780f00a91e3cf",
      "908f070e706447b49087246b61725484",
      "b4f1e7cb2aa648448a543061fd81708a",
      "dabf4c2b67434b32963bad459ba600cb",
      "e482acf0945f4ec2857309c02560ebca",
      "f725222a131f472bbf93c8ef766fb78f",
      "d1715e36733840ffae7e38255d652dce",
      "1790b5d41f084dca951eb265246cf271",
      "75d5c4b261474d73a148585e8dfd81e9",
      "3867e04283584030a2ffa68d7be0c309",
      "2f85e94f52bd495abb5169c0126fe3fa",
      "3de7a4564b1042c4a2c158fe38a02741",
      "702ff860174c454f9344c536cbc50948",
      "e61589b59c5c4319a98c366ff46630d3",
      "0ca0eba7cfab46cab5d4781469fe0a85",
      "58c65a571dbb4e6d8191c72b84e55c04",
      "3f31b38fd15244d88eabbf18bfe76d1f",
      "436087d47df0403183dc409c9d2ace64",
      "4e80354af4ea4ae68cc477651ed71663",
      "f60a2ad375274319982400415bfc169a",
      "84a9b953a42f48a5b3dd65b2b5de2f18",
      "f2d8077da5ad4aa595375a7cad5035a9",
      "9271297fab2a4db097858224e33324f1",
      "1c1640b33f444956901c3292d9247cae",
      "6cbcf2f1c9594d2887c2dae024748820",
      "b31837fed19d4e40adf34d1ceeeb8698",
      "310d9e93b56a4f8a9b1810d7b86cb3df",
      "d6f41cf37c9f40f1ad165006488ccdef",
      "e6e83d01ffb743a99bce2fa48ead235f",
      "2171ae7beae943e8b09f0f268b95c15e",
      "4db26662c5e84867be44d1b56922d00a",
      "c673dc41f4f047debdbbeb3fae5bb137",
      "d9c2b69ddb8a4702b8f9340aab9a81e4",
      "926f6db2581c4bef87f4cde2c6234f0b",
      "a07c7d7c637e42209d31f0ae5b0d512b",
      "6a82c29427b64ce4ad9f4e28f89e4c5e",
      "c45607b07f3845d28b23ddcbecc66600",
      "f5281c3b18fd4725924a546dc77ac3b0",
      "e4b4d7933e0d474c8556decfe8ebce5c",
      "08c4c5df0f744161aac2d743cf9dd8ab",
      "35b61dbc2e224e698dae9735fcbc0b7c",
      "fed6ad70c6f54a1e9fed7efb3c7e13ce",
      "8bbcd3ba8c9241a3a41b58096e576c6c",
      "8e54e2efa2124f77aee62ac0a31b9893",
      "c5329bdbf5144cce86ad958617f9f40a",
      "1cb97bd842974b1fbf644ae9aa957ce4",
      "19975cea5c864abeacbfb5ef2b118d1d",
      "3e3483f448414adba93ad5e4e284a213",
      "9226cc1b8a80413b9ec2d23a98272f0a",
      "2790bc2069ec4523a66b67f2d88a2e27",
      "1c4f2258c2f34b8ea2e22ded90508e35",
      "a29839fcca7f4d639dd16e5cbde402ed",
      "7c91c0b1d31e467d975593cef9fa4e63",
      "6fcfdfcc2c5b48529589fe17e33ad8fc",
      "e92430039ce847c48123b93a86af673c",
      "ae3db4b1aa624fa29fed871ac598bc8b",
      "10b3cb78cfb14238bdbe7c05e8fff3f5",
      "a0e066651d82470d93b94f7f68c9e7a9",
      "0b781c7baf8f445c91777e65a59101f2",
      "635d37dde81b485293be85ab31821cd0",
      "a5553312ea014371bcc0230472c321c3",
      "ffcce360028446b0bfa34ec222f30655",
      "a58f7e8294e146299d052ed671a8590c",
      "7c80a33a926d468f9e9a58bbdd87c34e",
      "a37060dac0ab4e5ea27d55760d2c6893",
      "486482ad912f4d45b0fed589e0058996",
      "858e4ae42ba64b219437a972f4c28cfa",
      "480a633afdd743589dcfed0604b73f34",
      "c2359b62087d4117bdf9748f1b8ed7e0",
      "3b9b4e792ac2413ab732d68100adb138",
      "5c1f4eff4ed6421a9d7155cf336a7b17",
      "bd81fe5c1d314feda244f9f29fd5ee3d",
      "638f342374734976a0147c77c82a2cf0",
      "bc0964ae642f4331ad5c99355306cd81",
      "c636a494a45a49dcbb12d0729e111eee",
      "32f292da49ba4de8a49f4332dd2d3cf5",
      "5312d775004b41caab0d5c103688cf77",
      "13109e53e9bf404c87cb0b547559e8d2"
     ]
    },
    "id": "Z17ed84VZm3O",
    "outputId": "c431202d-28b9-4e82-ea1f-1e53ce04709d"
   },
   "outputs": [
    {
     "name": "stderr",
     "output_type": "stream",
     "text": [
      "INFO:pytorch_lightning.utilities.rank_zero:Using default `ModelCheckpoint`. Consider installing `litmodels` package to enable `LitModelCheckpoint` for automatic upload to the Lightning model registry.\n",
      "INFO:pytorch_lightning.utilities.rank_zero:GPU available: True (cuda), used: True\n",
      "INFO:pytorch_lightning.utilities.rank_zero:TPU available: False, using: 0 TPU cores\n",
      "INFO:pytorch_lightning.utilities.rank_zero:HPU available: False, using: 0 HPUs\n",
      "INFO:pytorch_lightning.accelerators.cuda:LOCAL_RANK: 0 - CUDA_VISIBLE_DEVICES: [0]\n",
      "INFO:pytorch_lightning.callbacks.model_summary:\n",
      "  | Name    | Type       | Params | Mode \n",
      "-----------------------------------------------\n",
      "0 | model   | Sequential | 2.4 K  | train\n",
      "1 | loss_fn | MSELoss    | 0      | train\n",
      "-----------------------------------------------\n",
      "2.4 K     Trainable params\n",
      "0         Non-trainable params\n",
      "2.4 K     Total params\n",
      "0.009     Total estimated model params size (MB)\n",
      "7         Modules in train mode\n",
      "0         Modules in eval mode\n"
     ]
    },
    {
     "data": {
      "application/vnd.jupyter.widget-view+json": {
       "model_id": "63568f37e99544ff995647863031a099",
       "version_major": 2,
       "version_minor": 0
      },
      "text/plain": [
       "Sanity Checking: |          | 0/? [00:00<?, ?it/s]"
      ]
     },
     "metadata": {},
     "output_type": "display_data"
    },
    {
     "data": {
      "application/vnd.jupyter.widget-view+json": {
       "model_id": "43c332ef252045e2b89a90a844fe5ec2",
       "version_major": 2,
       "version_minor": 0
      },
      "text/plain": [
       "Training: |          | 0/? [00:00<?, ?it/s]"
      ]
     },
     "metadata": {},
     "output_type": "display_data"
    },
    {
     "data": {
      "application/vnd.jupyter.widget-view+json": {
       "model_id": "f2f934979ba5477e865fdbb85fd23d87",
       "version_major": 2,
       "version_minor": 0
      },
      "text/plain": [
       "Validation: |          | 0/? [00:00<?, ?it/s]"
      ]
     },
     "metadata": {},
     "output_type": "display_data"
    },
    {
     "data": {
      "application/vnd.jupyter.widget-view+json": {
       "model_id": "12af7da52ced45a4ab7612b5c9bb01fb",
       "version_major": 2,
       "version_minor": 0
      },
      "text/plain": [
       "Validation: |          | 0/? [00:00<?, ?it/s]"
      ]
     },
     "metadata": {},
     "output_type": "display_data"
    },
    {
     "data": {
      "application/vnd.jupyter.widget-view+json": {
       "model_id": "25610996a2704a71bf49e4f792107459",
       "version_major": 2,
       "version_minor": 0
      },
      "text/plain": [
       "Validation: |          | 0/? [00:00<?, ?it/s]"
      ]
     },
     "metadata": {},
     "output_type": "display_data"
    },
    {
     "data": {
      "application/vnd.jupyter.widget-view+json": {
       "model_id": "ca488b4bccd448e880a1f71732dd5ba3",
       "version_major": 2,
       "version_minor": 0
      },
      "text/plain": [
       "Validation: |          | 0/? [00:00<?, ?it/s]"
      ]
     },
     "metadata": {},
     "output_type": "display_data"
    },
    {
     "data": {
      "application/vnd.jupyter.widget-view+json": {
       "model_id": "6d3cdf1643f74e39913245fd0e01ffc8",
       "version_major": 2,
       "version_minor": 0
      },
      "text/plain": [
       "Validation: |          | 0/? [00:00<?, ?it/s]"
      ]
     },
     "metadata": {},
     "output_type": "display_data"
    },
    {
     "data": {
      "application/vnd.jupyter.widget-view+json": {
       "model_id": "93e8681fbf68400493d87b61e5d73f95",
       "version_major": 2,
       "version_minor": 0
      },
      "text/plain": [
       "Validation: |          | 0/? [00:00<?, ?it/s]"
      ]
     },
     "metadata": {},
     "output_type": "display_data"
    },
    {
     "data": {
      "application/vnd.jupyter.widget-view+json": {
       "model_id": "4ee26705e57b48f99141fdc20ee62f45",
       "version_major": 2,
       "version_minor": 0
      },
      "text/plain": [
       "Validation: |          | 0/? [00:00<?, ?it/s]"
      ]
     },
     "metadata": {},
     "output_type": "display_data"
    },
    {
     "data": {
      "application/vnd.jupyter.widget-view+json": {
       "model_id": "bdb9523abe864ef2943e53254fcd50f9",
       "version_major": 2,
       "version_minor": 0
      },
      "text/plain": [
       "Validation: |          | 0/? [00:00<?, ?it/s]"
      ]
     },
     "metadata": {},
     "output_type": "display_data"
    },
    {
     "data": {
      "application/vnd.jupyter.widget-view+json": {
       "model_id": "3d2c067f213647f6a7de450a9acecc66",
       "version_major": 2,
       "version_minor": 0
      },
      "text/plain": [
       "Validation: |          | 0/? [00:00<?, ?it/s]"
      ]
     },
     "metadata": {},
     "output_type": "display_data"
    },
    {
     "data": {
      "application/vnd.jupyter.widget-view+json": {
       "model_id": "ee982e59bff645adaf03c777e43cd2f5",
       "version_major": 2,
       "version_minor": 0
      },
      "text/plain": [
       "Validation: |          | 0/? [00:00<?, ?it/s]"
      ]
     },
     "metadata": {},
     "output_type": "display_data"
    },
    {
     "data": {
      "application/vnd.jupyter.widget-view+json": {
       "model_id": "db642c2c227d4c6e836dfde872eeb07b",
       "version_major": 2,
       "version_minor": 0
      },
      "text/plain": [
       "Validation: |          | 0/? [00:00<?, ?it/s]"
      ]
     },
     "metadata": {},
     "output_type": "display_data"
    },
    {
     "data": {
      "application/vnd.jupyter.widget-view+json": {
       "model_id": "e02259d240f947e9b9fedf574a9a56da",
       "version_major": 2,
       "version_minor": 0
      },
      "text/plain": [
       "Validation: |          | 0/? [00:00<?, ?it/s]"
      ]
     },
     "metadata": {},
     "output_type": "display_data"
    },
    {
     "data": {
      "application/vnd.jupyter.widget-view+json": {
       "model_id": "790be329905c4834849b216ac9941155",
       "version_major": 2,
       "version_minor": 0
      },
      "text/plain": [
       "Validation: |          | 0/? [00:00<?, ?it/s]"
      ]
     },
     "metadata": {},
     "output_type": "display_data"
    },
    {
     "data": {
      "application/vnd.jupyter.widget-view+json": {
       "model_id": "59acd1c8487c4e7282bc18d06f0401c5",
       "version_major": 2,
       "version_minor": 0
      },
      "text/plain": [
       "Validation: |          | 0/? [00:00<?, ?it/s]"
      ]
     },
     "metadata": {},
     "output_type": "display_data"
    },
    {
     "data": {
      "application/vnd.jupyter.widget-view+json": {
       "model_id": "d0450a306dc1430b9cc09f5e85aaf452",
       "version_major": 2,
       "version_minor": 0
      },
      "text/plain": [
       "Validation: |          | 0/? [00:00<?, ?it/s]"
      ]
     },
     "metadata": {},
     "output_type": "display_data"
    },
    {
     "data": {
      "application/vnd.jupyter.widget-view+json": {
       "model_id": "197389b6d2f446bdad9b2f7320ab9fa8",
       "version_major": 2,
       "version_minor": 0
      },
      "text/plain": [
       "Validation: |          | 0/? [00:00<?, ?it/s]"
      ]
     },
     "metadata": {},
     "output_type": "display_data"
    },
    {
     "data": {
      "application/vnd.jupyter.widget-view+json": {
       "model_id": "852578cba8ac47f7b61f872959bfd5f1",
       "version_major": 2,
       "version_minor": 0
      },
      "text/plain": [
       "Validation: |          | 0/? [00:00<?, ?it/s]"
      ]
     },
     "metadata": {},
     "output_type": "display_data"
    },
    {
     "data": {
      "application/vnd.jupyter.widget-view+json": {
       "model_id": "21e6972400a64960aa983250c977a956",
       "version_major": 2,
       "version_minor": 0
      },
      "text/plain": [
       "Validation: |          | 0/? [00:00<?, ?it/s]"
      ]
     },
     "metadata": {},
     "output_type": "display_data"
    },
    {
     "data": {
      "application/vnd.jupyter.widget-view+json": {
       "model_id": "d9ce6cdb5d394221aed57fc175a3df82",
       "version_major": 2,
       "version_minor": 0
      },
      "text/plain": [
       "Validation: |          | 0/? [00:00<?, ?it/s]"
      ]
     },
     "metadata": {},
     "output_type": "display_data"
    },
    {
     "data": {
      "application/vnd.jupyter.widget-view+json": {
       "model_id": "9409397a012c4e3fbdcbf00f4c3ea057",
       "version_major": 2,
       "version_minor": 0
      },
      "text/plain": [
       "Validation: |          | 0/? [00:00<?, ?it/s]"
      ]
     },
     "metadata": {},
     "output_type": "display_data"
    },
    {
     "data": {
      "application/vnd.jupyter.widget-view+json": {
       "model_id": "599f5159993c456e8f2d3fd6c04f55c9",
       "version_major": 2,
       "version_minor": 0
      },
      "text/plain": [
       "Validation: |          | 0/? [00:00<?, ?it/s]"
      ]
     },
     "metadata": {},
     "output_type": "display_data"
    },
    {
     "data": {
      "application/vnd.jupyter.widget-view+json": {
       "model_id": "b36ab093a5cf46a2b09f29d8e16f8309",
       "version_major": 2,
       "version_minor": 0
      },
      "text/plain": [
       "Validation: |          | 0/? [00:00<?, ?it/s]"
      ]
     },
     "metadata": {},
     "output_type": "display_data"
    },
    {
     "data": {
      "application/vnd.jupyter.widget-view+json": {
       "model_id": "a388cf1e5c714b5aa8d42795ba38bc48",
       "version_major": 2,
       "version_minor": 0
      },
      "text/plain": [
       "Validation: |          | 0/? [00:00<?, ?it/s]"
      ]
     },
     "metadata": {},
     "output_type": "display_data"
    },
    {
     "data": {
      "application/vnd.jupyter.widget-view+json": {
       "model_id": "cd384f78399340e7ad41f09ce49e5c7c",
       "version_major": 2,
       "version_minor": 0
      },
      "text/plain": [
       "Validation: |          | 0/? [00:00<?, ?it/s]"
      ]
     },
     "metadata": {},
     "output_type": "display_data"
    },
    {
     "data": {
      "application/vnd.jupyter.widget-view+json": {
       "model_id": "915f5c4ece0b475c858c15fa43e797f5",
       "version_major": 2,
       "version_minor": 0
      },
      "text/plain": [
       "Validation: |          | 0/? [00:00<?, ?it/s]"
      ]
     },
     "metadata": {},
     "output_type": "display_data"
    },
    {
     "data": {
      "application/vnd.jupyter.widget-view+json": {
       "model_id": "01e70b5839e546ed9453349056f88d2b",
       "version_major": 2,
       "version_minor": 0
      },
      "text/plain": [
       "Validation: |          | 0/? [00:00<?, ?it/s]"
      ]
     },
     "metadata": {},
     "output_type": "display_data"
    },
    {
     "data": {
      "application/vnd.jupyter.widget-view+json": {
       "model_id": "0b9347041fa74ee098b1ce84ae865e83",
       "version_major": 2,
       "version_minor": 0
      },
      "text/plain": [
       "Validation: |          | 0/? [00:00<?, ?it/s]"
      ]
     },
     "metadata": {},
     "output_type": "display_data"
    },
    {
     "data": {
      "application/vnd.jupyter.widget-view+json": {
       "model_id": "4fc19119c4c048f6b2a7944a902b9fa4",
       "version_major": 2,
       "version_minor": 0
      },
      "text/plain": [
       "Validation: |          | 0/? [00:00<?, ?it/s]"
      ]
     },
     "metadata": {},
     "output_type": "display_data"
    },
    {
     "data": {
      "application/vnd.jupyter.widget-view+json": {
       "model_id": "debf9db97cc2424f8fc696d0dec579a7",
       "version_major": 2,
       "version_minor": 0
      },
      "text/plain": [
       "Validation: |          | 0/? [00:00<?, ?it/s]"
      ]
     },
     "metadata": {},
     "output_type": "display_data"
    },
    {
     "data": {
      "application/vnd.jupyter.widget-view+json": {
       "model_id": "aabfe1ecd0684dafa4b3faff93517f13",
       "version_major": 2,
       "version_minor": 0
      },
      "text/plain": [
       "Validation: |          | 0/? [00:00<?, ?it/s]"
      ]
     },
     "metadata": {},
     "output_type": "display_data"
    },
    {
     "data": {
      "application/vnd.jupyter.widget-view+json": {
       "model_id": "73bb0eeb33714a3d93faad4bab892e43",
       "version_major": 2,
       "version_minor": 0
      },
      "text/plain": [
       "Validation: |          | 0/? [00:00<?, ?it/s]"
      ]
     },
     "metadata": {},
     "output_type": "display_data"
    },
    {
     "data": {
      "application/vnd.jupyter.widget-view+json": {
       "model_id": "ef6a10c784b44a1ba221ac894608c7a0",
       "version_major": 2,
       "version_minor": 0
      },
      "text/plain": [
       "Validation: |          | 0/? [00:00<?, ?it/s]"
      ]
     },
     "metadata": {},
     "output_type": "display_data"
    },
    {
     "data": {
      "application/vnd.jupyter.widget-view+json": {
       "model_id": "2e65298ee08a43b39b7ff94f11fc3f08",
       "version_major": 2,
       "version_minor": 0
      },
      "text/plain": [
       "Validation: |          | 0/? [00:00<?, ?it/s]"
      ]
     },
     "metadata": {},
     "output_type": "display_data"
    },
    {
     "data": {
      "application/vnd.jupyter.widget-view+json": {
       "model_id": "4a135b0a95be46efa773c14182c22cb4",
       "version_major": 2,
       "version_minor": 0
      },
      "text/plain": [
       "Validation: |          | 0/? [00:00<?, ?it/s]"
      ]
     },
     "metadata": {},
     "output_type": "display_data"
    },
    {
     "data": {
      "application/vnd.jupyter.widget-view+json": {
       "model_id": "ed214db7b99e465ba1351b06ddaff9fc",
       "version_major": 2,
       "version_minor": 0
      },
      "text/plain": [
       "Validation: |          | 0/? [00:00<?, ?it/s]"
      ]
     },
     "metadata": {},
     "output_type": "display_data"
    },
    {
     "data": {
      "application/vnd.jupyter.widget-view+json": {
       "model_id": "a7afdd94510a46978b692a011f7ddb40",
       "version_major": 2,
       "version_minor": 0
      },
      "text/plain": [
       "Validation: |          | 0/? [00:00<?, ?it/s]"
      ]
     },
     "metadata": {},
     "output_type": "display_data"
    },
    {
     "data": {
      "application/vnd.jupyter.widget-view+json": {
       "model_id": "b16a3bfc4947470db662a12def376797",
       "version_major": 2,
       "version_minor": 0
      },
      "text/plain": [
       "Validation: |          | 0/? [00:00<?, ?it/s]"
      ]
     },
     "metadata": {},
     "output_type": "display_data"
    },
    {
     "data": {
      "application/vnd.jupyter.widget-view+json": {
       "model_id": "731caf4f78804647a6539614cc2389d8",
       "version_major": 2,
       "version_minor": 0
      },
      "text/plain": [
       "Validation: |          | 0/? [00:00<?, ?it/s]"
      ]
     },
     "metadata": {},
     "output_type": "display_data"
    },
    {
     "data": {
      "application/vnd.jupyter.widget-view+json": {
       "model_id": "2f9561d8164d4997986d11ad33b1e632",
       "version_major": 2,
       "version_minor": 0
      },
      "text/plain": [
       "Validation: |          | 0/? [00:00<?, ?it/s]"
      ]
     },
     "metadata": {},
     "output_type": "display_data"
    },
    {
     "data": {
      "application/vnd.jupyter.widget-view+json": {
       "model_id": "8b497fd3c25b4cb5a2452893a65351e4",
       "version_major": 2,
       "version_minor": 0
      },
      "text/plain": [
       "Validation: |          | 0/? [00:00<?, ?it/s]"
      ]
     },
     "metadata": {},
     "output_type": "display_data"
    },
    {
     "data": {
      "application/vnd.jupyter.widget-view+json": {
       "model_id": "1f06e0650b6b4bbaa391f1e25ba7ad04",
       "version_major": 2,
       "version_minor": 0
      },
      "text/plain": [
       "Validation: |          | 0/? [00:00<?, ?it/s]"
      ]
     },
     "metadata": {},
     "output_type": "display_data"
    },
    {
     "data": {
      "application/vnd.jupyter.widget-view+json": {
       "model_id": "af772998d26c4f05ad113896c78371ba",
       "version_major": 2,
       "version_minor": 0
      },
      "text/plain": [
       "Validation: |          | 0/? [00:00<?, ?it/s]"
      ]
     },
     "metadata": {},
     "output_type": "display_data"
    },
    {
     "data": {
      "application/vnd.jupyter.widget-view+json": {
       "model_id": "c867f777593846c8872ab712eac7655a",
       "version_major": 2,
       "version_minor": 0
      },
      "text/plain": [
       "Validation: |          | 0/? [00:00<?, ?it/s]"
      ]
     },
     "metadata": {},
     "output_type": "display_data"
    },
    {
     "data": {
      "application/vnd.jupyter.widget-view+json": {
       "model_id": "44be612fd8bf481ca99f6975af950c3f",
       "version_major": 2,
       "version_minor": 0
      },
      "text/plain": [
       "Validation: |          | 0/? [00:00<?, ?it/s]"
      ]
     },
     "metadata": {},
     "output_type": "display_data"
    },
    {
     "data": {
      "application/vnd.jupyter.widget-view+json": {
       "model_id": "ceb5e6e81eee4c26afbe518f874ba77d",
       "version_major": 2,
       "version_minor": 0
      },
      "text/plain": [
       "Validation: |          | 0/? [00:00<?, ?it/s]"
      ]
     },
     "metadata": {},
     "output_type": "display_data"
    },
    {
     "data": {
      "application/vnd.jupyter.widget-view+json": {
       "model_id": "c18315c1dbbe420eb960681da4e5be3c",
       "version_major": 2,
       "version_minor": 0
      },
      "text/plain": [
       "Validation: |          | 0/? [00:00<?, ?it/s]"
      ]
     },
     "metadata": {},
     "output_type": "display_data"
    },
    {
     "data": {
      "application/vnd.jupyter.widget-view+json": {
       "model_id": "59cb00771a9e4d5a9e0512c7ed9c03b3",
       "version_major": 2,
       "version_minor": 0
      },
      "text/plain": [
       "Validation: |          | 0/? [00:00<?, ?it/s]"
      ]
     },
     "metadata": {},
     "output_type": "display_data"
    },
    {
     "data": {
      "application/vnd.jupyter.widget-view+json": {
       "model_id": "50fb0843332346ba9407c5c8110f4894",
       "version_major": 2,
       "version_minor": 0
      },
      "text/plain": [
       "Validation: |          | 0/? [00:00<?, ?it/s]"
      ]
     },
     "metadata": {},
     "output_type": "display_data"
    },
    {
     "data": {
      "application/vnd.jupyter.widget-view+json": {
       "model_id": "1ec3af37ea4444d4b1483e628cf292ae",
       "version_major": 2,
       "version_minor": 0
      },
      "text/plain": [
       "Validation: |          | 0/? [00:00<?, ?it/s]"
      ]
     },
     "metadata": {},
     "output_type": "display_data"
    },
    {
     "data": {
      "application/vnd.jupyter.widget-view+json": {
       "model_id": "c6a365e1ce404567a758cdadb8a5c0cd",
       "version_major": 2,
       "version_minor": 0
      },
      "text/plain": [
       "Validation: |          | 0/? [00:00<?, ?it/s]"
      ]
     },
     "metadata": {},
     "output_type": "display_data"
    },
    {
     "data": {
      "application/vnd.jupyter.widget-view+json": {
       "model_id": "38390baf18d54626bcf48047332b79dd",
       "version_major": 2,
       "version_minor": 0
      },
      "text/plain": [
       "Validation: |          | 0/? [00:00<?, ?it/s]"
      ]
     },
     "metadata": {},
     "output_type": "display_data"
    },
    {
     "data": {
      "application/vnd.jupyter.widget-view+json": {
       "model_id": "26d9cae2bf484f43abbe411bf5de5916",
       "version_major": 2,
       "version_minor": 0
      },
      "text/plain": [
       "Validation: |          | 0/? [00:00<?, ?it/s]"
      ]
     },
     "metadata": {},
     "output_type": "display_data"
    },
    {
     "data": {
      "application/vnd.jupyter.widget-view+json": {
       "model_id": "339884e814004e5fac6ba25dbc416c7a",
       "version_major": 2,
       "version_minor": 0
      },
      "text/plain": [
       "Validation: |          | 0/? [00:00<?, ?it/s]"
      ]
     },
     "metadata": {},
     "output_type": "display_data"
    },
    {
     "data": {
      "application/vnd.jupyter.widget-view+json": {
       "model_id": "df971cc624854b53a17067042f45c552",
       "version_major": 2,
       "version_minor": 0
      },
      "text/plain": [
       "Validation: |          | 0/? [00:00<?, ?it/s]"
      ]
     },
     "metadata": {},
     "output_type": "display_data"
    },
    {
     "data": {
      "application/vnd.jupyter.widget-view+json": {
       "model_id": "8e62e98d939a4732bfe184ee13c9ae13",
       "version_major": 2,
       "version_minor": 0
      },
      "text/plain": [
       "Validation: |          | 0/? [00:00<?, ?it/s]"
      ]
     },
     "metadata": {},
     "output_type": "display_data"
    },
    {
     "data": {
      "application/vnd.jupyter.widget-view+json": {
       "model_id": "5ebb20d5881b49d8aa060dd786741c81",
       "version_major": 2,
       "version_minor": 0
      },
      "text/plain": [
       "Validation: |          | 0/? [00:00<?, ?it/s]"
      ]
     },
     "metadata": {},
     "output_type": "display_data"
    },
    {
     "data": {
      "application/vnd.jupyter.widget-view+json": {
       "model_id": "44d74b2f261946a19caff1127004b7d6",
       "version_major": 2,
       "version_minor": 0
      },
      "text/plain": [
       "Validation: |          | 0/? [00:00<?, ?it/s]"
      ]
     },
     "metadata": {},
     "output_type": "display_data"
    },
    {
     "data": {
      "application/vnd.jupyter.widget-view+json": {
       "model_id": "c60756da96554014a7c50513eb847a23",
       "version_major": 2,
       "version_minor": 0
      },
      "text/plain": [
       "Validation: |          | 0/? [00:00<?, ?it/s]"
      ]
     },
     "metadata": {},
     "output_type": "display_data"
    },
    {
     "data": {
      "application/vnd.jupyter.widget-view+json": {
       "model_id": "eeb85c061d084573bbc78f6f1b3d1369",
       "version_major": 2,
       "version_minor": 0
      },
      "text/plain": [
       "Validation: |          | 0/? [00:00<?, ?it/s]"
      ]
     },
     "metadata": {},
     "output_type": "display_data"
    },
    {
     "data": {
      "application/vnd.jupyter.widget-view+json": {
       "model_id": "e8be8443083e457981dd947d2cb7b0cd",
       "version_major": 2,
       "version_minor": 0
      },
      "text/plain": [
       "Validation: |          | 0/? [00:00<?, ?it/s]"
      ]
     },
     "metadata": {},
     "output_type": "display_data"
    },
    {
     "data": {
      "application/vnd.jupyter.widget-view+json": {
       "model_id": "a47e3cce80a945738277f8a2ce18a698",
       "version_major": 2,
       "version_minor": 0
      },
      "text/plain": [
       "Validation: |          | 0/? [00:00<?, ?it/s]"
      ]
     },
     "metadata": {},
     "output_type": "display_data"
    },
    {
     "data": {
      "application/vnd.jupyter.widget-view+json": {
       "model_id": "2b3ea9b9e3fe4b4c891b373675abb619",
       "version_major": 2,
       "version_minor": 0
      },
      "text/plain": [
       "Validation: |          | 0/? [00:00<?, ?it/s]"
      ]
     },
     "metadata": {},
     "output_type": "display_data"
    },
    {
     "data": {
      "application/vnd.jupyter.widget-view+json": {
       "model_id": "ae27e63d85184f11815a170ba08ef1b5",
       "version_major": 2,
       "version_minor": 0
      },
      "text/plain": [
       "Validation: |          | 0/? [00:00<?, ?it/s]"
      ]
     },
     "metadata": {},
     "output_type": "display_data"
    },
    {
     "data": {
      "application/vnd.jupyter.widget-view+json": {
       "model_id": "de3f98fa54584ba4b92887131198694c",
       "version_major": 2,
       "version_minor": 0
      },
      "text/plain": [
       "Validation: |          | 0/? [00:00<?, ?it/s]"
      ]
     },
     "metadata": {},
     "output_type": "display_data"
    },
    {
     "data": {
      "application/vnd.jupyter.widget-view+json": {
       "model_id": "23aad82dd59a4ca5beb4911cf4abdeea",
       "version_major": 2,
       "version_minor": 0
      },
      "text/plain": [
       "Validation: |          | 0/? [00:00<?, ?it/s]"
      ]
     },
     "metadata": {},
     "output_type": "display_data"
    },
    {
     "data": {
      "application/vnd.jupyter.widget-view+json": {
       "model_id": "07cd4bbe87f8435d94fa6913852b881b",
       "version_major": 2,
       "version_minor": 0
      },
      "text/plain": [
       "Validation: |          | 0/? [00:00<?, ?it/s]"
      ]
     },
     "metadata": {},
     "output_type": "display_data"
    },
    {
     "data": {
      "application/vnd.jupyter.widget-view+json": {
       "model_id": "96f1586796fa43e0a65b4f312bc2e49f",
       "version_major": 2,
       "version_minor": 0
      },
      "text/plain": [
       "Validation: |          | 0/? [00:00<?, ?it/s]"
      ]
     },
     "metadata": {},
     "output_type": "display_data"
    },
    {
     "data": {
      "application/vnd.jupyter.widget-view+json": {
       "model_id": "74697beed7de499f95cdf2d6971a4820",
       "version_major": 2,
       "version_minor": 0
      },
      "text/plain": [
       "Validation: |          | 0/? [00:00<?, ?it/s]"
      ]
     },
     "metadata": {},
     "output_type": "display_data"
    },
    {
     "data": {
      "application/vnd.jupyter.widget-view+json": {
       "model_id": "5d5ac4976215481f82ccf2238cdc467d",
       "version_major": 2,
       "version_minor": 0
      },
      "text/plain": [
       "Validation: |          | 0/? [00:00<?, ?it/s]"
      ]
     },
     "metadata": {},
     "output_type": "display_data"
    },
    {
     "data": {
      "application/vnd.jupyter.widget-view+json": {
       "model_id": "d1cd535c582b4718885dca05e49ec637",
       "version_major": 2,
       "version_minor": 0
      },
      "text/plain": [
       "Validation: |          | 0/? [00:00<?, ?it/s]"
      ]
     },
     "metadata": {},
     "output_type": "display_data"
    },
    {
     "data": {
      "application/vnd.jupyter.widget-view+json": {
       "model_id": "970eb7819ff842baa8949e5cc50be058",
       "version_major": 2,
       "version_minor": 0
      },
      "text/plain": [
       "Validation: |          | 0/? [00:00<?, ?it/s]"
      ]
     },
     "metadata": {},
     "output_type": "display_data"
    },
    {
     "data": {
      "application/vnd.jupyter.widget-view+json": {
       "model_id": "3d77ffd479aa43348ff0b8e5f7d839ad",
       "version_major": 2,
       "version_minor": 0
      },
      "text/plain": [
       "Validation: |          | 0/? [00:00<?, ?it/s]"
      ]
     },
     "metadata": {},
     "output_type": "display_data"
    },
    {
     "data": {
      "application/vnd.jupyter.widget-view+json": {
       "model_id": "f4f484dc125b4b1683729cce3a3d3e9b",
       "version_major": 2,
       "version_minor": 0
      },
      "text/plain": [
       "Validation: |          | 0/? [00:00<?, ?it/s]"
      ]
     },
     "metadata": {},
     "output_type": "display_data"
    },
    {
     "data": {
      "application/vnd.jupyter.widget-view+json": {
       "model_id": "17f3c422cab44ded87174a509f39e426",
       "version_major": 2,
       "version_minor": 0
      },
      "text/plain": [
       "Validation: |          | 0/? [00:00<?, ?it/s]"
      ]
     },
     "metadata": {},
     "output_type": "display_data"
    },
    {
     "data": {
      "application/vnd.jupyter.widget-view+json": {
       "model_id": "3251578dc8a94446a6df70f01c73f699",
       "version_major": 2,
       "version_minor": 0
      },
      "text/plain": [
       "Validation: |          | 0/? [00:00<?, ?it/s]"
      ]
     },
     "metadata": {},
     "output_type": "display_data"
    },
    {
     "data": {
      "application/vnd.jupyter.widget-view+json": {
       "model_id": "7dbc903592ad4b27bd6fd792a94b7a1f",
       "version_major": 2,
       "version_minor": 0
      },
      "text/plain": [
       "Validation: |          | 0/? [00:00<?, ?it/s]"
      ]
     },
     "metadata": {},
     "output_type": "display_data"
    },
    {
     "data": {
      "application/vnd.jupyter.widget-view+json": {
       "model_id": "a7b7c26d4c0e41d68707a2d41b4c29c4",
       "version_major": 2,
       "version_minor": 0
      },
      "text/plain": [
       "Validation: |          | 0/? [00:00<?, ?it/s]"
      ]
     },
     "metadata": {},
     "output_type": "display_data"
    },
    {
     "data": {
      "application/vnd.jupyter.widget-view+json": {
       "model_id": "ce4e7c7deb254b5abb75ba2c39ac6c6b",
       "version_major": 2,
       "version_minor": 0
      },
      "text/plain": [
       "Validation: |          | 0/? [00:00<?, ?it/s]"
      ]
     },
     "metadata": {},
     "output_type": "display_data"
    },
    {
     "data": {
      "application/vnd.jupyter.widget-view+json": {
       "model_id": "0284a52f276d497ea0c5b9b5e45e82b0",
       "version_major": 2,
       "version_minor": 0
      },
      "text/plain": [
       "Validation: |          | 0/? [00:00<?, ?it/s]"
      ]
     },
     "metadata": {},
     "output_type": "display_data"
    },
    {
     "data": {
      "application/vnd.jupyter.widget-view+json": {
       "model_id": "9c0c2f627d8942218894161fb04855b5",
       "version_major": 2,
       "version_minor": 0
      },
      "text/plain": [
       "Validation: |          | 0/? [00:00<?, ?it/s]"
      ]
     },
     "metadata": {},
     "output_type": "display_data"
    },
    {
     "data": {
      "application/vnd.jupyter.widget-view+json": {
       "model_id": "48e9ca010df84a09af34cf91f9318d86",
       "version_major": 2,
       "version_minor": 0
      },
      "text/plain": [
       "Validation: |          | 0/? [00:00<?, ?it/s]"
      ]
     },
     "metadata": {},
     "output_type": "display_data"
    },
    {
     "data": {
      "application/vnd.jupyter.widget-view+json": {
       "model_id": "ed517bc59b1a461d94e90fb5ca57b9b0",
       "version_major": 2,
       "version_minor": 0
      },
      "text/plain": [
       "Validation: |          | 0/? [00:00<?, ?it/s]"
      ]
     },
     "metadata": {},
     "output_type": "display_data"
    },
    {
     "data": {
      "application/vnd.jupyter.widget-view+json": {
       "model_id": "f1b404d08e6e43448a9827c8eaea94ac",
       "version_major": 2,
       "version_minor": 0
      },
      "text/plain": [
       "Validation: |          | 0/? [00:00<?, ?it/s]"
      ]
     },
     "metadata": {},
     "output_type": "display_data"
    },
    {
     "data": {
      "application/vnd.jupyter.widget-view+json": {
       "model_id": "35f09cc248ce444a91c160df3c9ae6fa",
       "version_major": 2,
       "version_minor": 0
      },
      "text/plain": [
       "Validation: |          | 0/? [00:00<?, ?it/s]"
      ]
     },
     "metadata": {},
     "output_type": "display_data"
    },
    {
     "data": {
      "application/vnd.jupyter.widget-view+json": {
       "model_id": "85fe0078910c4c93bb214f0149d9a3e2",
       "version_major": 2,
       "version_minor": 0
      },
      "text/plain": [
       "Validation: |          | 0/? [00:00<?, ?it/s]"
      ]
     },
     "metadata": {},
     "output_type": "display_data"
    },
    {
     "data": {
      "application/vnd.jupyter.widget-view+json": {
       "model_id": "cac313c544f9411bb9b9d0839b17b411",
       "version_major": 2,
       "version_minor": 0
      },
      "text/plain": [
       "Validation: |          | 0/? [00:00<?, ?it/s]"
      ]
     },
     "metadata": {},
     "output_type": "display_data"
    },
    {
     "data": {
      "application/vnd.jupyter.widget-view+json": {
       "model_id": "b00bb711355d448bb9dfa5554e1a3e39",
       "version_major": 2,
       "version_minor": 0
      },
      "text/plain": [
       "Validation: |          | 0/? [00:00<?, ?it/s]"
      ]
     },
     "metadata": {},
     "output_type": "display_data"
    },
    {
     "data": {
      "application/vnd.jupyter.widget-view+json": {
       "model_id": "05ae561ad2d2438abf6fecfad10cbac5",
       "version_major": 2,
       "version_minor": 0
      },
      "text/plain": [
       "Validation: |          | 0/? [00:00<?, ?it/s]"
      ]
     },
     "metadata": {},
     "output_type": "display_data"
    },
    {
     "data": {
      "application/vnd.jupyter.widget-view+json": {
       "model_id": "4da0d96c17fc44938f37e89b9888c6c3",
       "version_major": 2,
       "version_minor": 0
      },
      "text/plain": [
       "Validation: |          | 0/? [00:00<?, ?it/s]"
      ]
     },
     "metadata": {},
     "output_type": "display_data"
    },
    {
     "data": {
      "application/vnd.jupyter.widget-view+json": {
       "model_id": "4a0f9bf24db84681b36420d1c03085f2",
       "version_major": 2,
       "version_minor": 0
      },
      "text/plain": [
       "Validation: |          | 0/? [00:00<?, ?it/s]"
      ]
     },
     "metadata": {},
     "output_type": "display_data"
    },
    {
     "data": {
      "application/vnd.jupyter.widget-view+json": {
       "model_id": "59887cd385e64d68ad11cc4c09fcbf6a",
       "version_major": 2,
       "version_minor": 0
      },
      "text/plain": [
       "Validation: |          | 0/? [00:00<?, ?it/s]"
      ]
     },
     "metadata": {},
     "output_type": "display_data"
    },
    {
     "data": {
      "application/vnd.jupyter.widget-view+json": {
       "model_id": "255e6e80494a406f800db9d52846f892",
       "version_major": 2,
       "version_minor": 0
      },
      "text/plain": [
       "Validation: |          | 0/? [00:00<?, ?it/s]"
      ]
     },
     "metadata": {},
     "output_type": "display_data"
    },
    {
     "data": {
      "application/vnd.jupyter.widget-view+json": {
       "model_id": "eadd8d4cab7c45c4972f4b5ed52ce0f0",
       "version_major": 2,
       "version_minor": 0
      },
      "text/plain": [
       "Validation: |          | 0/? [00:00<?, ?it/s]"
      ]
     },
     "metadata": {},
     "output_type": "display_data"
    },
    {
     "data": {
      "application/vnd.jupyter.widget-view+json": {
       "model_id": "4baa993923a34d4eab18cde7c01a348a",
       "version_major": 2,
       "version_minor": 0
      },
      "text/plain": [
       "Validation: |          | 0/? [00:00<?, ?it/s]"
      ]
     },
     "metadata": {},
     "output_type": "display_data"
    },
    {
     "data": {
      "application/vnd.jupyter.widget-view+json": {
       "model_id": "45453a3291294d8db801db3b404072a0",
       "version_major": 2,
       "version_minor": 0
      },
      "text/plain": [
       "Validation: |          | 0/? [00:00<?, ?it/s]"
      ]
     },
     "metadata": {},
     "output_type": "display_data"
    },
    {
     "data": {
      "application/vnd.jupyter.widget-view+json": {
       "model_id": "c94f6124f75741568c4da9778fed6fba",
       "version_major": 2,
       "version_minor": 0
      },
      "text/plain": [
       "Validation: |          | 0/? [00:00<?, ?it/s]"
      ]
     },
     "metadata": {},
     "output_type": "display_data"
    },
    {
     "data": {
      "application/vnd.jupyter.widget-view+json": {
       "model_id": "ec7d348eb49b42cd836bd3dbce3202a3",
       "version_major": 2,
       "version_minor": 0
      },
      "text/plain": [
       "Validation: |          | 0/? [00:00<?, ?it/s]"
      ]
     },
     "metadata": {},
     "output_type": "display_data"
    },
    {
     "data": {
      "application/vnd.jupyter.widget-view+json": {
       "model_id": "a322139364fa4426b865c381e4ec71d4",
       "version_major": 2,
       "version_minor": 0
      },
      "text/plain": [
       "Validation: |          | 0/? [00:00<?, ?it/s]"
      ]
     },
     "metadata": {},
     "output_type": "display_data"
    },
    {
     "data": {
      "application/vnd.jupyter.widget-view+json": {
       "model_id": "26f937751b1548a4b4867d8817ccdde1",
       "version_major": 2,
       "version_minor": 0
      },
      "text/plain": [
       "Validation: |          | 0/? [00:00<?, ?it/s]"
      ]
     },
     "metadata": {},
     "output_type": "display_data"
    },
    {
     "data": {
      "application/vnd.jupyter.widget-view+json": {
       "model_id": "9f91af75a719475d966dde198c6e7e07",
       "version_major": 2,
       "version_minor": 0
      },
      "text/plain": [
       "Validation: |          | 0/? [00:00<?, ?it/s]"
      ]
     },
     "metadata": {},
     "output_type": "display_data"
    },
    {
     "data": {
      "application/vnd.jupyter.widget-view+json": {
       "model_id": "a038b6c910314bee8affc3ac282c77e9",
       "version_major": 2,
       "version_minor": 0
      },
      "text/plain": [
       "Validation: |          | 0/? [00:00<?, ?it/s]"
      ]
     },
     "metadata": {},
     "output_type": "display_data"
    },
    {
     "data": {
      "application/vnd.jupyter.widget-view+json": {
       "model_id": "33e0bc2f73424e1ca385de25576ebd31",
       "version_major": 2,
       "version_minor": 0
      },
      "text/plain": [
       "Validation: |          | 0/? [00:00<?, ?it/s]"
      ]
     },
     "metadata": {},
     "output_type": "display_data"
    },
    {
     "data": {
      "application/vnd.jupyter.widget-view+json": {
       "model_id": "dca58a0376774a1a9ae4c9f856432479",
       "version_major": 2,
       "version_minor": 0
      },
      "text/plain": [
       "Validation: |          | 0/? [00:00<?, ?it/s]"
      ]
     },
     "metadata": {},
     "output_type": "display_data"
    },
    {
     "data": {
      "application/vnd.jupyter.widget-view+json": {
       "model_id": "224fa6e15485450ab6fcb14f7b02d173",
       "version_major": 2,
       "version_minor": 0
      },
      "text/plain": [
       "Validation: |          | 0/? [00:00<?, ?it/s]"
      ]
     },
     "metadata": {},
     "output_type": "display_data"
    },
    {
     "data": {
      "application/vnd.jupyter.widget-view+json": {
       "model_id": "7033ec406794404b80490311893b17b4",
       "version_major": 2,
       "version_minor": 0
      },
      "text/plain": [
       "Validation: |          | 0/? [00:00<?, ?it/s]"
      ]
     },
     "metadata": {},
     "output_type": "display_data"
    },
    {
     "data": {
      "application/vnd.jupyter.widget-view+json": {
       "model_id": "b8d908535ca04ae08cececf5845e1313",
       "version_major": 2,
       "version_minor": 0
      },
      "text/plain": [
       "Validation: |          | 0/? [00:00<?, ?it/s]"
      ]
     },
     "metadata": {},
     "output_type": "display_data"
    },
    {
     "data": {
      "application/vnd.jupyter.widget-view+json": {
       "model_id": "2353ec3e5a054ae2b7f957d36a5bcf0a",
       "version_major": 2,
       "version_minor": 0
      },
      "text/plain": [
       "Validation: |          | 0/? [00:00<?, ?it/s]"
      ]
     },
     "metadata": {},
     "output_type": "display_data"
    },
    {
     "data": {
      "application/vnd.jupyter.widget-view+json": {
       "model_id": "a6c3fccb260d4f6baba622a6b3049523",
       "version_major": 2,
       "version_minor": 0
      },
      "text/plain": [
       "Validation: |          | 0/? [00:00<?, ?it/s]"
      ]
     },
     "metadata": {},
     "output_type": "display_data"
    },
    {
     "data": {
      "application/vnd.jupyter.widget-view+json": {
       "model_id": "029e374e83da4fa9a73e543c56d163b1",
       "version_major": 2,
       "version_minor": 0
      },
      "text/plain": [
       "Validation: |          | 0/? [00:00<?, ?it/s]"
      ]
     },
     "metadata": {},
     "output_type": "display_data"
    },
    {
     "data": {
      "application/vnd.jupyter.widget-view+json": {
       "model_id": "d42b473bd0444a1e92be4582357390d9",
       "version_major": 2,
       "version_minor": 0
      },
      "text/plain": [
       "Validation: |          | 0/? [00:00<?, ?it/s]"
      ]
     },
     "metadata": {},
     "output_type": "display_data"
    },
    {
     "data": {
      "application/vnd.jupyter.widget-view+json": {
       "model_id": "e391e530cc44428888210d9356c607b0",
       "version_major": 2,
       "version_minor": 0
      },
      "text/plain": [
       "Validation: |          | 0/? [00:00<?, ?it/s]"
      ]
     },
     "metadata": {},
     "output_type": "display_data"
    },
    {
     "data": {
      "application/vnd.jupyter.widget-view+json": {
       "model_id": "ceb19f6760da462dbfeabc2b3e0fddbe",
       "version_major": 2,
       "version_minor": 0
      },
      "text/plain": [
       "Validation: |          | 0/? [00:00<?, ?it/s]"
      ]
     },
     "metadata": {},
     "output_type": "display_data"
    },
    {
     "data": {
      "application/vnd.jupyter.widget-view+json": {
       "model_id": "1c18ccfcf9924ed8ad6fd4050018220b",
       "version_major": 2,
       "version_minor": 0
      },
      "text/plain": [
       "Validation: |          | 0/? [00:00<?, ?it/s]"
      ]
     },
     "metadata": {},
     "output_type": "display_data"
    },
    {
     "data": {
      "application/vnd.jupyter.widget-view+json": {
       "model_id": "fe1971991d6a42c589fb687d63a4fc2f",
       "version_major": 2,
       "version_minor": 0
      },
      "text/plain": [
       "Validation: |          | 0/? [00:00<?, ?it/s]"
      ]
     },
     "metadata": {},
     "output_type": "display_data"
    },
    {
     "data": {
      "application/vnd.jupyter.widget-view+json": {
       "model_id": "172dac1cc3c54581a89534e2e205d509",
       "version_major": 2,
       "version_minor": 0
      },
      "text/plain": [
       "Validation: |          | 0/? [00:00<?, ?it/s]"
      ]
     },
     "metadata": {},
     "output_type": "display_data"
    },
    {
     "data": {
      "application/vnd.jupyter.widget-view+json": {
       "model_id": "8ca05bcdb8764ed19efceab29c2c6637",
       "version_major": 2,
       "version_minor": 0
      },
      "text/plain": [
       "Validation: |          | 0/? [00:00<?, ?it/s]"
      ]
     },
     "metadata": {},
     "output_type": "display_data"
    },
    {
     "data": {
      "application/vnd.jupyter.widget-view+json": {
       "model_id": "13759601980e4c4ea8d41846bc827eaf",
       "version_major": 2,
       "version_minor": 0
      },
      "text/plain": [
       "Validation: |          | 0/? [00:00<?, ?it/s]"
      ]
     },
     "metadata": {},
     "output_type": "display_data"
    },
    {
     "data": {
      "application/vnd.jupyter.widget-view+json": {
       "model_id": "1799db7326ac4c22a94869ba835d1393",
       "version_major": 2,
       "version_minor": 0
      },
      "text/plain": [
       "Validation: |          | 0/? [00:00<?, ?it/s]"
      ]
     },
     "metadata": {},
     "output_type": "display_data"
    },
    {
     "data": {
      "application/vnd.jupyter.widget-view+json": {
       "model_id": "15ba3eb2848144f8aa72e1faa3e6afce",
       "version_major": 2,
       "version_minor": 0
      },
      "text/plain": [
       "Validation: |          | 0/? [00:00<?, ?it/s]"
      ]
     },
     "metadata": {},
     "output_type": "display_data"
    },
    {
     "data": {
      "application/vnd.jupyter.widget-view+json": {
       "model_id": "f0744e90caf64e8eab9cadf717155cda",
       "version_major": 2,
       "version_minor": 0
      },
      "text/plain": [
       "Validation: |          | 0/? [00:00<?, ?it/s]"
      ]
     },
     "metadata": {},
     "output_type": "display_data"
    },
    {
     "data": {
      "application/vnd.jupyter.widget-view+json": {
       "model_id": "b704b82135ac469ab6afd0360a09a2f0",
       "version_major": 2,
       "version_minor": 0
      },
      "text/plain": [
       "Validation: |          | 0/? [00:00<?, ?it/s]"
      ]
     },
     "metadata": {},
     "output_type": "display_data"
    },
    {
     "data": {
      "application/vnd.jupyter.widget-view+json": {
       "model_id": "89fdda1c5c0047738f9b2b04971581ee",
       "version_major": 2,
       "version_minor": 0
      },
      "text/plain": [
       "Validation: |          | 0/? [00:00<?, ?it/s]"
      ]
     },
     "metadata": {},
     "output_type": "display_data"
    },
    {
     "data": {
      "application/vnd.jupyter.widget-view+json": {
       "model_id": "faa96599298a4eaab027ddf1a816b337",
       "version_major": 2,
       "version_minor": 0
      },
      "text/plain": [
       "Validation: |          | 0/? [00:00<?, ?it/s]"
      ]
     },
     "metadata": {},
     "output_type": "display_data"
    },
    {
     "data": {
      "application/vnd.jupyter.widget-view+json": {
       "model_id": "b169f665dd734d5f933ae0a7a237372e",
       "version_major": 2,
       "version_minor": 0
      },
      "text/plain": [
       "Validation: |          | 0/? [00:00<?, ?it/s]"
      ]
     },
     "metadata": {},
     "output_type": "display_data"
    },
    {
     "data": {
      "application/vnd.jupyter.widget-view+json": {
       "model_id": "13dee17f18eb48a78856525623ff30e5",
       "version_major": 2,
       "version_minor": 0
      },
      "text/plain": [
       "Validation: |          | 0/? [00:00<?, ?it/s]"
      ]
     },
     "metadata": {},
     "output_type": "display_data"
    },
    {
     "data": {
      "application/vnd.jupyter.widget-view+json": {
       "model_id": "2fb0adc754074b41ad81c2b0b9733a96",
       "version_major": 2,
       "version_minor": 0
      },
      "text/plain": [
       "Validation: |          | 0/? [00:00<?, ?it/s]"
      ]
     },
     "metadata": {},
     "output_type": "display_data"
    },
    {
     "data": {
      "application/vnd.jupyter.widget-view+json": {
       "model_id": "358127512af0404f86f2da52e42153d4",
       "version_major": 2,
       "version_minor": 0
      },
      "text/plain": [
       "Validation: |          | 0/? [00:00<?, ?it/s]"
      ]
     },
     "metadata": {},
     "output_type": "display_data"
    },
    {
     "data": {
      "application/vnd.jupyter.widget-view+json": {
       "model_id": "1082052dfc0a41d78c336a35394cd640",
       "version_major": 2,
       "version_minor": 0
      },
      "text/plain": [
       "Validation: |          | 0/? [00:00<?, ?it/s]"
      ]
     },
     "metadata": {},
     "output_type": "display_data"
    },
    {
     "data": {
      "application/vnd.jupyter.widget-view+json": {
       "model_id": "4a5d66cbbe754e9dba8a923f63ee415e",
       "version_major": 2,
       "version_minor": 0
      },
      "text/plain": [
       "Validation: |          | 0/? [00:00<?, ?it/s]"
      ]
     },
     "metadata": {},
     "output_type": "display_data"
    },
    {
     "data": {
      "application/vnd.jupyter.widget-view+json": {
       "model_id": "848b58b11d6e4dbc994cc1f09173339a",
       "version_major": 2,
       "version_minor": 0
      },
      "text/plain": [
       "Validation: |          | 0/? [00:00<?, ?it/s]"
      ]
     },
     "metadata": {},
     "output_type": "display_data"
    },
    {
     "data": {
      "application/vnd.jupyter.widget-view+json": {
       "model_id": "555ad313a4fe4254bd555a2ee5fe0875",
       "version_major": 2,
       "version_minor": 0
      },
      "text/plain": [
       "Validation: |          | 0/? [00:00<?, ?it/s]"
      ]
     },
     "metadata": {},
     "output_type": "display_data"
    },
    {
     "data": {
      "application/vnd.jupyter.widget-view+json": {
       "model_id": "7ccab21f75de4c8fa0904a684d24c307",
       "version_major": 2,
       "version_minor": 0
      },
      "text/plain": [
       "Validation: |          | 0/? [00:00<?, ?it/s]"
      ]
     },
     "metadata": {},
     "output_type": "display_data"
    },
    {
     "data": {
      "application/vnd.jupyter.widget-view+json": {
       "model_id": "01a3d94ee2fc46b5a6a06d0539f437fa",
       "version_major": 2,
       "version_minor": 0
      },
      "text/plain": [
       "Validation: |          | 0/? [00:00<?, ?it/s]"
      ]
     },
     "metadata": {},
     "output_type": "display_data"
    },
    {
     "data": {
      "application/vnd.jupyter.widget-view+json": {
       "model_id": "9d9bc89eb94443c2b87470c72e57ca97",
       "version_major": 2,
       "version_minor": 0
      },
      "text/plain": [
       "Validation: |          | 0/? [00:00<?, ?it/s]"
      ]
     },
     "metadata": {},
     "output_type": "display_data"
    },
    {
     "data": {
      "application/vnd.jupyter.widget-view+json": {
       "model_id": "4e631f109adc446fa2691ab540d4f1d0",
       "version_major": 2,
       "version_minor": 0
      },
      "text/plain": [
       "Validation: |          | 0/? [00:00<?, ?it/s]"
      ]
     },
     "metadata": {},
     "output_type": "display_data"
    },
    {
     "data": {
      "application/vnd.jupyter.widget-view+json": {
       "model_id": "cb1cd2ac89614cb2948265ee2690fc9c",
       "version_major": 2,
       "version_minor": 0
      },
      "text/plain": [
       "Validation: |          | 0/? [00:00<?, ?it/s]"
      ]
     },
     "metadata": {},
     "output_type": "display_data"
    },
    {
     "data": {
      "application/vnd.jupyter.widget-view+json": {
       "model_id": "f1ee978a1b3340039c2b9fa3ecd29f82",
       "version_major": 2,
       "version_minor": 0
      },
      "text/plain": [
       "Validation: |          | 0/? [00:00<?, ?it/s]"
      ]
     },
     "metadata": {},
     "output_type": "display_data"
    },
    {
     "data": {
      "application/vnd.jupyter.widget-view+json": {
       "model_id": "a1ee95e1a8904b9a83c4d1a432a47057",
       "version_major": 2,
       "version_minor": 0
      },
      "text/plain": [
       "Validation: |          | 0/? [00:00<?, ?it/s]"
      ]
     },
     "metadata": {},
     "output_type": "display_data"
    },
    {
     "data": {
      "application/vnd.jupyter.widget-view+json": {
       "model_id": "b256a817cec34b92a0187a42eec68e75",
       "version_major": 2,
       "version_minor": 0
      },
      "text/plain": [
       "Validation: |          | 0/? [00:00<?, ?it/s]"
      ]
     },
     "metadata": {},
     "output_type": "display_data"
    },
    {
     "data": {
      "application/vnd.jupyter.widget-view+json": {
       "model_id": "d9ad47367e734047afa90a8924c836d3",
       "version_major": 2,
       "version_minor": 0
      },
      "text/plain": [
       "Validation: |          | 0/? [00:00<?, ?it/s]"
      ]
     },
     "metadata": {},
     "output_type": "display_data"
    },
    {
     "data": {
      "application/vnd.jupyter.widget-view+json": {
       "model_id": "45765b7e95dd47d7a0b2f1345466d91b",
       "version_major": 2,
       "version_minor": 0
      },
      "text/plain": [
       "Validation: |          | 0/? [00:00<?, ?it/s]"
      ]
     },
     "metadata": {},
     "output_type": "display_data"
    },
    {
     "data": {
      "application/vnd.jupyter.widget-view+json": {
       "model_id": "e763299ee91f4cc099564f224c7e2651",
       "version_major": 2,
       "version_minor": 0
      },
      "text/plain": [
       "Validation: |          | 0/? [00:00<?, ?it/s]"
      ]
     },
     "metadata": {},
     "output_type": "display_data"
    },
    {
     "data": {
      "application/vnd.jupyter.widget-view+json": {
       "model_id": "ef16ed1544104718a118f6ab4c91eb05",
       "version_major": 2,
       "version_minor": 0
      },
      "text/plain": [
       "Validation: |          | 0/? [00:00<?, ?it/s]"
      ]
     },
     "metadata": {},
     "output_type": "display_data"
    },
    {
     "data": {
      "application/vnd.jupyter.widget-view+json": {
       "model_id": "04a865c19710453386a684e1740e271c",
       "version_major": 2,
       "version_minor": 0
      },
      "text/plain": [
       "Validation: |          | 0/? [00:00<?, ?it/s]"
      ]
     },
     "metadata": {},
     "output_type": "display_data"
    },
    {
     "data": {
      "application/vnd.jupyter.widget-view+json": {
       "model_id": "3c9acc750cc34be6b8424b6ae9372819",
       "version_major": 2,
       "version_minor": 0
      },
      "text/plain": [
       "Validation: |          | 0/? [00:00<?, ?it/s]"
      ]
     },
     "metadata": {},
     "output_type": "display_data"
    },
    {
     "data": {
      "application/vnd.jupyter.widget-view+json": {
       "model_id": "40bb21f01fce400292c5e5413be715de",
       "version_major": 2,
       "version_minor": 0
      },
      "text/plain": [
       "Validation: |          | 0/? [00:00<?, ?it/s]"
      ]
     },
     "metadata": {},
     "output_type": "display_data"
    },
    {
     "data": {
      "application/vnd.jupyter.widget-view+json": {
       "model_id": "9f7a1123f8194e3aac1af8f3a1b17ae8",
       "version_major": 2,
       "version_minor": 0
      },
      "text/plain": [
       "Validation: |          | 0/? [00:00<?, ?it/s]"
      ]
     },
     "metadata": {},
     "output_type": "display_data"
    },
    {
     "data": {
      "application/vnd.jupyter.widget-view+json": {
       "model_id": "2ea3692ceac3444298e970295df920b5",
       "version_major": 2,
       "version_minor": 0
      },
      "text/plain": [
       "Validation: |          | 0/? [00:00<?, ?it/s]"
      ]
     },
     "metadata": {},
     "output_type": "display_data"
    },
    {
     "data": {
      "application/vnd.jupyter.widget-view+json": {
       "model_id": "4bfe0c5645f8413f89f2259e290157af",
       "version_major": 2,
       "version_minor": 0
      },
      "text/plain": [
       "Validation: |          | 0/? [00:00<?, ?it/s]"
      ]
     },
     "metadata": {},
     "output_type": "display_data"
    },
    {
     "data": {
      "application/vnd.jupyter.widget-view+json": {
       "model_id": "a1204616e9ce474089c7bf6518550e6a",
       "version_major": 2,
       "version_minor": 0
      },
      "text/plain": [
       "Validation: |          | 0/? [00:00<?, ?it/s]"
      ]
     },
     "metadata": {},
     "output_type": "display_data"
    },
    {
     "data": {
      "application/vnd.jupyter.widget-view+json": {
       "model_id": "449da73b0d114927ac3e528e218789f2",
       "version_major": 2,
       "version_minor": 0
      },
      "text/plain": [
       "Validation: |          | 0/? [00:00<?, ?it/s]"
      ]
     },
     "metadata": {},
     "output_type": "display_data"
    },
    {
     "data": {
      "application/vnd.jupyter.widget-view+json": {
       "model_id": "247873aafbf34abcab89d844fb24710f",
       "version_major": 2,
       "version_minor": 0
      },
      "text/plain": [
       "Validation: |          | 0/? [00:00<?, ?it/s]"
      ]
     },
     "metadata": {},
     "output_type": "display_data"
    },
    {
     "data": {
      "application/vnd.jupyter.widget-view+json": {
       "model_id": "bef908ce5cd5464fb4bab41d2babe705",
       "version_major": 2,
       "version_minor": 0
      },
      "text/plain": [
       "Validation: |          | 0/? [00:00<?, ?it/s]"
      ]
     },
     "metadata": {},
     "output_type": "display_data"
    },
    {
     "data": {
      "application/vnd.jupyter.widget-view+json": {
       "model_id": "b8ca4e7d7be74b33b8c203a10ec1691c",
       "version_major": 2,
       "version_minor": 0
      },
      "text/plain": [
       "Validation: |          | 0/? [00:00<?, ?it/s]"
      ]
     },
     "metadata": {},
     "output_type": "display_data"
    },
    {
     "data": {
      "application/vnd.jupyter.widget-view+json": {
       "model_id": "260fd9cfa0944df6a595cf9f5cfefc3a",
       "version_major": 2,
       "version_minor": 0
      },
      "text/plain": [
       "Validation: |          | 0/? [00:00<?, ?it/s]"
      ]
     },
     "metadata": {},
     "output_type": "display_data"
    },
    {
     "data": {
      "application/vnd.jupyter.widget-view+json": {
       "model_id": "917c09f35e024cfd8fb15b6eb3501bc5",
       "version_major": 2,
       "version_minor": 0
      },
      "text/plain": [
       "Validation: |          | 0/? [00:00<?, ?it/s]"
      ]
     },
     "metadata": {},
     "output_type": "display_data"
    },
    {
     "data": {
      "application/vnd.jupyter.widget-view+json": {
       "model_id": "c928f7c8585442ee8f40f2421c820669",
       "version_major": 2,
       "version_minor": 0
      },
      "text/plain": [
       "Validation: |          | 0/? [00:00<?, ?it/s]"
      ]
     },
     "metadata": {},
     "output_type": "display_data"
    },
    {
     "data": {
      "application/vnd.jupyter.widget-view+json": {
       "model_id": "eb38ebd6698b47e4a269fdffeae69c49",
       "version_major": 2,
       "version_minor": 0
      },
      "text/plain": [
       "Validation: |          | 0/? [00:00<?, ?it/s]"
      ]
     },
     "metadata": {},
     "output_type": "display_data"
    },
    {
     "data": {
      "application/vnd.jupyter.widget-view+json": {
       "model_id": "18d530b28a8549409a818308cfdcb666",
       "version_major": 2,
       "version_minor": 0
      },
      "text/plain": [
       "Validation: |          | 0/? [00:00<?, ?it/s]"
      ]
     },
     "metadata": {},
     "output_type": "display_data"
    },
    {
     "data": {
      "application/vnd.jupyter.widget-view+json": {
       "model_id": "a5a6ae3644b4440e8d9d23471edd0930",
       "version_major": 2,
       "version_minor": 0
      },
      "text/plain": [
       "Validation: |          | 0/? [00:00<?, ?it/s]"
      ]
     },
     "metadata": {},
     "output_type": "display_data"
    },
    {
     "data": {
      "application/vnd.jupyter.widget-view+json": {
       "model_id": "5201b58d9ef142fc9d91bbf54d157f6c",
       "version_major": 2,
       "version_minor": 0
      },
      "text/plain": [
       "Validation: |          | 0/? [00:00<?, ?it/s]"
      ]
     },
     "metadata": {},
     "output_type": "display_data"
    },
    {
     "data": {
      "application/vnd.jupyter.widget-view+json": {
       "model_id": "fba4d496e5e34721a04af1280ee41306",
       "version_major": 2,
       "version_minor": 0
      },
      "text/plain": [
       "Validation: |          | 0/? [00:00<?, ?it/s]"
      ]
     },
     "metadata": {},
     "output_type": "display_data"
    },
    {
     "data": {
      "application/vnd.jupyter.widget-view+json": {
       "model_id": "08a09f717be34511ae0a929fa142dd99",
       "version_major": 2,
       "version_minor": 0
      },
      "text/plain": [
       "Validation: |          | 0/? [00:00<?, ?it/s]"
      ]
     },
     "metadata": {},
     "output_type": "display_data"
    },
    {
     "data": {
      "application/vnd.jupyter.widget-view+json": {
       "model_id": "d646db0c96404f3d9ea1ff6016fe8957",
       "version_major": 2,
       "version_minor": 0
      },
      "text/plain": [
       "Validation: |          | 0/? [00:00<?, ?it/s]"
      ]
     },
     "metadata": {},
     "output_type": "display_data"
    },
    {
     "data": {
      "application/vnd.jupyter.widget-view+json": {
       "model_id": "2fda73ce8f8a4f63a022fac0d6a763a8",
       "version_major": 2,
       "version_minor": 0
      },
      "text/plain": [
       "Validation: |          | 0/? [00:00<?, ?it/s]"
      ]
     },
     "metadata": {},
     "output_type": "display_data"
    },
    {
     "data": {
      "application/vnd.jupyter.widget-view+json": {
       "model_id": "611073b4c4ea4c2b88953c3960eafa7a",
       "version_major": 2,
       "version_minor": 0
      },
      "text/plain": [
       "Validation: |          | 0/? [00:00<?, ?it/s]"
      ]
     },
     "metadata": {},
     "output_type": "display_data"
    },
    {
     "data": {
      "application/vnd.jupyter.widget-view+json": {
       "model_id": "f4ef68c1a9ff4cee867880f541b34a36",
       "version_major": 2,
       "version_minor": 0
      },
      "text/plain": [
       "Validation: |          | 0/? [00:00<?, ?it/s]"
      ]
     },
     "metadata": {},
     "output_type": "display_data"
    },
    {
     "data": {
      "application/vnd.jupyter.widget-view+json": {
       "model_id": "6986139ad0d74fe7b512e31662f178d5",
       "version_major": 2,
       "version_minor": 0
      },
      "text/plain": [
       "Validation: |          | 0/? [00:00<?, ?it/s]"
      ]
     },
     "metadata": {},
     "output_type": "display_data"
    },
    {
     "data": {
      "application/vnd.jupyter.widget-view+json": {
       "model_id": "e7ef33c51db04525a25ee2d46baa5367",
       "version_major": 2,
       "version_minor": 0
      },
      "text/plain": [
       "Validation: |          | 0/? [00:00<?, ?it/s]"
      ]
     },
     "metadata": {},
     "output_type": "display_data"
    },
    {
     "data": {
      "application/vnd.jupyter.widget-view+json": {
       "model_id": "8dc4d0a8059046bd872e37ffa8ab56b6",
       "version_major": 2,
       "version_minor": 0
      },
      "text/plain": [
       "Validation: |          | 0/? [00:00<?, ?it/s]"
      ]
     },
     "metadata": {},
     "output_type": "display_data"
    },
    {
     "data": {
      "application/vnd.jupyter.widget-view+json": {
       "model_id": "49ed0a02c4cd4a7c9ae37bbd552a03b4",
       "version_major": 2,
       "version_minor": 0
      },
      "text/plain": [
       "Validation: |          | 0/? [00:00<?, ?it/s]"
      ]
     },
     "metadata": {},
     "output_type": "display_data"
    },
    {
     "data": {
      "application/vnd.jupyter.widget-view+json": {
       "model_id": "1a7aee7801f840538789b9b05b23f6e2",
       "version_major": 2,
       "version_minor": 0
      },
      "text/plain": [
       "Validation: |          | 0/? [00:00<?, ?it/s]"
      ]
     },
     "metadata": {},
     "output_type": "display_data"
    },
    {
     "data": {
      "application/vnd.jupyter.widget-view+json": {
       "model_id": "0c8275ccee5e49b0803200f67c2433ab",
       "version_major": 2,
       "version_minor": 0
      },
      "text/plain": [
       "Validation: |          | 0/? [00:00<?, ?it/s]"
      ]
     },
     "metadata": {},
     "output_type": "display_data"
    },
    {
     "data": {
      "application/vnd.jupyter.widget-view+json": {
       "model_id": "9f05472a2661444c88dc2150e71c26cc",
       "version_major": 2,
       "version_minor": 0
      },
      "text/plain": [
       "Validation: |          | 0/? [00:00<?, ?it/s]"
      ]
     },
     "metadata": {},
     "output_type": "display_data"
    },
    {
     "data": {
      "application/vnd.jupyter.widget-view+json": {
       "model_id": "bb2097bf26cf411d9bc6f44423fbeea6",
       "version_major": 2,
       "version_minor": 0
      },
      "text/plain": [
       "Validation: |          | 0/? [00:00<?, ?it/s]"
      ]
     },
     "metadata": {},
     "output_type": "display_data"
    },
    {
     "data": {
      "application/vnd.jupyter.widget-view+json": {
       "model_id": "493157869fb04dffb990b150e39bf21c",
       "version_major": 2,
       "version_minor": 0
      },
      "text/plain": [
       "Validation: |          | 0/? [00:00<?, ?it/s]"
      ]
     },
     "metadata": {},
     "output_type": "display_data"
    },
    {
     "data": {
      "application/vnd.jupyter.widget-view+json": {
       "model_id": "adc62be0f2514623b6bbac46640dacda",
       "version_major": 2,
       "version_minor": 0
      },
      "text/plain": [
       "Validation: |          | 0/? [00:00<?, ?it/s]"
      ]
     },
     "metadata": {},
     "output_type": "display_data"
    },
    {
     "data": {
      "application/vnd.jupyter.widget-view+json": {
       "model_id": "cf5c2ae82e204505bc9a59f526011037",
       "version_major": 2,
       "version_minor": 0
      },
      "text/plain": [
       "Validation: |          | 0/? [00:00<?, ?it/s]"
      ]
     },
     "metadata": {},
     "output_type": "display_data"
    },
    {
     "data": {
      "application/vnd.jupyter.widget-view+json": {
       "model_id": "f6460f0a7195401db886ece595d13dce",
       "version_major": 2,
       "version_minor": 0
      },
      "text/plain": [
       "Validation: |          | 0/? [00:00<?, ?it/s]"
      ]
     },
     "metadata": {},
     "output_type": "display_data"
    },
    {
     "data": {
      "application/vnd.jupyter.widget-view+json": {
       "model_id": "5159cfeebd2d4dff93580a4716cdefad",
       "version_major": 2,
       "version_minor": 0
      },
      "text/plain": [
       "Validation: |          | 0/? [00:00<?, ?it/s]"
      ]
     },
     "metadata": {},
     "output_type": "display_data"
    },
    {
     "data": {
      "application/vnd.jupyter.widget-view+json": {
       "model_id": "47da3175934d4d93a7e8b12515a6315e",
       "version_major": 2,
       "version_minor": 0
      },
      "text/plain": [
       "Validation: |          | 0/? [00:00<?, ?it/s]"
      ]
     },
     "metadata": {},
     "output_type": "display_data"
    },
    {
     "data": {
      "application/vnd.jupyter.widget-view+json": {
       "model_id": "2b623535c68d4923a0d0d6b3d4e4efff",
       "version_major": 2,
       "version_minor": 0
      },
      "text/plain": [
       "Validation: |          | 0/? [00:00<?, ?it/s]"
      ]
     },
     "metadata": {},
     "output_type": "display_data"
    },
    {
     "data": {
      "application/vnd.jupyter.widget-view+json": {
       "model_id": "3de56a5921cb45608f4f6d6252aef527",
       "version_major": 2,
       "version_minor": 0
      },
      "text/plain": [
       "Validation: |          | 0/? [00:00<?, ?it/s]"
      ]
     },
     "metadata": {},
     "output_type": "display_data"
    },
    {
     "data": {
      "application/vnd.jupyter.widget-view+json": {
       "model_id": "53c095ddc94841809cc3d11bc9ed68d0",
       "version_major": 2,
       "version_minor": 0
      },
      "text/plain": [
       "Validation: |          | 0/? [00:00<?, ?it/s]"
      ]
     },
     "metadata": {},
     "output_type": "display_data"
    },
    {
     "data": {
      "application/vnd.jupyter.widget-view+json": {
       "model_id": "455b86e6dfc24545ae17c7d0384c0cbd",
       "version_major": 2,
       "version_minor": 0
      },
      "text/plain": [
       "Validation: |          | 0/? [00:00<?, ?it/s]"
      ]
     },
     "metadata": {},
     "output_type": "display_data"
    },
    {
     "data": {
      "application/vnd.jupyter.widget-view+json": {
       "model_id": "f1b81d7c49a144e0a682a3ff74fd2a85",
       "version_major": 2,
       "version_minor": 0
      },
      "text/plain": [
       "Validation: |          | 0/? [00:00<?, ?it/s]"
      ]
     },
     "metadata": {},
     "output_type": "display_data"
    },
    {
     "data": {
      "application/vnd.jupyter.widget-view+json": {
       "model_id": "6391dc5990094b81900623b16e96b84f",
       "version_major": 2,
       "version_minor": 0
      },
      "text/plain": [
       "Validation: |          | 0/? [00:00<?, ?it/s]"
      ]
     },
     "metadata": {},
     "output_type": "display_data"
    },
    {
     "data": {
      "application/vnd.jupyter.widget-view+json": {
       "model_id": "732175bd74f940529fc0225ec2271985",
       "version_major": 2,
       "version_minor": 0
      },
      "text/plain": [
       "Validation: |          | 0/? [00:00<?, ?it/s]"
      ]
     },
     "metadata": {},
     "output_type": "display_data"
    },
    {
     "data": {
      "application/vnd.jupyter.widget-view+json": {
       "model_id": "8d4ddd288ea04cd8a5c194e6209d4115",
       "version_major": 2,
       "version_minor": 0
      },
      "text/plain": [
       "Validation: |          | 0/? [00:00<?, ?it/s]"
      ]
     },
     "metadata": {},
     "output_type": "display_data"
    },
    {
     "data": {
      "application/vnd.jupyter.widget-view+json": {
       "model_id": "9546a15cfa0e4faeb864c302b7d9edcb",
       "version_major": 2,
       "version_minor": 0
      },
      "text/plain": [
       "Validation: |          | 0/? [00:00<?, ?it/s]"
      ]
     },
     "metadata": {},
     "output_type": "display_data"
    },
    {
     "data": {
      "application/vnd.jupyter.widget-view+json": {
       "model_id": "96a3824b90124b83a4dda1c54624b863",
       "version_major": 2,
       "version_minor": 0
      },
      "text/plain": [
       "Validation: |          | 0/? [00:00<?, ?it/s]"
      ]
     },
     "metadata": {},
     "output_type": "display_data"
    },
    {
     "data": {
      "application/vnd.jupyter.widget-view+json": {
       "model_id": "aa137e3134174a8294d05799a9801f71",
       "version_major": 2,
       "version_minor": 0
      },
      "text/plain": [
       "Validation: |          | 0/? [00:00<?, ?it/s]"
      ]
     },
     "metadata": {},
     "output_type": "display_data"
    },
    {
     "data": {
      "application/vnd.jupyter.widget-view+json": {
       "model_id": "8da451b9246b4ef8bfbf43ddace81f64",
       "version_major": 2,
       "version_minor": 0
      },
      "text/plain": [
       "Validation: |          | 0/? [00:00<?, ?it/s]"
      ]
     },
     "metadata": {},
     "output_type": "display_data"
    },
    {
     "data": {
      "application/vnd.jupyter.widget-view+json": {
       "model_id": "908f070e706447b49087246b61725484",
       "version_major": 2,
       "version_minor": 0
      },
      "text/plain": [
       "Validation: |          | 0/? [00:00<?, ?it/s]"
      ]
     },
     "metadata": {},
     "output_type": "display_data"
    },
    {
     "data": {
      "application/vnd.jupyter.widget-view+json": {
       "model_id": "702ff860174c454f9344c536cbc50948",
       "version_major": 2,
       "version_minor": 0
      },
      "text/plain": [
       "Validation: |          | 0/? [00:00<?, ?it/s]"
      ]
     },
     "metadata": {},
     "output_type": "display_data"
    },
    {
     "data": {
      "application/vnd.jupyter.widget-view+json": {
       "model_id": "1c1640b33f444956901c3292d9247cae",
       "version_major": 2,
       "version_minor": 0
      },
      "text/plain": [
       "Validation: |          | 0/? [00:00<?, ?it/s]"
      ]
     },
     "metadata": {},
     "output_type": "display_data"
    },
    {
     "data": {
      "application/vnd.jupyter.widget-view+json": {
       "model_id": "a07c7d7c637e42209d31f0ae5b0d512b",
       "version_major": 2,
       "version_minor": 0
      },
      "text/plain": [
       "Validation: |          | 0/? [00:00<?, ?it/s]"
      ]
     },
     "metadata": {},
     "output_type": "display_data"
    },
    {
     "data": {
      "application/vnd.jupyter.widget-view+json": {
       "model_id": "1cb97bd842974b1fbf644ae9aa957ce4",
       "version_major": 2,
       "version_minor": 0
      },
      "text/plain": [
       "Validation: |          | 0/? [00:00<?, ?it/s]"
      ]
     },
     "metadata": {},
     "output_type": "display_data"
    },
    {
     "data": {
      "application/vnd.jupyter.widget-view+json": {
       "model_id": "10b3cb78cfb14238bdbe7c05e8fff3f5",
       "version_major": 2,
       "version_minor": 0
      },
      "text/plain": [
       "Validation: |          | 0/? [00:00<?, ?it/s]"
      ]
     },
     "metadata": {},
     "output_type": "display_data"
    },
    {
     "data": {
      "application/vnd.jupyter.widget-view+json": {
       "model_id": "480a633afdd743589dcfed0604b73f34",
       "version_major": 2,
       "version_minor": 0
      },
      "text/plain": [
       "Validation: |          | 0/? [00:00<?, ?it/s]"
      ]
     },
     "metadata": {},
     "output_type": "display_data"
    },
    {
     "name": "stderr",
     "output_type": "stream",
     "text": [
      "INFO:pytorch_lightning.utilities.rank_zero:`Trainer.fit` stopped: `max_epochs=200` reached.\n"
     ]
    },
    {
     "data": {
      "image/png": "[encoded data removed]",
      "text/plain": [
       "<Figure size 800x400 with 1 Axes>"
      ]
     },
     "metadata": {},
     "output_type": "display_data"
    }
   ],
   "source": [
    "# Step 7: Track training & validation loss without saving CSV\n",
    "\n",
    "from pytorch_lightning.callbacks import Callback\n",
    "\n",
    "# Custom callback to track loss manually\n",
    "class LossTrackerCallback(Callback):\n",
    "    def __init__(self):\n",
    "        super().__init__()\n",
    "        self.train_losses = []\n",
    "        self.val_losses = []\n",
    "\n",
    "    def on_validation_end(self, trainer, pl_module):\n",
    "        metrics = trainer.callback_metrics\n",
    "        if \"train_loss\" in metrics:\n",
    "            self.train_losses.append(metrics[\"train_loss\"].item())\n",
    "        if \"val_loss\" in metrics:\n",
    "            self.val_losses.append(metrics[\"val_loss\"].item())\n",
    "\n",
    "loss_tracker = LossTrackerCallback()\n",
    "\n",
    "# Re-train with callback (same model and dataloaders)\n",
    "model = LightningRegressor()\n",
    "trainer = pl.Trainer(\n",
    "    max_epochs=200,\n",
    "    log_every_n_steps=10,\n",
    "    callbacks=[loss_tracker],\n",
    "    enable_progress_bar=True\n",
    ")\n",
    "trainer.fit(model, train_dl, val_dl)\n",
    "\n",
    "# Plot training and validation loss\n",
    "plt.figure(figsize=(8, 4))\n",
    "plt.plot(loss_tracker.train_losses, label=\"Train Loss\")\n",
    "plt.plot(loss_tracker.val_losses, label=\"Val Loss\")\n",
    "plt.title(\"Loss vs Epoch\")\n",
    "plt.xlabel(\"Epoch\")\n",
    "plt.ylabel(\"MSE Loss\")\n",
    "plt.grid(True)\n",
    "plt.legend()\n",
    "plt.show()"
   ]
  },
  {
   "cell_type": "code",
   "execution_count": 10,
   "metadata": {
    "colab": {
     "base_uri": "https://localhost:8080/",
     "height": 521
    },
    "id": "j2eqqvXiZm6X",
    "outputId": "43c7701b-658b-4266-9a5c-a37093531749"
   },
   "outputs": [
    {
     "data": {
      "image/png": "[encoded data removed]",
      "text/plain": [
       "<Figure size 800x600 with 2 Axes>"
      ]
     },
     "metadata": {},
     "output_type": "display_data"
    }
   ],
   "source": [
    "# Step 8: 4D Prediction Visualization\n",
    "def plot_4d_predictions(X, y_pred):\n",
    "    fig = plt.figure(figsize=(8, 6))\n",
    "    ax = fig.add_subplot(111, projection='3d')\n",
    "    sc = ax.scatter(X[:, 0], X[:, 1], X[:, 2], c=y_pred.numpy().flatten(), cmap='viridis')\n",
    "    plt.colorbar(sc)\n",
    "    ax.set_xlabel(\"X1\")\n",
    "    ax.set_ylabel(\"X2\")\n",
    "    ax.set_zlabel(\"X3\")\n",
    "    ax.set_title(\"4D Prediction Visualization (Color = Predicted Y)\")\n",
    "    plt.show()\n",
    "\n",
    "plot_4d_predictions(X, y_pred)"
   ]
  },
  {
   "cell_type": "code",
   "execution_count": 11,
   "metadata": {
    "colab": {
     "base_uri": "https://localhost:8080/",
     "height": 564
    },
    "id": "zgDogtc0ZjdI",
    "outputId": "1f72372d-8ebb-413e-d60c-09890051c00c"
   },
   "outputs": [
    {
     "data": {
      "image/png": "[encoded data removed]",
      "text/plain": [
       "<Figure size 600x600 with 1 Axes>"
      ]
     },
     "metadata": {},
     "output_type": "display_data"
    }
   ],
   "source": [
    "# Step 9: Actual vs Predicted\n",
    "plt.figure(figsize=(6, 6))\n",
    "plt.scatter(y.numpy(), y_pred.numpy(), alpha=0.6)\n",
    "plt.plot([y.min(), y.max()], [y.min(), y.max()], 'r--')\n",
    "plt.xlabel(\"Actual\")\n",
    "plt.ylabel(\"Predicted\")\n",
    "plt.title(\"Actual vs Predicted\")\n",
    "plt.grid(True)\n",
    "plt.show()"
   ]
  },
  {
   "cell_type": "code",
   "execution_count": 12,
   "metadata": {
    "colab": {
     "base_uri": "https://localhost:8080/",
     "height": 410
    },
    "id": "tqydXwmdaQ5D",
    "outputId": "780a23af-c6a6-4582-f49c-ab2996cbfac9"
   },
   "outputs": [
    {
     "data": {
      "image/png": "[encoded data removed]",
      "text/plain": [
       "<Figure size 800x400 with 1 Axes>"
      ]
     },
     "metadata": {},
     "output_type": "display_data"
    }
   ],
   "source": [
    "# Step 10: Residual Plot\n",
    "residuals = (y - y_pred).numpy().flatten()\n",
    "plt.figure(figsize=(8, 4))\n",
    "plt.hist(residuals, bins=40, color='teal', edgecolor='black')\n",
    "plt.title(\"Histogram of Residuals\")\n",
    "plt.xlabel(\"Residual (Actual - Predicted)\")\n",
    "plt.ylabel(\"Frequency\")\n",
    "plt.grid(True)\n",
    "plt.show()\n"
   ]
  },
  {
   "cell_type": "code",
   "execution_count": 13,
   "metadata": {
    "colab": {
     "base_uri": "https://localhost:8080/"
    },
    "id": "Ksmvj9CDaQ79",
    "outputId": "06484e28-afb4-4e3e-ec78-8c755d79ea09"
   },
   "outputs": [
    {
     "name": "stdout",
     "output_type": "stream",
     "text": [
      "\n",
      "Sample Test Predictions:\n",
      "Input: (-4, -4, -4) → Predicted: -9.650, Actual: -10.644\n",
      "Input: (-2, -2, -2) → Predicted: -1.444, Actual: -2.872\n",
      "Input: (0, 0, 0) → Predicted: 0.947, Actual: 1.000\n",
      "Input: (2, 2, 2) → Predicted: 5.633, Actual: 5.565\n",
      "Input: (4, 4, 4) → Predicted: 25.979, Actual: 24.729\n"
     ]
    }
   ],
   "source": [
    "# Step 11: Custom Test Predictions\n",
    "def test_custom(model, x1, x2, x3):\n",
    "    model.eval()\n",
    "    with torch.no_grad():\n",
    "        sample = torch.FloatTensor([[x1, x2, x3]])\n",
    "        return model(sample).item()\n",
    "\n",
    "print(\"\\nSample Test Predictions:\")\n",
    "test_pts = [(-4, -4, -4), (-2, -2, -2), (0, 0, 0), (2, 2, 2), (4, 4, 4)]\n",
    "for x1, x2, x3 in test_pts:\n",
    "    pred = test_custom(model, x1, x2, x3)\n",
    "    actual = 2 * np.sin(x1) + 0.5 * x2**2 + 0.3 * x3**3 + np.cos(x1 * x2)\n",
    "    print(f\"Input: ({x1}, {x2}, {x3}) → Predicted: {pred:.3f}, Actual: {actual:.3f}\")"
   ]
  }
 ],
 "metadata": {
  "accelerator": "GPU",
  "colab": {
   "gpuType": "T4",
   "provenance": []
  },
  "kernelspec": {
   "display_name": "Python 3",
   "name": "python3"
  },
  "language_info": {
   "name": "python"
  }
 },
 "nbformat": 4,
 "nbformat_minor": 0
}
